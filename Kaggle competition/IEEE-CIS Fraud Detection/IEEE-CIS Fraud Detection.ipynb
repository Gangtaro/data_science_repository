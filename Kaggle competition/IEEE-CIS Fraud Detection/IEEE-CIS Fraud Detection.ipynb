{
 "cells": [
  {
   "cell_type": "markdown",
   "metadata": {},
   "source": [
    "# IEEE-CIS Fraud Detection\n",
    "\n",
    "**<div style=\"text-align: right\"> 작성자 : 정호영, 편집자 : 임경태</div>**\n",
    "\n",
    "- Ref : https://www.kaggle.com/c/ieee-fraud-detection/overview\n",
    "- Data Description : https://www.kaggle.com/c/ieee-fraud-detection/data\n",
    "- 문제 제공자 : IEEE Computational Intelligence Society  \n",
    "- 문제 개요 : 카드 기록을 활용한 사기 거래 탐지  \n",
    "\n",
    "- 참고  \n",
    "    - 상당히 주관이 많이 들어가있고, 왜 그렇게 생각했는지 항상 고민해보기  \n",
    "    - 데이터 컬럼이 비식별화되어 있어, 이전 문제와 다르게 **데이터 탐색을 통한 데이터에 대한 이해**가 매우 중요함\n",
    "    - 실제 competition 데이터보다 훨씬 경량화가 되어있습니다. 참고하시길 바랍니다. "
   ]
  },
  {
   "cell_type": "markdown",
   "metadata": {},
   "source": [
    "## 1. 데이터 불러오기 및 기본 설정"
   ]
  },
  {
   "cell_type": "code",
   "execution_count": 24,
   "metadata": {},
   "outputs": [],
   "source": [
    "import os\n",
    "import pandas as pd\n",
    "import numpy as np\n",
    "os.chdir('/Users/gangtaro/data_science_repository/Kaggle competition/IEEE-CIS Fraud Detection/')\n",
    "\n",
    "%matplotlib inline\n",
    "import matplotlib.pyplot as plt\n",
    "plt.rcParams[\"font.family\"] = 'AppleGothic'\n",
    "plt.rcParams[\"font.size\"] = 15\n",
    "plt.rcParams[\"figure.figsize\"] = (20, 5)\n",
    "\n",
    "import warnings\n",
    "warnings.filterwarnings(\"ignore\")"
   ]
  },
  {
   "cell_type": "markdown",
   "metadata": {},
   "source": [
    "#### 1.1 데이터 불러오기 및 불필요한 변수 삭제 "
   ]
  },
  {
   "cell_type": "code",
   "execution_count": 4,
   "metadata": {},
   "outputs": [
    {
     "name": "stdout",
     "output_type": "stream",
     "text": [
      "(100000, 36)\n"
     ]
    }
   ],
   "source": [
    "df = pd.read_csv(\"./data/sampled_train_transaction.csv\")\n",
    "print(df.shape)"
   ]
  },
  {
   "cell_type": "markdown",
   "metadata": {},
   "source": [
    "- 비식별화된 Feature가 매우 많음\n",
    "- 다수 결측이 포함되어있는 Feature가 있음\n",
    "- Imbalance data\n",
    "  \n",
    "  \n",
    "- TransactionID :  거래 ID (비식별화)\n",
    "- TranscationDT :  거래 시각 (비식별화)\n",
    "- TransactionAmt :  거래 금액 (USD)\n",
    "- ProductCD :  상품 코드\n",
    "- card1 - card6 :  카드 관련 정보 (비식별화)\n",
    "- P_emaildomain, R_emaildomain :  이메일 정보\n",
    "- M1 - M9 :  기존 거래와의 매칭 정보\n",
    "- isFraud :  사기 거래 여부"
   ]
  },
  {
   "cell_type": "markdown",
   "metadata": {},
   "source": [
    "원 데이터 설명\n",
    "- TransactionDT: timedelta from a given reference datetime (not an actual timestamp)  \n",
    "    시간, 비식별화된 데이터 \n",
    "- TransactionAMT: transaction payment amount in USD  \n",
    "    거래 금액, 달러 단위\n",
    "- ProductCD: product code, the product for each transaction  \n",
    "    무엇을 샀는지에 대한 변수. \n",
    "- card1 - card6: payment card information, such as card type, card category, issue bank, country, etc.  \n",
    "    카드 유형에 대한 변수들\n",
    "- addr: address  \n",
    "    주소. \n",
    "- dist: distance  \n",
    "    거리\n",
    "- P_ and (R__) emaildomain: purchaser and recipient email domain\n",
    "- C1-C14: counting, such as how many addresses are found to be associated with the payment card, etc. The actual meaning is masked.  \n",
    "    \n",
    "- D1-D15: timedelta, such as days between previous transaction, etc.\n",
    "- M1-M9: match, such as names on card and address, etc.\n",
    "- Vxxx: Vesta engineered rich features, including ranking, counting, and other entity relations.  \n",
    "\n",
    "Categorical Features:\n",
    "- ProductCD\n",
    "- card1 - card6\n",
    "- addr1, addr2\n",
    "- P_emaildomain\n",
    "- R_emaildomain\n",
    "- M1 - M9"
   ]
  },
  {
   "cell_type": "code",
   "execution_count": 5,
   "metadata": {},
   "outputs": [
    {
     "data": {
      "text/html": [
       "<div>\n",
       "<style scoped>\n",
       "    .dataframe tbody tr th:only-of-type {\n",
       "        vertical-align: middle;\n",
       "    }\n",
       "\n",
       "    .dataframe tbody tr th {\n",
       "        vertical-align: top;\n",
       "    }\n",
       "\n",
       "    .dataframe thead th {\n",
       "        text-align: right;\n",
       "    }\n",
       "</style>\n",
       "<table border=\"1\" class=\"dataframe\">\n",
       "  <thead>\n",
       "    <tr style=\"text-align: right;\">\n",
       "      <th></th>\n",
       "      <th>TransactionID</th>\n",
       "      <th>isFraud</th>\n",
       "      <th>TransactionDT</th>\n",
       "      <th>TransactionAmt</th>\n",
       "      <th>ProductCD</th>\n",
       "      <th>card1</th>\n",
       "      <th>card2</th>\n",
       "      <th>card3</th>\n",
       "      <th>card4</th>\n",
       "      <th>card5</th>\n",
       "      <th>...</th>\n",
       "      <th>C14</th>\n",
       "      <th>M1</th>\n",
       "      <th>M2</th>\n",
       "      <th>M3</th>\n",
       "      <th>M4</th>\n",
       "      <th>M5</th>\n",
       "      <th>M6</th>\n",
       "      <th>M7</th>\n",
       "      <th>M8</th>\n",
       "      <th>M9</th>\n",
       "    </tr>\n",
       "  </thead>\n",
       "  <tbody>\n",
       "    <tr>\n",
       "      <th>0</th>\n",
       "      <td>2987000</td>\n",
       "      <td>0</td>\n",
       "      <td>86400</td>\n",
       "      <td>68.5</td>\n",
       "      <td>W</td>\n",
       "      <td>13926</td>\n",
       "      <td>NaN</td>\n",
       "      <td>150.0</td>\n",
       "      <td>discover</td>\n",
       "      <td>142.0</td>\n",
       "      <td>...</td>\n",
       "      <td>1.0</td>\n",
       "      <td>T</td>\n",
       "      <td>T</td>\n",
       "      <td>T</td>\n",
       "      <td>M2</td>\n",
       "      <td>F</td>\n",
       "      <td>T</td>\n",
       "      <td>NaN</td>\n",
       "      <td>NaN</td>\n",
       "      <td>NaN</td>\n",
       "    </tr>\n",
       "    <tr>\n",
       "      <th>1</th>\n",
       "      <td>2987001</td>\n",
       "      <td>0</td>\n",
       "      <td>86401</td>\n",
       "      <td>29.0</td>\n",
       "      <td>W</td>\n",
       "      <td>2755</td>\n",
       "      <td>404.0</td>\n",
       "      <td>150.0</td>\n",
       "      <td>mastercard</td>\n",
       "      <td>102.0</td>\n",
       "      <td>...</td>\n",
       "      <td>1.0</td>\n",
       "      <td>NaN</td>\n",
       "      <td>NaN</td>\n",
       "      <td>NaN</td>\n",
       "      <td>M0</td>\n",
       "      <td>T</td>\n",
       "      <td>T</td>\n",
       "      <td>NaN</td>\n",
       "      <td>NaN</td>\n",
       "      <td>NaN</td>\n",
       "    </tr>\n",
       "    <tr>\n",
       "      <th>2</th>\n",
       "      <td>2987002</td>\n",
       "      <td>0</td>\n",
       "      <td>86469</td>\n",
       "      <td>59.0</td>\n",
       "      <td>W</td>\n",
       "      <td>4663</td>\n",
       "      <td>490.0</td>\n",
       "      <td>150.0</td>\n",
       "      <td>visa</td>\n",
       "      <td>166.0</td>\n",
       "      <td>...</td>\n",
       "      <td>1.0</td>\n",
       "      <td>T</td>\n",
       "      <td>T</td>\n",
       "      <td>T</td>\n",
       "      <td>M0</td>\n",
       "      <td>F</td>\n",
       "      <td>F</td>\n",
       "      <td>F</td>\n",
       "      <td>F</td>\n",
       "      <td>F</td>\n",
       "    </tr>\n",
       "    <tr>\n",
       "      <th>3</th>\n",
       "      <td>2987003</td>\n",
       "      <td>0</td>\n",
       "      <td>86499</td>\n",
       "      <td>50.0</td>\n",
       "      <td>W</td>\n",
       "      <td>18132</td>\n",
       "      <td>567.0</td>\n",
       "      <td>150.0</td>\n",
       "      <td>mastercard</td>\n",
       "      <td>117.0</td>\n",
       "      <td>...</td>\n",
       "      <td>1.0</td>\n",
       "      <td>NaN</td>\n",
       "      <td>NaN</td>\n",
       "      <td>NaN</td>\n",
       "      <td>M0</td>\n",
       "      <td>T</td>\n",
       "      <td>F</td>\n",
       "      <td>NaN</td>\n",
       "      <td>NaN</td>\n",
       "      <td>NaN</td>\n",
       "    </tr>\n",
       "    <tr>\n",
       "      <th>4</th>\n",
       "      <td>2987004</td>\n",
       "      <td>0</td>\n",
       "      <td>86506</td>\n",
       "      <td>50.0</td>\n",
       "      <td>H</td>\n",
       "      <td>4497</td>\n",
       "      <td>514.0</td>\n",
       "      <td>150.0</td>\n",
       "      <td>mastercard</td>\n",
       "      <td>102.0</td>\n",
       "      <td>...</td>\n",
       "      <td>1.0</td>\n",
       "      <td>NaN</td>\n",
       "      <td>NaN</td>\n",
       "      <td>NaN</td>\n",
       "      <td>NaN</td>\n",
       "      <td>NaN</td>\n",
       "      <td>NaN</td>\n",
       "      <td>NaN</td>\n",
       "      <td>NaN</td>\n",
       "      <td>NaN</td>\n",
       "    </tr>\n",
       "  </tbody>\n",
       "</table>\n",
       "<p>5 rows × 36 columns</p>\n",
       "</div>"
      ],
      "text/plain": [
       "   TransactionID  isFraud  TransactionDT  TransactionAmt ProductCD  card1  \\\n",
       "0        2987000        0          86400            68.5         W  13926   \n",
       "1        2987001        0          86401            29.0         W   2755   \n",
       "2        2987002        0          86469            59.0         W   4663   \n",
       "3        2987003        0          86499            50.0         W  18132   \n",
       "4        2987004        0          86506            50.0         H   4497   \n",
       "\n",
       "   card2  card3       card4  card5  ...  C14   M1   M2   M3   M4   M5   M6  \\\n",
       "0    NaN  150.0    discover  142.0  ...  1.0    T    T    T   M2    F    T   \n",
       "1  404.0  150.0  mastercard  102.0  ...  1.0  NaN  NaN  NaN   M0    T    T   \n",
       "2  490.0  150.0        visa  166.0  ...  1.0    T    T    T   M0    F    F   \n",
       "3  567.0  150.0  mastercard  117.0  ...  1.0  NaN  NaN  NaN   M0    T    F   \n",
       "4  514.0  150.0  mastercard  102.0  ...  1.0  NaN  NaN  NaN  NaN  NaN  NaN   \n",
       "\n",
       "    M7   M8   M9  \n",
       "0  NaN  NaN  NaN  \n",
       "1  NaN  NaN  NaN  \n",
       "2    F    F    F  \n",
       "3  NaN  NaN  NaN  \n",
       "4  NaN  NaN  NaN  \n",
       "\n",
       "[5 rows x 36 columns]"
      ]
     },
     "execution_count": 5,
     "metadata": {},
     "output_type": "execute_result"
    }
   ],
   "source": [
    "df.head()"
   ]
  },
  {
   "cell_type": "code",
   "execution_count": 7,
   "metadata": {},
   "outputs": [],
   "source": [
    " # 도메인 지식하에, 불필요한 변수라 판단하여 삭제\n",
    "df.drop(['TransactionID', 'TransactionDT'], axis = 1, inplace = True)"
   ]
  },
  {
   "cell_type": "markdown",
   "metadata": {},
   "source": [
    "#### 1.2 data split\n",
    "- X : df 에서 isFraud가 제거된 df\n",
    "- Y : isFraud  \n",
    "  \n",
    "Train_X, Test_X, Train_Y, Test_Y "
   ]
  },
  {
   "cell_type": "code",
   "execution_count": 8,
   "metadata": {},
   "outputs": [],
   "source": [
    "X = df.drop(['isFraud'], axis = 1)\n",
    "Y = df['isFraud']\n",
    "\n",
    "from sklearn.model_selection import train_test_split\n",
    "Train_X, Test_X, Train_Y, Test_Y = train_test_split(X, Y, random_state = 42)"
   ]
  },
  {
   "cell_type": "code",
   "execution_count": 10,
   "metadata": {},
   "outputs": [
    {
     "name": "stdout",
     "output_type": "stream",
     "text": [
      "(75000, 33)\n",
      "(25000, 33)\n",
      "(75000,)\n",
      "(25000,)\n"
     ]
    }
   ],
   "source": [
    "print(Train_X.shape)\n",
    "print(Test_X.shape)\n",
    "print(Train_Y.shape)\n",
    "print(Test_Y.shape)"
   ]
  },
  {
   "cell_type": "markdown",
   "metadata": {},
   "source": [
    "## 2. 변수 탐색 (EDA)\n",
    "#### 2.1 라벨 확인\n",
    "- classification 에서 value_counts()함수 많이 활용, 라벨 분포 확인\n",
    "- 사기 거래가 아닌 거래가 전체 거래의 97.4%를 차지\n",
    "- class imbalance 가 발생할 확률이 매우 높아 보임"
   ]
  },
  {
   "cell_type": "code",
   "execution_count": 11,
   "metadata": {},
   "outputs": [
    {
     "data": {
      "text/plain": [
       "0    0.973947\n",
       "1    0.026053\n",
       "Name: isFraud, dtype: float64"
      ]
     },
     "execution_count": 11,
     "metadata": {},
     "output_type": "execute_result"
    }
   ],
   "source": [
    "Train_Y.value_counts(normalize = True)"
   ]
  },
  {
   "cell_type": "code",
   "execution_count": 12,
   "metadata": {},
   "outputs": [
    {
     "data": {
      "text/plain": [
       "0    73046\n",
       "1     1954\n",
       "Name: isFraud, dtype: int64"
      ]
     },
     "execution_count": 12,
     "metadata": {},
     "output_type": "execute_result"
    }
   ],
   "source": [
    "Train_Y.value_counts(normalize = False)"
   ]
  },
  {
   "cell_type": "markdown",
   "metadata": {},
   "source": [
    "#### 2.2 변수별 값 정보 및 샘플 확인:  변수 별 유니크한 값 일부 확인\n",
    "\n",
    "- Train_X에 포함된 모든 Col에 대해 Type, NaN수, nunique, unique sample를 확인  \n",
    "- 이를 바탕으로 결측이 포함된 변수와 그렇지 않은 변수, 연속형 변수와 범주형 변수를 구분  \n",
    "\n",
    "탐색 내용 <br>\n",
    "- TransactionAmt는 연속형 변수임이 확실해보임 (히스토그램 등으로 확인)\n",
    "- ProductCD, card4, card6은 범주형 변수임이 확실해보임 (결측 포함)\n",
    "- P_emaildomain, R_emaildomain은 구매자의 이메일 도메인으로 보임. 직관적으로 봤을 때, 유의한 의미가 있을지 의심되며, 둘은 관계가 있을 것으로 보임\n",
    "- card1, card2, card3, card5은 연속형 변수임이 확실해보임 (히스토그램 등으로 확인)\n",
    "- 많은 변수에서 결측이 포함되어 있음\n",
    "- C3를 제외한 C1 ~ C14는 모두 연속형 변수인 것으로 보임. 비식별화되어 있어 대략적인 의미라도 추측을 해야 함\n",
    "- 결측이 매우 많아, 곧바로 제거 또는 대체하기에는 부담이 있어, 결측 분포 확인 필요\n",
    "- M1 ~ M9는 매칭 정보이며, 전부 범주형 변수임이 확실함. T는 매칭됨, F는 매칭되지 않음을 나타내는 것으로 보이며, 모두 결측이 포함"
   ]
  },
  {
   "cell_type": "code",
   "execution_count": 13,
   "metadata": {},
   "outputs": [
    {
     "name": "stdout",
     "output_type": "stream",
     "text": [
      "변수: TransactionAmt, 타입: float64, 결측 개수: 0, Category 수: 5442, Categories Samples: [ 35.   155.21  31.96 250.    59.  ]\n",
      "변수: ProductCD, 타입: object, 결측 개수: 0, Category 수: 5, Categories Samples: ['H' 'W' 'R' 'C' 'S']\n",
      "변수: card1, 타입: int64, 결측 개수: 0, Category 수: 6843, Categories Samples: [13906  7508  1310  7526  1906]\n",
      "변수: card2, 타입: float64, 결측 개수: 1029, Category 수: 497, Categories Samples: [369. 321. 206. 520. 199.]\n",
      "변수: card3, 타입: float64, 결측 개수: 3, Category 수: 72, Categories Samples: [150. 185. 190. 144. 147.]\n",
      "변수: card4, 타입: object, 결측 개수: 6, Category 수: 4, Categories Samples: ['mastercard' 'visa' 'american express' 'discover' nan]\n",
      "변수: card5, 타입: float64, 결측 개수: 401, Category 수: 82, Categories Samples: [117. 226. 166. 190. 224.]\n",
      "변수: card6, 타입: object, 결측 개수: 4, Category 수: 4, Categories Samples: ['debit' 'credit' 'debit or credit' nan 'charge card']\n",
      "변수: P_emaildomain, 타입: object, 결측 개수: 11575, Category 수: 59, Categories Samples: ['aol.com' 'anonymous.com' 'gmail.com' 'yahoo.com' nan]\n",
      "변수: R_emaildomain, 타입: object, 결측 개수: 49056, Category 수: 59, Categories Samples: [nan 'anonymous.com' 'yahoo.com' 'gmail.com' 'msn.com']\n",
      "변수: C1, 타입: float64, 결측 개수: 0, Category 수: 1244, Categories Samples: [  1.  50.   2. 106. 241.]\n",
      "변수: C2, 타입: float64, 결측 개수: 0, Category 수: 812, Categories Samples: [ 1.  2. 35.  3. 85.]\n",
      "변수: C3, 타입: float64, 결측 개수: 0, Category 수: 7, Categories Samples: [0. 1. 2. 3. 4.]\n",
      "변수: C4, 타입: float64, 결측 개수: 0, Category 수: 980, Categories Samples: [ 0.  1. 14.  5.  2.]\n",
      "변수: C5, 타입: float64, 결측 개수: 0, Category 수: 246, Categories Samples: [  0.   1.  25.  99. 157.]\n",
      "변수: C6, 타입: float64, 결측 개수: 0, Category 수: 1066, Categories Samples: [ 1.  2. 28.  0. 58.]\n",
      "변수: C7, 타입: float64, 결측 개수: 0, Category 수: 860, Categories Samples: [0.000e+00 1.000e+00 1.400e+01 2.000e+00 1.161e+03]\n",
      "변수: C8, 타입: float64, 결측 개수: 0, Category 수: 933, Categories Samples: [ 0.  2.  1.  3. 21.]\n",
      "변수: C9, 타입: float64, 결측 개수: 0, Category 수: 166, Categories Samples: [ 0.  1. 27.  2. 59.]\n",
      "변수: C10, 타입: float64, 결측 개수: 0, Category 수: 889, Categories Samples: [ 0.  1.  2.  3. 39.]\n",
      "변수: C11, 타입: float64, 결측 개수: 0, Category 수: 1137, Categories Samples: [  1.  28.   2.  58. 159.]\n",
      "변수: C12, 타입: float64, 결측 개수: 0, Category 수: 889, Categories Samples: [ 0.  2.  1. 20.  3.]\n",
      "변수: C13, 타입: float64, 결측 개수: 0, Category 수: 1307, Categories Samples: [  1.  28. 133.   2.   6.]\n",
      "변수: C14, 타입: float64, 결측 개수: 0, Category 수: 934, Categories Samples: [ 1. 33.  2.  0. 96.]\n",
      "변수: M1, 타입: object, 결측 개수: 51321, Category 수: 1, Categories Samples: [nan 'T']\n",
      "변수: M2, 타입: object, 결측 개수: 51321, Category 수: 2, Categories Samples: [nan 'T' 'F']\n",
      "변수: M3, 타입: object, 결측 개수: 51321, Category 수: 2, Categories Samples: [nan 'T' 'F']\n",
      "변수: M4, 타입: object, 결측 개수: 43113, Category 수: 3, Categories Samples: [nan 'M1' 'M0' 'M2']\n",
      "변수: M5, 타입: object, 결측 개수: 51620, Category 수: 2, Categories Samples: [nan 'F' 'T']\n",
      "변수: M6, 타입: object, 결측 개수: 34232, Category 수: 2, Categories Samples: [nan 'T' 'F']\n",
      "변수: M7, 타입: object, 결측 개수: 62902, Category 수: 2, Categories Samples: [nan 'T' 'F']\n",
      "변수: M8, 타입: object, 결측 개수: 62902, Category 수: 2, Categories Samples: [nan 'T' 'F']\n",
      "변수: M9, 타입: object, 결측 개수: 62902, Category 수: 2, Categories Samples: [nan 'T' 'F']\n"
     ]
    }
   ],
   "source": [
    "for col in Train_X.columns:\n",
    "    print(\"변수: {}, 타입: {}, 결측 개수: {}, Category 수: {}, Categories Samples: {}\".format(col, Train_X[col].dtype, Train_X[col].isnull().sum(), Train_X[col].nunique(), Train_X[col].unique()[:5]))"
   ]
  },
  {
   "cell_type": "markdown",
   "metadata": {},
   "source": [
    "#### 2.3 탐색을 위한 데이터 준비:  특징과 라벨 데이터 병합"
   ]
  },
  {
   "cell_type": "code",
   "execution_count": 14,
   "metadata": {},
   "outputs": [
    {
     "data": {
      "text/html": [
       "<div>\n",
       "<style scoped>\n",
       "    .dataframe tbody tr th:only-of-type {\n",
       "        vertical-align: middle;\n",
       "    }\n",
       "\n",
       "    .dataframe tbody tr th {\n",
       "        vertical-align: top;\n",
       "    }\n",
       "\n",
       "    .dataframe thead th {\n",
       "        text-align: right;\n",
       "    }\n",
       "</style>\n",
       "<table border=\"1\" class=\"dataframe\">\n",
       "  <thead>\n",
       "    <tr style=\"text-align: right;\">\n",
       "      <th></th>\n",
       "      <th>TransactionAmt</th>\n",
       "      <th>ProductCD</th>\n",
       "      <th>card1</th>\n",
       "      <th>card2</th>\n",
       "      <th>card3</th>\n",
       "      <th>card4</th>\n",
       "      <th>card5</th>\n",
       "      <th>card6</th>\n",
       "      <th>P_emaildomain</th>\n",
       "      <th>R_emaildomain</th>\n",
       "      <th>...</th>\n",
       "      <th>M1</th>\n",
       "      <th>M2</th>\n",
       "      <th>M3</th>\n",
       "      <th>M4</th>\n",
       "      <th>M5</th>\n",
       "      <th>M6</th>\n",
       "      <th>M7</th>\n",
       "      <th>M8</th>\n",
       "      <th>M9</th>\n",
       "      <th>isFraud</th>\n",
       "    </tr>\n",
       "  </thead>\n",
       "  <tbody>\n",
       "    <tr>\n",
       "      <th>98980</th>\n",
       "      <td>35.00</td>\n",
       "      <td>H</td>\n",
       "      <td>13906</td>\n",
       "      <td>369.0</td>\n",
       "      <td>150.0</td>\n",
       "      <td>mastercard</td>\n",
       "      <td>117.0</td>\n",
       "      <td>debit</td>\n",
       "      <td>aol.com</td>\n",
       "      <td>NaN</td>\n",
       "      <td>...</td>\n",
       "      <td>NaN</td>\n",
       "      <td>NaN</td>\n",
       "      <td>NaN</td>\n",
       "      <td>NaN</td>\n",
       "      <td>NaN</td>\n",
       "      <td>NaN</td>\n",
       "      <td>NaN</td>\n",
       "      <td>NaN</td>\n",
       "      <td>NaN</td>\n",
       "      <td>0</td>\n",
       "    </tr>\n",
       "    <tr>\n",
       "      <th>69824</th>\n",
       "      <td>155.21</td>\n",
       "      <td>W</td>\n",
       "      <td>7508</td>\n",
       "      <td>321.0</td>\n",
       "      <td>150.0</td>\n",
       "      <td>visa</td>\n",
       "      <td>226.0</td>\n",
       "      <td>debit</td>\n",
       "      <td>anonymous.com</td>\n",
       "      <td>NaN</td>\n",
       "      <td>...</td>\n",
       "      <td>T</td>\n",
       "      <td>T</td>\n",
       "      <td>T</td>\n",
       "      <td>NaN</td>\n",
       "      <td>NaN</td>\n",
       "      <td>NaN</td>\n",
       "      <td>T</td>\n",
       "      <td>T</td>\n",
       "      <td>T</td>\n",
       "      <td>0</td>\n",
       "    </tr>\n",
       "    <tr>\n",
       "      <th>9928</th>\n",
       "      <td>31.96</td>\n",
       "      <td>W</td>\n",
       "      <td>1310</td>\n",
       "      <td>206.0</td>\n",
       "      <td>150.0</td>\n",
       "      <td>mastercard</td>\n",
       "      <td>166.0</td>\n",
       "      <td>debit</td>\n",
       "      <td>gmail.com</td>\n",
       "      <td>NaN</td>\n",
       "      <td>...</td>\n",
       "      <td>NaN</td>\n",
       "      <td>NaN</td>\n",
       "      <td>NaN</td>\n",
       "      <td>NaN</td>\n",
       "      <td>NaN</td>\n",
       "      <td>T</td>\n",
       "      <td>NaN</td>\n",
       "      <td>NaN</td>\n",
       "      <td>NaN</td>\n",
       "      <td>0</td>\n",
       "    </tr>\n",
       "    <tr>\n",
       "      <th>75599</th>\n",
       "      <td>250.00</td>\n",
       "      <td>R</td>\n",
       "      <td>7526</td>\n",
       "      <td>520.0</td>\n",
       "      <td>150.0</td>\n",
       "      <td>american express</td>\n",
       "      <td>190.0</td>\n",
       "      <td>credit</td>\n",
       "      <td>anonymous.com</td>\n",
       "      <td>anonymous.com</td>\n",
       "      <td>...</td>\n",
       "      <td>NaN</td>\n",
       "      <td>NaN</td>\n",
       "      <td>NaN</td>\n",
       "      <td>NaN</td>\n",
       "      <td>NaN</td>\n",
       "      <td>NaN</td>\n",
       "      <td>NaN</td>\n",
       "      <td>NaN</td>\n",
       "      <td>NaN</td>\n",
       "      <td>0</td>\n",
       "    </tr>\n",
       "    <tr>\n",
       "      <th>95621</th>\n",
       "      <td>59.00</td>\n",
       "      <td>W</td>\n",
       "      <td>1906</td>\n",
       "      <td>199.0</td>\n",
       "      <td>150.0</td>\n",
       "      <td>mastercard</td>\n",
       "      <td>224.0</td>\n",
       "      <td>debit</td>\n",
       "      <td>gmail.com</td>\n",
       "      <td>NaN</td>\n",
       "      <td>...</td>\n",
       "      <td>T</td>\n",
       "      <td>T</td>\n",
       "      <td>F</td>\n",
       "      <td>M1</td>\n",
       "      <td>F</td>\n",
       "      <td>F</td>\n",
       "      <td>T</td>\n",
       "      <td>T</td>\n",
       "      <td>T</td>\n",
       "      <td>0</td>\n",
       "    </tr>\n",
       "  </tbody>\n",
       "</table>\n",
       "<p>5 rows × 34 columns</p>\n",
       "</div>"
      ],
      "text/plain": [
       "       TransactionAmt ProductCD  card1  card2  card3             card4  card5  \\\n",
       "98980           35.00         H  13906  369.0  150.0        mastercard  117.0   \n",
       "69824          155.21         W   7508  321.0  150.0              visa  226.0   \n",
       "9928            31.96         W   1310  206.0  150.0        mastercard  166.0   \n",
       "75599          250.00         R   7526  520.0  150.0  american express  190.0   \n",
       "95621           59.00         W   1906  199.0  150.0        mastercard  224.0   \n",
       "\n",
       "        card6  P_emaildomain  R_emaildomain  ...   M1   M2   M3   M4   M5  \\\n",
       "98980   debit        aol.com            NaN  ...  NaN  NaN  NaN  NaN  NaN   \n",
       "69824   debit  anonymous.com            NaN  ...    T    T    T  NaN  NaN   \n",
       "9928    debit      gmail.com            NaN  ...  NaN  NaN  NaN  NaN  NaN   \n",
       "75599  credit  anonymous.com  anonymous.com  ...  NaN  NaN  NaN  NaN  NaN   \n",
       "95621   debit      gmail.com            NaN  ...    T    T    F   M1    F   \n",
       "\n",
       "        M6   M7   M8   M9  isFraud  \n",
       "98980  NaN  NaN  NaN  NaN        0  \n",
       "69824  NaN    T    T    T        0  \n",
       "9928     T  NaN  NaN  NaN        0  \n",
       "75599  NaN  NaN  NaN  NaN        0  \n",
       "95621    F    T    T    T        0  \n",
       "\n",
       "[5 rows x 34 columns]"
      ]
     },
     "execution_count": 14,
     "metadata": {},
     "output_type": "execute_result"
    }
   ],
   "source": [
    "Train_df = pd.concat([Train_X, Train_Y], axis = 1)\n",
    "Train_df.head()"
   ]
  },
  {
   "cell_type": "code",
   "execution_count": 15,
   "metadata": {},
   "outputs": [
    {
     "name": "stdout",
     "output_type": "stream",
     "text": [
      "<class 'pandas.core.frame.DataFrame'>\n",
      "Int64Index: 75000 entries, 98980 to 15795\n",
      "Data columns (total 34 columns):\n",
      " #   Column          Non-Null Count  Dtype  \n",
      "---  ------          --------------  -----  \n",
      " 0   TransactionAmt  75000 non-null  float64\n",
      " 1   ProductCD       75000 non-null  object \n",
      " 2   card1           75000 non-null  int64  \n",
      " 3   card2           73971 non-null  float64\n",
      " 4   card3           74997 non-null  float64\n",
      " 5   card4           74994 non-null  object \n",
      " 6   card5           74599 non-null  float64\n",
      " 7   card6           74996 non-null  object \n",
      " 8   P_emaildomain   63425 non-null  object \n",
      " 9   R_emaildomain   25944 non-null  object \n",
      " 10  C1              75000 non-null  float64\n",
      " 11  C2              75000 non-null  float64\n",
      " 12  C3              75000 non-null  float64\n",
      " 13  C4              75000 non-null  float64\n",
      " 14  C5              75000 non-null  float64\n",
      " 15  C6              75000 non-null  float64\n",
      " 16  C7              75000 non-null  float64\n",
      " 17  C8              75000 non-null  float64\n",
      " 18  C9              75000 non-null  float64\n",
      " 19  C10             75000 non-null  float64\n",
      " 20  C11             75000 non-null  float64\n",
      " 21  C12             75000 non-null  float64\n",
      " 22  C13             75000 non-null  float64\n",
      " 23  C14             75000 non-null  float64\n",
      " 24  M1              23679 non-null  object \n",
      " 25  M2              23679 non-null  object \n",
      " 26  M3              23679 non-null  object \n",
      " 27  M4              31887 non-null  object \n",
      " 28  M5              23380 non-null  object \n",
      " 29  M6              40768 non-null  object \n",
      " 30  M7              12098 non-null  object \n",
      " 31  M8              12098 non-null  object \n",
      " 32  M9              12098 non-null  object \n",
      " 33  isFraud         75000 non-null  int64  \n",
      "dtypes: float64(18), int64(2), object(14)\n",
      "memory usage: 20.0+ MB\n"
     ]
    }
   ],
   "source": [
    "Train_df.info()"
   ]
  },
  {
   "cell_type": "markdown",
   "metadata": {},
   "source": [
    "#### 2.4 범주형 변수 탐색\n",
    "- 탐색방법  \n",
    "(1) 결측을 문자로 변환 (탐색을 위해 임시 변환)  \n",
    "(2) 변수별 분포 확인 (bar plot)  \n",
    "(3) 변수와 특징 간 관계 확인 (groupby, 사기 유무에 따른)  \n",
    "\n",
    "\n",
    "\n",
    "- 탐색결과 활용  \n",
    "(1) 주요 값 기준 이진화  \n",
    "(2) 더미화"
   ]
  },
  {
   "cell_type": "markdown",
   "metadata": {},
   "source": [
    "2.4.1 ProductCD"
   ]
  },
  {
   "cell_type": "code",
   "execution_count": 19,
   "metadata": {},
   "outputs": [
    {
     "data": {
      "text/plain": [
       "0"
      ]
     },
     "execution_count": 19,
     "metadata": {},
     "output_type": "execute_result"
    }
   ],
   "source": [
    "Train_df.ProductCD.isnull().sum()\n",
    "# 결측이 전혀없어서, 결측을 문자로 변환할 필요 없음"
   ]
  },
  {
   "cell_type": "code",
   "execution_count": 26,
   "metadata": {},
   "outputs": [
    {
     "data": {
      "text/plain": [
       "<matplotlib.axes._subplots.AxesSubplot at 0x7f8237188820>"
      ]
     },
     "execution_count": 26,
     "metadata": {},
     "output_type": "execute_result"
    },
    {
     "data": {
      "image/png": "[encoded data removed]",
      "text/plain": [
       "<Figure size 1440x360 with 1 Axes>"
      ]
     },
     "metadata": {
      "needs_background": "light"
     },
     "output_type": "display_data"
    }
   ],
   "source": [
    "# value_counts에 대한 bar plot 생성\n",
    "Train_df.ProductCD.value_counts(normalize=True).plot(kind = 'bar')"
   ]
  },
  {
   "cell_type": "markdown",
   "metadata": {},
   "source": [
    "ProdudctCD  \n",
    "W가 매우 높은 비율을 차지하며, S는 1% 가량됨을 확인"
   ]
  },
  {
   "cell_type": "code",
   "execution_count": 27,
   "metadata": {},
   "outputs": [
    {
     "data": {
      "text/plain": [
       "ProductCD\n",
       "C    0.090941\n",
       "H    0.021194\n",
       "R    0.011078\n",
       "S    0.026562\n",
       "W    0.017871\n",
       "Name: isFraud, dtype: float64"
      ]
     },
     "execution_count": 27,
     "metadata": {},
     "output_type": "execute_result"
    }
   ],
   "source": [
    "Train_df.groupby('ProductCD')['isFraud'].mean()"
   ]
  },
  {
   "cell_type": "markdown",
   "metadata": {},
   "source": [
    "상품 코드 별로 차이가 존재함을 판단. 다만 H와 W는 거의 유사하다고 판단. -> T-test 수행 해보기  \n",
    "상태 공간의 크기가 크지 않으므로 변수 값의 군집화는 생략하고 **더미화**\n"
   ]
  },
  {
   "cell_type": "markdown",
   "metadata": {},
   "source": [
    "2.4.2 card4"
   ]
  },
  {
   "cell_type": "code",
   "execution_count": 29,
   "metadata": {},
   "outputs": [
    {
     "data": {
      "text/plain": [
       "6"
      ]
     },
     "execution_count": 29,
     "metadata": {},
     "output_type": "execute_result"
    }
   ],
   "source": [
    "Train_df['card4'].isnull().sum()\n",
    "# 결측이 6개밖에 되지 않음 ==> 전부 최빈값으로 대체"
   ]
  },
  {
   "cell_type": "code",
   "execution_count": 30,
   "metadata": {},
   "outputs": [
    {
     "data": {
      "text/plain": [
       "<matplotlib.axes._subplots.AxesSubplot at 0x7f823757aa60>"
      ]
     },
     "execution_count": 30,
     "metadata": {},
     "output_type": "execute_result"
    },
    {
     "data": {
      "image/png": "[encoded data removed]",
      "text/plain": [
       "<Figure size 1440x360 with 1 Axes>"
      ]
     },
     "metadata": {
      "needs_background": "light"
     },
     "output_type": "display_data"
    }
   ],
   "source": [
    "# value_counts에 대한 bar plot 생성\n",
    "Train_df['card4'].value_counts(normalize = True).plot(kind = 'bar') "
   ]
  },
  {
   "cell_type": "markdown",
   "metadata": {},
   "source": [
    "visa와 master card가 매우 높은 비율을 차지하며, discover는 거의 없음"
   ]
  },
  {
   "cell_type": "code",
   "execution_count": 31,
   "metadata": {},
   "outputs": [
    {
     "data": {
      "text/plain": [
       "card4\n",
       "american express    0.010586\n",
       "discover            0.025203\n",
       "mastercard          0.029373\n",
       "visa                0.025315\n",
       "Name: isFraud, dtype: float64"
      ]
     },
     "execution_count": 31,
     "metadata": {},
     "output_type": "execute_result"
    }
   ],
   "source": [
    "Train_df.groupby('card4')['isFraud'].mean()"
   ]
  },
  {
   "cell_type": "markdown",
   "metadata": {},
   "source": [
    "거래의 대다수를 차지하는 visa와 mastercard의 값이 유사  \n",
    "american express만 유독 값이 작으며 해당 값의 빈도가 높지 않음 => 해당 변수를 american express란 변수로 이진화  \n",
    "따라서 결측을 특별히 제거할 필요가 없음  \n",
    "\n",
    "\n",
    "=> 다른 카드의 종류에 따라 다른 정보와 묶으면 다른 의미있는 차이점이 나타나지 않을까? 그래서 다음과 같은 처리가 의심이 된다. => **검증해보자**"
   ]
  },
  {
   "cell_type": "markdown",
   "metadata": {},
   "source": [
    "2.4.3 card6"
   ]
  },
  {
   "cell_type": "code",
   "execution_count": 33,
   "metadata": {},
   "outputs": [
    {
     "data": {
      "text/plain": [
       "4"
      ]
     },
     "execution_count": 33,
     "metadata": {},
     "output_type": "execute_result"
    }
   ],
   "source": [
    "Train_df['card6'].isnull().sum() \n",
    "# 결측이 4개밖에 되지 않음 ==> 전부 최빈값으로 대체"
   ]
  },
  {
   "cell_type": "code",
   "execution_count": 34,
   "metadata": {},
   "outputs": [
    {
     "data": {
      "text/plain": [
       "<matplotlib.axes._subplots.AxesSubplot at 0x7f8237a33640>"
      ]
     },
     "execution_count": 34,
     "metadata": {},
     "output_type": "execute_result"
    },
    {
     "data": {
      "image/png": "[encoded data removed]",
      "text/plain": [
       "<Figure size 1440x360 with 1 Axes>"
      ]
     },
     "metadata": {
      "needs_background": "light"
     },
     "output_type": "display_data"
    }
   ],
   "source": [
    "Train_df['card6'].value_counts(normalize = True).plot(kind = 'bar')\n",
    "# debit과 credit이 대다수를 차지. 다른 값들은 육안으로 확인이 불가능한 수준"
   ]
  },
  {
   "cell_type": "code",
   "execution_count": 35,
   "metadata": {},
   "outputs": [
    {
     "data": {
      "text/plain": [
       "debit              48673\n",
       "credit             26318\n",
       "debit or credit        3\n",
       "charge card            2\n",
       "Name: card6, dtype: int64"
      ]
     },
     "execution_count": 35,
     "metadata": {},
     "output_type": "execute_result"
    }
   ],
   "source": [
    "Train_df['card6'].value_counts(normalize = False) \n",
    "# debit or credit, charge card는 빈도가 매우 적음"
   ]
  },
  {
   "cell_type": "code",
   "execution_count": 36,
   "metadata": {},
   "outputs": [
    {
     "data": {
      "text/plain": [
       "card6\n",
       "charge card        0.000000\n",
       "credit             0.037427\n",
       "debit              0.019867\n",
       "debit or credit    0.000000\n",
       "Name: isFraud, dtype: float64"
      ]
     },
     "execution_count": 36,
     "metadata": {},
     "output_type": "execute_result"
    }
   ],
   "source": [
    "# credit과 debit의 차이가 존재\n",
    "# charge card, debit or credit은 전부 0임을 확인 ==> 그러나 빈도 자체가 매우 적어서 그런 것이라 예상됨\n",
    "# 따라서 credit인지 나타내는 변수로만 변환\n",
    "Train_df.groupby('card6')['isFraud'].mean()"
   ]
  },
  {
   "cell_type": "markdown",
   "metadata": {},
   "source": [
    "2.4.4 P_emaildomain과 R_emaildomain\n",
    "\n",
    "- 이전 탐색에서 각각의 상태 공간 크기가 60, 61임을 확인 (대다수가 gmail 혹은 yahoo 메일임)\n",
    "- 또한, 결측이 매우 많았는데, email이 결측이라는 것이 어떤 의미가 있을것이라 의심됨\n",
    "- 샘플의 개수를 고려하더라도 그 크기가 큰 범주형 변수라고 판단 가능\n",
    "- 두 변수간 관계가 있으리라 쉽게 판단 가능\n",
    "- 또한, .를 기준으로 앞쪽에는 실제 도메인이, 뒤쪽에는 com, net 등이 포함되어 있어 분할 필요"
   ]
  },
  {
   "cell_type": "code",
   "execution_count": 40,
   "metadata": {},
   "outputs": [
    {
     "data": {
      "text/plain": [
       "gmail.com           27239\n",
       "yahoo.com           11959\n",
       "anonymous.com        6439\n",
       "hotmail.com          6116\n",
       "aol.com              3672\n",
       "comcast.net          1410\n",
       "icloud.com            641\n",
       "msn.com               602\n",
       "outlook.com           548\n",
       "att.net               518\n",
       "sbcglobal.net         483\n",
       "verizon.net           463\n",
       "live.com              366\n",
       "bellsouth.net         336\n",
       "cox.net               287\n",
       "me.com                283\n",
       "ymail.com             281\n",
       "yahoo.com.mx          223\n",
       "charter.net           159\n",
       "optonline.net         158\n",
       "mac.com                97\n",
       "rocketmail.com         94\n",
       "live.com.mx            93\n",
       "earthlink.net          75\n",
       "mail.com               60\n",
       "embarqmail.com         57\n",
       "roadrunner.com         53\n",
       "gmail                  47\n",
       "outlook.es             45\n",
       "windstream.net         40\n",
       "juno.com               40\n",
       "frontier.com           38\n",
       "hotmail.es             38\n",
       "twc.com                36\n",
       "netzero.com            34\n",
       "frontiernet.net        33\n",
       "cfl.rr.com             31\n",
       "aim.com                31\n",
       "web.de                 28\n",
       "prodigy.net.mx         27\n",
       "q.com                  27\n",
       "suddenlink.net         23\n",
       "hotmail.fr             22\n",
       "yahoo.fr               20\n",
       "netzero.net            20\n",
       "ptd.net                19\n",
       "cableone.net           18\n",
       "yahoo.es               15\n",
       "centurylink.net        15\n",
       "gmx.de                 14\n",
       "yahoo.co.uk            13\n",
       "sc.rr.com              10\n",
       "hotmail.co.uk           8\n",
       "protonmail.com          7\n",
       "servicios-ta.com        6\n",
       "yahoo.de                5\n",
       "yahoo.co.jp             1\n",
       "hotmail.de              1\n",
       "live.fr                 1\n",
       "Name: P_emaildomain, dtype: int64"
      ]
     },
     "execution_count": 40,
     "metadata": {},
     "output_type": "execute_result"
    }
   ],
   "source": [
    "Train_df['P_emaildomain'].value_counts() # gmail vs gmail.com etc..."
   ]
  },
  {
   "cell_type": "code",
   "execution_count": 41,
   "metadata": {},
   "outputs": [
    {
     "data": {
      "text/plain": [
       "gmail.com           9852\n",
       "anonymous.com       5195\n",
       "hotmail.com         4072\n",
       "yahoo.com           2412\n",
       "aol.com             1008\n",
       "comcast.net          597\n",
       "outlook.com          316\n",
       "icloud.com           229\n",
       "yahoo.com.mx         223\n",
       "msn.com              214\n",
       "verizon.net          189\n",
       "cox.net              160\n",
       "sbcglobal.net        156\n",
       "me.com               141\n",
       "bellsouth.net        138\n",
       "live.com             131\n",
       "att.net              119\n",
       "live.com.mx           93\n",
       "ymail.com             63\n",
       "mac.com               54\n",
       "optonline.net         50\n",
       "outlook.es            45\n",
       "hotmail.es            38\n",
       "mail.com              32\n",
       "charter.net           30\n",
       "web.de                27\n",
       "prodigy.net.mx        27\n",
       "embarqmail.com        24\n",
       "juno.com              23\n",
       "frontier.com          22\n",
       "hotmail.fr            22\n",
       "yahoo.fr              19\n",
       "earthlink.net         19\n",
       "rocketmail.com        17\n",
       "roadrunner.com        16\n",
       "windstream.net        15\n",
       "cfl.rr.com            14\n",
       "gmx.de                13\n",
       "suddenlink.net        12\n",
       "gmail                 12\n",
       "yahoo.es              10\n",
       "yahoo.co.uk            9\n",
       "twc.com                9\n",
       "frontiernet.net        9\n",
       "q.com                  8\n",
       "yahoo.de               8\n",
       "ptd.net                8\n",
       "aim.com                8\n",
       "servicios-ta.com       6\n",
       "hotmail.co.uk          6\n",
       "scranton.edu           5\n",
       "cableone.net           4\n",
       "centurylink.net        4\n",
       "netzero.net            4\n",
       "protonmail.com         2\n",
       "yahoo.co.jp            2\n",
       "live.fr                1\n",
       "hotmail.de             1\n",
       "netzero.com            1\n",
       "Name: R_emaildomain, dtype: int64"
      ]
     },
     "execution_count": 41,
     "metadata": {},
     "output_type": "execute_result"
    }
   ],
   "source": [
    "Train_df['R_emaildomain'].value_counts()"
   ]
  },
  {
   "cell_type": "code",
   "execution_count": 42,
   "metadata": {},
   "outputs": [],
   "source": [
    "# 결측이 의미가 있는지 확인 (두 변수 모두 결측이 많다는 것은 위에서 확인함)\n",
    "# 결측을 나타내는 변수 생성\n",
    "Train_df['NA_P_emaildomain'] = Train_df['P_emaildomain'].isnull().astype(int)\n",
    "Train_df['NA_R_emaildomain'] = Train_df['R_emaildomain'].isnull().astype(int)"
   ]
  },
  {
   "cell_type": "code",
   "execution_count": 43,
   "metadata": {},
   "outputs": [
    {
     "data": {
      "text/plain": [
       "NA_P_emaildomain\n",
       "0    0.026488\n",
       "1    0.023672\n",
       "Name: isFraud, dtype: float64"
      ]
     },
     "execution_count": 43,
     "metadata": {},
     "output_type": "execute_result"
    }
   ],
   "source": [
    "# P_emaildomain은 크게 문제 없어보임\n",
    "# 0.002 차이나지 않는가? -> 다 반영하면 과적합 이슈에 부딪힐 수 있음\n",
    "# 즉 확실한 근거가 반드시 필요함, 최대한 보수적으로 보는 편\n",
    "Train_df.groupby('NA_P_emaildomain')['isFraud'].mean()"
   ]
  },
  {
   "cell_type": "code",
   "execution_count": 44,
   "metadata": {},
   "outputs": [
    {
     "data": {
      "text/plain": [
       "NA_R_emaildomain\n",
       "0    0.043478\n",
       "1    0.016838\n",
       "Name: isFraud, dtype: float64"
      ]
     },
     "execution_count": 44,
     "metadata": {},
     "output_type": "execute_result"
    }
   ],
   "source": [
    "# R_emaildomain은 오히려 결측이 발생하지 않았을 때 사기인 경우가 더 많음을 확인 ==> 변수로 활용\n",
    "Train_df.groupby('NA_R_emaildomain')['isFraud'].mean()"
   ]
  },
  {
   "cell_type": "code",
   "execution_count": 45,
   "metadata": {},
   "outputs": [],
   "source": [
    "# 유의한 도메인만 가져와서 추가 탐색 수행\n",
    "Train_df['P_emaildomain'] = Train_df['P_emaildomain'].str.split('.', expand = True).iloc[:, 0]\n",
    "Train_df['R_emaildomain'] = Train_df['R_emaildomain'].str.split('.', expand = True).iloc[:, 0]"
   ]
  },
  {
   "cell_type": "code",
   "execution_count": 46,
   "metadata": {},
   "outputs": [
    {
     "data": {
      "text/plain": [
       "P_emaildomain\n",
       "aim             0.032258\n",
       "anonymous       0.010561\n",
       "aol             0.014978\n",
       "att             0.007722\n",
       "bellsouth       0.000000\n",
       "cableone        0.000000\n",
       "centurylink     0.000000\n",
       "cfl             0.000000\n",
       "charter         0.000000\n",
       "comcast         0.008511\n",
       "cox             0.003484\n",
       "earthlink       0.000000\n",
       "embarqmail      0.000000\n",
       "frontier        0.000000\n",
       "frontiernet     0.151515\n",
       "gmail           0.035220\n",
       "gmx             0.000000\n",
       "hotmail         0.048666\n",
       "icloud          0.039002\n",
       "juno            0.000000\n",
       "live            0.019565\n",
       "mac             0.000000\n",
       "mail            0.100000\n",
       "me              0.021201\n",
       "msn             0.016611\n",
       "netzero         0.000000\n",
       "optonline       0.000000\n",
       "outlook         0.075885\n",
       "prodigy         0.000000\n",
       "protonmail      0.142857\n",
       "ptd             0.000000\n",
       "q               0.000000\n",
       "roadrunner      0.000000\n",
       "rocketmail      0.000000\n",
       "sbcglobal       0.002070\n",
       "sc              0.000000\n",
       "servicios-ta    0.000000\n",
       "suddenlink      0.000000\n",
       "twc             0.000000\n",
       "verizon         0.004320\n",
       "web             0.000000\n",
       "windstream      0.000000\n",
       "yahoo           0.012994\n",
       "ymail           0.028470\n",
       "Name: isFraud, dtype: float64"
      ]
     },
     "execution_count": 46,
     "metadata": {},
     "output_type": "execute_result"
    }
   ],
   "source": [
    "# P_emaildomain에 따른 isFraud의 평균 차이가 존재함\n",
    "# 다만, aim.com, cableone.net 등은 그 빈도가 매우 적어서 이 차이가 유의한 것인지 판단이 불가 -> 판단 유보\n",
    "Train_df.groupby('P_emaildomain')['isFraud'].mean()"
   ]
  },
  {
   "cell_type": "code",
   "execution_count": 47,
   "metadata": {},
   "outputs": [
    {
     "data": {
      "text/plain": [
       "R_emaildomain\n",
       "aim             0.125000\n",
       "anonymous       0.010202\n",
       "aol             0.010913\n",
       "att             0.000000\n",
       "bellsouth       0.000000\n",
       "cableone        0.000000\n",
       "centurylink     0.000000\n",
       "cfl             0.000000\n",
       "charter         0.000000\n",
       "comcast         0.015075\n",
       "cox             0.012500\n",
       "earthlink       0.000000\n",
       "embarqmail      0.000000\n",
       "frontier        0.000000\n",
       "frontiernet     0.000000\n",
       "gmail           0.064984\n",
       "gmx             0.000000\n",
       "hotmail         0.065475\n",
       "icloud          0.043668\n",
       "juno            0.000000\n",
       "live            0.000000\n",
       "mac             0.000000\n",
       "mail            0.062500\n",
       "me              0.000000\n",
       "msn             0.004673\n",
       "netzero         0.000000\n",
       "optonline       0.000000\n",
       "outlook         0.105263\n",
       "prodigy         0.000000\n",
       "protonmail      0.500000\n",
       "ptd             0.000000\n",
       "q               0.000000\n",
       "roadrunner      0.000000\n",
       "rocketmail      0.000000\n",
       "sbcglobal       0.000000\n",
       "scranton        0.000000\n",
       "servicios-ta    0.000000\n",
       "suddenlink      0.000000\n",
       "twc             0.000000\n",
       "verizon         0.000000\n",
       "web             0.000000\n",
       "windstream      0.000000\n",
       "yahoo           0.029817\n",
       "ymail           0.126984\n",
       "Name: isFraud, dtype: float64"
      ]
     },
     "execution_count": 47,
     "metadata": {},
     "output_type": "execute_result"
    }
   ],
   "source": [
    "# R_emaildomain에 따른 isFraud의 평균 차이가 존재함\n",
    "# 다만, 대다수 값이 그 빈도가 매우 적어서 이 차이가 유의한 것인지 판단이 불가\n",
    "Train_df.groupby('R_emaildomain')['isFraud'].mean()"
   ]
  },
  {
   "cell_type": "code",
   "execution_count": 48,
   "metadata": {},
   "outputs": [
    {
     "name": "stdout",
     "output_type": "stream",
     "text": [
      "0    56152\n",
      "1    18848\n",
      "Name: same_emaildomain, dtype: int64\n",
      "\n",
      "\n",
      "same_emaildomain\n",
      "0    0.016633\n",
      "1    0.054117\n",
      "Name: isFraud, dtype: float64\n"
     ]
    }
   ],
   "source": [
    "# 같은 거래라면 P_emaildomain과 R_emaildomain이 특정 관계가 있지 않을까?\n",
    "# 파생 변수 추가 및 확인: 실제 라벨의 분포를 고려했을 때, \n",
    "# 1%와 5%의 차이는 꽤 큰 것이라 예상됨 ==> 해당 변수 사용\n",
    "Train_df['same_emaildomain'] = (Train_df['P_emaildomain'] == Train_df['R_emaildomain']).astype(int)\n",
    "print(Train_df['same_emaildomain'].value_counts())\n",
    "print('\\n')\n",
    "print(Train_df.groupby('same_emaildomain')['isFraud'].mean()) # 이메일이 같은 경우에 사기확률이 상승함"
   ]
  },
  {
   "cell_type": "markdown",
   "metadata": {},
   "source": [
    "2.4.5 C3  \n",
    "\n",
    "결측이 없음을 이전에서 확인  \n",
    "변수 타입은 float인데, 상태 공간의 크기가 크지 않음 ==> 일단은 범주형으로 보는 것이 적절할 것 같음"
   ]
  },
  {
   "cell_type": "code",
   "execution_count": 50,
   "metadata": {},
   "outputs": [
    {
     "data": {
      "text/plain": [
       "0.0    0.988747\n",
       "1.0    0.010400\n",
       "2.0    0.000693\n",
       "3.0    0.000120\n",
       "9.0    0.000013\n",
       "8.0    0.000013\n",
       "4.0    0.000013\n",
       "Name: C3, dtype: float64"
      ]
     },
     "execution_count": 50,
     "metadata": {},
     "output_type": "execute_result"
    }
   ],
   "source": [
    "# 0.0 값이 대다수임을 확인\n",
    "Train_df['C3'].value_counts(normalize = True)"
   ]
  },
  {
   "cell_type": "code",
   "execution_count": 51,
   "metadata": {},
   "outputs": [
    {
     "data": {
      "text/plain": [
       "0.0    74156\n",
       "1.0      780\n",
       "2.0       52\n",
       "3.0        9\n",
       "9.0        1\n",
       "8.0        1\n",
       "4.0        1\n",
       "Name: C3, dtype: int64"
      ]
     },
     "execution_count": 51,
     "metadata": {},
     "output_type": "execute_result"
    }
   ],
   "source": [
    "Train_df['C3'].value_counts(normalize = False)"
   ]
  },
  {
   "cell_type": "code",
   "execution_count": 52,
   "metadata": {},
   "outputs": [
    {
     "data": {
      "text/plain": [
       "C3\n",
       "0.0    0.026336\n",
       "1.0    0.001282\n",
       "2.0    0.000000\n",
       "3.0    0.000000\n",
       "4.0    0.000000\n",
       "8.0    0.000000\n",
       "9.0    0.000000\n",
       "Name: isFraud, dtype: float64"
      ]
     },
     "execution_count": 52,
     "metadata": {},
     "output_type": "execute_result"
    }
   ],
   "source": [
    "# 2.0 이상의 값은 거의 존재하지 않기 때문에, 우연히 평균이 0이 나왔을 것이란 추측이 가능\n",
    "# 0.0은 자주 등장했기 때문에, 라벨의 평균과 유사\n",
    "# 1.0은 빈도가 어느정도 있음에도 불구하고 라벨의 평균과 크게 다름\n",
    "# (조금은 위험한) 가설 수립: C3값이 1 이상인지 아닌지에 따른 차이가 존재할 것이다! => C3_over_1 변수 생성\n",
    "Train_df.groupby('C3')['isFraud'].mean()"
   ]
  },
  {
   "cell_type": "code",
   "execution_count": 53,
   "metadata": {},
   "outputs": [
    {
     "data": {
      "text/plain": [
       "0    0.973947\n",
       "1    0.026053\n",
       "Name: isFraud, dtype: float64"
      ]
     },
     "execution_count": 53,
     "metadata": {},
     "output_type": "execute_result"
    }
   ],
   "source": [
    "Train_Y.value_counts(normalize = True) # C3 0.0이랑 Y=1이랑 상당히 비슷함"
   ]
  },
  {
   "cell_type": "markdown",
   "metadata": {},
   "source": [
    "2.4.6 M 관련 변수\n",
    "- M1 - M9는 결측도 절반가까이를 포함하여, 대체하는 것은 어려을 것으로 예상됨\n",
    "- 모두 범주형 변수이며, 값의 출현 패턴이 유사하니 동시에 탐색 수행"
   ]
  },
  {
   "cell_type": "code",
   "execution_count": 54,
   "metadata": {},
   "outputs": [],
   "source": [
    "# 탐색을 위해, 모든 결측값을 우선 대체\n",
    "M_columns = ['M' + str(i) for i in range(1, 10)]\n",
    "Train_df[M_columns] = Train_df[M_columns].fillna(\"결측\")"
   ]
  },
  {
   "cell_type": "code",
   "execution_count": 55,
   "metadata": {},
   "outputs": [
    {
     "name": "stdout",
     "output_type": "stream",
     "text": [
      "결측    51321\n",
      "T     23679\n",
      "Name: M1, dtype: int64\n",
      "\n",
      "\n",
      "결측    51321\n",
      "T     21297\n",
      "F      2382\n",
      "Name: M2, dtype: int64\n",
      "\n",
      "\n",
      "결측    51321\n",
      "T     18486\n",
      "F      5193\n",
      "Name: M3, dtype: int64\n",
      "\n",
      "\n",
      "결측    43113\n",
      "M0    19708\n",
      "M2     7115\n",
      "M1     5064\n",
      "Name: M4, dtype: int64\n",
      "\n",
      "\n",
      "결측    51620\n",
      "F     13011\n",
      "T     10369\n",
      "Name: M5, dtype: int64\n",
      "\n",
      "\n",
      "결측    34232\n",
      "F     21927\n",
      "T     18841\n",
      "Name: M6, dtype: int64\n",
      "\n",
      "\n",
      "결측    62902\n",
      "F     10357\n",
      "T      1741\n",
      "Name: M7, dtype: int64\n",
      "\n",
      "\n",
      "결측    62902\n",
      "F      7500\n",
      "T      4598\n",
      "Name: M8, dtype: int64\n",
      "\n",
      "\n",
      "결측    62902\n",
      "T     10407\n",
      "F      1691\n",
      "Name: M9, dtype: int64\n",
      "\n",
      "\n"
     ]
    }
   ],
   "source": [
    "## 변수 분포 확인\n",
    "# 1. 결측이 매우 많음 => 단순 대체 및 제거 불가\n",
    "# 2. M4를 제외하고는 T (True), F (False로 정의됨)\n",
    "for col in M_columns:\n",
    "    print(Train_df[col].value_counts())\n",
    "    print('\\n')"
   ]
  },
  {
   "cell_type": "code",
   "execution_count": 56,
   "metadata": {},
   "outputs": [
    {
     "name": "stdout",
     "output_type": "stream",
     "text": [
      "M1\n",
      "T     0.016681\n",
      "결측    0.030377\n",
      "Name: isFraud, dtype: float64\n",
      "\n",
      "\n",
      "M2\n",
      "F     0.034005\n",
      "T     0.014744\n",
      "결측    0.030377\n",
      "Name: isFraud, dtype: float64\n",
      "\n",
      "\n",
      "M3\n",
      "F     0.027922\n",
      "T     0.013524\n",
      "결측    0.030377\n",
      "Name: isFraud, dtype: float64\n",
      "\n",
      "\n",
      "M4\n",
      "M0    0.035722\n",
      "M1    0.019945\n",
      "M2    0.088405\n",
      "결측    0.012061\n",
      "Name: isFraud, dtype: float64\n",
      "\n",
      "\n",
      "M5\n",
      "F     0.018138\n",
      "T     0.041373\n",
      "결측    0.024971\n",
      "Name: isFraud, dtype: float64\n",
      "\n",
      "\n",
      "M6\n",
      "F     0.023624\n",
      "T     0.012101\n",
      "결측    0.035289\n",
      "Name: isFraud, dtype: float64\n",
      "\n",
      "\n",
      "M7\n",
      "F     0.013035\n",
      "T     0.007467\n",
      "결측    0.028711\n",
      "Name: isFraud, dtype: float64\n",
      "\n",
      "\n",
      "M8\n",
      "F     0.013867\n",
      "T     0.009569\n",
      "결측    0.028711\n",
      "Name: isFraud, dtype: float64\n",
      "\n",
      "\n",
      "M9\n",
      "F     0.013010\n",
      "T     0.012107\n",
      "결측    0.028711\n",
      "Name: isFraud, dtype: float64\n",
      "\n",
      "\n"
     ]
    }
   ],
   "source": [
    "## 변수 값별 라벨 확인: 값별로 차이가 있으며, 결측 자체로도 의미가 있어보임\n",
    "# 즉, 결측이냐 아니냐에 따라서 Y의 차이가 나는 것을 직관적으로도 알 수 있다.\n",
    "# 결측 자체로도 의미가 있으니, 결측을 따로 대체 후 더미화 필요\n",
    "for col in M_columns:\n",
    "    print(Train_df.groupby(col)['isFraud'].mean())\n",
    "    print('\\n')"
   ]
  },
  {
   "cell_type": "markdown",
   "metadata": {},
   "source": [
    "#### 2.5 연속형 변수 탐색\n",
    "- 탐색방법  \n",
    "(1) 변수별 분포 확인 (히스토그램)  \n",
    "(2) 변수와 라벨 간 관계 파악 (박스플롯)  \n",
    "\n",
    "- 탐색결과활용  \n",
    "(1) 연속형 변수 이진화  \n",
    "(2) 변수 치우침 제거  \n",
    "\n",
    "- 선형관계가 보이지 않는 변수가 대부분이라 트리 기반의 앙상블 모델을 활용하기로 의사결정  "
   ]
  },
  {
   "cell_type": "code",
   "execution_count": 57,
   "metadata": {},
   "outputs": [
    {
     "data": {
      "text/plain": [
       "<matplotlib.axes._subplots.AxesSubplot at 0x7f8237420fd0>"
      ]
     },
     "execution_count": 57,
     "metadata": {},
     "output_type": "execute_result"
    },
    {
     "data": {
      "image/png": "[encoded data removed]",
      "text/plain": [
       "<Figure size 1440x360 with 1 Axes>"
      ]
     },
     "metadata": {
      "needs_background": "light"
     },
     "output_type": "display_data"
    }
   ],
   "source": [
    "# 히스토그램 생성: 대다수가 1000달러 이하임을 확인 (거기다가 굉장히 치우침을 확인)\n",
    "Train_df['TransactionAmt'].hist(bins = 100)"
   ]
  },
  {
   "cell_type": "code",
   "execution_count": 58,
   "metadata": {},
   "outputs": [
    {
     "data": {
      "text/plain": [
       "count    75000.000000\n",
       "mean       130.222620\n",
       "std        206.503908\n",
       "min          0.424000\n",
       "25%         45.000000\n",
       "50%         75.000000\n",
       "75%        134.950000\n",
       "max       4829.950000\n",
       "Name: TransactionAmt, dtype: float64"
      ]
     },
     "execution_count": 58,
     "metadata": {},
     "output_type": "execute_result"
    }
   ],
   "source": [
    "# 한쪽에 매우 치우침을 확인함: 거래 금액이 매우 크거나 작은 것 자체가 특징이 되지 않을까?\n",
    "# 전부 양수이고, 굉장히 많이 퍼져있는 것을 알 수 있다. 75Q와 평균과 비슷하다\n",
    "# max가 매우 크기 때문에, 의심을 해볼만함\n",
    "Train_df['TransactionAmt'].describe()"
   ]
  },
  {
   "cell_type": "code",
   "execution_count": 59,
   "metadata": {},
   "outputs": [
    {
     "data": {
      "text/plain": [
       "([<matplotlib.axis.XTick at 0x7f823a2c0040>,\n",
       "  <matplotlib.axis.XTick at 0x7f823a2b7fd0>],\n",
       " [Text(0, 0, 'Fraud'), Text(0, 0, 'not Fraud')])"
      ]
     },
     "execution_count": 59,
     "metadata": {},
     "output_type": "execute_result"
    },
    {
     "data": {
      "image/png": "[encoded data removed]",
      "text/plain": [
       "<Figure size 1440x360 with 1 Axes>"
      ]
     },
     "metadata": {
      "needs_background": "light"
     },
     "output_type": "display_data"
    }
   ],
   "source": [
    "# 라벨과 연속형변수 비교\n",
    "TransactionAmt_Fraud = Train_df['TransactionAmt'].loc[Train_df['isFraud'] == 1]\n",
    "TransactionAmt_not_Fraud = Train_df['TransactionAmt'].loc[Train_df['isFraud'] == 0]\n",
    "\n",
    "# 대부분 이상치로 판단되어 정상적인 해석이 쉽지 않음 (다만, Fraud인 경우의 범위가 더 좁음)\n",
    "plt.boxplot([TransactionAmt_Fraud, TransactionAmt_not_Fraud])\n",
    "plt.xticks([1, 2], ['Fraud', 'not Fraud'])"
   ]
  },
  {
   "cell_type": "code",
   "execution_count": 60,
   "metadata": {},
   "outputs": [
    {
     "data": {
      "text/plain": [
       "count    1954.000000\n",
       "mean      132.173121\n",
       "std       178.683546\n",
       "min         0.424000\n",
       "25%        39.000000\n",
       "50%        78.788000\n",
       "75%       150.000000\n",
       "max      2680.990000\n",
       "Name: TransactionAmt, dtype: float64"
      ]
     },
     "execution_count": 60,
     "metadata": {},
     "output_type": "execute_result"
    }
   ],
   "source": [
    "# 사기 거래의 경우\n",
    "TransactionAmt_Fraud.describe()"
   ]
  },
  {
   "cell_type": "code",
   "execution_count": 61,
   "metadata": {},
   "outputs": [
    {
     "data": {
      "text/plain": [
       "count    73046.000000\n",
       "mean       130.170443\n",
       "std        207.197630\n",
       "min          1.000000\n",
       "25%         45.000000\n",
       "50%         75.000000\n",
       "75%        131.000000\n",
       "max       4829.950000\n",
       "Name: TransactionAmt, dtype: float64"
      ]
     },
     "execution_count": 61,
     "metadata": {},
     "output_type": "execute_result"
    }
   ],
   "source": [
    "# 사기 거래가 아닌 경우\n",
    "# 평균의 차이는 비슷, 75% Quantile 차이가 조금 존재함\n",
    "TransactionAmt_not_Fraud.describe()"
   ]
  },
  {
   "cell_type": "code",
   "execution_count": 62,
   "metadata": {},
   "outputs": [],
   "source": [
    "# 사기 거래 유무에 따라 특별한 관계를 찾기는 어려움\n",
    "# 또한, 사기 거래인 경우에는 데이터가 많아서 범위가 커보일 수 있음 \n",
    "# 따라서 라벨과 관계를 고려하지 않고, 치우침만 해결하기로 결정"
   ]
  },
  {
   "cell_type": "markdown",
   "metadata": {},
   "source": [
    "2.5.2 C 관련 변수 (범주형 변수 C3 제외)"
   ]
  },
  {
   "cell_type": "code",
   "execution_count": 63,
   "metadata": {},
   "outputs": [
    {
     "data": {
      "text/plain": [
       "['C1',\n",
       " 'C2',\n",
       " 'C4',\n",
       " 'C5',\n",
       " 'C6',\n",
       " 'C7',\n",
       " 'C8',\n",
       " 'C9',\n",
       " 'C10',\n",
       " 'C11',\n",
       " 'C12',\n",
       " 'C13',\n",
       " 'C14']"
      ]
     },
     "execution_count": 63,
     "metadata": {},
     "output_type": "execute_result"
    }
   ],
   "source": [
    "# 변수 목록 생성\n",
    "C_columns = ['C' + str(i) for i in range(1, 15) if i != 3]\n",
    "C_columns"
   ]
  },
  {
   "cell_type": "code",
   "execution_count": 64,
   "metadata": {},
   "outputs": [
    {
     "data": {
      "text/html": [
       "<div>\n",
       "<style scoped>\n",
       "    .dataframe tbody tr th:only-of-type {\n",
       "        vertical-align: middle;\n",
       "    }\n",
       "\n",
       "    .dataframe tbody tr th {\n",
       "        vertical-align: top;\n",
       "    }\n",
       "\n",
       "    .dataframe thead th {\n",
       "        text-align: right;\n",
       "    }\n",
       "</style>\n",
       "<table border=\"1\" class=\"dataframe\">\n",
       "  <thead>\n",
       "    <tr style=\"text-align: right;\">\n",
       "      <th></th>\n",
       "      <th>C1</th>\n",
       "      <th>C2</th>\n",
       "      <th>C4</th>\n",
       "      <th>C5</th>\n",
       "      <th>C6</th>\n",
       "      <th>C7</th>\n",
       "      <th>C8</th>\n",
       "      <th>C9</th>\n",
       "      <th>C10</th>\n",
       "      <th>C11</th>\n",
       "      <th>C12</th>\n",
       "      <th>C13</th>\n",
       "      <th>C14</th>\n",
       "    </tr>\n",
       "  </thead>\n",
       "  <tbody>\n",
       "    <tr>\n",
       "      <th>count</th>\n",
       "      <td>75000.000000</td>\n",
       "      <td>75000.000000</td>\n",
       "      <td>75000.000000</td>\n",
       "      <td>75000.00000</td>\n",
       "      <td>75000.000000</td>\n",
       "      <td>75000.000000</td>\n",
       "      <td>75000.000000</td>\n",
       "      <td>75000.000000</td>\n",
       "      <td>75000.000000</td>\n",
       "      <td>75000.000000</td>\n",
       "      <td>75000.000000</td>\n",
       "      <td>75000.000000</td>\n",
       "      <td>75000.000000</td>\n",
       "    </tr>\n",
       "    <tr>\n",
       "      <th>mean</th>\n",
       "      <td>41.151000</td>\n",
       "      <td>47.912013</td>\n",
       "      <td>19.233333</td>\n",
       "      <td>4.17904</td>\n",
       "      <td>23.212640</td>\n",
       "      <td>15.887733</td>\n",
       "      <td>26.227787</td>\n",
       "      <td>3.277707</td>\n",
       "      <td>26.797080</td>\n",
       "      <td>29.765480</td>\n",
       "      <td>22.257813</td>\n",
       "      <td>45.584147</td>\n",
       "      <td>17.030920</td>\n",
       "    </tr>\n",
       "    <tr>\n",
       "      <th>std</th>\n",
       "      <td>312.502121</td>\n",
       "      <td>364.117106</td>\n",
       "      <td>158.342430</td>\n",
       "      <td>21.65999</td>\n",
       "      <td>159.083634</td>\n",
       "      <td>151.516922</td>\n",
       "      <td>231.963942</td>\n",
       "      <td>13.986498</td>\n",
       "      <td>232.707598</td>\n",
       "      <td>218.589395</td>\n",
       "      <td>212.667430</td>\n",
       "      <td>221.574753</td>\n",
       "      <td>104.011679</td>\n",
       "    </tr>\n",
       "    <tr>\n",
       "      <th>min</th>\n",
       "      <td>0.000000</td>\n",
       "      <td>0.000000</td>\n",
       "      <td>0.000000</td>\n",
       "      <td>0.00000</td>\n",
       "      <td>0.000000</td>\n",
       "      <td>0.000000</td>\n",
       "      <td>0.000000</td>\n",
       "      <td>0.000000</td>\n",
       "      <td>0.000000</td>\n",
       "      <td>0.000000</td>\n",
       "      <td>0.000000</td>\n",
       "      <td>0.000000</td>\n",
       "      <td>0.000000</td>\n",
       "    </tr>\n",
       "    <tr>\n",
       "      <th>25%</th>\n",
       "      <td>1.000000</td>\n",
       "      <td>1.000000</td>\n",
       "      <td>0.000000</td>\n",
       "      <td>0.00000</td>\n",
       "      <td>1.000000</td>\n",
       "      <td>0.000000</td>\n",
       "      <td>0.000000</td>\n",
       "      <td>0.000000</td>\n",
       "      <td>0.000000</td>\n",
       "      <td>1.000000</td>\n",
       "      <td>0.000000</td>\n",
       "      <td>1.000000</td>\n",
       "      <td>1.000000</td>\n",
       "    </tr>\n",
       "    <tr>\n",
       "      <th>50%</th>\n",
       "      <td>1.000000</td>\n",
       "      <td>1.000000</td>\n",
       "      <td>0.000000</td>\n",
       "      <td>0.00000</td>\n",
       "      <td>1.000000</td>\n",
       "      <td>0.000000</td>\n",
       "      <td>0.000000</td>\n",
       "      <td>1.000000</td>\n",
       "      <td>0.000000</td>\n",
       "      <td>1.000000</td>\n",
       "      <td>0.000000</td>\n",
       "      <td>2.000000</td>\n",
       "      <td>1.000000</td>\n",
       "    </tr>\n",
       "    <tr>\n",
       "      <th>75%</th>\n",
       "      <td>2.000000</td>\n",
       "      <td>2.000000</td>\n",
       "      <td>1.000000</td>\n",
       "      <td>1.00000</td>\n",
       "      <td>2.000000</td>\n",
       "      <td>0.000000</td>\n",
       "      <td>1.000000</td>\n",
       "      <td>1.000000</td>\n",
       "      <td>1.000000</td>\n",
       "      <td>2.000000</td>\n",
       "      <td>0.000000</td>\n",
       "      <td>9.000000</td>\n",
       "      <td>2.000000</td>\n",
       "    </tr>\n",
       "    <tr>\n",
       "      <th>max</th>\n",
       "      <td>4682.000000</td>\n",
       "      <td>5690.000000</td>\n",
       "      <td>2251.000000</td>\n",
       "      <td>295.00000</td>\n",
       "      <td>2251.000000</td>\n",
       "      <td>2253.000000</td>\n",
       "      <td>3328.000000</td>\n",
       "      <td>194.000000</td>\n",
       "      <td>3254.000000</td>\n",
       "      <td>3186.000000</td>\n",
       "      <td>3186.000000</td>\n",
       "      <td>2915.000000</td>\n",
       "      <td>1426.000000</td>\n",
       "    </tr>\n",
       "  </tbody>\n",
       "</table>\n",
       "</div>"
      ],
      "text/plain": [
       "                 C1            C2            C4           C5            C6  \\\n",
       "count  75000.000000  75000.000000  75000.000000  75000.00000  75000.000000   \n",
       "mean      41.151000     47.912013     19.233333      4.17904     23.212640   \n",
       "std      312.502121    364.117106    158.342430     21.65999    159.083634   \n",
       "min        0.000000      0.000000      0.000000      0.00000      0.000000   \n",
       "25%        1.000000      1.000000      0.000000      0.00000      1.000000   \n",
       "50%        1.000000      1.000000      0.000000      0.00000      1.000000   \n",
       "75%        2.000000      2.000000      1.000000      1.00000      2.000000   \n",
       "max     4682.000000   5690.000000   2251.000000    295.00000   2251.000000   \n",
       "\n",
       "                 C7            C8            C9           C10           C11  \\\n",
       "count  75000.000000  75000.000000  75000.000000  75000.000000  75000.000000   \n",
       "mean      15.887733     26.227787      3.277707     26.797080     29.765480   \n",
       "std      151.516922    231.963942     13.986498    232.707598    218.589395   \n",
       "min        0.000000      0.000000      0.000000      0.000000      0.000000   \n",
       "25%        0.000000      0.000000      0.000000      0.000000      1.000000   \n",
       "50%        0.000000      0.000000      1.000000      0.000000      1.000000   \n",
       "75%        0.000000      1.000000      1.000000      1.000000      2.000000   \n",
       "max     2253.000000   3328.000000    194.000000   3254.000000   3186.000000   \n",
       "\n",
       "                C12           C13           C14  \n",
       "count  75000.000000  75000.000000  75000.000000  \n",
       "mean      22.257813     45.584147     17.030920  \n",
       "std      212.667430    221.574753    104.011679  \n",
       "min        0.000000      0.000000      0.000000  \n",
       "25%        0.000000      1.000000      1.000000  \n",
       "50%        0.000000      2.000000      1.000000  \n",
       "75%        0.000000      9.000000      2.000000  \n",
       "max     3186.000000   2915.000000   1426.000000  "
      ]
     },
     "execution_count": 64,
     "metadata": {},
     "output_type": "execute_result"
    }
   ],
   "source": [
    "# 대다수의 변수가 75%값은 10미만인데, max값은 매우 큼 -> 이상하다? -> 90% 이상 파악해보기\n",
    "Train_df[C_columns].describe()"
   ]
  },
  {
   "cell_type": "code",
   "execution_count": 65,
   "metadata": {},
   "outputs": [
    {
     "data": {
      "text/plain": [
       "C1      6.0\n",
       "C2      6.0\n",
       "C4      1.0\n",
       "C5      2.0\n",
       "C6      4.0\n",
       "C7      1.0\n",
       "C8      1.0\n",
       "C9      3.0\n",
       "C10     1.0\n",
       "C11     4.0\n",
       "C12     1.0\n",
       "C13    33.0\n",
       "C14     5.0\n",
       "Name: 0.9, dtype: float64"
      ]
     },
     "execution_count": 65,
     "metadata": {},
     "output_type": "execute_result"
    }
   ],
   "source": [
    "# 상위 90% 값 확인\n",
    "Train_df[C_columns].quantile(0.90)"
   ]
  },
  {
   "cell_type": "code",
   "execution_count": null,
   "metadata": {},
   "outputs": [],
   "source": []
  }
 ],
 "metadata": {
  "kernelspec": {
   "display_name": "Python 3",
   "language": "python",
   "name": "python3"
  },
  "language_info": {
   "codemirror_mode": {
    "name": "ipython",
    "version": 3
   },
   "file_extension": ".py",
   "mimetype": "text/x-python",
   "name": "python",
   "nbconvert_exporter": "python",
   "pygments_lexer": "ipython3",
   "version": "3.8.3"
  }
 },
 "nbformat": 4,
 "nbformat_minor": 4
}
