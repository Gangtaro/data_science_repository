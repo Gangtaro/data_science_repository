{
 "cells": [
  {
   "cell_type": "markdown",
   "metadata": {},
   "source": [
    "# import modules"
   ]
  },
  {
   "cell_type": "code",
   "execution_count": 3,
   "metadata": {},
   "outputs": [
    {
     "data": {
      "text/plain": [
       "'3.1.1'"
      ]
     },
     "execution_count": 3,
     "metadata": {},
     "output_type": "execute_result"
    }
   ],
   "source": [
    "import lightgbm as lgb\n",
    "\n",
    "import numpy as np\n",
    "import pandas as pd\n",
    "from sklearn.model_selection import KFold, train_test_split, ParameterGrid\n",
    "from sklearn.metrics import confusion_matrix, mean_squared_error, f1_score\n",
    "from sklearn.datasets import load_iris, load_digits, load_boston\n",
    "\n",
    "import warnings\n",
    "warnings.filterwarnings('ignore')\n",
    "\n",
    "rng = np.random.RandomState(950530)\n",
    "lgb.__version__\n"
   ]
  },
  {
   "cell_type": "markdown",
   "metadata": {},
   "source": [
    "# 1. binary classification"
   ]
  },
  {
   "cell_type": "code",
   "execution_count": 4,
   "metadata": {},
   "outputs": [],
   "source": [
    "digits = load_digits(n_class = 2)"
   ]
  },
  {
   "cell_type": "code",
   "execution_count": 5,
   "metadata": {},
   "outputs": [
    {
     "name": "stdout",
     "output_type": "stream",
     "text": [
      "Shape of X :  (360, 64)\n",
      "Shape of y :  (360,)\n"
     ]
    }
   ],
   "source": [
    "print('Shape of X : ', digits.data.shape)\n",
    "print('Shape of y : ', digits.target.shape)"
   ]
  },
  {
   "cell_type": "code",
   "execution_count": 6,
   "metadata": {},
   "outputs": [],
   "source": [
    "y = digits['target'] # label\n",
    "X = digits['data']\n",
    "\n",
    "# make K-fold cross validation instance + you can use \n",
    "kf = KFold(n_splits=2,       # there is 2 folds\n",
    "           shuffle=True,     # 데이터를 분할하기 전에 섞어줘\n",
    "           random_state=rng) # seed 고정"
   ]
  },
  {
   "cell_type": "code",
   "execution_count": 7,
   "metadata": {},
   "outputs": [
    {
     "name": "stdout",
     "output_type": "stream",
     "text": [
      "[[81  4]\n",
      " [ 0 95]]\n",
      "[[93  0]\n",
      " [ 1 86]]\n"
     ]
    }
   ],
   "source": [
    "for train_index, test_index in kf.split(X):\n",
    "    \n",
    "    lgb_model = lgb.LGBMClassifier(n_jobs=1)\n",
    "    lgb_model.fit(X[train_index], y[train_index])\n",
    "    predictions = lgb_model.predict(X[test_index])\n",
    "    actuals = y[test_index]\n",
    "    \n",
    "    print(confusion_matrix(actuals, predictions))\n"
   ]
  },
  {
   "cell_type": "markdown",
   "metadata": {},
   "source": [
    "# 2. multi-class classification"
   ]
  },
  {
   "cell_type": "code",
   "execution_count": 8,
   "metadata": {},
   "outputs": [],
   "source": [
    "iris = load_iris()\n",
    "y = iris['target']\n",
    "X = iris['data']\n",
    "kf = KFold(n_splits=2, shuffle=True, random_state=rng)"
   ]
  },
  {
   "cell_type": "code",
   "execution_count": 9,
   "metadata": {},
   "outputs": [
    {
     "name": "stdout",
     "output_type": "stream",
     "text": [
      "[[21  3  0]\n",
      " [ 0 22  4]\n",
      " [ 0  3 22]]\n",
      "[[26  0  0]\n",
      " [ 0 23  1]\n",
      " [ 0  2 23]]\n"
     ]
    }
   ],
   "source": [
    "for train_index, test_index in kf.split(X):\n",
    "    \n",
    "    lgb_model = lgb.LGBMClassifier(n_jobs=1)\n",
    "    lgb_model.fit(X[train_index], y[train_index])\n",
    "    predictions = lgb_model.predict(X[test_index])\n",
    "    actuals = y[test_index]\n",
    "    \n",
    "    print(confusion_matrix(actuals, predictions))"
   ]
  },
  {
   "cell_type": "markdown",
   "metadata": {},
   "source": [
    "# 3. Regression"
   ]
  },
  {
   "cell_type": "code",
   "execution_count": 11,
   "metadata": {},
   "outputs": [
    {
     "name": "stdout",
     "output_type": "stream",
     "text": [
      "Boston Housing: regression\n"
     ]
    }
   ],
   "source": [
    "print(\"Boston Housing: regression\")\n",
    "boston = load_boston()\n",
    "y = boston['target']\n",
    "X = boston['data']\n",
    "kf = KFold(n_splits=2, shuffle=True, random_state=rng)"
   ]
  },
  {
   "cell_type": "code",
   "execution_count": 12,
   "metadata": {},
   "outputs": [
    {
     "name": "stdout",
     "output_type": "stream",
     "text": [
      "10.91990583450736\n",
      "19.843625053006033\n"
     ]
    }
   ],
   "source": [
    "for train_index, test_index in kf.split(X):\n",
    "    \n",
    "    lgb_model = lgb.LGBMRegressor(n_jobs=1)\n",
    "    lgb_model.fit(X[train_index], y[train_index])\n",
    "    predictions = lgb_model.predict(X[test_index])\n",
    "    actuals = y[test_index]\n",
    "    \n",
    "    print(mean_squared_error(actuals, predictions))\n"
   ]
  },
  {
   "cell_type": "markdown",
   "metadata": {},
   "source": [
    "# 4. Parameter Optimization "
   ]
  },
  {
   "cell_type": "code",
   "execution_count": 13,
   "metadata": {},
   "outputs": [
    {
     "name": "stdout",
     "output_type": "stream",
     "text": [
      "Parameter optimization01 : ParameterGrid\n"
     ]
    }
   ],
   "source": [
    "print(\"Parameter optimization01 : ParameterGrid\")\n",
    "\n",
    "y = boston['target']\n",
    "X = boston['data']\n",
    "\n",
    "# 5-fold, Shuffle\n",
    "kf = KFold(n_splits=5, shuffle=True, random_state=rng)"
   ]
  },
  {
   "cell_type": "code",
   "execution_count": 17,
   "metadata": {},
   "outputs": [
    {
     "name": "stdout",
     "output_type": "stream",
     "text": [
      "Best Parameter :  {'max_depth': 4, 'n_estimators': 300}\n",
      "Best Score(MSE): 10.517548349515572\n"
     ]
    }
   ],
   "source": [
    "# 파라미터 그리드 설정\n",
    "LGB_parameter_grid = ParameterGrid({\"max_depth\": np.arange(2, 5),\n",
    "                                  \"n_estimators\": [200, 210, 250, 290, 300]})\n",
    "  \n",
    "# [1st Loop]\n",
    "# Set parameter which we want test\n",
    "for parameter in LGB_parameter_grid:\n",
    "\n",
    "    best_score = 1000\n",
    "    avr_score = 0\n",
    "    _scores = []\n",
    "    \n",
    "    # [2nd Loop]\n",
    "    # K-fold cross validation -> Mean Score is the 'Set of parameters's score\n",
    "    for train_index, test_index in kf.split(X):\n",
    "\n",
    "        model = lgb.LGBMRegressor(n_jobs =1, verbosity = -1, **parameter)\n",
    "        model.fit(X[train_index], y[train_index],\n",
    "                 verbose = 1)\n",
    "        pred_Y = model.predict(X[test_index])\n",
    "        score = mean_squared_error(pred_Y, y[test_index])\n",
    "        \n",
    "        _scores.append(score)\n",
    "\n",
    "    avr_score = np.mean(_scores)\n",
    "\n",
    "    if avr_score < best_score:\n",
    "        best_score = avr_score\n",
    "        best_parameter = parameter\n",
    "    \n",
    "print('Best Parameter : ', best_parameter)\n",
    "print('Best Score(MSE):', best_score)"
   ]
  },
  {
   "cell_type": "code",
   "execution_count": null,
   "metadata": {},
   "outputs": [],
   "source": []
  }
 ],
 "metadata": {
  "kernelspec": {
   "display_name": "Python 3",
   "language": "python",
   "name": "python3"
  },
  "language_info": {
   "codemirror_mode": {
    "name": "ipython",
    "version": 3
   },
   "file_extension": ".py",
   "mimetype": "text/x-python",
   "name": "python",
   "nbconvert_exporter": "python",
   "pygments_lexer": "ipython3",
   "version": "3.8.3"
  },
  "toc": {
   "base_numbering": 1,
   "nav_menu": {},
   "number_sections": false,
   "sideBar": true,
   "skip_h1_title": false,
   "title_cell": "Table of Contents",
   "title_sidebar": "Contents",
   "toc_cell": false,
   "toc_position": {},
   "toc_section_display": true,
   "toc_window_display": false
  }
 },
 "nbformat": 4,
 "nbformat_minor": 4
}
