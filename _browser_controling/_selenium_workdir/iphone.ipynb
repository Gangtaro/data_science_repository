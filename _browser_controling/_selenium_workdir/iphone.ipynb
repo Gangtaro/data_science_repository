{
 "cells": [
  {
   "cell_type": "code",
   "execution_count": 1,
   "metadata": {},
   "outputs": [],
   "source": [
    "import time\n",
    "import pause\n",
    "from selenium import webdriver\n",
    "from selenium.webdriver.common.keys import Keys\n",
    "from selenium.webdriver.support.ui import WebDriverWait\n",
    "from selenium.webdriver.common.action_chains import ActionChains\n",
    "from math import floor\n",
    "from datetime import datetime, timedelta"
   ]
  },
  {
   "cell_type": "code",
   "execution_count": 2,
   "metadata": {},
   "outputs": [
    {
     "ename": "SessionNotCreatedException",
     "evalue": "Message: session not created: This version of ChromeDriver only supports Chrome version 92\nCurrent browser version is 94.0.4606.61 with binary path /Applications/Google Chrome.app/Contents/MacOS/Google Chrome\n",
     "output_type": "error",
     "traceback": [
      "\u001b[0;31m---------------------------------------------------------------------------\u001b[0m",
      "\u001b[0;31mSessionNotCreatedException\u001b[0m                Traceback (most recent call last)",
      "\u001b[0;32m<ipython-input-2-9cb2f5940a07>\u001b[0m in \u001b[0;36m<module>\u001b[0;34m\u001b[0m\n\u001b[1;32m      1\u001b[0m \u001b[0;31m# 새 컨트롤 가능한 새창 업로드\u001b[0m\u001b[0;34m\u001b[0m\u001b[0;34m\u001b[0m\u001b[0;34m\u001b[0m\u001b[0m\n\u001b[1;32m      2\u001b[0m \u001b[0;31m# Chrome\u001b[0m\u001b[0;34m\u001b[0m\u001b[0;34m\u001b[0m\u001b[0;34m\u001b[0m\u001b[0m\n\u001b[0;32m----> 3\u001b[0;31m \u001b[0mdriver\u001b[0m \u001b[0;34m=\u001b[0m \u001b[0mwebdriver\u001b[0m\u001b[0;34m.\u001b[0m\u001b[0mChrome\u001b[0m\u001b[0;34m(\u001b[0m\u001b[0;34m)\u001b[0m\u001b[0;34m\u001b[0m\u001b[0;34m\u001b[0m\u001b[0m\n\u001b[0m\u001b[1;32m      4\u001b[0m \u001b[0;34m\u001b[0m\u001b[0m\n\u001b[1;32m      5\u001b[0m \u001b[0murl\u001b[0m \u001b[0;34m=\u001b[0m \u001b[0;34m'https://www.coupang.com/vp/products/6091199349?itemId=11356856617&vendorItemId=78633224726&q=Apple+%EC%95%84%EC%9D%B4%ED%8F%B0+13+Pro+%EC%9E%90%EA%B8%89%EC%A0%9C&itemsCount=36&searchId=37af33168e254212b3f67801e69884fb&rank=2&isAddedCart='\u001b[0m\u001b[0;34m\u001b[0m\u001b[0;34m\u001b[0m\u001b[0m\n",
      "\u001b[0;32m~/opt/anaconda3/envs/se3.7/lib/python3.7/site-packages/selenium/webdriver/chrome/webdriver.py\u001b[0m in \u001b[0;36m__init__\u001b[0;34m(self, executable_path, port, options, service_args, desired_capabilities, service_log_path, chrome_options, keep_alive)\u001b[0m\n\u001b[1;32m     79\u001b[0m                     \u001b[0mremote_server_addr\u001b[0m\u001b[0;34m=\u001b[0m\u001b[0mself\u001b[0m\u001b[0;34m.\u001b[0m\u001b[0mservice\u001b[0m\u001b[0;34m.\u001b[0m\u001b[0mservice_url\u001b[0m\u001b[0;34m,\u001b[0m\u001b[0;34m\u001b[0m\u001b[0;34m\u001b[0m\u001b[0m\n\u001b[1;32m     80\u001b[0m                     keep_alive=keep_alive),\n\u001b[0;32m---> 81\u001b[0;31m                 desired_capabilities=desired_capabilities)\n\u001b[0m\u001b[1;32m     82\u001b[0m         \u001b[0;32mexcept\u001b[0m \u001b[0mException\u001b[0m\u001b[0;34m:\u001b[0m\u001b[0;34m\u001b[0m\u001b[0;34m\u001b[0m\u001b[0m\n\u001b[1;32m     83\u001b[0m             \u001b[0mself\u001b[0m\u001b[0;34m.\u001b[0m\u001b[0mquit\u001b[0m\u001b[0;34m(\u001b[0m\u001b[0;34m)\u001b[0m\u001b[0;34m\u001b[0m\u001b[0;34m\u001b[0m\u001b[0m\n",
      "\u001b[0;32m~/opt/anaconda3/envs/se3.7/lib/python3.7/site-packages/selenium/webdriver/remote/webdriver.py\u001b[0m in \u001b[0;36m__init__\u001b[0;34m(self, command_executor, desired_capabilities, browser_profile, proxy, keep_alive, file_detector, options)\u001b[0m\n\u001b[1;32m    155\u001b[0m             warnings.warn(\"Please use FirefoxOptions to set browser profile\",\n\u001b[1;32m    156\u001b[0m                           DeprecationWarning, stacklevel=2)\n\u001b[0;32m--> 157\u001b[0;31m         \u001b[0mself\u001b[0m\u001b[0;34m.\u001b[0m\u001b[0mstart_session\u001b[0m\u001b[0;34m(\u001b[0m\u001b[0mcapabilities\u001b[0m\u001b[0;34m,\u001b[0m \u001b[0mbrowser_profile\u001b[0m\u001b[0;34m)\u001b[0m\u001b[0;34m\u001b[0m\u001b[0;34m\u001b[0m\u001b[0m\n\u001b[0m\u001b[1;32m    158\u001b[0m         \u001b[0mself\u001b[0m\u001b[0;34m.\u001b[0m\u001b[0m_switch_to\u001b[0m \u001b[0;34m=\u001b[0m \u001b[0mSwitchTo\u001b[0m\u001b[0;34m(\u001b[0m\u001b[0mself\u001b[0m\u001b[0;34m)\u001b[0m\u001b[0;34m\u001b[0m\u001b[0;34m\u001b[0m\u001b[0m\n\u001b[1;32m    159\u001b[0m         \u001b[0mself\u001b[0m\u001b[0;34m.\u001b[0m\u001b[0m_mobile\u001b[0m \u001b[0;34m=\u001b[0m \u001b[0mMobile\u001b[0m\u001b[0;34m(\u001b[0m\u001b[0mself\u001b[0m\u001b[0;34m)\u001b[0m\u001b[0;34m\u001b[0m\u001b[0;34m\u001b[0m\u001b[0m\n",
      "\u001b[0;32m~/opt/anaconda3/envs/se3.7/lib/python3.7/site-packages/selenium/webdriver/remote/webdriver.py\u001b[0m in \u001b[0;36mstart_session\u001b[0;34m(self, capabilities, browser_profile)\u001b[0m\n\u001b[1;32m    250\u001b[0m         parameters = {\"capabilities\": w3c_caps,\n\u001b[1;32m    251\u001b[0m                       \"desiredCapabilities\": capabilities}\n\u001b[0;32m--> 252\u001b[0;31m         \u001b[0mresponse\u001b[0m \u001b[0;34m=\u001b[0m \u001b[0mself\u001b[0m\u001b[0;34m.\u001b[0m\u001b[0mexecute\u001b[0m\u001b[0;34m(\u001b[0m\u001b[0mCommand\u001b[0m\u001b[0;34m.\u001b[0m\u001b[0mNEW_SESSION\u001b[0m\u001b[0;34m,\u001b[0m \u001b[0mparameters\u001b[0m\u001b[0;34m)\u001b[0m\u001b[0;34m\u001b[0m\u001b[0;34m\u001b[0m\u001b[0m\n\u001b[0m\u001b[1;32m    253\u001b[0m         \u001b[0;32mif\u001b[0m \u001b[0;34m'sessionId'\u001b[0m \u001b[0;32mnot\u001b[0m \u001b[0;32min\u001b[0m \u001b[0mresponse\u001b[0m\u001b[0;34m:\u001b[0m\u001b[0;34m\u001b[0m\u001b[0;34m\u001b[0m\u001b[0m\n\u001b[1;32m    254\u001b[0m             \u001b[0mresponse\u001b[0m \u001b[0;34m=\u001b[0m \u001b[0mresponse\u001b[0m\u001b[0;34m[\u001b[0m\u001b[0;34m'value'\u001b[0m\u001b[0;34m]\u001b[0m\u001b[0;34m\u001b[0m\u001b[0;34m\u001b[0m\u001b[0m\n",
      "\u001b[0;32m~/opt/anaconda3/envs/se3.7/lib/python3.7/site-packages/selenium/webdriver/remote/webdriver.py\u001b[0m in \u001b[0;36mexecute\u001b[0;34m(self, driver_command, params)\u001b[0m\n\u001b[1;32m    319\u001b[0m         \u001b[0mresponse\u001b[0m \u001b[0;34m=\u001b[0m \u001b[0mself\u001b[0m\u001b[0;34m.\u001b[0m\u001b[0mcommand_executor\u001b[0m\u001b[0;34m.\u001b[0m\u001b[0mexecute\u001b[0m\u001b[0;34m(\u001b[0m\u001b[0mdriver_command\u001b[0m\u001b[0;34m,\u001b[0m \u001b[0mparams\u001b[0m\u001b[0;34m)\u001b[0m\u001b[0;34m\u001b[0m\u001b[0;34m\u001b[0m\u001b[0m\n\u001b[1;32m    320\u001b[0m         \u001b[0;32mif\u001b[0m \u001b[0mresponse\u001b[0m\u001b[0;34m:\u001b[0m\u001b[0;34m\u001b[0m\u001b[0;34m\u001b[0m\u001b[0m\n\u001b[0;32m--> 321\u001b[0;31m             \u001b[0mself\u001b[0m\u001b[0;34m.\u001b[0m\u001b[0merror_handler\u001b[0m\u001b[0;34m.\u001b[0m\u001b[0mcheck_response\u001b[0m\u001b[0;34m(\u001b[0m\u001b[0mresponse\u001b[0m\u001b[0;34m)\u001b[0m\u001b[0;34m\u001b[0m\u001b[0;34m\u001b[0m\u001b[0m\n\u001b[0m\u001b[1;32m    322\u001b[0m             response['value'] = self._unwrap_value(\n\u001b[1;32m    323\u001b[0m                 response.get('value', None))\n",
      "\u001b[0;32m~/opt/anaconda3/envs/se3.7/lib/python3.7/site-packages/selenium/webdriver/remote/errorhandler.py\u001b[0m in \u001b[0;36mcheck_response\u001b[0;34m(self, response)\u001b[0m\n\u001b[1;32m    240\u001b[0m                 \u001b[0malert_text\u001b[0m \u001b[0;34m=\u001b[0m \u001b[0mvalue\u001b[0m\u001b[0;34m[\u001b[0m\u001b[0;34m'alert'\u001b[0m\u001b[0;34m]\u001b[0m\u001b[0;34m.\u001b[0m\u001b[0mget\u001b[0m\u001b[0;34m(\u001b[0m\u001b[0;34m'text'\u001b[0m\u001b[0;34m)\u001b[0m\u001b[0;34m\u001b[0m\u001b[0;34m\u001b[0m\u001b[0m\n\u001b[1;32m    241\u001b[0m             \u001b[0;32mraise\u001b[0m \u001b[0mexception_class\u001b[0m\u001b[0;34m(\u001b[0m\u001b[0mmessage\u001b[0m\u001b[0;34m,\u001b[0m \u001b[0mscreen\u001b[0m\u001b[0;34m,\u001b[0m \u001b[0mstacktrace\u001b[0m\u001b[0;34m,\u001b[0m \u001b[0malert_text\u001b[0m\u001b[0;34m)\u001b[0m\u001b[0;34m\u001b[0m\u001b[0;34m\u001b[0m\u001b[0m\n\u001b[0;32m--> 242\u001b[0;31m         \u001b[0;32mraise\u001b[0m \u001b[0mexception_class\u001b[0m\u001b[0;34m(\u001b[0m\u001b[0mmessage\u001b[0m\u001b[0;34m,\u001b[0m \u001b[0mscreen\u001b[0m\u001b[0;34m,\u001b[0m \u001b[0mstacktrace\u001b[0m\u001b[0;34m)\u001b[0m\u001b[0;34m\u001b[0m\u001b[0;34m\u001b[0m\u001b[0m\n\u001b[0m\u001b[1;32m    243\u001b[0m \u001b[0;34m\u001b[0m\u001b[0m\n\u001b[1;32m    244\u001b[0m     \u001b[0;32mdef\u001b[0m \u001b[0m_value_or_default\u001b[0m\u001b[0;34m(\u001b[0m\u001b[0mself\u001b[0m\u001b[0;34m,\u001b[0m \u001b[0mobj\u001b[0m\u001b[0;34m,\u001b[0m \u001b[0mkey\u001b[0m\u001b[0;34m,\u001b[0m \u001b[0mdefault\u001b[0m\u001b[0;34m)\u001b[0m\u001b[0;34m:\u001b[0m\u001b[0;34m\u001b[0m\u001b[0;34m\u001b[0m\u001b[0m\n",
      "\u001b[0;31mSessionNotCreatedException\u001b[0m: Message: session not created: This version of ChromeDriver only supports Chrome version 92\nCurrent browser version is 94.0.4606.61 with binary path /Applications/Google Chrome.app/Contents/MacOS/Google Chrome\n"
     ]
    }
   ],
   "source": [
    "# 새 컨트롤 가능한 새창 업로드\n",
    "# Chrome\n",
    "driver = webdriver.Chrome()\n",
    "\n",
    "url = 'https://www.coupang.com/vp/products/6091199349?itemId=11356856617&vendorItemId=78633224726&q=Apple+%EC%95%84%EC%9D%B4%ED%8F%B0+13+Pro+%EC%9E%90%EA%B8%89%EC%A0%9C&itemsCount=36&searchId=37af33168e254212b3f67801e69884fb&rank=2&isAddedCart='\n",
    "\n",
    "wait = WebDriverWait(driver, timeout=10)\n",
    "driver.get(url)"
   ]
  },
  {
   "cell_type": "code",
   "execution_count": 4,
   "metadata": {},
   "outputs": [
    {
     "name": "stdout",
     "output_type": "stream",
     "text": [
      "Updating Homebrew...\n",
      "\u001b[34m==>\u001b[0m \u001b[1mAuto-updated Homebrew!\u001b[0m\n",
      "Updated 2 taps (homebrew/core and homebrew/cask).\n",
      "\u001b[34m==>\u001b[0m \u001b[1mNew Formulae\u001b[0m\n",
      "cyral-gimme-db-token                     git-credential-libsecret\n",
      "\u001b[34m==>\u001b[0m \u001b[1mUpdated Formulae\u001b[0m\n",
      "Updated 222 formulae.\n",
      "\u001b[34m==>\u001b[0m \u001b[1mNew Casks\u001b[0m\n",
      "jupyterlab                               remarkable\n",
      "rancher                                  thetimemachinemechanic\n",
      "\u001b[34m==>\u001b[0m \u001b[1mUpdated Casks\u001b[0m\n",
      "Updated 151 casks.\n",
      "\u001b[34m==>\u001b[0m \u001b[1mDeleted Casks\u001b[0m\n",
      "google-backup-and-sync                   google-photos-backup-and-sync\n",
      "\n",
      "\u001b[33mWarning:\u001b[0m Cask 'chromedriver' is already installed.\n",
      "\n",
      "To re-install chromedriver, run:\n",
      "  \u001b[32mbrew reinstall chromedriver\u001b[39m\n"
     ]
    }
   ],
   "source": [
    "!brew install chromedriver"
   ]
  },
  {
   "cell_type": "markdown",
   "metadata": {},
   "source": [
    "로그인 한 뒤로는 위에꺼 건들 ㄴ ㄴ "
   ]
  },
  {
   "cell_type": "code",
   "execution_count": 7,
   "metadata": {
    "scrolled": true
   },
   "outputs": [
    {
     "name": "stdout",
     "output_type": "stream",
     "text": [
      "예약날짜:  2021-10-08\n",
      "예약시간:  19:00~21:00\n",
      "코드 구동 시작 시간 :\n",
      "\t 2021-09-24 00:00:00.900000\n"
     ]
    }
   ],
   "source": [
    "# 11시 59분에 구동\n",
    "\n",
    "##############\n",
    "# 예약 원하는 날짜\n",
    "# Defaults to 다음 날 기준 2주 전에 예약\n",
    "\n",
    "now = datetime.now()\n",
    "now -= timedelta(minutes=now.minute, hours=now.hour, seconds=now.second, microseconds=now.microsecond)\n",
    "reserv_day = now + timedelta(days = 1)  # defaults to 1\n",
    "target_day = now + timedelta(days = 15) # defaults to 15\n",
    "target_date = target_day.strftime('%Y-%m-%d')\n",
    "start_point = reserv_day+timedelta(microseconds=900000)\n",
    "#date for practicing\n",
    "#start_point = reserv_day+timedelta(microseconds=500000)\n",
    "\n",
    "##############\n",
    "# 예약 원하는 시간\n",
    "target_time = '19:00~21:00'       # 주중이면\n",
    "if target_day.weekday() in [5,6]: # 주말이면\n",
    "    target_time = '09:00~11:00'   \n",
    "    \n",
    "\n",
    "print('예약날짜: ',target_date)\n",
    "print('예약시간: ',target_time)\n",
    "print('코드 구동 시작 시간 :\\n\\t', start_point)"
   ]
  },
  {
   "cell_type": "code",
   "execution_count": 8,
   "metadata": {},
   "outputs": [],
   "source": [
    "# MUST CHECK \n",
    "# (자동 버전)\n",
    "# 주말 예약시, 시간대는 '09:00~11:00' \n",
    "# 주중 예약시, 시간대는 '19:00~21:00'\n",
    "\n",
    "# (수동 버전)\n",
    "#target_time = '19:00~21:00' #목,금요일\n",
    "#target_time = '09:00~11:00' #토,일요일\n",
    "\n",
    "# 시간선택\n",
    "\n",
    "#target_time = '07:00~09:00'\n",
    "#target_time = '09:00~11:00'\n",
    "#target_time = '13:00~15:00'\n",
    "#target_time = '16:00~18:00'\n",
    "#target_time = '19:00~21:00'"
   ]
  },
  {
   "cell_type": "code",
   "execution_count": 9,
   "metadata": {},
   "outputs": [],
   "source": [
    "url = 'https://www.changwon.go.kr/reservation/request/list.do?searchFcltyCd=oas&mId=0344010201'\n",
    "\n",
    "wait = WebDriverWait(driver, timeout=10)\n",
    "driver.get(url)"
   ]
  },
  {
   "cell_type": "code",
   "execution_count": 12,
   "metadata": {},
   "outputs": [
    {
     "name": "stderr",
     "output_type": "stream",
     "text": [
      "/Users/gangtaro/opt/anaconda3/envs/se3.7/lib/python3.7/site-packages/ipykernel_launcher.py:34: DeprecationWarning: use driver.switch_to.window instead\n",
      "/Users/gangtaro/opt/anaconda3/envs/se3.7/lib/python3.7/site-packages/ipykernel_launcher.py:45: DeprecationWarning: use driver.switch_to.window instead\n"
     ]
    },
    {
     "name": "stdout",
     "output_type": "stream",
     "text": [
      "자동기입방지문구 : mr8f5\n"
     ]
    }
   ],
   "source": [
    "# 예약날 12시 땡 되면 코드 구동 시작 \n",
    "# 넉넉하게 11시 59분에 코드 구동\n",
    "pause.until(start_point)\n",
    "driver.refresh() # 새로고침\n",
    "\n",
    "# 3월 28일 같은 경우에는 3월에 더이상 표시할 예약칸이 없다. 이 경우에는 바로 4월 칸으로 넘어가나? 이걸 보고 움직여야 한다.\n",
    "# 일단은, 14일 뒤가 다음달인 경우 페이지를 넘기는 작업을 해야한다\n",
    "#if target_day.month > (now+timedelta(days=3)).month : \n",
    "#    next_month = driver.find_element_by_css_selector('#calendar_next')\n",
    "#    next_month.click()\n",
    "\n",
    "# 무조건 현재의 월을 표시한다.\n",
    "# 예약하려는 날이 다음달이면 무조건 페이지를 넘겨야한다.\n",
    "if target_day.month > now.month : \n",
    "    next_month = driver.find_element_by_css_selector('#calendar_next')\n",
    "    next_month.click()\n",
    "\n",
    "# 날짜 및 시간 선택\n",
    "driver.find_element_by_xpath(\"//*[contains(@onclick, '{}') and contains(@onclick, '{}')]\".format(target_date, target_time)).send_keys('\\n')\n",
    "\n",
    "driver.find_element_by_css_selector('#write > div.theme-radio.pb20 > label').click()\n",
    "driver.find_element_by_css_selector('#write > div.txt-center.pt30.pb50 > button.btn.point').click()\n",
    "driver.find_element_by_css_selector('#groupNm').send_keys('MUTO')\n",
    "driver.find_element_by_css_selector('#phone').send_keys('010-3678-3547')\n",
    "driver.find_element_by_css_selector('#etc').send_keys('축구 경기 및 훈련')\n",
    "driver.find_element_by_css_selector('#cnt1').send_keys('12')\n",
    "driver.find_element_by_css_selector('#cnt2').send_keys('0')\n",
    "driver.find_element_by_css_selector('#cnt3').send_keys('12')\n",
    "driver.find_element_by_css_selector('#agree').click()\n",
    "driver.find_element_by_css_selector('#agree2').click()\n",
    "\n",
    "# 우편번호\n",
    "driver.find_element_by_css_selector('#writeForm > table > tbody > tr:nth-child(8) > td > fieldset > button').click()\n",
    "driver.switch_to_window(driver.window_handles[1])  \n",
    "#driver.get_window_position(driver.window_handles[1])\n",
    "\n",
    "driver.find_element_by_css_selector('#keyword').send_keys('창이대로707번길 7-9')\n",
    "driver.find_element_by_css_selector('#addrSearch').click()\n",
    "\n",
    "pause.seconds(0.3)\n",
    "driver.find_element_by_css_selector('#addrInfo > table > tbody > tr > td:nth-child(2) > a').click()\n",
    "driver.find_element_by_css_selector('#detailAddr').send_keys('203호')\n",
    "driver.find_element_by_css_selector('#insertForm > div > a').click()\n",
    "\n",
    "driver.switch_to_window(driver.window_handles[0])  \n",
    "#driver.get_window_position(driver.window_handles[0])\n",
    "\n",
    "### 자동기입방지 문자 입력하기\n",
    "STRS = input('자동기입방지문구 : ')\n",
    "captchaStr = driver.find_element_by_css_selector('#captchaStr')\n",
    "captchaStr.send_keys(STRS)\n",
    "\n",
    "### 마지막 신청하기\n",
    "driver.find_element_by_css_selector('#conts > div.txt-center.pt30.pb50 > a.btn.point').click()\n",
    "\n",
    "### 확인버튼 누르기\n",
    "driver.switch_to.alert.accept()"
   ]
  },
  {
   "cell_type": "code",
   "execution_count": 6,
   "metadata": {},
   "outputs": [
    {
     "name": "stdout",
     "output_type": "stream",
     "text": [
      "- 예약 장소: 올림픽구장\n",
      "- 예약 날짜: 2021-05-20 목요일\n",
      "- 예약 시간: 19:00~21:00\n",
      "> 예약 완료되었습니다.<3\n"
     ]
    }
   ],
   "source": [
    "WKD = {0:'월', 1:'화', 2:'수', 3:'목', 4:'금', 5:'토', 6:'일'}\n",
    "\n",
    "print('- 예약 장소: 올림픽구장\\n- 예약 날짜:', target_date, WKD.get(target_day.weekday())+'요일')\n",
    "print('- 예약 시간:', target_time)\n",
    "print('> 예약 완료되었습니다.<3')"
   ]
  },
  {
   "cell_type": "code",
   "execution_count": null,
   "metadata": {},
   "outputs": [],
   "source": []
  }
 ],
 "metadata": {
  "kernelspec": {
   "display_name": "se3.7.10",
   "language": "python",
   "name": "se3.7"
  },
  "language_info": {
   "codemirror_mode": {
    "name": "ipython",
    "version": 3
   },
   "file_extension": ".py",
   "mimetype": "text/x-python",
   "name": "python",
   "nbconvert_exporter": "python",
   "pygments_lexer": "ipython3",
   "version": "3.7.10"
  },
  "toc": {
   "base_numbering": 1,
   "nav_menu": {},
   "number_sections": true,
   "sideBar": true,
   "skip_h1_title": false,
   "title_cell": "Table of Contents",
   "title_sidebar": "Contents",
   "toc_cell": false,
   "toc_position": {},
   "toc_section_display": true,
   "toc_window_display": false
  }
 },
 "nbformat": 4,
 "nbformat_minor": 4
}
