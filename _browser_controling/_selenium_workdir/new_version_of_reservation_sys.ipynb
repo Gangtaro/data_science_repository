{
 "cells": [
  {
   "cell_type": "code",
   "execution_count": 5,
   "metadata": {},
   "outputs": [],
   "source": [
    "# chromedriver 버전이 안맞으면\n",
    "# 1. chrome://settings/help 에서 버전확인\n",
    "# 2. https://chromedriver.chromium.org/downloads 에서 호환되는 버전 다운로드\n",
    "# 3. /usr/local/bin 경로로 파일 이동 (chromedriver)\n",
    "# 4. 실행하면 된다.\n",
    "# 추가) 시스템 환경설정 > 보안 및 개인정보 보호 > 일반 > 허용 \n",
    "\n",
    "\n",
    "########\n",
    "# Xpath 소싱에 대한 참고 자료 : https://m.blog.naver.com/PostView.naver?isHttpsRedirect=true&blogId=lyshyn&logNo=221069898941\n",
    "# "
   ]
  },
  {
   "cell_type": "code",
   "execution_count": 6,
   "metadata": {},
   "outputs": [],
   "source": [
    "import time\n",
    "import pause\n",
    "from selenium import webdriver\n",
    "from selenium.webdriver.common.keys import Keys\n",
    "from selenium.webdriver.support.ui import WebDriverWait\n",
    "from selenium.webdriver.common.action_chains import ActionChains\n",
    "from math import floor\n",
    "from datetime import datetime, timedelta"
   ]
  },
  {
   "cell_type": "code",
   "execution_count": 7,
   "metadata": {
    "scrolled": true
   },
   "outputs": [
    {
     "name": "stdout",
     "output_type": "stream",
     "text": [
      "/Users/gangtaro/miniconda3/envs/controlWeb/bin/python\n"
     ]
    }
   ],
   "source": [
    "from sys import executable\n",
    "print(executable)"
   ]
  },
  {
   "cell_type": "code",
   "execution_count": 8,
   "metadata": {},
   "outputs": [],
   "source": [
    "# 새 컨트롤 가능한 새창 업로드\n",
    "# Chrome\n",
    "driver = webdriver.Chrome()\n",
    "\n",
    "url = 'https://www.changwon.go.kr/booking/main.web'\n",
    "\n",
    "wait = WebDriverWait(driver, timeout=10)\n",
    "driver.get(url)"
   ]
  },
  {
   "cell_type": "markdown",
   "metadata": {},
   "source": [
    "로그인 한 뒤로는 위에꺼 건들 ㄴ ㄴ "
   ]
  },
  {
   "cell_type": "code",
   "execution_count": 10,
   "metadata": {},
   "outputs": [
    {
     "name": "stdout",
     "output_type": "stream",
     "text": [
      "예약날짜:  2022-02-04\n",
      "예약시간:  19:00~21:00\n",
      "코드 구동 시작 시간 :\n",
      "\t 2022-01-22 00:00:00.900000\n"
     ]
    }
   ],
   "source": [
    "# 실험\n",
    "now = datetime.now()\n",
    "now -= timedelta(minutes=now.minute, hours=now.hour, seconds=now.second, microseconds=now.microsecond)\n",
    "reserv_day = now #- timedelta(days = 3)  # defaults to 1\n",
    "target_day = now + timedelta(days = 13) # defaults to 15\n",
    "target_date = target_day.strftime('%Y-%m-%d')\n",
    "start_point = reserv_day+timedelta(microseconds=900000)\n",
    "#date for practicing\n",
    "#start_point = reserv_day+timedelta(microseconds=500000)\n",
    "\n",
    "##############\n",
    "# 예약 원하는 시간\n",
    "target_time = '19:00~21:00'       # 주중이면\n",
    "if target_day.weekday() in [5,6]: # 주말이면\n",
    "    target_time = '09:00~11:00'   \n",
    "    \n",
    "\n",
    "print('예약날짜: ',target_date)\n",
    "print('예약시간: ',target_time)\n",
    "print('코드 구동 시작 시간 :\\n\\t', start_point)"
   ]
  },
  {
   "cell_type": "code",
   "execution_count": 11,
   "metadata": {},
   "outputs": [
    {
     "name": "stdout",
     "output_type": "stream",
     "text": [
      "예약날짜:  2022-02-05\n",
      "예약시간:  09:00~11:00\n"
     ]
    },
    {
     "data": {
      "text/plain": [
       "(1, 7, 2)"
      ]
     },
     "execution_count": 11,
     "metadata": {},
     "output_type": "execute_result"
    }
   ],
   "source": [
    "# 금요일 -> 금요일 예약\n",
    "now = datetime.now()\n",
    "now -= timedelta(minutes=now.minute, hours=now.hour, seconds=now.second, microseconds=now.microsecond)\n",
    "\n",
    "target_day = now + timedelta(days = 14)\n",
    "target_date = target_day.strftime('%Y-%m-%d')\n",
    "\n",
    "##############\n",
    "# 예약 원하는 시간\n",
    "target_time = '19:00~21:00'       # 주중이면\n",
    "if target_day.weekday() in [5,6]: # 주말이면\n",
    "    target_time = '09:00~11:00'   \n",
    "\n",
    "target_time_dict = {'07:00~09:00' : 1, '09:00~11:00' : 2, '13:00~15:00' : 3, '16:00~18:00' : 4, '19:00~21:00' : 5}\n",
    "play_time = target_time_dict[target_time]\n",
    "\n",
    "print('예약날짜: ',target_date)\n",
    "print('예약시간: ',target_time)\n",
    "#print('코드 구동 시작 시간 :\\n\\t', start_point)\n",
    "\n",
    "day_th = target_day.weekday() + 2 # 일요일인 경우 1\n",
    "weekth = target_day.day // 7  + 1\n",
    "\n",
    "weekth, day_th, play_time"
   ]
  },
  {
   "cell_type": "code",
   "execution_count": 16,
   "metadata": {},
   "outputs": [],
   "source": [
    "url = 'https://www.changwon.go.kr/booking/10032/10082/10088.web?amode=view&expId=EX000030&fcd=T095'\n",
    "wait = WebDriverWait(driver, timeout=10)\n",
    "driver.get(url)\n",
    "\n",
    "\n",
    "driver.find_element_by_css_selector('#body_content > div > div.cp31edu1view1 > div > div.w1c2 > div > div.infomenu1 > a').click()\n",
    "pause.seconds(1)\n",
    "if target_day.month > now.month : \n",
    "    next_month = driver.find_element_by_css_selector('#exp-calendar-month > a.b1.next')\n",
    "    next_month.click()"
   ]
  },
  {
   "cell_type": "code",
   "execution_count": 13,
   "metadata": {},
   "outputs": [],
   "source": [
    "driver.find_element_by_css_selector('#exp-calendar-reload').click()"
   ]
  },
  {
   "cell_type": "code",
   "execution_count": 19,
   "metadata": {},
   "outputs": [
    {
     "ename": "NoSuchElementException",
     "evalue": "Message: no such element: Unable to locate element: {\"method\":\"xpath\",\"selector\":\"//*[@id=\"excursions-calendar\"]/div/table/tbody/tr[4]/td/div[2]/table/tbody/tr[5]/td[4]/a\"}\n  (Session info: chrome=97.0.4692.71)\n",
     "output_type": "error",
     "traceback": [
      "\u001b[0;31m---------------------------------------------------------------------------\u001b[0m",
      "\u001b[0;31mNoSuchElementException\u001b[0m                    Traceback (most recent call last)",
      "\u001b[0;32m<ipython-input-19-0613b8e78edb>\u001b[0m in \u001b[0;36m<module>\u001b[0;34m\u001b[0m\n\u001b[1;32m      7\u001b[0m \u001b[0mselect_time\u001b[0m \u001b[0;34m=\u001b[0m \u001b[0;34m'//*[@id=\"excursions-calendar\"]/div/table/tbody/tr[4]/td/div[2]/table/tbody/tr[{}]/td[4]/a'\u001b[0m\u001b[0;34m.\u001b[0m\u001b[0mformat\u001b[0m\u001b[0;34m(\u001b[0m\u001b[0mplay_time\u001b[0m\u001b[0;34m)\u001b[0m\u001b[0;34m\u001b[0m\u001b[0;34m\u001b[0m\u001b[0m\n\u001b[1;32m      8\u001b[0m \u001b[0;31m#select_time = '//*[@id=\"excursions-calendar\"]/div/table/tbody/tr[4]/td/div[2]/table/tbody/tr[2]/td[4]/a'\u001b[0m\u001b[0;34m\u001b[0m\u001b[0;34m\u001b[0m\u001b[0;34m\u001b[0m\u001b[0m\n\u001b[0;32m----> 9\u001b[0;31m \u001b[0mselect_time_button\u001b[0m \u001b[0;34m=\u001b[0m \u001b[0mdriver\u001b[0m\u001b[0;34m.\u001b[0m\u001b[0mfind_element_by_xpath\u001b[0m\u001b[0;34m(\u001b[0m\u001b[0mselect_time\u001b[0m\u001b[0;34m)\u001b[0m\u001b[0;34m\u001b[0m\u001b[0;34m\u001b[0m\u001b[0m\n\u001b[0m\u001b[1;32m     10\u001b[0m \u001b[0mselect_time_button\u001b[0m\u001b[0;34m.\u001b[0m\u001b[0mclick\u001b[0m\u001b[0;34m(\u001b[0m\u001b[0;34m)\u001b[0m\u001b[0;34m\u001b[0m\u001b[0;34m\u001b[0m\u001b[0m\n\u001b[1;32m     11\u001b[0m \u001b[0;34m\u001b[0m\u001b[0m\n",
      "\u001b[0;32m~/opt/anaconda3/envs/se3.7/lib/python3.7/site-packages/selenium/webdriver/remote/webdriver.py\u001b[0m in \u001b[0;36mfind_element_by_xpath\u001b[0;34m(self, xpath)\u001b[0m\n\u001b[1;32m    392\u001b[0m             \u001b[0melement\u001b[0m \u001b[0;34m=\u001b[0m \u001b[0mdriver\u001b[0m\u001b[0;34m.\u001b[0m\u001b[0mfind_element_by_xpath\u001b[0m\u001b[0;34m(\u001b[0m\u001b[0;34m'//div/td[1]'\u001b[0m\u001b[0;34m)\u001b[0m\u001b[0;34m\u001b[0m\u001b[0;34m\u001b[0m\u001b[0m\n\u001b[1;32m    393\u001b[0m         \"\"\"\n\u001b[0;32m--> 394\u001b[0;31m         \u001b[0;32mreturn\u001b[0m \u001b[0mself\u001b[0m\u001b[0;34m.\u001b[0m\u001b[0mfind_element\u001b[0m\u001b[0;34m(\u001b[0m\u001b[0mby\u001b[0m\u001b[0;34m=\u001b[0m\u001b[0mBy\u001b[0m\u001b[0;34m.\u001b[0m\u001b[0mXPATH\u001b[0m\u001b[0;34m,\u001b[0m \u001b[0mvalue\u001b[0m\u001b[0;34m=\u001b[0m\u001b[0mxpath\u001b[0m\u001b[0;34m)\u001b[0m\u001b[0;34m\u001b[0m\u001b[0;34m\u001b[0m\u001b[0m\n\u001b[0m\u001b[1;32m    395\u001b[0m \u001b[0;34m\u001b[0m\u001b[0m\n\u001b[1;32m    396\u001b[0m     \u001b[0;32mdef\u001b[0m \u001b[0mfind_elements_by_xpath\u001b[0m\u001b[0;34m(\u001b[0m\u001b[0mself\u001b[0m\u001b[0;34m,\u001b[0m \u001b[0mxpath\u001b[0m\u001b[0;34m)\u001b[0m\u001b[0;34m:\u001b[0m\u001b[0;34m\u001b[0m\u001b[0;34m\u001b[0m\u001b[0m\n",
      "\u001b[0;32m~/opt/anaconda3/envs/se3.7/lib/python3.7/site-packages/selenium/webdriver/remote/webdriver.py\u001b[0m in \u001b[0;36mfind_element\u001b[0;34m(self, by, value)\u001b[0m\n\u001b[1;32m    976\u001b[0m         return self.execute(Command.FIND_ELEMENT, {\n\u001b[1;32m    977\u001b[0m             \u001b[0;34m'using'\u001b[0m\u001b[0;34m:\u001b[0m \u001b[0mby\u001b[0m\u001b[0;34m,\u001b[0m\u001b[0;34m\u001b[0m\u001b[0;34m\u001b[0m\u001b[0m\n\u001b[0;32m--> 978\u001b[0;31m             'value': value})['value']\n\u001b[0m\u001b[1;32m    979\u001b[0m \u001b[0;34m\u001b[0m\u001b[0m\n\u001b[1;32m    980\u001b[0m     \u001b[0;32mdef\u001b[0m \u001b[0mfind_elements\u001b[0m\u001b[0;34m(\u001b[0m\u001b[0mself\u001b[0m\u001b[0;34m,\u001b[0m \u001b[0mby\u001b[0m\u001b[0;34m=\u001b[0m\u001b[0mBy\u001b[0m\u001b[0;34m.\u001b[0m\u001b[0mID\u001b[0m\u001b[0;34m,\u001b[0m \u001b[0mvalue\u001b[0m\u001b[0;34m=\u001b[0m\u001b[0;32mNone\u001b[0m\u001b[0;34m)\u001b[0m\u001b[0;34m:\u001b[0m\u001b[0;34m\u001b[0m\u001b[0;34m\u001b[0m\u001b[0m\n",
      "\u001b[0;32m~/opt/anaconda3/envs/se3.7/lib/python3.7/site-packages/selenium/webdriver/remote/webdriver.py\u001b[0m in \u001b[0;36mexecute\u001b[0;34m(self, driver_command, params)\u001b[0m\n\u001b[1;32m    319\u001b[0m         \u001b[0mresponse\u001b[0m \u001b[0;34m=\u001b[0m \u001b[0mself\u001b[0m\u001b[0;34m.\u001b[0m\u001b[0mcommand_executor\u001b[0m\u001b[0;34m.\u001b[0m\u001b[0mexecute\u001b[0m\u001b[0;34m(\u001b[0m\u001b[0mdriver_command\u001b[0m\u001b[0;34m,\u001b[0m \u001b[0mparams\u001b[0m\u001b[0;34m)\u001b[0m\u001b[0;34m\u001b[0m\u001b[0;34m\u001b[0m\u001b[0m\n\u001b[1;32m    320\u001b[0m         \u001b[0;32mif\u001b[0m \u001b[0mresponse\u001b[0m\u001b[0;34m:\u001b[0m\u001b[0;34m\u001b[0m\u001b[0;34m\u001b[0m\u001b[0m\n\u001b[0;32m--> 321\u001b[0;31m             \u001b[0mself\u001b[0m\u001b[0;34m.\u001b[0m\u001b[0merror_handler\u001b[0m\u001b[0;34m.\u001b[0m\u001b[0mcheck_response\u001b[0m\u001b[0;34m(\u001b[0m\u001b[0mresponse\u001b[0m\u001b[0;34m)\u001b[0m\u001b[0;34m\u001b[0m\u001b[0;34m\u001b[0m\u001b[0m\n\u001b[0m\u001b[1;32m    322\u001b[0m             response['value'] = self._unwrap_value(\n\u001b[1;32m    323\u001b[0m                 response.get('value', None))\n",
      "\u001b[0;32m~/opt/anaconda3/envs/se3.7/lib/python3.7/site-packages/selenium/webdriver/remote/errorhandler.py\u001b[0m in \u001b[0;36mcheck_response\u001b[0;34m(self, response)\u001b[0m\n\u001b[1;32m    240\u001b[0m                 \u001b[0malert_text\u001b[0m \u001b[0;34m=\u001b[0m \u001b[0mvalue\u001b[0m\u001b[0;34m[\u001b[0m\u001b[0;34m'alert'\u001b[0m\u001b[0;34m]\u001b[0m\u001b[0;34m.\u001b[0m\u001b[0mget\u001b[0m\u001b[0;34m(\u001b[0m\u001b[0;34m'text'\u001b[0m\u001b[0;34m)\u001b[0m\u001b[0;34m\u001b[0m\u001b[0;34m\u001b[0m\u001b[0m\n\u001b[1;32m    241\u001b[0m             \u001b[0;32mraise\u001b[0m \u001b[0mexception_class\u001b[0m\u001b[0;34m(\u001b[0m\u001b[0mmessage\u001b[0m\u001b[0;34m,\u001b[0m \u001b[0mscreen\u001b[0m\u001b[0;34m,\u001b[0m \u001b[0mstacktrace\u001b[0m\u001b[0;34m,\u001b[0m \u001b[0malert_text\u001b[0m\u001b[0;34m)\u001b[0m\u001b[0;34m\u001b[0m\u001b[0;34m\u001b[0m\u001b[0m\n\u001b[0;32m--> 242\u001b[0;31m         \u001b[0;32mraise\u001b[0m \u001b[0mexception_class\u001b[0m\u001b[0;34m(\u001b[0m\u001b[0mmessage\u001b[0m\u001b[0;34m,\u001b[0m \u001b[0mscreen\u001b[0m\u001b[0;34m,\u001b[0m \u001b[0mstacktrace\u001b[0m\u001b[0;34m)\u001b[0m\u001b[0;34m\u001b[0m\u001b[0;34m\u001b[0m\u001b[0m\n\u001b[0m\u001b[1;32m    243\u001b[0m \u001b[0;34m\u001b[0m\u001b[0m\n\u001b[1;32m    244\u001b[0m     \u001b[0;32mdef\u001b[0m \u001b[0m_value_or_default\u001b[0m\u001b[0;34m(\u001b[0m\u001b[0mself\u001b[0m\u001b[0;34m,\u001b[0m \u001b[0mobj\u001b[0m\u001b[0;34m,\u001b[0m \u001b[0mkey\u001b[0m\u001b[0;34m,\u001b[0m \u001b[0mdefault\u001b[0m\u001b[0;34m)\u001b[0m\u001b[0;34m:\u001b[0m\u001b[0;34m\u001b[0m\u001b[0;34m\u001b[0m\u001b[0m\n",
      "\u001b[0;31mNoSuchElementException\u001b[0m: Message: no such element: Unable to locate element: {\"method\":\"xpath\",\"selector\":\"//*[@id=\"excursions-calendar\"]/div/table/tbody/tr[4]/td/div[2]/table/tbody/tr[5]/td[4]/a\"}\n  (Session info: chrome=97.0.4692.71)\n"
     ]
    }
   ],
   "source": [
    "#pause.seconds(0.3)\n",
    "excursions_calendar = '#excursions-calendar > div > table > tbody > tr:nth-child({}) > td:nth-child({}) > div > div.btns > a'.format(weekth, day_th)\n",
    "reserv_button = driver.find_element_by_css_selector(excursions_calendar)\n",
    "reserv_button.click()\n",
    "\n",
    "pause.seconds(0.3)\n",
    "select_time = '//*[@id=\"excursions-calendar\"]/div/table/tbody/tr[4]/td/div[2]/table/tbody/tr[{}]/td[4]/a'.format(play_time)\n",
    "#select_time = '//*[@id=\"excursions-calendar\"]/div/table/tbody/tr[4]/td/div[2]/table/tbody/tr[2]/td[4]/a'\n",
    "select_time_button = driver.find_element_by_xpath(select_time)\n",
    "select_time_button.click()\n",
    "\n",
    "driver.find_element_by_css_selector('#frm1chk1').click()\n",
    "driver.find_element_by_css_selector('#frm1chk2').click()\n",
    "driver.find_element_by_css_selector('#body_content > div > form > div.infomenu1.btns1 > a.button.submit').click()\n",
    "\n",
    "driver.find_element_by_css_selector('#phone').send_keys('010-3678-3547') # 김영준 010-3093-7288\n",
    "driver.find_element_by_css_selector('#event').send_keys('축구 동호회 훈련 및 경기')\n",
    "driver.find_element_by_css_selector('#team').send_keys('MUTO')\n",
    "driver.find_element_by_css_selector('#numPerson').send_keys('1')\n",
    "\n",
    "# 우편번호\n",
    "driver.find_element_by_css_selector('#expApplicantVO > div.rspnsv > table > tbody > tr:nth-child(8) > td > a').click()\n",
    "\n",
    "driver.switch_to_window(driver.window_handles[1])  \n",
    "driver.find_element_by_css_selector('#keyword').send_keys('창이대로707번길 7-9')\n",
    "driver.find_element_by_css_selector('#search > fieldset > input[type=button]:nth-child(4)').click()\n",
    "driver.find_element_by_css_selector('#roadAddrDiv1 > a > b').click()\n",
    "driver.find_element_by_css_selector('#rtAddrDetail').send_keys(' 203호')\n",
    "driver.find_element_by_css_selector('#address_detail > div.btn_address > input[type=button]').click()\n",
    "driver.switch_to_window(driver.window_handles[0])\n",
    "\n",
    "STRS = input('자동기입방지문구 : ')\n",
    "captchaStr = driver.find_element_by_css_selector('#simple-captcha > input.captcha-answer')\n",
    "captchaStr.send_keys(STRS)\n",
    "\n",
    "\n",
    "#####\n",
    "driver.find_element_by_css_selector('#simple-captcha > input.captcha-btn-chk').click()\n",
    "driver.switch_to.alert.accept()\n",
    "\n",
    "driver.find_element_by_css_selector ('#expApplicantVO > div.infomenu1.btns1 > button').click()\n",
    "driver.switch_to.alert.accept()\n"
   ]
  },
  {
   "cell_type": "code",
   "execution_count": null,
   "metadata": {},
   "outputs": [],
   "source": [
    "######## 위에 에러시 지우고 이거 두개"
   ]
  },
  {
   "cell_type": "code",
   "execution_count": 20,
   "metadata": {},
   "outputs": [
    {
     "name": "stderr",
     "output_type": "stream",
     "text": [
      "/Users/gangtaro/opt/anaconda3/envs/se3.7/lib/python3.7/site-packages/ipykernel_launcher.py:13: DeprecationWarning: use driver.switch_to.window instead\n",
      "  del sys.path[0]\n",
      "/Users/gangtaro/opt/anaconda3/envs/se3.7/lib/python3.7/site-packages/ipykernel_launcher.py:19: DeprecationWarning: use driver.switch_to.window instead\n"
     ]
    },
    {
     "name": "stdout",
     "output_type": "stream",
     "text": [
      "자동기입방지문구 : 625082\n"
     ]
    }
   ],
   "source": [
    "driver.find_element_by_css_selector('#frm1chk1').click()\n",
    "driver.find_element_by_css_selector('#frm1chk2').click()\n",
    "driver.find_element_by_css_selector('#body_content > div > form > div.infomenu1.btns1 > a.button.submit').click()\n",
    "\n",
    "driver.find_element_by_css_selector('#phone').send_keys('010-3678-3547') # 김영준 010-3093-7288\n",
    "driver.find_element_by_css_selector('#event').send_keys('축구 동호회 훈련 및 경기')\n",
    "driver.find_element_by_css_selector('#team').send_keys('MUTO')\n",
    "driver.find_element_by_css_selector('#numPerson').send_keys('1')\n",
    "\n",
    "# 우편번호\n",
    "driver.find_element_by_css_selector('#expApplicantVO > div.rspnsv > table > tbody > tr:nth-child(8) > td > a').click()\n",
    "\n",
    "driver.switch_to_window(driver.window_handles[1])  \n",
    "driver.find_element_by_css_selector('#keyword').send_keys('창이대로707번길 7-9')\n",
    "driver.find_element_by_css_selector('#search > fieldset > input[type=button]:nth-child(4)').click()\n",
    "driver.find_element_by_css_selector('#roadAddrDiv1 > a > b').click()\n",
    "driver.find_element_by_css_selector('#rtAddrDetail').send_keys(' 203호')\n",
    "driver.find_element_by_css_selector('#address_detail > div.btn_address > input[type=button]').click()\n",
    "driver.switch_to_window(driver.window_handles[0])\n",
    "\n",
    "STRS = input('자동기입방지문구 : ')\n",
    "captchaStr = driver.find_element_by_css_selector('#simple-captcha > input.captcha-answer')\n",
    "captchaStr.send_keys(STRS)\n",
    "\n",
    "\n",
    "#####\n",
    "driver.find_element_by_css_selector('#simple-captcha > input.captcha-btn-chk').click()\n",
    "driver.switch_to.alert.accept()\n",
    "\n",
    "driver.find_element_by_css_selector ('#expApplicantVO > div.infomenu1.btns1 > button').click()\n",
    "driver.switch_to.alert.accept()\n"
   ]
  },
  {
   "cell_type": "code",
   "execution_count": 194,
   "metadata": {},
   "outputs": [],
   "source": [
    "driver.find_element_by_css_selector('#simple-captcha > input.captcha-btn-chk').click()\n",
    "driver.switch_to.alert.accept()"
   ]
  },
  {
   "cell_type": "code",
   "execution_count": 197,
   "metadata": {
    "scrolled": true
   },
   "outputs": [
    {
     "name": "stderr",
     "output_type": "stream",
     "text": [
      "/Users/gangtaro/opt/anaconda3/envs/se3.7/lib/python3.7/site-packages/ipykernel_launcher.py:1: DeprecationWarning: use driver.switch_to.window instead\n",
      "  \"\"\"Entry point for launching an IPython kernel.\n"
     ]
    }
   ],
   "source": [
    "driver.find_element_by_css_selector ('#expApplicantVO > div.infomenu1.btns1 > button').click()\n",
    "driver.switch_to.alert.accept()"
   ]
  }
 ],
 "metadata": {
  "kernelspec": {
   "display_name": "controlWeb",
   "language": "python",
   "name": "controlweb"
  },
  "language_info": {
   "codemirror_mode": {
    "name": "ipython",
    "version": 3
   },
   "file_extension": ".py",
   "mimetype": "text/x-python",
   "name": "python",
   "nbconvert_exporter": "python",
   "pygments_lexer": "ipython3",
   "version": "3.8.0"
  },
  "toc": {
   "base_numbering": 1,
   "nav_menu": {},
   "number_sections": true,
   "sideBar": true,
   "skip_h1_title": false,
   "title_cell": "Table of Contents",
   "title_sidebar": "Contents",
   "toc_cell": false,
   "toc_position": {},
   "toc_section_display": true,
   "toc_window_display": false
  }
 },
 "nbformat": 4,
 "nbformat_minor": 4
}
