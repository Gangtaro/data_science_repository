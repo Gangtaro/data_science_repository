{
 "cells": [
  {
   "cell_type": "code",
   "execution_count": 1,
   "metadata": {},
   "outputs": [],
   "source": [
    "import time\n",
    "import pause\n",
    "from selenium import webdriver\n",
    "from selenium.webdriver.common.keys import Keys\n",
    "from selenium.webdriver.support.ui import WebDriverWait\n",
    "from selenium.webdriver.common.action_chains import ActionChains\n",
    "from math import floor\n",
    "from datetime import datetime, timedelta"
   ]
  },
  {
   "cell_type": "code",
   "execution_count": 2,
   "metadata": {},
   "outputs": [
    {
     "name": "stdout",
     "output_type": "stream",
     "text": [
      "coupon\n"
     ]
    }
   ],
   "source": [
    "# 새 컨트롤 가능한 새창 업로드\n",
    "# Chrome\n",
    "driver = webdriver.Chrome()\n",
    "\n",
    "url = 'https://nshop.plaync.com/shop/h2/kr/coupon/'\n",
    "\n",
    "wait = WebDriverWait(driver, timeout=10)\n",
    "driver.get(url)"
   ]
  },
  {
   "cell_type": "code",
   "execution_count": 9,
   "metadata": {},
   "outputs": [],
   "source": [
    "nicks = ['시크리트'\n",
    ",'한광이다'\n",
    ",'NC는말안드뤄'\n",
    ",'장전동아자르'\n",
    ",'퐁유주니'\n",
    ",'Stevenh'\n",
    ",'창원단디다이노스'\n",
    ",'nell95'\n",
    ",'do7021'\n",
    ",'민이Dinos'\n",
    ",'엔씨광팬권우겅'\n",
    ",'해태KlA'\n",
    ",'조민형'\n",
    ",'혜이니랑아빠랑'\n",
    ",'오비철순이'\n",
    ",'광산구우산동'\n",
    ",'o차뿌까o'\n",
    ",'JP모건체이스'\n",
    ",'가즈아러프'\n",
    ",'Reet'\n",
    ",'왕좌의히어로즈'\n",
    ",'kakao프렌즈'\n",
    ",'모여라꿈나무'\n",
    ",'두산베었써'\n",
    ",'약쟁이들s'\n",
    ",'준수니임']"
   ]
  },
  {
   "cell_type": "code",
   "execution_count": 26,
   "metadata": {},
   "outputs": [
    {
     "name": "stdout",
     "output_type": "stream",
     "text": [
      "쿠폰번호 입력하세요돌부처의300SV\n"
     ]
    }
   ],
   "source": [
    "coupon = input('쿠폰번호 입력하세요  :')"
   ]
  },
  {
   "cell_type": "code",
   "execution_count": 25,
   "metadata": {},
   "outputs": [],
   "source": [
    "for nick in nicks :\n",
    "    driver.find_element_by_css_selector('body > div > div > section > div > fieldset > a > span.selectBox-label').click()\n",
    "    driver.find_element_by_css_selector('body > ul > li:nth-child(2) > a').click()\n",
    "    driver.find_element_by_css_selector('#nickName').send_keys(nick)\n",
    "    driver.find_element_by_css_selector('#couponKey').send_keys(coupon)\n",
    "    driver.find_element_by_css_selector('#redeem').click()\n",
    "    ### 확인버튼 누르기\n",
    "    driver.switch_to.alert.accept()\n",
    "    driver.refresh() # 새로고침"
   ]
  }
 ],
 "metadata": {
  "kernelspec": {
   "display_name": "se3.7.10",
   "language": "python",
   "name": "se3.7"
  },
  "language_info": {
   "codemirror_mode": {
    "name": "ipython",
    "version": 3
   },
   "file_extension": ".py",
   "mimetype": "text/x-python",
   "name": "python",
   "nbconvert_exporter": "python",
   "pygments_lexer": "ipython3",
   "version": "3.7.10"
  },
  "toc": {
   "base_numbering": 1,
   "nav_menu": {},
   "number_sections": true,
   "sideBar": true,
   "skip_h1_title": false,
   "title_cell": "Table of Contents",
   "title_sidebar": "Contents",
   "toc_cell": false,
   "toc_position": {},
   "toc_section_display": true,
   "toc_window_display": false
  }
 },
 "nbformat": 4,
 "nbformat_minor": 4
}
