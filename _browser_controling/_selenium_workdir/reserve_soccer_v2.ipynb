{
 "cells": [
  {
   "cell_type": "code",
   "execution_count": 1,
   "metadata": {},
   "outputs": [],
   "source": [
    "import time\n",
    "import pause\n",
    "from selenium import webdriver\n",
    "from selenium.webdriver.common.keys import Keys\n",
    "from selenium.webdriver.support.ui import WebDriverWait\n",
    "from selenium.webdriver.common.action_chains import ActionChains\n",
    "from math import floor\n",
    "from datetime import datetime, timedelta"
   ]
  },
  {
   "cell_type": "code",
   "execution_count": 2,
   "metadata": {},
   "outputs": [],
   "source": [
    "# 새 컨트롤 가능한 새창 업로드\n",
    "# Chrome\n",
    "driver = webdriver.Chrome()\n",
    "\n",
    "url = 'https://www.changwon.go.kr/reservation/main.do'\n",
    "\n",
    "wait = WebDriverWait(driver, timeout=10)\n",
    "driver.get(url)"
   ]
  },
  {
   "cell_type": "markdown",
   "metadata": {},
   "source": [
    "로그인 한 뒤로는 위에꺼 건들 ㄴ ㄴ "
   ]
  },
  {
   "cell_type": "code",
   "execution_count": 3,
   "metadata": {
    "scrolled": true
   },
   "outputs": [
    {
     "name": "stdout",
     "output_type": "stream",
     "text": [
      "예약날짜:  2021-05-08\n",
      "예약시간:  09:00~11:00\n",
      "코드 구동 시작 시간 :\n",
      "\t 2021-04-24 00:00:00.500000\n"
     ]
    }
   ],
   "source": [
    "# 11시 59분에 구동\n",
    "\n",
    "##############\n",
    "# 예약 원하는 날짜\n",
    "# Defaults to 다음 날 기준 2주 전에 예약\n",
    "\n",
    "now = datetime.now()\n",
    "now -= timedelta(minutes=now.minute, hours=now.hour, seconds=now.second, microseconds=now.microsecond)\n",
    "reserv_day = now + timedelta(days = 1)  # defaults to 1\n",
    "target_day = now + timedelta(days = 15) # defaults to 15\n",
    "target_date = target_day.strftime('%Y-%m-%d')\n",
    "start_point = reserv_day+timedelta(microseconds=500000)\n",
    "#date for practicing\n",
    "#start_point = reserv_day+timedelta(microseconds=500000)\n",
    "\n",
    "##############\n",
    "# 예약 원하는 시간\n",
    "target_time = '19:00~21:00'       # 주중이면\n",
    "if target_day.weekday() in [5,6]: # 주말이면\n",
    "    target_time = '09:00~11:00'   \n",
    "    \n",
    "\n",
    "print('예약날짜: ',target_date)\n",
    "print('예약시간: ',target_time)\n",
    "print('코드 구동 시작 시간 :\\n\\t', start_point)"
   ]
  },
  {
   "cell_type": "code",
   "execution_count": 4,
   "metadata": {},
   "outputs": [],
   "source": [
    "# MUST CHECK \n",
    "# (자동 버전)\n",
    "# 주말 예약시, 시간대는 '09:00~11:00' \n",
    "# 주중 예약시, 시간대는 '19:00~21:00'\n",
    "\n",
    "# (수동 버전)\n",
    "#target_time = '19:00~21:00' #목,금요일\n",
    "#target_time = '09:00~11:00' #토,일요일\n",
    "\n",
    "# 시간선택\n",
    "\n",
    "#target_time = '07:00~09:00'\n",
    "#target_time = '09:00~11:00'\n",
    "#target_time = '13:00~15:00'\n",
    "#target_time = '16:00~18:00'\n",
    "#target_time = '19:00~21:00'"
   ]
  },
  {
   "cell_type": "code",
   "execution_count": 4,
   "metadata": {},
   "outputs": [],
   "source": [
    "url = 'https://www.changwon.go.kr/reservation/request/list.do?searchFcltyCd=oas&mId=0344010201'\n",
    "\n",
    "wait = WebDriverWait(driver, timeout=10)\n",
    "driver.get(url)"
   ]
  },
  {
   "cell_type": "code",
   "execution_count": 5,
   "metadata": {},
   "outputs": [
    {
     "name": "stderr",
     "output_type": "stream",
     "text": [
      "/Users/gangtaro/opt/anaconda3/envs/se3.7/lib/python3.7/site-packages/ipykernel_launcher.py:29: DeprecationWarning: use driver.switch_to.window instead\n",
      "/Users/gangtaro/opt/anaconda3/envs/se3.7/lib/python3.7/site-packages/ipykernel_launcher.py:40: DeprecationWarning: use driver.switch_to.window instead\n"
     ]
    },
    {
     "name": "stdout",
     "output_type": "stream",
     "text": [
      "자동기입방지문구 : xkkkf\n"
     ]
    }
   ],
   "source": [
    "# 예약날 12시 땡 되면 코드 구동 시작 \n",
    "# 넉넉하게 11시 59분에 코드 구동\n",
    "pause.until(start_point)\n",
    "driver.refresh() # 새로고침\n",
    "\n",
    "# 3월 28일 같은 경우에는 3월에 더이상 표시할 예약칸이 없다. 이 경우에는 바로 4월 칸으로 넘어가나? 이걸 보고 움직여야 한다.\n",
    "# 일단은, 14일 뒤가 다음달인 경우 페이지를 넘기는 작업을 해야한다\n",
    "if target_day.month > (now+timedelta(days=3)).month : \n",
    "    next_month = driver.find_element_by_css_selector('#calendar_next')\n",
    "    next_month.click()\n",
    "    \n",
    "\n",
    "# 날짜 및 시간 선택\n",
    "driver.find_element_by_xpath(\"//*[contains(@onclick, '{}') and contains(@onclick, '{}')]\".format(target_date, target_time)).send_keys('\\n')\n",
    "\n",
    "driver.find_element_by_css_selector('#write > div.theme-radio.pb20 > label').click()\n",
    "driver.find_element_by_css_selector('#write > div.txt-center.pt30.pb50 > button.btn.point').click()\n",
    "driver.find_element_by_css_selector('#groupNm').send_keys('MUTO')\n",
    "driver.find_element_by_css_selector('#phone').send_keys('010-3678-3547')\n",
    "driver.find_element_by_css_selector('#etc').send_keys('축구 경기 및 훈련')\n",
    "driver.find_element_by_css_selector('#cnt1').send_keys('12')\n",
    "driver.find_element_by_css_selector('#cnt2').send_keys('0')\n",
    "driver.find_element_by_css_selector('#cnt3').send_keys('12')\n",
    "driver.find_element_by_css_selector('#agree').click()\n",
    "driver.find_element_by_css_selector('#agree2').click()\n",
    "\n",
    "# 우편번호\n",
    "driver.find_element_by_css_selector('#writeForm > table > tbody > tr:nth-child(8) > td > fieldset > button').click()\n",
    "driver.switch_to_window(driver.window_handles[1])  \n",
    "#driver.get_window_position(driver.window_handles[1])\n",
    "\n",
    "driver.find_element_by_css_selector('#keyword').send_keys('창이대로707번길 7-9')\n",
    "driver.find_element_by_css_selector('#addrSearch').click()\n",
    "\n",
    "pause.seconds(0.3)\n",
    "driver.find_element_by_css_selector('#addrInfo > table > tbody > tr > td:nth-child(2) > a').click()\n",
    "driver.find_element_by_css_selector('#detailAddr').send_keys('203호')\n",
    "driver.find_element_by_css_selector('#insertForm > div > a').click()\n",
    "\n",
    "driver.switch_to_window(driver.window_handles[0])  \n",
    "#driver.get_window_position(driver.window_handles[0])\n",
    "\n",
    "### 자동기입방지 문자 입력하기\n",
    "STRS = input('자동기입방지문구 : ')\n",
    "captchaStr = driver.find_element_by_css_selector('#captchaStr')\n",
    "captchaStr.send_keys(STRS)\n",
    "\n",
    "### 마지막 신청하기\n",
    "driver.find_element_by_css_selector('#conts > div.txt-center.pt30.pb50 > a.btn.point').click()\n",
    "\n",
    "### 확인버튼 누르기\n",
    "driver.switch_to.alert.accept()"
   ]
  },
  {
   "cell_type": "code",
   "execution_count": 8,
   "metadata": {},
   "outputs": [
    {
     "name": "stdout",
     "output_type": "stream",
     "text": [
      "- 예약 장소: 올림픽구장\n",
      "- 예약 날짜: 2021-04-29 목요일\n",
      "- 예약 시간: 19:00~21:00\n",
      "> 예약 완료되었습니다.<3\n"
     ]
    }
   ],
   "source": [
    "WKD = {0:'월', 1:'화', 2:'수', 3:'목', 4:'금', 5:'토', 6:'일'}\n",
    "\n",
    "print('- 예약 장소: 올림픽구장\\n- 예약 날짜:', target_date, WKD.get(target_day.weekday())+'요일')\n",
    "print('- 예약 시간:', target_time)\n",
    "print('> 예약 완료되었습니다.<3')"
   ]
  },
  {
   "cell_type": "code",
   "execution_count": null,
   "metadata": {},
   "outputs": [],
   "source": []
  }
 ],
 "metadata": {
  "kernelspec": {
   "display_name": "se3.7.10",
   "language": "python",
   "name": "se3.7"
  },
  "language_info": {
   "codemirror_mode": {
    "name": "ipython",
    "version": 3
   },
   "file_extension": ".py",
   "mimetype": "text/x-python",
   "name": "python",
   "nbconvert_exporter": "python",
   "pygments_lexer": "ipython3",
   "version": "3.7.10"
  },
  "toc": {
   "base_numbering": 1,
   "nav_menu": {},
   "number_sections": true,
   "sideBar": true,
   "skip_h1_title": false,
   "title_cell": "Table of Contents",
   "title_sidebar": "Contents",
   "toc_cell": false,
   "toc_position": {},
   "toc_section_display": true,
   "toc_window_display": false
  }
 },
 "nbformat": 4,
 "nbformat_minor": 4
}
