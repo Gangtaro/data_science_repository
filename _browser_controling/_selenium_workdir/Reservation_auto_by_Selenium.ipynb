{
 "cells": [
  {
   "cell_type": "markdown",
   "metadata": {},
   "source": [
    "# Web page 자동화 매뉴얼 (on Mac) 공부\n",
    "\n",
    "# 창원시 축구장 예약 자동화 (자동 기입방지 때문에 반자동)\n",
    "\n",
    "## Chrome driver 설치\n",
    "```zsh\n",
    "brew install chromedriver\n",
    "```\n",
    "\n",
    "## Selenium 설치\n",
    "```zsh\n",
    "pip3 install selenium\n",
    "```"
   ]
  },
  {
   "cell_type": "code",
   "execution_count": 1,
   "metadata": {},
   "outputs": [
    {
     "name": "stdout",
     "output_type": "stream",
     "text": [
      "3.7.10 (default, Feb 26 2021, 10:16:00) \n",
      "[Clang 10.0.0 ]\n"
     ]
    }
   ],
   "source": [
    "import sys\n",
    "print(sys.version)"
   ]
  },
  {
   "cell_type": "code",
   "execution_count": 2,
   "metadata": {},
   "outputs": [],
   "source": [
    "import time\n",
    "from datetime import datetime\n",
    "from selenium import webdriver\n",
    "from selenium.webdriver.common.keys import Keys\n",
    "from selenium.webdriver.common.by import By\n",
    "from selenium.webdriver.support.ui import WebDriverWait\n",
    "from selenium.webdriver.support import expected_conditions as EC\n",
    "import pause"
   ]
  },
  {
   "cell_type": "markdown",
   "metadata": {},
   "source": [
    "## 운동장 자동 예약하기\n",
    "- ... 로그인은 어떻게 하지..?"
   ]
  },
  {
   "cell_type": "code",
   "execution_count": 3,
   "metadata": {},
   "outputs": [],
   "source": [
    "import time\n",
    "from selenium import webdriver\n",
    "from selenium.webdriver.common.keys import Keys\n",
    "\n",
    "# Chrome\n",
    "driver = webdriver.Chrome()\n",
    "\n",
    "# Firefox\n",
    "# driver = webdriver.Firefox()\n",
    "# Intenet explorer\n",
    "# driver = webdriver.Ie()"
   ]
  },
  {
   "cell_type": "markdown",
   "metadata": {},
   "source": [
    "### 경기 날짜 규칙 파악 및 달력 넘기기 알고리즘 생성\n",
    "- 마감 전 규칙\n",
    "```python\n",
    "# 3월 24일 4주차 수요일 3번째 #rev_calendar > li:nth-child(5) > div.days24 > div > a:nth-child(3)\n",
    "# 3월 26일 4주차 금요일 2번째 #rev_calendar > li:nth-child(5) > div.days26 > div > a\n",
    "# 3월 30일 5주차 화요일 2번째 #rev_calendar > li:nth-child(6) > div.days30 > div > a\n",
    "# 4월 02일 1주차 금요일 3번째 #rev_calendar > li:nth-child(2) > div.days02 > div > a:nth-child(3)\n",
    "```\n",
    "- 마감 후 규칙\n",
    "```python\n",
    "# 3월 27일 4주차 토요일 4번째 #rev_calendar > li:nth-child(5) > div.days27.Sat > div > span:nth-child(4)\n",
    "# 3월 26일 4주차 금요일 3번째 #rev_calendar > li:nth-child(5) > div.days26 > div > span:nth-child(4)\n",
    "# 3월 28일 5주차 일요일 5번째 #rev_calendar > li:nth-child(6) > div.days28.Sun > div > span:nth-child(5)\n",
    "# 4월 03일 1주차 토요일 1번째 #rev_calendar > li:nth-child(2) > div.days03.Sat > div > span:nth-child(1)\n",
    "```\n",
    "- **대표적인 공식**\n",
    "```python\n",
    "#rev_calendar > li:nth-child(?) > div.days??.Sat > div > a\n",
    "```\n",
    "\n",
    "- **정리**  \n",
    "우리가 목표로 하는 시간은 매주 토요일 2번째 시간!!!!\n",
    "    1. **오늘은 몇 주차 인가**  > 달력 상 n 주차라면  #rev_calendar > li:nth-child(n+1)\n",
    "    2. **토, 일요일은 기록된다** > ```#rev_calendar > li:nth-child(n+1) > div.days00.Sat >```\n",
    "    3. **2번째 타임을 노린다**  > ```#rev_calendar > li:nth-child(n+1) > div.days00.Sat > div > a```\n",
    "    - **달력 다음 페이지? 지금 페이지?**\n",
    "        - \n",
    "    "
   ]
  },
  {
   "cell_type": "code",
   "execution_count": 4,
   "metadata": {},
   "outputs": [],
   "source": [
    "from math import floor\n",
    "from datetime import datetime, timedelta\n",
    "\n",
    "# 지금 몇 주차인가? n 값\n",
    "\n",
    "def new_weekday(x) : \n",
    "    # Sun : 0 to Sat :6\n",
    "    newweekday = x.weekday() + 1\n",
    "    if newweekday == 7 :\n",
    "        newweekday = 0\n",
    "        \n",
    "    return newweekday\n",
    "\n",
    "def n_th_week(x) : \n",
    "    now = x\n",
    "    first_day_of_month = now - timedelta(now.day-1)\n",
    "    first_day_of_month.weekday() #0 -> 월요일 \n",
    "    re_weekday = new_weekday(first_day_of_month)\n",
    "\n",
    "    diff = re_weekday - 1\n",
    "    return floor((now.day + diff)/7)+1\n",
    "\n"
   ]
  },
  {
   "cell_type": "code",
   "execution_count": 5,
   "metadata": {},
   "outputs": [
    {
     "name": "stdout",
     "output_type": "stream",
     "text": [
      "#rev_calendar > li:nth-child(3) > div.days09.Sat > a:nth-child(2)\n"
     ]
    }
   ],
   "source": [
    "# 0. 토요일이 되는 순간 for loop 탈출하도록 만들기\n",
    "#while 1:\n",
    "#    #if saturday, BREAK, and start Below CODE\n",
    "#    if datetime.now().weekday() == 5 : break\n",
    "\n",
    "# 1. 오늘로 부터 14일 뒤를 예약해야한다.\n",
    "day_plus_14 = datetime.now() + timedelta(days = 14)\n",
    "\n",
    "# 2. 2주 뒤는 그 달의 몇 주차? => n\n",
    "n = n_th_week(day_plus_14)\n",
    "_nth_child = 'li:nth-child({})'.format(n+1)\n",
    "\n",
    "# 3. 오늘이 토요일이긴 한데, 몇 일? (무조건 토요일만 뽑을것이기 때문에 상관 무)\n",
    "_days00_Sat = 'div.days' + str(day_plus_14.day).zfill(2) + '.Sat'\n",
    "\n",
    "# 4. 두번째 타임 예약 문자열\n",
    "_2nd_time = 'a:nth-child(2)'\n",
    "\n",
    "# 모든 문자열\n",
    "_When_CSS = '#rev_calendar > {} > {} > {}'.format(_nth_child, _days00_Sat, _2nd_time)\n",
    "\n",
    "print(_When_CSS)"
   ]
  },
  {
   "cell_type": "markdown",
   "metadata": {},
   "source": [
    "- **달력 넘겨야해? 말아야해?**\n",
    "    - 달력에 표시되는 날은 현재날 +3 ~ +14일 \n",
    "    - 예약을 해야하는 날은 +14일"
   ]
  },
  {
   "cell_type": "markdown",
   "metadata": {},
   "source": [
    "# 예약 매뉴얼\n",
    "## 시작 - 필요한 모듈 임포트 및 함수 생성"
   ]
  },
  {
   "cell_type": "code",
   "execution_count": 15,
   "metadata": {},
   "outputs": [],
   "source": [
    "import time\n",
    "import pause\n",
    "from selenium import webdriver\n",
    "from selenium.webdriver.common.keys import Keys\n",
    "from selenium.webdriver.support.ui import WebDriverWait\n",
    "from math import floor\n",
    "from datetime import datetime, timedelta\n",
    "\n",
    "# 지금 몇 주차인가? n 값\n",
    "def new_weekday(x) : \n",
    "    # Sun : 0 to Sat :6\n",
    "    newweekday = x.weekday() + 1\n",
    "    if newweekday == 7 :\n",
    "        newweekday = 0\n",
    "        \n",
    "    return newweekday\n",
    "\n",
    "def n_th_week(x) : \n",
    "    now = x\n",
    "    first_day_of_month = now - timedelta(now.day-1)\n",
    "    first_day_of_month.weekday() #0 -> 월요일 \n",
    "    re_weekday = new_weekday(first_day_of_month)\n",
    "\n",
    "    diff = re_weekday - 1\n",
    "    return floor((now.day + diff)/7)+1\n",
    "\n",
    "\n",
    "# 새 컨트롤 가능한 새창 업로드\n",
    "# Chrome\n",
    "driver = webdriver.Chrome()\n",
    "\n",
    "# Firefox\n",
    "# driver = webdriver.Firefox()\n",
    "# Intenet explorer\n",
    "# driver = webdriver.Ie()\n",
    "\n"
   ]
  },
  {
   "cell_type": "code",
   "execution_count": 7,
   "metadata": {},
   "outputs": [],
   "source": [
    "url = 'https://www.changwon.go.kr/reservation/main.do'\n",
    "\n",
    "wait = WebDriverWait(driver, timeout=10)\n",
    "driver.get(url)"
   ]
  },
  {
   "cell_type": "markdown",
   "metadata": {},
   "source": [
    "## 로그인 후 다음 클릭\n",
    "**12시 되기 5초전에 다음 구동**"
   ]
  },
  {
   "cell_type": "code",
   "execution_count": 13,
   "metadata": {},
   "outputs": [
    {
     "name": "stdout",
     "output_type": "stream",
     "text": [
      "#rev_calendar > li:nth-child(3) > div.days10.Sat > a:nth-child(2)\n"
     ]
    },
    {
     "ename": "NoSuchElementException",
     "evalue": "Message: no such element: Unable to locate element: {\"method\":\"css selector\",\"selector\":\"#rev_calendar > li:nth-child(3) > div.days10.Sat > a:nth-child(2)\"}\n  (Session info: chrome=89.0.4389.90)\n",
     "output_type": "error",
     "traceback": [
      "\u001b[0;31m---------------------------------------------------------------------------\u001b[0m",
      "\u001b[0;31mNoSuchElementException\u001b[0m                    Traceback (most recent call last)",
      "\u001b[0;32m<ipython-input-13-2979b28a87e7>\u001b[0m in \u001b[0;36m<module>\u001b[0;34m\u001b[0m\n\u001b[1;32m     38\u001b[0m \u001b[0;31m##reserv.click()\u001b[0m\u001b[0;34m\u001b[0m\u001b[0;34m\u001b[0m\u001b[0;34m\u001b[0m\u001b[0m\n\u001b[1;32m     39\u001b[0m \u001b[0;34m\u001b[0m\u001b[0m\n\u001b[0;32m---> 40\u001b[0;31m \u001b[0mreserv\u001b[0m \u001b[0;34m=\u001b[0m \u001b[0mdriver\u001b[0m\u001b[0;34m.\u001b[0m\u001b[0mfind_element_by_css_selector\u001b[0m\u001b[0;34m(\u001b[0m\u001b[0m_When_CSS\u001b[0m\u001b[0;34m)\u001b[0m\u001b[0;34m\u001b[0m\u001b[0;34m\u001b[0m\u001b[0m\n\u001b[0m\u001b[1;32m     41\u001b[0m \u001b[0mreserv\u001b[0m\u001b[0;34m.\u001b[0m\u001b[0mclick\u001b[0m\u001b[0;34m(\u001b[0m\u001b[0;34m)\u001b[0m\u001b[0;34m\u001b[0m\u001b[0;34m\u001b[0m\u001b[0m\n\u001b[1;32m     42\u001b[0m \u001b[0;34m\u001b[0m\u001b[0m\n",
      "\u001b[0;32m~/opt/anaconda3/envs/se3.7/lib/python3.7/site-packages/selenium/webdriver/remote/webdriver.py\u001b[0m in \u001b[0;36mfind_element_by_css_selector\u001b[0;34m(self, css_selector)\u001b[0m\n\u001b[1;32m    596\u001b[0m             \u001b[0melement\u001b[0m \u001b[0;34m=\u001b[0m \u001b[0mdriver\u001b[0m\u001b[0;34m.\u001b[0m\u001b[0mfind_element_by_css_selector\u001b[0m\u001b[0;34m(\u001b[0m\u001b[0;34m'#foo'\u001b[0m\u001b[0;34m)\u001b[0m\u001b[0;34m\u001b[0m\u001b[0;34m\u001b[0m\u001b[0m\n\u001b[1;32m    597\u001b[0m         \"\"\"\n\u001b[0;32m--> 598\u001b[0;31m         \u001b[0;32mreturn\u001b[0m \u001b[0mself\u001b[0m\u001b[0;34m.\u001b[0m\u001b[0mfind_element\u001b[0m\u001b[0;34m(\u001b[0m\u001b[0mby\u001b[0m\u001b[0;34m=\u001b[0m\u001b[0mBy\u001b[0m\u001b[0;34m.\u001b[0m\u001b[0mCSS_SELECTOR\u001b[0m\u001b[0;34m,\u001b[0m \u001b[0mvalue\u001b[0m\u001b[0;34m=\u001b[0m\u001b[0mcss_selector\u001b[0m\u001b[0;34m)\u001b[0m\u001b[0;34m\u001b[0m\u001b[0;34m\u001b[0m\u001b[0m\n\u001b[0m\u001b[1;32m    599\u001b[0m \u001b[0;34m\u001b[0m\u001b[0m\n\u001b[1;32m    600\u001b[0m     \u001b[0;32mdef\u001b[0m \u001b[0mfind_elements_by_css_selector\u001b[0m\u001b[0;34m(\u001b[0m\u001b[0mself\u001b[0m\u001b[0;34m,\u001b[0m \u001b[0mcss_selector\u001b[0m\u001b[0;34m)\u001b[0m\u001b[0;34m:\u001b[0m\u001b[0;34m\u001b[0m\u001b[0;34m\u001b[0m\u001b[0m\n",
      "\u001b[0;32m~/opt/anaconda3/envs/se3.7/lib/python3.7/site-packages/selenium/webdriver/remote/webdriver.py\u001b[0m in \u001b[0;36mfind_element\u001b[0;34m(self, by, value)\u001b[0m\n\u001b[1;32m    976\u001b[0m         return self.execute(Command.FIND_ELEMENT, {\n\u001b[1;32m    977\u001b[0m             \u001b[0;34m'using'\u001b[0m\u001b[0;34m:\u001b[0m \u001b[0mby\u001b[0m\u001b[0;34m,\u001b[0m\u001b[0;34m\u001b[0m\u001b[0;34m\u001b[0m\u001b[0m\n\u001b[0;32m--> 978\u001b[0;31m             'value': value})['value']\n\u001b[0m\u001b[1;32m    979\u001b[0m \u001b[0;34m\u001b[0m\u001b[0m\n\u001b[1;32m    980\u001b[0m     \u001b[0;32mdef\u001b[0m \u001b[0mfind_elements\u001b[0m\u001b[0;34m(\u001b[0m\u001b[0mself\u001b[0m\u001b[0;34m,\u001b[0m \u001b[0mby\u001b[0m\u001b[0;34m=\u001b[0m\u001b[0mBy\u001b[0m\u001b[0;34m.\u001b[0m\u001b[0mID\u001b[0m\u001b[0;34m,\u001b[0m \u001b[0mvalue\u001b[0m\u001b[0;34m=\u001b[0m\u001b[0;32mNone\u001b[0m\u001b[0;34m)\u001b[0m\u001b[0;34m:\u001b[0m\u001b[0;34m\u001b[0m\u001b[0;34m\u001b[0m\u001b[0m\n",
      "\u001b[0;32m~/opt/anaconda3/envs/se3.7/lib/python3.7/site-packages/selenium/webdriver/remote/webdriver.py\u001b[0m in \u001b[0;36mexecute\u001b[0;34m(self, driver_command, params)\u001b[0m\n\u001b[1;32m    319\u001b[0m         \u001b[0mresponse\u001b[0m \u001b[0;34m=\u001b[0m \u001b[0mself\u001b[0m\u001b[0;34m.\u001b[0m\u001b[0mcommand_executor\u001b[0m\u001b[0;34m.\u001b[0m\u001b[0mexecute\u001b[0m\u001b[0;34m(\u001b[0m\u001b[0mdriver_command\u001b[0m\u001b[0;34m,\u001b[0m \u001b[0mparams\u001b[0m\u001b[0;34m)\u001b[0m\u001b[0;34m\u001b[0m\u001b[0;34m\u001b[0m\u001b[0m\n\u001b[1;32m    320\u001b[0m         \u001b[0;32mif\u001b[0m \u001b[0mresponse\u001b[0m\u001b[0;34m:\u001b[0m\u001b[0;34m\u001b[0m\u001b[0;34m\u001b[0m\u001b[0m\n\u001b[0;32m--> 321\u001b[0;31m             \u001b[0mself\u001b[0m\u001b[0;34m.\u001b[0m\u001b[0merror_handler\u001b[0m\u001b[0;34m.\u001b[0m\u001b[0mcheck_response\u001b[0m\u001b[0;34m(\u001b[0m\u001b[0mresponse\u001b[0m\u001b[0;34m)\u001b[0m\u001b[0;34m\u001b[0m\u001b[0;34m\u001b[0m\u001b[0m\n\u001b[0m\u001b[1;32m    322\u001b[0m             response['value'] = self._unwrap_value(\n\u001b[1;32m    323\u001b[0m                 response.get('value', None))\n",
      "\u001b[0;32m~/opt/anaconda3/envs/se3.7/lib/python3.7/site-packages/selenium/webdriver/remote/errorhandler.py\u001b[0m in \u001b[0;36mcheck_response\u001b[0;34m(self, response)\u001b[0m\n\u001b[1;32m    240\u001b[0m                 \u001b[0malert_text\u001b[0m \u001b[0;34m=\u001b[0m \u001b[0mvalue\u001b[0m\u001b[0;34m[\u001b[0m\u001b[0;34m'alert'\u001b[0m\u001b[0;34m]\u001b[0m\u001b[0;34m.\u001b[0m\u001b[0mget\u001b[0m\u001b[0;34m(\u001b[0m\u001b[0;34m'text'\u001b[0m\u001b[0;34m)\u001b[0m\u001b[0;34m\u001b[0m\u001b[0;34m\u001b[0m\u001b[0m\n\u001b[1;32m    241\u001b[0m             \u001b[0;32mraise\u001b[0m \u001b[0mexception_class\u001b[0m\u001b[0;34m(\u001b[0m\u001b[0mmessage\u001b[0m\u001b[0;34m,\u001b[0m \u001b[0mscreen\u001b[0m\u001b[0;34m,\u001b[0m \u001b[0mstacktrace\u001b[0m\u001b[0;34m,\u001b[0m \u001b[0malert_text\u001b[0m\u001b[0;34m)\u001b[0m\u001b[0;34m\u001b[0m\u001b[0;34m\u001b[0m\u001b[0m\n\u001b[0;32m--> 242\u001b[0;31m         \u001b[0;32mraise\u001b[0m \u001b[0mexception_class\u001b[0m\u001b[0;34m(\u001b[0m\u001b[0mmessage\u001b[0m\u001b[0;34m,\u001b[0m \u001b[0mscreen\u001b[0m\u001b[0;34m,\u001b[0m \u001b[0mstacktrace\u001b[0m\u001b[0;34m)\u001b[0m\u001b[0;34m\u001b[0m\u001b[0;34m\u001b[0m\u001b[0m\n\u001b[0m\u001b[1;32m    243\u001b[0m \u001b[0;34m\u001b[0m\u001b[0m\n\u001b[1;32m    244\u001b[0m     \u001b[0;32mdef\u001b[0m \u001b[0m_value_or_default\u001b[0m\u001b[0;34m(\u001b[0m\u001b[0mself\u001b[0m\u001b[0;34m,\u001b[0m \u001b[0mobj\u001b[0m\u001b[0;34m,\u001b[0m \u001b[0mkey\u001b[0m\u001b[0;34m,\u001b[0m \u001b[0mdefault\u001b[0m\u001b[0;34m)\u001b[0m\u001b[0;34m:\u001b[0m\u001b[0;34m\u001b[0m\u001b[0;34m\u001b[0m\u001b[0m\n",
      "\u001b[0;31mNoSuchElementException\u001b[0m: Message: no such element: Unable to locate element: {\"method\":\"css selector\",\"selector\":\"#rev_calendar > li:nth-child(3) > div.days10.Sat > a:nth-child(2)\"}\n  (Session info: chrome=89.0.4389.90)\n"
     ]
    }
   ],
   "source": [
    "url = 'https://www.changwon.go.kr/reservation/request/list.do?searchFcltyCd=oas&mId=0344010201'\n",
    "\n",
    "wait = WebDriverWait(driver, timeout=10)\n",
    "driver.get(url)\n",
    "\n",
    "# 0. 토요일이 되는 순간 for loop 탈출하도록 만들기\n",
    "while 1:\n",
    "    #if saturday, BREAK, and start Below CODE\n",
    "    if datetime.now().weekday() == 5 : break\n",
    "\n",
    "# 1. 오늘로 부터 14일 뒤를 예약해야한다.\n",
    "day_plus_14 = datetime.now() + timedelta(days = 14)\n",
    "\n",
    "# 2. 2주 뒤는 그 달의 몇 주차? => n\n",
    "n = n_th_week(day_plus_14)\n",
    "_nth_child = 'li:nth-child({})'.format(n+1)\n",
    "\n",
    "# 3. 오늘이 토요일이긴 한데, 몇 일? (무조건 토요일만 뽑을것이기 때문에 상관 무)\n",
    "_days00_Sat = 'div.days' + str(day_plus_14.day).zfill(2) + '.Sat'\n",
    "\n",
    "# 4. 두번째 타임 예약 문자열\n",
    "_2nd_time = 'a:nth-child(2)'\n",
    "\n",
    "# 모든 문자열\n",
    "_When_CSS = '#rev_calendar > {} > {} > {}'.format(_nth_child, _days00_Sat, _2nd_time)\n",
    "\n",
    "print(_When_CSS)\n",
    "\n",
    "# 3월 28일 같은 경우에는 3월에 더이상 표시할 예약칸이 없다. 이 경우에는 바로 4월 칸으로 넘어가나? 이걸 보고 움직여야 한다.\n",
    "# 일단은, 14일 뒤가 다음달인 경우 페이지를 넘기는 작업을 해야한다\n",
    "now = datetime.now()\n",
    "if day_plus_14.month > now.month : \n",
    "    next_month = driver.find_element_by_css_selector('#calendar_next')\n",
    "    next_month.click()\n",
    "    \n",
    "\n",
    "##reserv = driver.find_element_by_css_selector('#rev_calendar > li:nth-child(2) > div.days02 > div > a:nth-child(2)')\n",
    "##reserv.click()\n",
    "\n",
    "reserv = driver.find_element_by_css_selector(_When_CSS)\n",
    "reserv.click()\n",
    "\n",
    "agree = driver.find_element_by_css_selector('#write > div.theme-radio.pb20 > label')\n",
    "agree.click()\n",
    "\n",
    "agree2 = driver.find_element_by_css_selector('#write > div.txt-center.pt30.pb50 > button.btn.point')\n",
    "agree2.click()\n",
    "\n",
    "Team_name = driver.find_element_by_css_selector('#groupNm')\n",
    "Team_name.send_keys('MUTO')\n",
    "\n",
    "phone_num = driver.find_element_by_css_selector('#phone')\n",
    "phone_num.send_keys('010-3678-3547')\n",
    "\n",
    "obj = driver.find_element_by_css_selector('#etc')\n",
    "obj.send_keys('축구 경기 및 훈련')\n",
    "\n",
    "cnt1 = driver.find_element_by_css_selector('#cnt1')\n",
    "cnt1.send_keys('12')\n",
    "\n",
    "cnt2 = driver.find_element_by_css_selector('#cnt2')\n",
    "cnt2.send_keys('0')\n",
    "\n",
    "cnt3 = driver.find_element_by_css_selector('#cnt3')\n",
    "cnt3.send_keys('12')\n",
    "\n",
    "agree3 = driver.find_element_by_css_selector('#agree')\n",
    "agree3.click()\n",
    "\n",
    "agree4 = driver.find_element_by_css_selector('#agree2')\n",
    "agree4.click()\n",
    "\n",
    "# 우편번호\n",
    "zipcode = driver.find_element_by_css_selector('#writeForm > table > tbody > tr:nth-child(8) > td > fieldset > button')\n",
    "zipcode.click()\n",
    "\n",
    "driver.switch_to_window(driver.window_handles[1])  \n",
    "#driver.get_window_position(driver.window_handles[1])\n",
    "\n",
    "search = driver.find_element_by_css_selector('#keyword')\n",
    "search.send_keys('창이대로707번길 7-9')\n",
    "\n",
    "search_ent = driver.find_element_by_css_selector('#addrSearch')\n",
    "search_ent.click()\n",
    "\n",
    "pause.seconds(0.7)\n",
    "select_adr = driver.find_element_by_css_selector('#addrInfo > table > tbody > tr > td:nth-child(2) > a')\n",
    "select_adr.click()\n",
    "\n",
    "detailAddr = driver.find_element_by_css_selector('#detailAddr')\n",
    "detailAddr.send_keys('203호')\n",
    "\n",
    "insertAddr = driver.find_element_by_css_selector('#insertForm > div > a')\n",
    "insertAddr.click()\n",
    "\n",
    "driver.switch_to_window(driver.window_handles[0])  \n",
    "#driver.get_window_position(driver.window_handles[0])\n",
    "\n",
    "### 자동기입방지 문자 입력하기\n",
    "STRS = input('자동기입방지문구 : ')\n",
    "captchaStr = driver.find_element_by_css_selector('#captchaStr')\n",
    "captchaStr.send_keys(STRS)\n",
    "\n",
    "### 마지막 신청하기\n",
    "final = driver.find_element_by_css_selector('#conts > div.txt-center.pt30.pb50 > a.btn.point')\n",
    "final.click()"
   ]
  },
  {
   "cell_type": "markdown",
   "metadata": {},
   "source": [
    "### 예약 날짜 실패시 바로 ㄱ ㄱ"
   ]
  },
  {
   "cell_type": "code",
   "execution_count": 11,
   "metadata": {},
   "outputs": [
    {
     "name": "stdout",
     "output_type": "stream",
     "text": [
      "#rev_calendar > li:nth-child(3) > div.days09.Sat > a:nth-child(2)\n"
     ]
    }
   ],
   "source": [
    "url = 'https://www.changwon.go.kr/reservation/request/list.do?searchFcltyCd=oas&mId=0344010201'\n",
    "\n",
    "wait = WebDriverWait(driver, timeout=10)\n",
    "driver.get(url)\n",
    "\n",
    "# 0. 토요일이 되는 순간 for loop 탈출하도록 만들기\n",
    "#while 1:\n",
    "#    #if saturday, BREAK, and start Below CODE\n",
    "#    if datetime.now().weekday() == 5 : break\n",
    "\n",
    "# 1. 오늘로 부터 14일 뒤를 예약해야한다.\n",
    "day_plus_14 = datetime.now() + timedelta(days = 14)\n",
    "\n",
    "# 2. 2주 뒤는 그 달의 몇 주차? => n\n",
    "n = n_th_week(day_plus_14)\n",
    "_nth_child = 'li:nth-child({})'.format(n+1)\n",
    "\n",
    "# 3. 오늘이 토요일이긴 한데, 몇 일? (무조건 토요일만 뽑을것이기 때문에 상관 무)\n",
    "_days00_Sat = 'div.days' + str(day_plus_14.day).zfill(2) + '.Sat'\n",
    "\n",
    "# 4. 두번째 타임 예약 문자열\n",
    "_2nd_time = 'a:nth-child(2)'\n",
    "\n",
    "# 모든 문자열\n",
    "_When_CSS = '#rev_calendar > {} > {} > {}'.format(_nth_child, _days00_Sat, _2nd_time)\n",
    "\n",
    "print(_When_CSS)\n",
    "\n",
    "# 3월 28일 같은 경우에는 3월에 더이상 표시할 예약칸이 없다. 이 경우에는 바로 4월 칸으로 넘어가나? 이걸 보고 움직여야 한다.\n",
    "# 일단은, 14일 뒤가 다음달인 경우 페이지를 넘기는 작업을 해야한다\n",
    "now = datetime.now()\n",
    "if day_plus_14.month > now.month : \n",
    "    next_month = driver.find_element_by_css_selector('#calendar_next')\n",
    "    next_month.click()\n",
    "        "
   ]
  },
  {
   "cell_type": "code",
   "execution_count": 14,
   "metadata": {
    "scrolled": true
   },
   "outputs": [
    {
     "name": "stderr",
     "output_type": "stream",
     "text": [
      "/Users/gangtaro/opt/anaconda3/envs/se3.7/lib/python3.7/site-packages/ipykernel_launcher.py:35: DeprecationWarning: use driver.switch_to.window instead\n",
      "/Users/gangtaro/opt/anaconda3/envs/se3.7/lib/python3.7/site-packages/ipykernel_launcher.py:54: DeprecationWarning: use driver.switch_to.window instead\n"
     ]
    },
    {
     "name": "stdout",
     "output_type": "stream",
     "text": [
      "자동기입방지문구 : 4c5r3\n"
     ]
    }
   ],
   "source": [
    "agree = driver.find_element_by_css_selector('#write > div.theme-radio.pb20 > label')\n",
    "agree.click()\n",
    "\n",
    "agree2 = driver.find_element_by_css_selector('#write > div.txt-center.pt30.pb50 > button.btn.point')\n",
    "agree2.click()\n",
    "\n",
    "Team_name = driver.find_element_by_css_selector('#groupNm')\n",
    "Team_name.send_keys('MUTO')\n",
    "\n",
    "phone_num = driver.find_element_by_css_selector('#phone')\n",
    "phone_num.send_keys('010-3678-3547')\n",
    "\n",
    "obj = driver.find_element_by_css_selector('#etc')\n",
    "obj.send_keys('축구 경기 및 훈련')\n",
    "\n",
    "cnt1 = driver.find_element_by_css_selector('#cnt1')\n",
    "cnt1.send_keys('12')\n",
    "\n",
    "cnt2 = driver.find_element_by_css_selector('#cnt2')\n",
    "cnt2.send_keys('0')\n",
    "\n",
    "cnt3 = driver.find_element_by_css_selector('#cnt3')\n",
    "cnt3.send_keys('12')\n",
    "\n",
    "agree3 = driver.find_element_by_css_selector('#agree')\n",
    "agree3.click()\n",
    "\n",
    "agree4 = driver.find_element_by_css_selector('#agree2')\n",
    "agree4.click()\n",
    "\n",
    "# 우편번호\n",
    "zipcode = driver.find_element_by_css_selector('#writeForm > table > tbody > tr:nth-child(8) > td > fieldset > button')\n",
    "zipcode.click()\n",
    "\n",
    "driver.switch_to_window(driver.window_handles[1])  \n",
    "#driver.get_window_position(driver.window_handles[1])\n",
    "\n",
    "search = driver.find_element_by_css_selector('#keyword')\n",
    "search.send_keys('창이대로707번길 7-9')\n",
    "\n",
    "search_ent = driver.find_element_by_css_selector('#addrSearch')\n",
    "search_ent.click()\n",
    "\n",
    "pause.seconds(0.7)\n",
    "select_adr = driver.find_element_by_css_selector('#addrInfo > table > tbody > tr > td:nth-child(2) > a')\n",
    "select_adr.click()\n",
    "\n",
    "detailAddr = driver.find_element_by_css_selector('#detailAddr')\n",
    "detailAddr.send_keys('203호')\n",
    "\n",
    "insertAddr = driver.find_element_by_css_selector('#insertForm > div > a')\n",
    "insertAddr.click()\n",
    "\n",
    "driver.switch_to_window(driver.window_handles[0])  \n",
    "#driver.get_window_position(driver.window_handles[0])\n",
    "\n",
    "### 자동기입방지 문자 입력하기\n",
    "STRS = input('자동기입방지문구 : ')\n",
    "captchaStr = driver.find_element_by_css_selector('#captchaStr')\n",
    "captchaStr.send_keys(STRS)\n",
    "\n",
    "### 마지막 신청하기\n",
    "final = driver.find_element_by_css_selector('#conts > div.txt-center.pt30.pb50 > a.btn.point')\n",
    "final.click()"
   ]
  },
  {
   "cell_type": "markdown",
   "metadata": {},
   "source": [
    "## 목요일 구장 예약"
   ]
  },
  {
   "cell_type": "code",
   "execution_count": 16,
   "metadata": {},
   "outputs": [],
   "source": [
    "url = 'https://www.changwon.go.kr/reservation/main.do'\n",
    "\n",
    "wait = WebDriverWait(driver, timeout=10)\n",
    "driver.get(url)"
   ]
  },
  {
   "cell_type": "markdown",
   "metadata": {},
   "source": [
    "로그인"
   ]
  },
  {
   "cell_type": "code",
   "execution_count": 17,
   "metadata": {},
   "outputs": [],
   "source": [
    "url = 'https://www.changwon.go.kr/reservation/request/list.do?searchFcltyCd=oas&mId=0344010201'\n",
    "\n",
    "wait = WebDriverWait(driver, timeout=10)\n",
    "driver.get(url)\n",
    "\n",
    "# 3월 28일 같은 경우에는 3월에 더이상 표시할 예약칸이 없다. 이 경우에는 바로 4월 칸으로 넘어가나? 이걸 보고 움직여야 한다.\n",
    "# 일단은, 14일 뒤가 다음달인 경우 페이지를 넘기는 작업을 해야한다\n",
    "now = datetime.now()\n",
    "if day_plus_14.month > now.month : \n",
    "    next_month = driver.find_element_by_css_selector('#calendar_next')\n",
    "    next_month.click()\n",
    "    "
   ]
  },
  {
   "cell_type": "markdown",
   "metadata": {},
   "source": [
    "예약할 시간 **직접** 누르고"
   ]
  },
  {
   "cell_type": "code",
   "execution_count": 18,
   "metadata": {},
   "outputs": [
    {
     "name": "stderr",
     "output_type": "stream",
     "text": [
      "/Users/gangtaro/opt/anaconda3/envs/se3.7/lib/python3.7/site-packages/ipykernel_launcher.py:35: DeprecationWarning: use driver.switch_to.window instead\n",
      "/Users/gangtaro/opt/anaconda3/envs/se3.7/lib/python3.7/site-packages/ipykernel_launcher.py:54: DeprecationWarning: use driver.switch_to.window instead\n"
     ]
    },
    {
     "name": "stdout",
     "output_type": "stream",
     "text": [
      "자동기입방지문구 : ㅇㅇㅇ\n"
     ]
    }
   ],
   "source": [
    "\n",
    "agree = driver.find_element_by_css_selector('#write > div.theme-radio.pb20 > label')\n",
    "agree.click()\n",
    "\n",
    "agree2 = driver.find_element_by_css_selector('#write > div.txt-center.pt30.pb50 > button.btn.point')\n",
    "agree2.click()\n",
    "\n",
    "Team_name = driver.find_element_by_css_selector('#groupNm')\n",
    "Team_name.send_keys('MUTO')\n",
    "\n",
    "phone_num = driver.find_element_by_css_selector('#phone')\n",
    "phone_num.send_keys('010-3678-3547')\n",
    "\n",
    "obj = driver.find_element_by_css_selector('#etc')\n",
    "obj.send_keys('축구 경기 및 훈련')\n",
    "\n",
    "cnt1 = driver.find_element_by_css_selector('#cnt1')\n",
    "cnt1.send_keys('12')\n",
    "\n",
    "cnt2 = driver.find_element_by_css_selector('#cnt2')\n",
    "cnt2.send_keys('0')\n",
    "\n",
    "cnt3 = driver.find_element_by_css_selector('#cnt3')\n",
    "cnt3.send_keys('12')\n",
    "\n",
    "agree3 = driver.find_element_by_css_selector('#agree')\n",
    "agree3.click()\n",
    "\n",
    "agree4 = driver.find_element_by_css_selector('#agree2')\n",
    "agree4.click()\n",
    "\n",
    "# 우편번호\n",
    "zipcode = driver.find_element_by_css_selector('#writeForm > table > tbody > tr:nth-child(8) > td > fieldset > button')\n",
    "zipcode.click()\n",
    "\n",
    "driver.switch_to_window(driver.window_handles[1])  \n",
    "#driver.get_window_position(driver.window_handles[1])\n",
    "\n",
    "search = driver.find_element_by_css_selector('#keyword')\n",
    "search.send_keys('창이대로707번길 7-9')\n",
    "\n",
    "search_ent = driver.find_element_by_css_selector('#addrSearch')\n",
    "search_ent.click()\n",
    "\n",
    "pause.seconds(0.7)\n",
    "select_adr = driver.find_element_by_css_selector('#addrInfo > table > tbody > tr > td:nth-child(2) > a')\n",
    "select_adr.click()\n",
    "\n",
    "detailAddr = driver.find_element_by_css_selector('#detailAddr')\n",
    "detailAddr.send_keys('203호')\n",
    "\n",
    "insertAddr = driver.find_element_by_css_selector('#insertForm > div > a')\n",
    "insertAddr.click()\n",
    "\n",
    "driver.switch_to_window(driver.window_handles[0])  \n",
    "#driver.get_window_position(driver.window_handles[0])\n",
    "\n",
    "### 자동기입방지 문자 입력하기\n",
    "STRS = input('자동기입방지문구 : ')\n",
    "captchaStr = driver.find_element_by_css_selector('#captchaStr')\n",
    "captchaStr.send_keys(STRS)\n",
    "\n",
    "### 마지막 신청하기\n",
    "final = driver.find_element_by_css_selector('#conts > div.txt-center.pt30.pb50 > a.btn.point')\n",
    "final.click()"
   ]
  },
  {
   "cell_type": "code",
   "execution_count": null,
   "metadata": {},
   "outputs": [],
   "source": []
  }
 ],
 "metadata": {
  "kernelspec": {
   "display_name": "se3.7.10",
   "language": "python",
   "name": "se3.7"
  },
  "language_info": {
   "codemirror_mode": {
    "name": "ipython",
    "version": 3
   },
   "file_extension": ".py",
   "mimetype": "text/x-python",
   "name": "python",
   "nbconvert_exporter": "python",
   "pygments_lexer": "ipython3",
   "version": "3.7.10"
  },
  "toc": {
   "base_numbering": 1,
   "nav_menu": {},
   "number_sections": true,
   "sideBar": true,
   "skip_h1_title": false,
   "title_cell": "Table of Contents",
   "title_sidebar": "Contents",
   "toc_cell": false,
   "toc_position": {},
   "toc_section_display": true,
   "toc_window_display": false
  }
 },
 "nbformat": 4,
 "nbformat_minor": 4
}
