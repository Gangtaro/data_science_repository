{
 "cells": [
  {
   "cell_type": "markdown",
   "metadata": {},
   "source": [
    "# Web page 자동화 매뉴얼 (on Mac) 공부\n",
    "\n",
    "# 창원시 축구장 예약 자동화 (자동 기입방지 때문에 반자동)\n",
    "\n",
    "## Chrome driver 설치\n",
    "```zsh\n",
    "brew install chromedriver\n",
    "```\n",
    "\n",
    "## Selenium 설치\n",
    "```zsh\n",
    "pip3 install selenium\n",
    "```"
   ]
  },
  {
   "cell_type": "code",
   "execution_count": 5,
   "metadata": {},
   "outputs": [
    {
     "name": "stdout",
     "output_type": "stream",
     "text": [
      "3.7.10 (default, Feb 26 2021, 10:16:00) \n",
      "[Clang 10.0.0 ]\n"
     ]
    }
   ],
   "source": [
    "import sys\n",
    "print(sys.version)"
   ]
  },
  {
   "cell_type": "code",
   "execution_count": 6,
   "metadata": {},
   "outputs": [],
   "source": [
    "import time\n",
    "from datetime import datetime\n",
    "from selenium import webdriver\n",
    "from selenium.webdriver.common.keys import Keys\n",
    "from selenium.webdriver.common.by import By\n",
    "from selenium.webdriver.support.ui import WebDriverWait\n",
    "from selenium.webdriver.support import expected_conditions as EC\n",
    "import pause"
   ]
  },
  {
   "cell_type": "markdown",
   "metadata": {},
   "source": [
    "## 운동장 자동 예약하기\n",
    "- ... 로그인은 어떻게 하지..?"
   ]
  },
  {
   "cell_type": "code",
   "execution_count": 18,
   "metadata": {},
   "outputs": [],
   "source": [
    "import time\n",
    "from selenium import webdriver\n",
    "from selenium.webdriver.common.keys import Keys\n",
    "\n",
    "# Chrome\n",
    "driver = webdriver.Chrome()\n",
    "\n",
    "# Firefox\n",
    "# driver = webdriver.Firefox()\n",
    "# Intenet explorer\n",
    "# driver = webdriver.Ie()"
   ]
  },
  {
   "cell_type": "code",
   "execution_count": null,
   "metadata": {},
   "outputs": [],
   "source": [
    "# 3월 24일 4주차 수요일 3번째 #rev_calendar > li:nth-child(5) > div.days24 > div > a:nth-child(3)\n",
    "# 3월 26일 4주차 금요일 2번째 #rev_calendar > li:nth-child(5) > div.days26 > div > a\n",
    "# 3월 30일 5주차 화요일 2번째 #rev_calendar > li:nth-child(6) > div.days30 > div > a\n",
    "# 4월 02일 1주차 금요일 3번째 #rev_calendar > li:nth-child(2) > div.days02 > div > a:nth-child(3)\n",
    "\n",
    "# 마감\n",
    "# 3월 27일 4주차 토요일 4번째 #rev_calendar > li:nth-child(5) > div.days27.Sat > div > span:nth-child(4)\n",
    "# 3월 26일 4주차 금요일 3번째 #rev_calendar > li:nth-child(5) > div.days26 > div > span:nth-child(4)\n",
    "# 3월 28일 5주차 일요일 5번째 #rev_calendar > li:nth-child(6) > div.days28.Sun > div > span:nth-child(5)\n",
    "# 4월 03일 1주차 토요일 1번째 #rev_calendar > li:nth-child(2) > div.days03.Sat > div > span:nth-child(1)\n",
    "\n",
    "# 날짜 계산 규칙.\n",
    "# 1. 몇주차인가> 달력상 n주차이다 -> li:nth-child(n+1)\n",
    "# 2. 토요일과 일요일은 div.days00.Sat or div.days00.Sun 과 같은 규칙성이 존재한다\n",
    "# 3. 두번째 time은 그냥 a\n",
    "# 4. 달력은 항상 3일 전 ~ 2주 뒤까지 열람. -> 관건은 \n",
    "\n"
   ]
  },
  {
   "cell_type": "markdown",
   "metadata": {},
   "source": [
    "### 경기 날짜 규칙 파악 및 달력 넘기기 알고리즘 생성\n",
    "- 마감 전 규칙\n",
    "```python\n",
    "# 3월 24일 4주차 수요일 3번째 #rev_calendar > li:nth-child(5) > div.days24 > div > a:nth-child(3)\n",
    "# 3월 26일 4주차 금요일 2번째 #rev_calendar > li:nth-child(5) > div.days26 > div > a\n",
    "# 3월 30일 5주차 화요일 2번째 #rev_calendar > li:nth-child(6) > div.days30 > div > a\n",
    "# 4월 02일 1주차 금요일 3번째 #rev_calendar > li:nth-child(2) > div.days02 > div > a:nth-child(3)\n",
    "```\n",
    "- 마감 후 규칙\n",
    "```python\n",
    "# 3월 27일 4주차 토요일 4번째 #rev_calendar > li:nth-child(5) > div.days27.Sat > div > span:nth-child(4)\n",
    "# 3월 26일 4주차 금요일 3번째 #rev_calendar > li:nth-child(5) > div.days26 > div > span:nth-child(4)\n",
    "# 3월 28일 5주차 일요일 5번째 #rev_calendar > li:nth-child(6) > div.days28.Sun > div > span:nth-child(5)\n",
    "# 4월 03일 1주차 토요일 1번째 #rev_calendar > li:nth-child(2) > div.days03.Sat > div > span:nth-child(1)\n",
    "```\n",
    "- **대표적인 공식**\n",
    "```python\n",
    "#rev_calendar > li:nth-child(?) > div.days??.Sat > div > a\n",
    "```\n",
    "\n",
    "- **정리**  \n",
    "우리가 목표로 하는 시간은 매주 토요일 2번째 시간!!!!\n",
    "    1. **오늘은 몇 주차 인가**  > 달력 상 n 주차라면  #rev_calendar > li:nth-child(n+1)\n",
    "    2. **토, 일요일은 기록된다** > ```#rev_calendar > li:nth-child(n+1) > div.days00.Sat >```\n",
    "    3. **2번째 타임을 노린다**  > ```#rev_calendar > li:nth-child(n+1) > div.days00.Sat > div > a```\n",
    "    - **달력 다음 페이지? 지금 페이지?**\n",
    "        - \n",
    "    "
   ]
  },
  {
   "cell_type": "code",
   "execution_count": 134,
   "metadata": {},
   "outputs": [
    {
     "data": {
      "text/plain": [
       "4"
      ]
     },
     "execution_count": 134,
     "metadata": {},
     "output_type": "execute_result"
    }
   ],
   "source": [
    "from math import floor\n",
    "\n",
    "def new_weekday(x) : \n",
    "    # Sun : 0 to Sat :6\n",
    "    newweekday = x.weekday() + 1\n",
    "    if newweekday == 7 :\n",
    "        newweekday = 0\n",
    "        \n",
    "    return newweekday\n",
    "\n",
    "first_day_of_month = now - timedelta(now.day-1)\n",
    "first_day_of_month.weekday() #0 -> 월요일 \n",
    "re_weekday = new_weekday(first_day_of_month)\n",
    "\n",
    "diff = re_weekday - 1\n",
    "floor((now.day + diff)/7)+1\n",
    "\n"
   ]
  },
  {
   "cell_type": "code",
   "execution_count": 118,
   "metadata": {},
   "outputs": [
    {
     "name": "stdout",
     "output_type": "stream",
     "text": [
      "0\n",
      "1\n",
      "2\n",
      "3\n",
      "4\n",
      "5\n",
      "6\n"
     ]
    }
   ],
   "source": [
    "from datetime import datetime, timedelta\n",
    "\n",
    "now = datetime.now()\n",
    "now_plus03 = now + timedelta(days=3)\n",
    "now_plus14 = now + timedelta(days=14)\n",
    "\n",
    "now_plus14.weekday()\n",
    "\n",
    "for i in range(7):\n",
    "    # y-m\n",
    "    yy == now_plus14.year\n",
    "    mm == now_plus14.month\n",
    "    print(i)\n",
    "    now_plus14.weekday == i\n",
    "    \n",
    "    now"
   ]
  },
  {
   "cell_type": "code",
   "execution_count": 93,
   "metadata": {},
   "outputs": [],
   "source": [
    "url = 'https://www.changwon.go.kr/reservation/main.do'\n",
    "\n",
    "wait = WebDriverWait(driver, timeout=10)\n",
    "driver.get(url)"
   ]
  },
  {
   "cell_type": "code",
   "execution_count": 94,
   "metadata": {},
   "outputs": [],
   "source": [
    "url = 'https://www.changwon.go.kr/reservation/request/list.do?searchFcltyCd=oas&mId=0344010201'\n",
    "\n",
    "wait = WebDriverWait(driver, timeout=10)\n",
    "driver.get(url)"
   ]
  },
  {
   "cell_type": "code",
   "execution_count": 95,
   "metadata": {},
   "outputs": [
    {
     "name": "stderr",
     "output_type": "stream",
     "text": [
      "/Users/gangtaro/opt/anaconda3/envs/se3.7/lib/python3.7/site-packages/ipykernel_launcher.py:38: DeprecationWarning: use driver.switch_to.window instead\n",
      "/Users/gangtaro/opt/anaconda3/envs/se3.7/lib/python3.7/site-packages/ipykernel_launcher.py:57: DeprecationWarning: use driver.switch_to.window instead\n"
     ]
    }
   ],
   "source": [
    "reserv = driver.find_element_by_css_selector('#rev_calendar > li:nth-child(5) > div.days26 > div > a')\n",
    "reserv.click()\n",
    "\n",
    "agree = driver.find_element_by_css_selector('#write > div.theme-radio.pb20 > label')\n",
    "agree.click()\n",
    "\n",
    "agree2 = driver.find_element_by_css_selector('#write > div.txt-center.pt30.pb50 > button.btn.point')\n",
    "agree2.click()\n",
    "\n",
    "Team_name = driver.find_element_by_css_selector('#groupNm')\n",
    "Team_name.send_keys('MUTO')\n",
    "\n",
    "phone_num = driver.find_element_by_css_selector('#phone')\n",
    "phone_num.send_keys('010-3678-3547')\n",
    "\n",
    "obj = driver.find_element_by_css_selector('#etc')\n",
    "obj.send_keys('축구 경기 및 훈련')\n",
    "\n",
    "cnt1 = driver.find_element_by_css_selector('#cnt1')\n",
    "cnt1.send_keys('12')\n",
    "\n",
    "cnt2 = driver.find_element_by_css_selector('#cnt2')\n",
    "cnt2.send_keys('0')\n",
    "\n",
    "cnt3 = driver.find_element_by_css_selector('#cnt3')\n",
    "cnt3.send_keys('12')\n",
    "\n",
    "agree3 = driver.find_element_by_css_selector('#agree')\n",
    "agree3.click()\n",
    "\n",
    "agree4 = driver.find_element_by_css_selector('#agree2')\n",
    "agree4.click()\n",
    "\n",
    "# 우편번호\n",
    "zipcode = driver.find_element_by_css_selector('#writeForm > table > tbody > tr:nth-child(8) > td > fieldset > button')\n",
    "zipcode.click()\n",
    "\n",
    "driver.switch_to_window(driver.window_handles[1])  \n",
    "#driver.get_window_position(driver.window_handles[1])\n",
    "\n",
    "search = driver.find_element_by_css_selector('#keyword')\n",
    "search.send_keys('창이대로707번길 7-9')\n",
    "\n",
    "search_ent = driver.find_element_by_css_selector('#addrSearch')\n",
    "search_ent.click()\n",
    "\n",
    "pause.seconds(0.7)\n",
    "select_adr = driver.find_element_by_css_selector('#addrInfo > table > tbody > tr > td:nth-child(2) > a')\n",
    "select_adr.click()\n",
    "\n",
    "detailAddr = driver.find_element_by_css_selector('#detailAddr')\n",
    "detailAddr.send_keys('203호')\n",
    "\n",
    "insertAddr = driver.find_element_by_css_selector('#insertForm > div > a')\n",
    "insertAddr.click()\n",
    "\n",
    "driver.switch_to_window(driver.window_handles[0])  \n",
    "#driver.get_window_position(driver.window_handles[0])\n",
    "\n",
    "### 자동기입방지 클릭\n",
    "hurry_up = driver.find_element_by_css_selector('#captchaStr')\n",
    "hurry_up.send_keys()"
   ]
  },
  {
   "cell_type": "code",
   "execution_count": 91,
   "metadata": {},
   "outputs": [],
   "source": [
    "### 마지막 신청하기\n",
    "final = driver.find_element_by_css_selector('#conts > div.txt-center.pt30.pb50 > a.btn.point')\n",
    "final.click()"
   ]
  }
 ],
 "metadata": {
  "kernelspec": {
   "display_name": "se3.7.10",
   "language": "python",
   "name": "se3.7"
  },
  "language_info": {
   "codemirror_mode": {
    "name": "ipython",
    "version": 3
   },
   "file_extension": ".py",
   "mimetype": "text/x-python",
   "name": "python",
   "nbconvert_exporter": "python",
   "pygments_lexer": "ipython3",
   "version": "3.7.10"
  },
  "toc": {
   "base_numbering": 1,
   "nav_menu": {},
   "number_sections": true,
   "sideBar": true,
   "skip_h1_title": false,
   "title_cell": "Table of Contents",
   "title_sidebar": "Contents",
   "toc_cell": false,
   "toc_position": {},
   "toc_section_display": true,
   "toc_window_display": false
  }
 },
 "nbformat": 4,
 "nbformat_minor": 4
}
