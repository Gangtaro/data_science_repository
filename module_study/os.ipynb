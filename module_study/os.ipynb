{
 "cells": [
  {
   "cell_type": "code",
   "execution_count": 1,
   "metadata": {},
   "outputs": [],
   "source": [
    "import os"
   ]
  },
  {
   "cell_type": "code",
   "execution_count": 11,
   "metadata": {},
   "outputs": [
    {
     "data": {
      "text/plain": [
       "'/Users/gangtaro/data_science_repository/module_study'"
      ]
     },
     "execution_count": 11,
     "metadata": {},
     "output_type": "execute_result"
    }
   ],
   "source": [
    "# 현재 경로에 대한 정보\n",
    "os.getcwd()"
   ]
  },
  {
   "cell_type": "code",
   "execution_count": 16,
   "metadata": {},
   "outputs": [
    {
     "data": {
      "text/plain": [
       "['os.ipynb', '.ipynb_checkpoints']"
      ]
     },
     "execution_count": 16,
     "metadata": {},
     "output_type": "execute_result"
    }
   ],
   "source": [
    "# 현재 경로에 어떤 파일이 있는지\n",
    "os.listdir()"
   ]
  },
  {
   "cell_type": "code",
   "execution_count": null,
   "metadata": {},
   "outputs": [],
   "source": [
    "# 경로 생성 가능 두 개 명령어\n",
    "\n",
    "## 하위 경로까지 만들 수 있음\n",
    "os.makedirs('test_dir/sub_dir')\n",
    "\n",
    "## 딱 그 폴더만 만들 수 있음\n",
    "os.mkdir('create_dir')"
   ]
  },
  {
   "cell_type": "code",
   "execution_count": 13,
   "metadata": {},
   "outputs": [
    {
     "data": {
      "text/plain": [
       "['create_dir', 'os.ipynb', 'test_dir', '.ipynb_checkpoints']"
      ]
     },
     "execution_count": 13,
     "metadata": {},
     "output_type": "execute_result"
    }
   ],
   "source": [
    "os.listdir() #확인"
   ]
  },
  {
   "cell_type": "code",
   "execution_count": 14,
   "metadata": {},
   "outputs": [],
   "source": [
    "# 경로 삭제\n",
    "## 적어준 모든 경로 삭제 할 수 있음\n",
    "os.removedirs('test_dir/sub_dir')\n",
    "\n",
    "## 정해준 딱 그 폴더만 삭제할 수 있음\n",
    "os.rmdir('create_dir')"
   ]
  },
  {
   "cell_type": "code",
   "execution_count": 18,
   "metadata": {},
   "outputs": [
    {
     "data": {
      "text/plain": [
       "['before_changed.txt', 'os.ipynb', '.ipynb_checkpoints']"
      ]
     },
     "execution_count": 18,
     "metadata": {},
     "output_type": "execute_result"
    }
   ],
   "source": [
    "os.listdir() #확인"
   ]
  },
  {
   "cell_type": "code",
   "execution_count": 33,
   "metadata": {},
   "outputs": [
    {
     "name": "stdout",
     "output_type": "stream",
     "text": [
      "['os.ipynb', '.ipynb_checkpoints', 'after_changed.txt']\n",
      "['before_changed.txt', 'os.ipynb', '.ipynb_checkpoints']\n"
     ]
    }
   ],
   "source": [
    "# 이름 바꿀 수 있는 명령어 ('before' to 'after')\n",
    "os.rename('before_changed.txt', 'after_changed.txt')\n",
    "\n",
    "print(os.listdir())\n",
    "\n",
    "## 되돌리기\n",
    "os.rename('after_changed.txt', 'before_changed.txt')\n",
    "\n",
    "print(os.listdir())"
   ]
  },
  {
   "cell_type": "code",
   "execution_count": 34,
   "metadata": {},
   "outputs": [
    {
     "data": {
      "text/plain": [
       "os.stat_result(st_mode=33188, st_ino=284119299, st_dev=16777221, st_nlink=1, st_uid=501, st_gid=20, st_size=9, st_atime=1632323857, st_mtime=1632323886, st_ctime=1632324552)"
      ]
     },
     "execution_count": 34,
     "metadata": {},
     "output_type": "execute_result"
    }
   ],
   "source": [
    "# 파일 상태 확인\n",
    "os.stat('before_changed.txt')"
   ]
  },
  {
   "cell_type": "code",
   "execution_count": 35,
   "metadata": {},
   "outputs": [
    {
     "name": "stdout",
     "output_type": "stream",
     "text": [
      "2021-09-23 00:18:06.418089\n"
     ]
    }
   ],
   "source": [
    "# 파일 상태의 시간 표시가 정수로 표현되어 있어서 확인하기 힘들다.\n",
    "# 이를 보기 편한 값으로 수정해준다. \n",
    "\n",
    "from datetime import datetime\n",
    "mod_time = os.stat('before_changed.txt').st_mtime\n",
    "\n",
    "\n",
    "print(datetime.fromtimestamp(mod_time))"
   ]
  },
  {
   "cell_type": "code",
   "execution_count": 36,
   "metadata": {},
   "outputs": [
    {
     "data": {
      "text/plain": [
       "'/Users/gangtaro'"
      ]
     },
     "execution_count": 36,
     "metadata": {},
     "output_type": "execute_result"
    }
   ],
   "source": [
    "# 환경변수를 불러 올 수 있다.\n",
    "os.environ.get('HOME')\n"
   ]
  },
  {
   "cell_type": "code",
   "execution_count": 37,
   "metadata": {},
   "outputs": [
    {
     "data": {
      "text/plain": [
       "'/Users/gangtaro/whereisit'"
      ]
     },
     "execution_count": 37,
     "metadata": {},
     "output_type": "execute_result"
    }
   ],
   "source": [
    "# 경로의 이름 확인 가능 (파일 주소를 제외한 상위 주소를 출력)\n",
    "test_dir = '/Users/gangtaro/whereisit/test.txt'\n",
    "os.path.dirname(test_dir)"
   ]
  },
  {
   "cell_type": "code",
   "execution_count": 38,
   "metadata": {},
   "outputs": [
    {
     "data": {
      "text/plain": [
       "'test.txt'"
      ]
     },
     "execution_count": 38,
     "metadata": {},
     "output_type": "execute_result"
    }
   ],
   "source": [
    "# 경로의 파일명 (경로를 제외하고 파일 이름만 출력한다.)\n",
    "test_dir = '/Users/gangtaro/whereisit/test.txt'\n",
    "os.path.basename(test_dir)"
   ]
  },
  {
   "cell_type": "code",
   "execution_count": 39,
   "metadata": {},
   "outputs": [
    {
     "data": {
      "text/plain": [
       "('/Users/gangtaro/whereisit', 'test.txt')"
      ]
     },
     "execution_count": 39,
     "metadata": {},
     "output_type": "execute_result"
    }
   ],
   "source": [
    "# 경로와 파일 명 분리\n",
    "test_dir = '/Users/gangtaro/whereisit/test.txt'\n",
    "os.path.split(test_dir)"
   ]
  }
 ],
 "metadata": {
  "kernelspec": {
   "display_name": "Python 3",
   "language": "python",
   "name": "python3"
  },
  "language_info": {
   "codemirror_mode": {
    "name": "ipython",
    "version": 3
   },
   "file_extension": ".py",
   "mimetype": "text/x-python",
   "name": "python",
   "nbconvert_exporter": "python",
   "pygments_lexer": "ipython3",
   "version": "3.8.3"
  },
  "toc": {
   "base_numbering": 1,
   "nav_menu": {},
   "number_sections": true,
   "sideBar": true,
   "skip_h1_title": false,
   "title_cell": "Table of Contents",
   "title_sidebar": "Contents",
   "toc_cell": false,
   "toc_position": {},
   "toc_section_display": true,
   "toc_window_display": false
  }
 },
 "nbformat": 4,
 "nbformat_minor": 4
}
