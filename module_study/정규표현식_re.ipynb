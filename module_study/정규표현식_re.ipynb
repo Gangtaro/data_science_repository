{
 "cells": [
  {
   "cell_type": "markdown",
   "metadata": {},
   "source": [
    "# 정규표현식\n",
    "- [[library] re document🔗](https://docs.python.org/3/library/re.html)\n",
    "\n",
    "- **re (Regular Expression)**\n",
    "- **문자열**에서 **특정한 패턴**을 찾는 기능 제공"
   ]
  },
  {
   "cell_type": "code",
   "execution_count": 1,
   "metadata": {},
   "outputs": [],
   "source": [
    "import re"
   ]
  },
  {
   "cell_type": "markdown",
   "metadata": {},
   "source": [
    "## 기본 패턴 \n",
    "- 문자들은 그대로 해당 문자와 일치한다.\n",
    "- 특별한 의미로 사용되는 문자들은 제외 ( ```.```, ```^```, ```$```, ```*```,```+```,```?```,```{```,```}```,```[```, ```]```, ```|```, ```\\```, ```(```,```)``` )\n"
   ]
  },
  {
   "cell_type": "markdown",
   "metadata": {},
   "source": [
    "### 특수 문자들의 특수한 기능 사용\n",
    "- ```.``` \n",
    "    - 모든 문자를 표현한다. 표현하고 싶어하는 문자들 사이에 ```.``` 을 넣으면 그 사이에 어떤 문자든 문자가 들어있는 것을 찾을 수 있다는 말이다.  \n",
    "    - **r'A.B'** = AcB,  A@B,  A B,  A_B\n",
    "\n",
    "### [ ] 를 활용한 표현 방법"
   ]
  },
  {
   "cell_type": "markdown",
   "metadata": {},
   "source": [
    "### \\ 를 활용한 표현 방법\n",
    "#### 다른 문자와 함께 쓰여서 특수한 의미를 지닌다.\n",
    "- **```\\d``` :** **모든 숫자(digit)** (= [0-9])\n",
    "\n",
    "\n",
    "- **```\\D``` :** **숫자가 아닌 모든 문자** (=[^0-9]) (대문자로 표현한다는 것은 Not이라는 의미를 담고 있다고 생각하자.)\n",
    "\n",
    "\n",
    "- **```\\s``` :** **공백(space)과 관련된 문자 (띄어쓰기, 탭, 엔터)**\n",
    "\n",
    "\n",
    "- **```\\S``` :** **공백과 관련된 문자가 아닌! 모든 문자**\n",
    "\n",
    "\n",
    "- **```\\w``` :** **알파벳대소문자(words(?))+숫자까지 포함하는 문자** (=[0-9a-zA-Z])\n",
    "\n",
    "\n",
    "- **```\\W``` :** **알파벳대소문자+숫자가 아닌 모든 문자**\n",
    "\n",
    "#### 메타 캐릭터가 캐릭터 자체를 표현하도록 허용\n",
    "예시)\n",
    "- **```\\.``` :**  ```.```\n",
    "    \n",
    "    \n",
    "- **```\\\\``` :**  ```\\```"
   ]
  },
  {
   "cell_type": "code",
   "execution_count": 76,
   "metadata": {
    "scrolled": true
   },
   "outputs": [
    {
     "data": {
      "text/plain": [
       "['A', 'Z', 'a', 'z', '0', '9']"
      ]
     },
     "execution_count": 76,
     "metadata": {},
     "output_type": "execute_result"
    }
   ],
   "source": [
    "# \\w : 알파벳대소문자+숫자\n",
    "re.findall(r'\\w', 'AZaz09\\t\\n!@#$')"
   ]
  },
  {
   "cell_type": "code",
   "execution_count": 77,
   "metadata": {
    "scrolled": true
   },
   "outputs": [
    {
     "data": {
      "text/plain": [
       "['\\n', ' ', '\\t']"
      ]
     },
     "execution_count": 77,
     "metadata": {},
     "output_type": "execute_result"
    }
   ],
   "source": [
    "# \\s : 스페이스, 탭, 엔터\n",
    "re.findall(r'\\s', 'enter:\\n,space: ,tab:\\t')"
   ]
  },
  {
   "cell_type": "markdown",
   "metadata": {},
   "source": [
    "### 반복 패턴 사용 방법\n",
    "- 특정 패턴 뒤에 나오는 ```*```, ```+```, ```?```는 반복적으로 나올 수 있는 경우를 표현한다."
   ]
  },
  {
   "cell_type": "markdown",
   "metadata": {},
   "source": [
    "### 시작과 끝이라는 조건으로 검색\n",
    "- ```^```, ```&``` \n",
    "    - 각각 **시작점, 끝점**이라는 조건을 더 해준다. \n",
    "    - **r'^AAA'** = 시작을 'AAA'로 하는 문자열을 출력하라\n",
    "    - 이 기능은 ```re.MULTILINE```를 사용할 때 더욱 유용해진다.\n",
    "        - 새로운 줄에 첫 마디 마다 확인 할 수 있다.\n",
    "        - 여기서 **새로운 줄** 이라는 정의는, 문자열 내의 **```\\n```**로 구분한다."
   ]
  },
  {
   "cell_type": "code",
   "execution_count": 54,
   "metadata": {},
   "outputs": [
    {
     "data": {
      "text/plain": [
       "['AAA', 'AAA', 'AAA', 'AAA']"
      ]
     },
     "execution_count": 54,
     "metadata": {},
     "output_type": "execute_result"
    }
   ],
   "source": [
    "#re.MULTILINE (re.M), #re.M #re.findall\n",
    "strings = '''AAA DDD, ddd\n",
    "dDD ddd dddcc.\n",
    "aaa ddd fff///...\n",
    "AAA_ kkk\n",
    "AAAd QWE adfa\n",
    "AAA asdfe adfae\n",
    "'''\n",
    "re.findall(r'^AAA',strings, flags = re.MULTILINE) "
   ]
  },
  {
   "cell_type": "code",
   "execution_count": 57,
   "metadata": {},
   "outputs": [
    {
     "data": {
      "text/plain": [
       "'AAA DDD, ddd\\ndDD ddd dddcc.\\naaa ddd fff///...\\nAAA_ kkk\\nAAAd QWE adfa\\nAAA asdfe adfae\\n'"
      ]
     },
     "execution_count": 57,
     "metadata": {},
     "output_type": "execute_result"
    }
   ],
   "source": [
    "strings"
   ]
  },
  {
   "cell_type": "code",
   "execution_count": null,
   "metadata": {},
   "outputs": [],
   "source": []
  }
 ],
 "metadata": {
  "kernelspec": {
   "display_name": "Python 3",
   "language": "python",
   "name": "python3"
  },
  "language_info": {
   "codemirror_mode": {
    "name": "ipython",
    "version": 3
   },
   "file_extension": ".py",
   "mimetype": "text/x-python",
   "name": "python",
   "nbconvert_exporter": "python",
   "pygments_lexer": "ipython3",
   "version": "3.8.3"
  },
  "toc": {
   "base_numbering": 1,
   "nav_menu": {},
   "number_sections": true,
   "sideBar": true,
   "skip_h1_title": false,
   "title_cell": "Table of Contents",
   "title_sidebar": "Contents",
   "toc_cell": false,
   "toc_position": {},
   "toc_section_display": true,
   "toc_window_display": false
  }
 },
 "nbformat": 4,
 "nbformat_minor": 4
}
