{
 "cells": [
  {
   "cell_type": "code",
   "execution_count": 12,
   "metadata": {},
   "outputs": [],
   "source": [
    "import numpy as np\n",
    "import pandas as pd"
   ]
  },
  {
   "cell_type": "markdown",
   "metadata": {},
   "source": [
    "### Parameter Grid 기초"
   ]
  },
  {
   "cell_type": "code",
   "execution_count": 3,
   "metadata": {},
   "outputs": [
    {
     "data": {
      "text/plain": [
       "[{'metric': 'Manhattan', 'n_neighbors': 3},\n",
       " {'metric': 'Manhattan', 'n_neighbors': 5},\n",
       " {'metric': 'Manhattan', 'n_neighbors': 7},\n",
       " {'metric': 'Euclidean', 'n_neighbors': 3},\n",
       " {'metric': 'Euclidean', 'n_neighbors': 5},\n",
       " {'metric': 'Euclidean', 'n_neighbors': 7}]"
      ]
     },
     "execution_count": 3,
     "metadata": {},
     "output_type": "execute_result"
    }
   ],
   "source": [
    "from sklearn.model_selection import ParameterGrid\n",
    "\n",
    "grid = {\"n_neighbors\": [3, 5, 7],\n",
    "        \"metric\": [\"Manhattan\", \"Euclidean\"]}\n",
    "\n",
    "#ParameterGrid(grid) # 이부분만 돌리면 알아보기 힘듬(generator 형태), 하지만 list를 감싸서 수행하는 것은 아님\n",
    "list(ParameterGrid(grid))"
   ]
  },
  {
   "cell_type": "markdown",
   "metadata": {},
   "source": [
    "### 함수 입력값으로 dict 받는 방법 \n",
    "func(<u>**</u>{'a':1, 'b':2})"
   ]
  },
  {
   "cell_type": "code",
   "execution_count": 4,
   "metadata": {},
   "outputs": [
    {
     "data": {
      "text/plain": [
       "3"
      ]
     },
     "execution_count": 4,
     "metadata": {},
     "output_type": "execute_result"
    }
   ],
   "source": [
    "def add_f(a, b):\n",
    "    return a + b\n",
    "\n",
    "input_f = {\"a\": 1, \"b\": 2} # a, b는 문자열인 것 인지\n",
    "#input_f = {\"b\": 2, \"a\": 1} # 순서가 바뀌어도 상관 없음\n",
    "add_f(**input_f)"
   ]
  },
  {
   "cell_type": "markdown",
   "metadata": {},
   "source": [
    "### 그리드 서치 실습 예제\n",
    "- 사용 데이터: iris dataset (sklearn 제공 데이터)<br><br>\n",
    "- 사용 모델: (1) k-최근접 이웃\n",
    "    - n_neighbors (3, 5, 7)\n",
    "    - metric (euclidean, manhattan)<br><br>\n",
    "- 사용 모델: (2) 서포트 벡터 머신\n",
    "    - kernel: rbf, linear\n",
    "    - C: 0.1, 1, 10\n",
    "<br><br>\n",
    "- 평가 척도: F1 score"
   ]
  },
  {
   "cell_type": "code",
   "execution_count": 6,
   "metadata": {},
   "outputs": [],
   "source": [
    "# 예제 데이터 불러오기\n",
    "from sklearn.datasets import load_iris\n",
    "X = load_iris()['data'] # feature\n",
    "Y = load_iris()['target'] # label\n",
    "\n",
    "# 학습 데이터와 평가 데이터 분할\n",
    "from sklearn.model_selection import train_test_split\n",
    "Train_X, Test_X, Train_Y, Test_Y = train_test_split(X, Y, random_state = 4321)"
   ]
  },
  {
   "cell_type": "code",
   "execution_count": 21,
   "metadata": {},
   "outputs": [
    {
     "name": "stdout",
     "output_type": "stream",
     "text": [
      "X : \n",
      "     0    1    2    3\n",
      "0  5.1  3.5  1.4  0.2\n",
      "1  4.9  3.0  1.4  0.2\n",
      "2  4.7  3.2  1.3  0.2\n",
      "3  4.6  3.1  1.5  0.2\n",
      "4  5.0  3.6  1.4  0.2\n",
      "Y : \n",
      "   0\n",
      "0  0\n",
      "1  0\n",
      "2  0\n",
      "3  0\n",
      "4  0\n"
     ]
    }
   ],
   "source": [
    "print('X : ')\n",
    "print(pd.DataFrame(X).head())\n",
    "\n",
    "print('Y : ')\n",
    "print(pd.DataFrame(Y).head())"
   ]
  },
  {
   "cell_type": "code",
   "execution_count": 25,
   "metadata": {},
   "outputs": [
    {
     "name": "stdout",
     "output_type": "stream",
     "text": [
      "Train_X : (112, 4)\n",
      "Test_X : (38, 4)\n",
      "Train_Y : (112,)\n",
      "Test_Y : (38,)\n"
     ]
    }
   ],
   "source": [
    "print('Train_X : {}'.format(Train_X.shape))\n",
    "print('Test_X : {}'.format(Test_X.shape))\n",
    "print('Train_Y : {}'.format(Train_Y.shape))\n",
    "print('Test_Y : {}'.format(Test_Y.shape))"
   ]
  },
  {
   "cell_type": "markdown",
   "metadata": {},
   "source": [
    "### 모델링 ( KNN, SVM )"
   ]
  },
  {
   "cell_type": "code",
   "execution_count": 27,
   "metadata": {},
   "outputs": [],
   "source": [
    "# 모델 불러오기\n",
    "from sklearn.neighbors import KNeighborsClassifier as KNN\n",
    "from sklearn.svm import SVC"
   ]
  },
  {
   "cell_type": "code",
   "execution_count": 28,
   "metadata": {},
   "outputs": [],
   "source": [
    "# 파라미터 그리드 생성\n",
    "param_grid = dict() \n",
    "# 입력: 모델 함수, 출력: 모델의 하이퍼 파라미터 그리드\n",
    "\n",
    "# 모델별 파라미터 그리드 생성\n",
    "param_grid_for_knn = ParameterGrid({\"n_neighbors\": [3, 5, 7],\n",
    "                           \"metric\":['euclidean', 'manhattan']})\n",
    "\n",
    "param_grid_for_svm = ParameterGrid({\"C\": [0.1, 1, 10],\n",
    "                           \"kernel\":['rbf', 'linear']})\n",
    "\n",
    "# 모델 - 하이퍼 파라미터 그리드를 param_grid에 추가\n",
    "param_grid[KNN] = param_grid_for_knn\n",
    "param_grid[SVC] = param_grid_for_svm"
   ]
  },
  {
   "cell_type": "code",
   "execution_count": 52,
   "metadata": {},
   "outputs": [
    {
     "name": "stderr",
     "output_type": "stream",
     "text": [
      "100%|██████████| 6/6 [00:00<00:00, 223.61it/s]\n",
      "100%|██████████| 6/6 [00:00<00:00, 458.82it/s]"
     ]
    },
    {
     "name": "stdout",
     "output_type": "stream",
     "text": [
      "model : <class 'sklearn.neighbors._classification.KNeighborsClassifier'>, parameter : {'metric': 'euclidean', 'n_neighbors': 3}\n",
      "현재 스코어 :  0.9473684210526315 vs 최고 스코어 :  -1\n",
      "model : <class 'sklearn.neighbors._classification.KNeighborsClassifier'>, parameter : {'metric': 'euclidean', 'n_neighbors': 5}\n",
      "현재 스코어 :  0.9210526315789473 vs 최고 스코어 :  0.9473684210526315\n",
      "model : <class 'sklearn.neighbors._classification.KNeighborsClassifier'>, parameter : {'metric': 'euclidean', 'n_neighbors': 7}\n",
      "현재 스코어 :  0.9736842105263158 vs 최고 스코어 :  0.9473684210526315\n",
      "model : <class 'sklearn.neighbors._classification.KNeighborsClassifier'>, parameter : {'metric': 'manhattan', 'n_neighbors': 3}\n",
      "현재 스코어 :  0.9210526315789473 vs 최고 스코어 :  0.9736842105263158\n",
      "model : <class 'sklearn.neighbors._classification.KNeighborsClassifier'>, parameter : {'metric': 'manhattan', 'n_neighbors': 5}\n",
      "현재 스코어 :  0.9210526315789473 vs 최고 스코어 :  0.9736842105263158\n",
      "model : <class 'sklearn.neighbors._classification.KNeighborsClassifier'>, parameter : {'metric': 'manhattan', 'n_neighbors': 7}\n",
      "현재 스코어 :  0.9473684210526315 vs 최고 스코어 :  0.9736842105263158\n",
      "model : <class 'sklearn.svm._classes.SVC'>, parameter : {'C': 0.1, 'kernel': 'rbf'}\n",
      "현재 스코어 :  0.9210526315789473 vs 최고 스코어 :  0.9736842105263158\n",
      "model : <class 'sklearn.svm._classes.SVC'>, parameter : {'C': 0.1, 'kernel': 'linear'}\n",
      "현재 스코어 :  0.9736842105263158 vs 최고 스코어 :  0.9736842105263158\n",
      "model : <class 'sklearn.svm._classes.SVC'>, parameter : {'C': 1, 'kernel': 'rbf'}\n",
      "현재 스코어 :  0.9736842105263158 vs 최고 스코어 :  0.9736842105263158\n",
      "model : <class 'sklearn.svm._classes.SVC'>, parameter : {'C': 1, 'kernel': 'linear'}\n",
      "현재 스코어 :  0.9736842105263158 vs 최고 스코어 :  0.9736842105263158\n",
      "model : <class 'sklearn.svm._classes.SVC'>, parameter : {'C': 10, 'kernel': 'rbf'}\n",
      "현재 스코어 :  0.9736842105263158 vs 최고 스코어 :  0.9736842105263158\n",
      "model : <class 'sklearn.svm._classes.SVC'>, parameter : {'C': 10, 'kernel': 'linear'}\n",
      "현재 스코어 :  0.9473684210526315 vs 최고 스코어 :  0.9736842105263158\n"
     ]
    },
    {
     "name": "stderr",
     "output_type": "stream",
     "text": [
      "\n"
     ]
    }
   ],
   "source": [
    "# 하이퍼 파라미터 튜닝 \n",
    "best_score = -1 # 현재까지 찾은 가장 높은 f1_score (f1 score는 절대 0보다 작을수 없기에, -1로 설정해도 무방)\n",
    "\n",
    "from tqdm import tqdm # for문의 진행상태를 알려주는 루틴\n",
    "from sklearn.metrics import f1_score\n",
    "\n",
    "for model_func in [KNN, SVC]: # model 먼저 \n",
    "    model_name = '{}'.format(model_func)\n",
    "    \n",
    "    for param in tqdm(param_grid[model_func]): # grid 뒤에 \n",
    "        \n",
    "        model = model_func(**param).fit(Train_X, Train_Y)\n",
    "        pred_Y = model.predict(Test_X)        \n",
    "        score = f1_score(Test_Y, pred_Y, average = 'micro') # multiclass\n",
    "        \n",
    "        print('model : {}, parameter : {}'.format(model_name, param))\n",
    "        print('현재 스코어 : ',score, 'vs 최고 스코어 : ', best_score)\n",
    "        \n",
    "        if score > best_score: \n",
    "            # 현재 점수가 지금까지 찾은 최고 점수보다 좋으면, 최고 모델, 파라미터, 점수 업데이트\n",
    "            best_model_func = model_func\n",
    "            best_score = score\n",
    "            best_param = param\n",
    "            \n",
    "            # best_model = model"
   ]
  },
  {
   "cell_type": "code",
   "execution_count": null,
   "metadata": {},
   "outputs": [],
   "source": []
  }
 ],
 "metadata": {
  "kernelspec": {
   "display_name": "Python 3",
   "language": "python",
   "name": "python3"
  },
  "language_info": {
   "codemirror_mode": {
    "name": "ipython",
    "version": 3
   },
   "file_extension": ".py",
   "mimetype": "text/x-python",
   "name": "python",
   "nbconvert_exporter": "python",
   "pygments_lexer": "ipython3",
   "version": "3.8.3"
  }
 },
 "nbformat": 4,
 "nbformat_minor": 4
}
