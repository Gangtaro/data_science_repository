{
 "cells": [
  {
   "cell_type": "markdown",
   "metadata": {},
   "source": [
    "### import modules"
   ]
  },
  {
   "cell_type": "code",
   "execution_count": 41,
   "metadata": {},
   "outputs": [],
   "source": [
    "import warnings\n",
    "warnings.filterwarnings('ignore')\n",
    "import pandas as pd\n",
    "import numpy as np"
   ]
  },
  {
   "cell_type": "markdown",
   "metadata": {},
   "source": [
    "### Load the data\n",
    "data from [here -> archive.ics.uci.edu](https://archive.ics.uci.edu/ml/datasets/car+evaluation)"
   ]
  },
  {
   "cell_type": "code",
   "execution_count": 127,
   "metadata": {},
   "outputs": [
    {
     "data": {
      "text/html": [
       "<div>\n",
       "<style scoped>\n",
       "    .dataframe tbody tr th:only-of-type {\n",
       "        vertical-align: middle;\n",
       "    }\n",
       "\n",
       "    .dataframe tbody tr th {\n",
       "        vertical-align: top;\n",
       "    }\n",
       "\n",
       "    .dataframe thead th {\n",
       "        text-align: right;\n",
       "    }\n",
       "</style>\n",
       "<table border=\"1\" class=\"dataframe\">\n",
       "  <thead>\n",
       "    <tr style=\"text-align: right;\">\n",
       "      <th></th>\n",
       "      <th>Buying</th>\n",
       "      <th>Maint</th>\n",
       "      <th>Doors</th>\n",
       "      <th>Persons</th>\n",
       "      <th>Lug_boot</th>\n",
       "      <th>Safety</th>\n",
       "      <th>Class</th>\n",
       "    </tr>\n",
       "  </thead>\n",
       "  <tbody>\n",
       "    <tr>\n",
       "      <th>1723</th>\n",
       "      <td>low</td>\n",
       "      <td>low</td>\n",
       "      <td>5more</td>\n",
       "      <td>more</td>\n",
       "      <td>med</td>\n",
       "      <td>med</td>\n",
       "      <td>good</td>\n",
       "    </tr>\n",
       "    <tr>\n",
       "      <th>1724</th>\n",
       "      <td>low</td>\n",
       "      <td>low</td>\n",
       "      <td>5more</td>\n",
       "      <td>more</td>\n",
       "      <td>med</td>\n",
       "      <td>high</td>\n",
       "      <td>vgood</td>\n",
       "    </tr>\n",
       "    <tr>\n",
       "      <th>1725</th>\n",
       "      <td>low</td>\n",
       "      <td>low</td>\n",
       "      <td>5more</td>\n",
       "      <td>more</td>\n",
       "      <td>big</td>\n",
       "      <td>low</td>\n",
       "      <td>unacc</td>\n",
       "    </tr>\n",
       "    <tr>\n",
       "      <th>1726</th>\n",
       "      <td>low</td>\n",
       "      <td>low</td>\n",
       "      <td>5more</td>\n",
       "      <td>more</td>\n",
       "      <td>big</td>\n",
       "      <td>med</td>\n",
       "      <td>good</td>\n",
       "    </tr>\n",
       "    <tr>\n",
       "      <th>1727</th>\n",
       "      <td>low</td>\n",
       "      <td>low</td>\n",
       "      <td>5more</td>\n",
       "      <td>more</td>\n",
       "      <td>big</td>\n",
       "      <td>high</td>\n",
       "      <td>vgood</td>\n",
       "    </tr>\n",
       "  </tbody>\n",
       "</table>\n",
       "</div>"
      ],
      "text/plain": [
       "     Buying Maint  Doors Persons Lug_boot Safety  Class\n",
       "1723    low   low  5more    more      med    med   good\n",
       "1724    low   low  5more    more      med   high  vgood\n",
       "1725    low   low  5more    more      big    low  unacc\n",
       "1726    low   low  5more    more      big    med   good\n",
       "1727    low   low  5more    more      big   high  vgood"
      ]
     },
     "execution_count": 127,
     "metadata": {},
     "output_type": "execute_result"
    }
   ],
   "source": [
    "file_path = 'https://archive.ics.uci.edu/ml/machine-learning-databases/car/car.data'\n",
    "df = pd.read_csv(file_path, header = None)\n",
    "df.columns = ['Buying', 'Maint', 'Doors', 'Persons', 'Lug_boot', 'Safety', 'Class']\n",
    "#df = df[(df.Persons != 'more')&(df.Doors != '5more')]\n",
    "df.index = range(len(df))\n",
    "df.tail()"
   ]
  },
  {
   "cell_type": "code",
   "execution_count": 128,
   "metadata": {},
   "outputs": [],
   "source": [
    "# 특징과 라벨 분리\n",
    "X = df.drop('Class', axis = 1)\n",
    "Y = df['Class']"
   ]
  },
  {
   "cell_type": "code",
   "execution_count": 129,
   "metadata": {},
   "outputs": [],
   "source": [
    "# 학습 데이터와 평가 데이터 분리\n",
    "from sklearn.model_selection import train_test_split\n",
    "Train_X, Test_X, Train_Y, Test_Y = train_test_split(X, Y, random_state = 42)"
   ]
  },
  {
   "cell_type": "code",
   "execution_count": 130,
   "metadata": {},
   "outputs": [
    {
     "data": {
      "text/plain": [
       "unacc    916\n",
       "acc      281\n",
       "good      54\n",
       "vgood     45\n",
       "Name: Class, dtype: int64"
      ]
     },
     "execution_count": 130,
     "metadata": {},
     "output_type": "execute_result"
    }
   ],
   "source": [
    "Train_Y.value_counts()"
   ]
  },
  {
   "cell_type": "code",
   "execution_count": 131,
   "metadata": {},
   "outputs": [],
   "source": [
    "# 문자 라벨을 숫자로 치환 -> 여기선 binary로 바꾼다.\n",
    "Train_Y.replace({\"unacc\":-1, \"acc\":-1, \"good\":1, \"vgood\":1 }, inplace = True)\n",
    "Test_Y.replace({\"unacc\":-1, \"acc\":-1, \"good\":1, \"vgood\":1 }, inplace = True)"
   ]
  },
  {
   "cell_type": "code",
   "execution_count": 132,
   "metadata": {},
   "outputs": [
    {
     "data": {
      "text/html": [
       "<div>\n",
       "<style scoped>\n",
       "    .dataframe tbody tr th:only-of-type {\n",
       "        vertical-align: middle;\n",
       "    }\n",
       "\n",
       "    .dataframe tbody tr th {\n",
       "        vertical-align: top;\n",
       "    }\n",
       "\n",
       "    .dataframe thead th {\n",
       "        text-align: right;\n",
       "    }\n",
       "</style>\n",
       "<table border=\"1\" class=\"dataframe\">\n",
       "  <thead>\n",
       "    <tr style=\"text-align: right;\">\n",
       "      <th></th>\n",
       "      <th>Buying</th>\n",
       "      <th>Maint</th>\n",
       "      <th>Doors</th>\n",
       "      <th>Persons</th>\n",
       "      <th>Lug_boot</th>\n",
       "      <th>Safety</th>\n",
       "    </tr>\n",
       "  </thead>\n",
       "  <tbody>\n",
       "    <tr>\n",
       "      <th>1036</th>\n",
       "      <td>med</td>\n",
       "      <td>high</td>\n",
       "      <td>4</td>\n",
       "      <td>4</td>\n",
       "      <td>small</td>\n",
       "      <td>med</td>\n",
       "    </tr>\n",
       "    <tr>\n",
       "      <th>757</th>\n",
       "      <td>high</td>\n",
       "      <td>low</td>\n",
       "      <td>2</td>\n",
       "      <td>2</td>\n",
       "      <td>small</td>\n",
       "      <td>med</td>\n",
       "    </tr>\n",
       "    <tr>\n",
       "      <th>589</th>\n",
       "      <td>high</td>\n",
       "      <td>high</td>\n",
       "      <td>3</td>\n",
       "      <td>more</td>\n",
       "      <td>med</td>\n",
       "      <td>med</td>\n",
       "    </tr>\n",
       "    <tr>\n",
       "      <th>907</th>\n",
       "      <td>med</td>\n",
       "      <td>vhigh</td>\n",
       "      <td>3</td>\n",
       "      <td>4</td>\n",
       "      <td>big</td>\n",
       "      <td>med</td>\n",
       "    </tr>\n",
       "    <tr>\n",
       "      <th>1159</th>\n",
       "      <td>med</td>\n",
       "      <td>med</td>\n",
       "      <td>4</td>\n",
       "      <td>more</td>\n",
       "      <td>big</td>\n",
       "      <td>med</td>\n",
       "    </tr>\n",
       "  </tbody>\n",
       "</table>\n",
       "</div>"
      ],
      "text/plain": [
       "     Buying  Maint Doors Persons Lug_boot Safety\n",
       "1036    med   high     4       4    small    med\n",
       "757    high    low     2       2    small    med\n",
       "589    high   high     3    more      med    med\n",
       "907     med  vhigh     3       4      big    med\n",
       "1159    med    med     4    more      big    med"
      ]
     },
     "execution_count": 132,
     "metadata": {},
     "output_type": "execute_result"
    }
   ],
   "source": [
    "Train_X.head() # Buying, Maint, Lug_boot, safety 변수가 범주형 변수로 판단됨"
   ]
  },
  {
   "cell_type": "code",
   "execution_count": 133,
   "metadata": {},
   "outputs": [
    {
     "name": "stdout",
     "output_type": "stream",
     "text": [
      "<class 'pandas.core.frame.DataFrame'>\n",
      "Int64Index: 1296 entries, 1036 to 1126\n",
      "Data columns (total 6 columns):\n",
      " #   Column    Non-Null Count  Dtype \n",
      "---  ------    --------------  ----- \n",
      " 0   Buying    1296 non-null   object\n",
      " 1   Maint     1296 non-null   object\n",
      " 2   Doors     1296 non-null   object\n",
      " 3   Persons   1296 non-null   object\n",
      " 4   Lug_boot  1296 non-null   object\n",
      " 5   Safety    1296 non-null   object\n",
      "dtypes: object(6)\n",
      "memory usage: 70.9+ KB\n"
     ]
    }
   ],
   "source": [
    "Train_X.info()"
   ]
  },
  {
   "cell_type": "code",
   "execution_count": 134,
   "metadata": {},
   "outputs": [
    {
     "name": "stdout",
     "output_type": "stream",
     "text": [
      "Buying 4\n",
      "Maint 4\n",
      "Doors 4\n",
      "Persons 3\n",
      "Lug_boot 3\n",
      "Safety 3\n"
     ]
    }
   ],
   "source": [
    "# 자세한 범주형 변수 판별 => 모든 변수가 범주형임을 확인\n",
    "for col in Train_X.columns:\n",
    "    print(col, Train_X[col].nunique())"
   ]
  },
  {
   "cell_type": "markdown",
   "metadata": {},
   "source": [
    "### 더미화를 이용한 Categorical variables 처리"
   ]
  },
  {
   "cell_type": "code",
   "execution_count": 135,
   "metadata": {},
   "outputs": [],
   "source": [
    "# 모든 변수가 범주이므로, 더미화를 위해 전부 string 타입으로 변환\n",
    "Train_X = Train_X.astype(str) "
   ]
  },
  {
   "cell_type": "code",
   "execution_count": 136,
   "metadata": {},
   "outputs": [],
   "source": [
    "from feature_engine.categorical_encoders import OneHotCategoricalEncoder as OHE\n",
    "dummy_model = OHE(variables = Train_X.columns.tolist(),\n",
    "                 drop_last = True)\n",
    "\n",
    "dummy_model.fit(Train_X)\n",
    "\n",
    "d_Train_X = dummy_model.transform(Train_X)\n",
    "d_Test_X = dummy_model.transform(Test_X)"
   ]
  },
  {
   "cell_type": "code",
   "execution_count": 137,
   "metadata": {},
   "outputs": [
    {
     "name": "stdout",
     "output_type": "stream",
     "text": [
      "(1296, 15)\n",
      "(432, 15)\n"
     ]
    }
   ],
   "source": [
    "print(d_Train_X.shape)\n",
    "print(d_Test_X.shape)"
   ]
  },
  {
   "cell_type": "code",
   "execution_count": 138,
   "metadata": {},
   "outputs": [
    {
     "data": {
      "text/plain": [
       "0.7999999999999999"
      ]
     },
     "execution_count": 138,
     "metadata": {},
     "output_type": "execute_result"
    }
   ],
   "source": [
    "# 더미화를 한 뒤의 모델 테스트\n",
    "from sklearn.neighbors import KNeighborsClassifier as KNN\n",
    "model = KNN().fit(d_Train_X, Train_Y)\n",
    "pred_Y = model.predict(d_Test_X)\n",
    "\n",
    "from sklearn.metrics import f1_score\n",
    "f1_score(Test_Y, pred_Y)"
   ]
  },
  {
   "cell_type": "markdown",
   "metadata": {},
   "source": [
    "### 연속형 변수로 치환"
   ]
  },
  {
   "cell_type": "code",
   "execution_count": 139,
   "metadata": {},
   "outputs": [
    {
     "name": "stdout",
     "output_type": "stream",
     "text": [
      "{'high': -1.0, 'low': -0.6109422492401215, 'med': -0.7891566265060241, 'vhigh': -1.0}\n",
      "\n",
      "{'high': -0.9335347432024169, 'low': -0.638095238095238, 'med': -0.8115501519756839, 'vhigh': -1.0}\n",
      "\n",
      "{'2': -0.8731117824773413, '3': -0.8691588785046729, '4': -0.8142414860681114, '5more': -0.8317757009345794}\n",
      "\n",
      "{'2': -1.0, '4': -0.7617977528089888, 'more': -0.7835294117647059}\n",
      "\n",
      "{'big': -0.7679814385150812, 'med': -0.8425925925925926, 'small': -0.930715935334873}\n",
      "\n",
      "{'high': -0.6869158878504673, 'low': -1.0, 'med': -0.8504672897196262}\n",
      "\n"
     ]
    }
   ],
   "source": [
    "Train_df = pd.concat([Train_X, Train_Y], axis = 1)\n",
    "f_Test_X = Test_X\n",
    "\n",
    "for col in Train_X.columns: # 보통은 범주 변수만 순회\n",
    "    \n",
    "    # col에 따른 Class의 평균을 나타내는 사전 (replace를 쓰기 위해, 사전으로 만듦)\n",
    "    temp_dict = Train_df.groupby(col)['Class'].mean().to_dict() \n",
    "    print(temp_dict)\n",
    "    print()\n",
    "    \n",
    "    # 변수 치환  \n",
    "    Train_df[col] = Train_df[col].replace(temp_dict)   \n",
    "    \n",
    "    # 테스트 데이터도 같이 치환해줘야 함 (나중에 활용하기 위해서는 저장도 필요)\n",
    "    f_Test_X[col] = Test_X[col].astype(str).replace(temp_dict) "
   ]
  },
  {
   "cell_type": "code",
   "execution_count": 140,
   "metadata": {
    "scrolled": true
   },
   "outputs": [
    {
     "data": {
      "text/html": [
       "<div>\n",
       "<style scoped>\n",
       "    .dataframe tbody tr th:only-of-type {\n",
       "        vertical-align: middle;\n",
       "    }\n",
       "\n",
       "    .dataframe tbody tr th {\n",
       "        vertical-align: top;\n",
       "    }\n",
       "\n",
       "    .dataframe thead th {\n",
       "        text-align: right;\n",
       "    }\n",
       "</style>\n",
       "<table border=\"1\" class=\"dataframe\">\n",
       "  <thead>\n",
       "    <tr style=\"text-align: right;\">\n",
       "      <th></th>\n",
       "      <th>Buying</th>\n",
       "      <th>Maint</th>\n",
       "      <th>Doors</th>\n",
       "      <th>Persons</th>\n",
       "      <th>Lug_boot</th>\n",
       "      <th>Safety</th>\n",
       "      <th>Class</th>\n",
       "    </tr>\n",
       "  </thead>\n",
       "  <tbody>\n",
       "    <tr>\n",
       "      <th>1036</th>\n",
       "      <td>-0.789157</td>\n",
       "      <td>-0.933535</td>\n",
       "      <td>-0.814241</td>\n",
       "      <td>-0.761798</td>\n",
       "      <td>-0.930716</td>\n",
       "      <td>-0.850467</td>\n",
       "      <td>-1</td>\n",
       "    </tr>\n",
       "    <tr>\n",
       "      <th>757</th>\n",
       "      <td>-1.000000</td>\n",
       "      <td>-0.638095</td>\n",
       "      <td>-0.873112</td>\n",
       "      <td>-1.000000</td>\n",
       "      <td>-0.930716</td>\n",
       "      <td>-0.850467</td>\n",
       "      <td>-1</td>\n",
       "    </tr>\n",
       "    <tr>\n",
       "      <th>589</th>\n",
       "      <td>-1.000000</td>\n",
       "      <td>-0.933535</td>\n",
       "      <td>-0.869159</td>\n",
       "      <td>-0.783529</td>\n",
       "      <td>-0.842593</td>\n",
       "      <td>-0.850467</td>\n",
       "      <td>-1</td>\n",
       "    </tr>\n",
       "    <tr>\n",
       "      <th>907</th>\n",
       "      <td>-0.789157</td>\n",
       "      <td>-1.000000</td>\n",
       "      <td>-0.869159</td>\n",
       "      <td>-0.761798</td>\n",
       "      <td>-0.767981</td>\n",
       "      <td>-0.850467</td>\n",
       "      <td>-1</td>\n",
       "    </tr>\n",
       "    <tr>\n",
       "      <th>1159</th>\n",
       "      <td>-0.789157</td>\n",
       "      <td>-0.811550</td>\n",
       "      <td>-0.814241</td>\n",
       "      <td>-0.783529</td>\n",
       "      <td>-0.767981</td>\n",
       "      <td>-0.850467</td>\n",
       "      <td>-1</td>\n",
       "    </tr>\n",
       "  </tbody>\n",
       "</table>\n",
       "</div>"
      ],
      "text/plain": [
       "        Buying     Maint     Doors   Persons  Lug_boot    Safety  Class\n",
       "1036 -0.789157 -0.933535 -0.814241 -0.761798 -0.930716 -0.850467     -1\n",
       "757  -1.000000 -0.638095 -0.873112 -1.000000 -0.930716 -0.850467     -1\n",
       "589  -1.000000 -0.933535 -0.869159 -0.783529 -0.842593 -0.850467     -1\n",
       "907  -0.789157 -1.000000 -0.869159 -0.761798 -0.767981 -0.850467     -1\n",
       "1159 -0.789157 -0.811550 -0.814241 -0.783529 -0.767981 -0.850467     -1"
      ]
     },
     "execution_count": 140,
     "metadata": {},
     "output_type": "execute_result"
    }
   ],
   "source": [
    "Train_df.head()"
   ]
  },
  {
   "cell_type": "code",
   "execution_count": 141,
   "metadata": {},
   "outputs": [],
   "source": [
    "f_Train_X = Train_df.drop('Class', axis = 1)\n",
    "f_Train_Y = Train_df['Class']"
   ]
  },
  {
   "cell_type": "code",
   "execution_count": 142,
   "metadata": {},
   "outputs": [
    {
     "data": {
      "text/plain": [
       "0.8607594936708862"
      ]
     },
     "execution_count": 142,
     "metadata": {},
     "output_type": "execute_result"
    }
   ],
   "source": [
    "# 치환한 뒤의 모델 테스트\n",
    "model = KNN().fit(f_Train_X, f_Train_Y)\n",
    "pred_Y = model.predict(Test_X)\n",
    "\n",
    "f1_score(Test_Y, pred_Y)\n",
    "\n",
    "\n",
    "# 라벨을 고려한 전처리이므로 더미화보다 좋은 결과가 나왔음 => 차원도 줄고 성능 상에 이점이 있음"
   ]
  },
  {
   "cell_type": "markdown",
   "metadata": {},
   "source": [
    "Doors 특징같은 경우에는 값간에 큰 차이가 나지 않는다 -> 연속형 대신에 더미화를 진행해본다.\n"
   ]
  },
  {
   "cell_type": "code",
   "execution_count": 143,
   "metadata": {},
   "outputs": [],
   "source": [
    "Train_df = pd.concat([Train_X, Train_Y], axis = 1)\n",
    "mix_Test_X = Test_X"
   ]
  },
  {
   "cell_type": "code",
   "execution_count": 144,
   "metadata": {},
   "outputs": [
    {
     "name": "stdout",
     "output_type": "stream",
     "text": [
      "{'high': -1.0, 'low': -0.6109422492401215, 'med': -0.7891566265060241, 'vhigh': -1.0}\n",
      "\n",
      "{'high': -0.9335347432024169, 'low': -0.638095238095238, 'med': -0.8115501519756839, 'vhigh': -1.0}\n",
      "\n",
      "{'2': -1.0, '4': -0.7617977528089888, 'more': -0.7835294117647059}\n",
      "\n",
      "{'big': -0.7679814385150812, 'med': -0.8425925925925926, 'small': -0.930715935334873}\n",
      "\n",
      "{'high': -0.6869158878504673, 'low': -1.0, 'med': -0.8504672897196262}\n",
      "\n"
     ]
    }
   ],
   "source": [
    "for col in Train_X.columns: \n",
    "    if col == 'Doors' : continue\n",
    "    \n",
    "    # col에 따른 Class의 평균을 나타내는 사전 (replace를 쓰기 위해, 사전으로 만듦)\n",
    "    temp_dict = Train_df.groupby(col)['Class'].mean().to_dict() \n",
    "    print(temp_dict)\n",
    "    print()\n",
    "    \n",
    "    # 변수 치환  \n",
    "    Train_df[col] = Train_df[col].replace(temp_dict)   \n",
    "    \n",
    "    # 테스트 데이터도 같이 치환해줘야 함 (나중에 활용하기 위해서는 저장도 필요)\n",
    "    mix_Test_X[col] = Test_X[col].astype(str).replace(temp_dict) "
   ]
  },
  {
   "cell_type": "code",
   "execution_count": 145,
   "metadata": {},
   "outputs": [
    {
     "data": {
      "text/html": [
       "<div>\n",
       "<style scoped>\n",
       "    .dataframe tbody tr th:only-of-type {\n",
       "        vertical-align: middle;\n",
       "    }\n",
       "\n",
       "    .dataframe tbody tr th {\n",
       "        vertical-align: top;\n",
       "    }\n",
       "\n",
       "    .dataframe thead th {\n",
       "        text-align: right;\n",
       "    }\n",
       "</style>\n",
       "<table border=\"1\" class=\"dataframe\">\n",
       "  <thead>\n",
       "    <tr style=\"text-align: right;\">\n",
       "      <th></th>\n",
       "      <th>Buying</th>\n",
       "      <th>Maint</th>\n",
       "      <th>Doors</th>\n",
       "      <th>Persons</th>\n",
       "      <th>Lug_boot</th>\n",
       "      <th>Safety</th>\n",
       "      <th>Class</th>\n",
       "    </tr>\n",
       "  </thead>\n",
       "  <tbody>\n",
       "    <tr>\n",
       "      <th>1036</th>\n",
       "      <td>-0.789157</td>\n",
       "      <td>-0.933535</td>\n",
       "      <td>4</td>\n",
       "      <td>-0.761798</td>\n",
       "      <td>-0.930716</td>\n",
       "      <td>-0.850467</td>\n",
       "      <td>-1</td>\n",
       "    </tr>\n",
       "    <tr>\n",
       "      <th>757</th>\n",
       "      <td>-1.000000</td>\n",
       "      <td>-0.638095</td>\n",
       "      <td>2</td>\n",
       "      <td>-1.000000</td>\n",
       "      <td>-0.930716</td>\n",
       "      <td>-0.850467</td>\n",
       "      <td>-1</td>\n",
       "    </tr>\n",
       "    <tr>\n",
       "      <th>589</th>\n",
       "      <td>-1.000000</td>\n",
       "      <td>-0.933535</td>\n",
       "      <td>3</td>\n",
       "      <td>-0.783529</td>\n",
       "      <td>-0.842593</td>\n",
       "      <td>-0.850467</td>\n",
       "      <td>-1</td>\n",
       "    </tr>\n",
       "    <tr>\n",
       "      <th>907</th>\n",
       "      <td>-0.789157</td>\n",
       "      <td>-1.000000</td>\n",
       "      <td>3</td>\n",
       "      <td>-0.761798</td>\n",
       "      <td>-0.767981</td>\n",
       "      <td>-0.850467</td>\n",
       "      <td>-1</td>\n",
       "    </tr>\n",
       "    <tr>\n",
       "      <th>1159</th>\n",
       "      <td>-0.789157</td>\n",
       "      <td>-0.811550</td>\n",
       "      <td>4</td>\n",
       "      <td>-0.783529</td>\n",
       "      <td>-0.767981</td>\n",
       "      <td>-0.850467</td>\n",
       "      <td>-1</td>\n",
       "    </tr>\n",
       "  </tbody>\n",
       "</table>\n",
       "</div>"
      ],
      "text/plain": [
       "        Buying     Maint Doors   Persons  Lug_boot    Safety  Class\n",
       "1036 -0.789157 -0.933535     4 -0.761798 -0.930716 -0.850467     -1\n",
       "757  -1.000000 -0.638095     2 -1.000000 -0.930716 -0.850467     -1\n",
       "589  -1.000000 -0.933535     3 -0.783529 -0.842593 -0.850467     -1\n",
       "907  -0.789157 -1.000000     3 -0.761798 -0.767981 -0.850467     -1\n",
       "1159 -0.789157 -0.811550     4 -0.783529 -0.767981 -0.850467     -1"
      ]
     },
     "execution_count": 145,
     "metadata": {},
     "output_type": "execute_result"
    }
   ],
   "source": [
    "Train_df.head()"
   ]
  },
  {
   "cell_type": "code",
   "execution_count": 146,
   "metadata": {},
   "outputs": [],
   "source": [
    "mix_Train_X = Train_df.drop('Class', axis = 1)\n",
    "mix_Train_Y = Train_df['Class']"
   ]
  },
  {
   "cell_type": "code",
   "execution_count": 150,
   "metadata": {},
   "outputs": [],
   "source": [
    "dummy_model = OHE(variables = ['Doors'],\n",
    "                 drop_last = True)\n",
    "\n",
    "dummy_model.fit(Train_X)\n",
    "\n",
    "mix_Train_X = dummy_model.transform(mix_Train_X)\n",
    "mix_Test_X = dummy_model.transform(mix_Test_X)"
   ]
  },
  {
   "cell_type": "code",
   "execution_count": 153,
   "metadata": {},
   "outputs": [
    {
     "data": {
      "text/html": [
       "<div>\n",
       "<style scoped>\n",
       "    .dataframe tbody tr th:only-of-type {\n",
       "        vertical-align: middle;\n",
       "    }\n",
       "\n",
       "    .dataframe tbody tr th {\n",
       "        vertical-align: top;\n",
       "    }\n",
       "\n",
       "    .dataframe thead th {\n",
       "        text-align: right;\n",
       "    }\n",
       "</style>\n",
       "<table border=\"1\" class=\"dataframe\">\n",
       "  <thead>\n",
       "    <tr style=\"text-align: right;\">\n",
       "      <th></th>\n",
       "      <th>Buying</th>\n",
       "      <th>Maint</th>\n",
       "      <th>Persons</th>\n",
       "      <th>Lug_boot</th>\n",
       "      <th>Safety</th>\n",
       "      <th>Doors_4</th>\n",
       "      <th>Doors_2</th>\n",
       "      <th>Doors_3</th>\n",
       "    </tr>\n",
       "  </thead>\n",
       "  <tbody>\n",
       "    <tr>\n",
       "      <th>1036</th>\n",
       "      <td>-0.789157</td>\n",
       "      <td>-0.933535</td>\n",
       "      <td>-0.761798</td>\n",
       "      <td>-0.930716</td>\n",
       "      <td>-0.850467</td>\n",
       "      <td>1</td>\n",
       "      <td>0</td>\n",
       "      <td>0</td>\n",
       "    </tr>\n",
       "    <tr>\n",
       "      <th>757</th>\n",
       "      <td>-1.000000</td>\n",
       "      <td>-0.638095</td>\n",
       "      <td>-1.000000</td>\n",
       "      <td>-0.930716</td>\n",
       "      <td>-0.850467</td>\n",
       "      <td>0</td>\n",
       "      <td>1</td>\n",
       "      <td>0</td>\n",
       "    </tr>\n",
       "    <tr>\n",
       "      <th>589</th>\n",
       "      <td>-1.000000</td>\n",
       "      <td>-0.933535</td>\n",
       "      <td>-0.783529</td>\n",
       "      <td>-0.842593</td>\n",
       "      <td>-0.850467</td>\n",
       "      <td>0</td>\n",
       "      <td>0</td>\n",
       "      <td>1</td>\n",
       "    </tr>\n",
       "    <tr>\n",
       "      <th>907</th>\n",
       "      <td>-0.789157</td>\n",
       "      <td>-1.000000</td>\n",
       "      <td>-0.761798</td>\n",
       "      <td>-0.767981</td>\n",
       "      <td>-0.850467</td>\n",
       "      <td>0</td>\n",
       "      <td>0</td>\n",
       "      <td>1</td>\n",
       "    </tr>\n",
       "    <tr>\n",
       "      <th>1159</th>\n",
       "      <td>-0.789157</td>\n",
       "      <td>-0.811550</td>\n",
       "      <td>-0.783529</td>\n",
       "      <td>-0.767981</td>\n",
       "      <td>-0.850467</td>\n",
       "      <td>1</td>\n",
       "      <td>0</td>\n",
       "      <td>0</td>\n",
       "    </tr>\n",
       "    <tr>\n",
       "      <th>...</th>\n",
       "      <td>...</td>\n",
       "      <td>...</td>\n",
       "      <td>...</td>\n",
       "      <td>...</td>\n",
       "      <td>...</td>\n",
       "      <td>...</td>\n",
       "      <td>...</td>\n",
       "      <td>...</td>\n",
       "    </tr>\n",
       "    <tr>\n",
       "      <th>1130</th>\n",
       "      <td>-0.789157</td>\n",
       "      <td>-0.811550</td>\n",
       "      <td>-0.783529</td>\n",
       "      <td>-0.842593</td>\n",
       "      <td>-0.686916</td>\n",
       "      <td>0</td>\n",
       "      <td>0</td>\n",
       "      <td>1</td>\n",
       "    </tr>\n",
       "    <tr>\n",
       "      <th>1294</th>\n",
       "      <td>-0.789157</td>\n",
       "      <td>-0.638095</td>\n",
       "      <td>-0.783529</td>\n",
       "      <td>-0.767981</td>\n",
       "      <td>-0.850467</td>\n",
       "      <td>0</td>\n",
       "      <td>0</td>\n",
       "      <td>0</td>\n",
       "    </tr>\n",
       "    <tr>\n",
       "      <th>860</th>\n",
       "      <td>-1.000000</td>\n",
       "      <td>-0.638095</td>\n",
       "      <td>-0.783529</td>\n",
       "      <td>-0.842593</td>\n",
       "      <td>-0.686916</td>\n",
       "      <td>0</td>\n",
       "      <td>0</td>\n",
       "      <td>0</td>\n",
       "    </tr>\n",
       "    <tr>\n",
       "      <th>1459</th>\n",
       "      <td>-0.610942</td>\n",
       "      <td>-0.933535</td>\n",
       "      <td>-1.000000</td>\n",
       "      <td>-0.930716</td>\n",
       "      <td>-0.850467</td>\n",
       "      <td>1</td>\n",
       "      <td>0</td>\n",
       "      <td>0</td>\n",
       "    </tr>\n",
       "    <tr>\n",
       "      <th>1126</th>\n",
       "      <td>-0.789157</td>\n",
       "      <td>-0.811550</td>\n",
       "      <td>-0.783529</td>\n",
       "      <td>-0.930716</td>\n",
       "      <td>-0.850467</td>\n",
       "      <td>0</td>\n",
       "      <td>0</td>\n",
       "      <td>1</td>\n",
       "    </tr>\n",
       "  </tbody>\n",
       "</table>\n",
       "<p>1296 rows × 8 columns</p>\n",
       "</div>"
      ],
      "text/plain": [
       "        Buying     Maint   Persons  Lug_boot    Safety  Doors_4  Doors_2  \\\n",
       "1036 -0.789157 -0.933535 -0.761798 -0.930716 -0.850467        1        0   \n",
       "757  -1.000000 -0.638095 -1.000000 -0.930716 -0.850467        0        1   \n",
       "589  -1.000000 -0.933535 -0.783529 -0.842593 -0.850467        0        0   \n",
       "907  -0.789157 -1.000000 -0.761798 -0.767981 -0.850467        0        0   \n",
       "1159 -0.789157 -0.811550 -0.783529 -0.767981 -0.850467        1        0   \n",
       "...        ...       ...       ...       ...       ...      ...      ...   \n",
       "1130 -0.789157 -0.811550 -0.783529 -0.842593 -0.686916        0        0   \n",
       "1294 -0.789157 -0.638095 -0.783529 -0.767981 -0.850467        0        0   \n",
       "860  -1.000000 -0.638095 -0.783529 -0.842593 -0.686916        0        0   \n",
       "1459 -0.610942 -0.933535 -1.000000 -0.930716 -0.850467        1        0   \n",
       "1126 -0.789157 -0.811550 -0.783529 -0.930716 -0.850467        0        0   \n",
       "\n",
       "      Doors_3  \n",
       "1036        0  \n",
       "757         0  \n",
       "589         1  \n",
       "907         1  \n",
       "1159        0  \n",
       "...       ...  \n",
       "1130        1  \n",
       "1294        0  \n",
       "860         0  \n",
       "1459        0  \n",
       "1126        1  \n",
       "\n",
       "[1296 rows x 8 columns]"
      ]
     },
     "execution_count": 153,
     "metadata": {},
     "output_type": "execute_result"
    }
   ],
   "source": [
    "mix_Train_X"
   ]
  },
  {
   "cell_type": "code",
   "execution_count": 152,
   "metadata": {},
   "outputs": [
    {
     "data": {
      "text/plain": [
       "0.7948717948717948"
      ]
     },
     "execution_count": 152,
     "metadata": {},
     "output_type": "execute_result"
    }
   ],
   "source": [
    "# 치환한 뒤의 모델 테스트\n",
    "model = KNN().fit(mix_Train_X, mix_Train_Y)\n",
    "pred_Y = model.predict(mix_Test_X)\n",
    "\n",
    "f1_score(Test_Y, pred_Y)"
   ]
  }
 ],
 "metadata": {
  "kernelspec": {
   "display_name": "Python 3",
   "language": "python",
   "name": "python3"
  },
  "language_info": {
   "codemirror_mode": {
    "name": "ipython",
    "version": 3
   },
   "file_extension": ".py",
   "mimetype": "text/x-python",
   "name": "python",
   "nbconvert_exporter": "python",
   "pygments_lexer": "ipython3",
   "version": "3.8.3"
  }
 },
 "nbformat": 4,
 "nbformat_minor": 4
}
