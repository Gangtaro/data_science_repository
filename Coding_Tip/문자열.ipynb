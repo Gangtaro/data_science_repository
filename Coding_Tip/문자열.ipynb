{
 "cells": [
  {
   "cell_type": "markdown",
   "metadata": {},
   "source": [
    "### 문자열 삭제 방법"
   ]
  },
  {
   "cell_type": "markdown",
   "metadata": {},
   "source": [
    "#### 양 쪽, 한 쪽 문자열 제거 방법\n",
    "**문자열.string('ABC'):**  \n",
    "문자열에서 양쪽 끝에서 A또는 B또는 C가 아닌 다른 문자가 나올때 까지 삭제\n",
    "\n",
    "- 문자열에서 특정 문자 제거, 끝에서 부터 일치하는 문자 모두 제거\n",
    "- strip : 발가 벗기다. 라는 사전적 의미와 비슷하게 사용. 문자열의 앞 뒤 끝에서 부터 특정 문자열을 제거한다. \n",
    "    - string.strip()\n",
    "    - string.lstrip() 왼쪽만\n",
    "    - string.rstrip() 오른쪽만\n",
    "    - [참고🔗](https://codechacha.com/ko/python-string-strip/)"
   ]
  },
  {
   "cell_type": "code",
   "execution_count": 35,
   "metadata": {
    "scrolled": true
   },
   "outputs": [
    {
     "name": "stdout",
     "output_type": "stream",
     "text": [
      " ASDFASDFADF 1234\n",
      "sdfadsfa\n",
      "aafasfa\n",
      "\\n   aafasfa   \\t\n",
      "\n",
      "vvv... ABCBZXCVZXVC aaavvv\n"
     ]
    }
   ],
   "source": [
    "print('123123123123123131 ASDFASDFADF 12341231231231313'.strip('123'))\n",
    "print('     sdfadsfa      '.strip())\n",
    "print('\\n   aafasfa   \\t'.strip())\n",
    "print(r'\\n   aafasfa   \\t'.strip())\n",
    "# 아무것도 입력하지 않을 경우 공백 제거.\n",
    "# 문자열에서 문자열로 표현이 안되는 \\n, \\t 와 같은 기능적인 요소도 제거한다. \n",
    "# 단, raw string 일 때는 이 또한 문자로 인식하기 때문에 제거하지 않는다.\n",
    "print()\n",
    "print('aaabbbvvv... ABCBZXCVZXVC aaavvv...bbb'.strip('ab.'))"
   ]
  },
  {
   "cell_type": "markdown",
   "metadata": {},
   "source": [
    "### 문자열 대체 방법\n",
    "#### 문자열.replace('A', 'B')\n",
    "A에서 B로 바꾼다."
   ]
  },
  {
   "cell_type": "code",
   "execution_count": 36,
   "metadata": {},
   "outputs": [
    {
     "data": {
      "text/plain": [
       "'OOOOOOOOOOOOOOOOOOOOOOOOOOOOOOOOOO....'"
      ]
     },
     "execution_count": 36,
     "metadata": {},
     "output_type": "execute_result"
    }
   ],
   "source": [
    "'XXXXXOOOOOXXXOXOXOXXXOXOXOXOOOXXXX....'.replace(r'X', 'O')"
   ]
  },
  {
   "cell_type": "markdown",
   "metadata": {},
   "source": [
    "#### re.sub(pattern, repl, string)\n",
    "- string에서 pattern을 찾아 repl로 전부 바꿔준다.\n",
    "- replace에 비해서 장점은 pattern을 좀 더 복잡하게 구성할 수 있다는 것."
   ]
  },
  {
   "cell_type": "code",
   "execution_count": 37,
   "metadata": {},
   "outputs": [
    {
     "data": {
      "text/plain": [
       "'OOOOOOOOO...OOOOOOOOOOO....'"
      ]
     },
     "execution_count": 37,
     "metadata": {},
     "output_type": "execute_result"
    }
   ],
   "source": [
    "import re\n",
    "re.sub(r'[ZXC]', 'O', 'ZXCZXCOZO...COZXCOZXCOO....')"
   ]
  },
  {
   "cell_type": "code",
   "execution_count": null,
   "metadata": {},
   "outputs": [],
   "source": []
  }
 ],
 "metadata": {
  "kernelspec": {
   "display_name": "Python 3",
   "language": "python",
   "name": "python3"
  },
  "language_info": {
   "codemirror_mode": {
    "name": "ipython",
    "version": 3
   },
   "file_extension": ".py",
   "mimetype": "text/x-python",
   "name": "python",
   "nbconvert_exporter": "python",
   "pygments_lexer": "ipython3",
   "version": "3.8.3"
  },
  "toc": {
   "base_numbering": 1,
   "nav_menu": {},
   "number_sections": true,
   "sideBar": true,
   "skip_h1_title": false,
   "title_cell": "Table of Contents",
   "title_sidebar": "Contents",
   "toc_cell": false,
   "toc_position": {},
   "toc_section_display": true,
   "toc_window_display": false
  }
 },
 "nbformat": 4,
 "nbformat_minor": 4
}
