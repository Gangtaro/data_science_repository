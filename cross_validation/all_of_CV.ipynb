{
 "cells": [
  {
   "cell_type": "markdown",
   "metadata": {},
   "source": [
    "# 교차 검증 반복자 (Cross Validation iterators)\n",
    "\n",
    "ref. [참고 자료](https://davinci-ai.tistory.com/18)  \n",
    "**반복자의 선정은 데이터 세트의 모양과 구조에 따라 신중하게 선택이 되어야 합니다. 일반적으로 독립적인지, 동일한 분포인지를 보게 됩니다**\n",
    "\n",
    "1. **데이터가 독립적이고 동일한 분포를 가진 경우**  \n",
    "    - KFold\n",
    "    - RepeatedKFold\n",
    "    - LeaveOneOut(LOO)\n",
    "    - LeavePOutLeaveOneOut(LPO)\n",
    "    \n",
    "    \n",
    "2. **동일한 분포가 아닌 경우**  \n",
    "    - StratifiedKFold \n",
    "    - RepeatedStratifiedKFold\n",
    "    - StratifiedShuffleSplit\n",
    "    \n",
    "    \n",
    "3. **그룹화된 데이터의 경우**  \n",
    "    - GroupKFold\n",
    "    - LeaveOneGroupOut\n",
    "    - LeavePGroupsOut\n",
    "    - GroupShuffleSplit\n",
    "    \n",
    "    \n",
    "4. **시계열 데이터의 경우**  \n",
    "    - TimeSeriesSplit"
   ]
  },
  {
   "cell_type": "markdown",
   "metadata": {},
   "source": [
    "## 데이터가 독립적이고 동일한 분포를 가진 경우\n",
    "### KFold\n",
    "**k-fold cross validation**\n",
    "- 모든 데이터를 K개의 Fold로 나누고, 이를 split하여 총 k번의 시행에서 각각 n번째가 fold를 test set의 역할을 한다. n=1,2, ... , K \n",
    "\n",
    "![kF](./_images/kfold.png){width=\"50\" height=\"50\"}"
   ]
  },
  {
   "cell_type": "code",
   "execution_count": null,
   "metadata": {},
   "outputs": [],
   "source": []
  }
 ],
 "metadata": {
  "kernelspec": {
   "display_name": "Python 3",
   "language": "python",
   "name": "python3"
  },
  "language_info": {
   "codemirror_mode": {
    "name": "ipython",
    "version": 3
   },
   "file_extension": ".py",
   "mimetype": "text/x-python",
   "name": "python",
   "nbconvert_exporter": "python",
   "pygments_lexer": "ipython3",
   "version": "3.8.3"
  },
  "toc": {
   "base_numbering": 1,
   "nav_menu": {},
   "number_sections": true,
   "sideBar": true,
   "skip_h1_title": false,
   "title_cell": "Table of Contents",
   "title_sidebar": "Contents",
   "toc_cell": false,
   "toc_position": {},
   "toc_section_display": true,
   "toc_window_display": false
  }
 },
 "nbformat": 4,
 "nbformat_minor": 4
}
