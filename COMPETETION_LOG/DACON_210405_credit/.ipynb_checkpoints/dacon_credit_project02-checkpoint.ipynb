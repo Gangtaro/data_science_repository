{
 "cells": [
  {
   "cell_type": "code",
   "execution_count": 1,
   "metadata": {},
   "outputs": [
    {
     "name": "stdout",
     "output_type": "stream",
     "text": [
      "Seaborn version :  0.11.1\n"
     ]
    }
   ],
   "source": [
    "# import modules\n",
    "import warnings\n",
    "warnings.filterwarnings('ignore')\n",
    "\n",
    "import glob\n",
    "import pandas as pd\n",
    "import numpy as np\n",
    "import seaborn as sns\n",
    "import matplotlib.pyplot as plt\n",
    "import matplotlib.patches as mpatches\n",
    "\n",
    "import lightgbm as lgb\n",
    "from catboost import CatBoostClassifier, Pool\n",
    "from sklearn.model_selection import StratifiedKFold, KFold\n",
    "from sklearn.preprocessing import OneHotEncoder\n",
    "from sklearn.metrics import confusion_matrix, log_loss, f1_score\n",
    "\n",
    "import random\n",
    "from math import floor\n",
    "from scipy.stats import mode, scoreatpercentile\n",
    "\n",
    "print(\"Seaborn version : \", sns.__version__)\n",
    "sns.set()\n",
    "#sns.set_style('whitegrid')\n",
    "sns.set_color_codes()\n",
    "sns.set_theme(style=\"ticks\", palette=\"pastel\")"
   ]
  },
  {
   "cell_type": "code",
   "execution_count": 2,
   "metadata": {},
   "outputs": [],
   "source": [
    "# upload data\n",
    "train = pd.read_csv('/Users/gangtaro/competition_data/DACON/14thMonthlyDacon/open/train.csv',\n",
    "                   index_col=0)\n",
    "test = pd.read_csv('/Users/gangtaro/competition_data/DACON/14thMonthlyDacon/open/test.csv',\n",
    "                  index_col=0)\n",
    "submit = pd.read_csv('/Users/gangtaro/competition_data/DACON/14thMonthlyDacon/open/sample_submission.csv')"
   ]
  },
  {
   "cell_type": "code",
   "execution_count": 3,
   "metadata": {},
   "outputs": [],
   "source": [
    "for df in [train, test]:\n",
    "    # Categorical features with Binary encode (0 or 1; two categories)\n",
    "    for bin_feature in ['gender', 'car', 'reality', 'work_phone', 'phone', 'email']:\n",
    "        df[bin_feature], uniques = pd.factorize(df[bin_feature])\n",
    "    df.drop('FLAG_MOBIL', axis = 1, inplace = True)\n",
    "    df['adj_DAYS_EMPLOYED_replace_0'] = -df.DAYS_EMPLOYED.replace({365243 : 0})\n",
    "    df['DAYS_EMPLOYED_missing'] = (df.DAYS_EMPLOYED == 365243).astype('int')\n",
    "    df['adj_begin_month'] = -df.begin_month\n",
    "    df['adj_income_type'] = df.income_type\n",
    "    df.loc[df.income_type == 'Student', 'adj_income_type'] = 'Working'\n",
    "    df['adj_edu_type'] = df.edu_type \n",
    "    df.loc[df.edu_type == 'Academic degree', 'adj_edu_type'] = 'Higher education'\n",
    "    df['adj_family_type'] = df['family_type']\n",
    "    df['adj_family_type'].loc[(df.family_type == 'Single / not married')&(df.family_size - df.child_num == 2)] = 'Married'\n",
    "    df['exp_num'] = 0\n",
    "    df['exp_num'].loc[df.family_type == 'Married'] = 2\n",
    "    df['exp_num'].loc[df.family_type == 'Civil marriage'] = 2\n",
    "    df['exp_num'].loc[df.family_type == 'Separated'] = 1\n",
    "    df['exp_num'].loc[df.family_type == 'Single / not married'] = 1\n",
    "    df['exp_num'].loc[df.family_type == 'Widow'] = 1\n",
    "    df['odd_family_size'] = 0\n",
    "    df['odd_family_size'].loc[(df.family_size - df.child_num) != df.exp_num] = 1\n",
    "    df['_single_parents'] = ((df.family_type == 'Single / not married')&(df.child_num != 0)).astype('int')\n",
    "    df['_single_live'] = (df.family_size == 1).astype('int')\n",
    "    df['adj_occyp_type'] = df.occyp_type.fillna('missing')\n",
    "    df['_missing_occyp_type'] = df.occyp_type.isna().astype('int')\n",
    "    df.loc[(df.DAYS_EMPLOYED == 365243)&(df.occyp_type.isna()), 'adj_occyp_type'] = 'inoccyp'\n",
    "    df.loc[(df.DAYS_EMPLOYED != 365243)&(df.occyp_type.isna()), 'adj_occyp_type'] = 'non_enter'\n",
    "    df['_age'] = -df.DAYS_BIRTH/365.25\n",
    "\n",
    "    df['ID'] = \\\n",
    "    df['gender'].astype('str') + \\\n",
    "    df['car'].astype('str') + \\\n",
    "    df['reality'].astype('str') + '_' + \\\n",
    "    df['child_num'].astype('str') + '_' + \\\n",
    "    df['income_total'].astype('str') + '_' + \\\n",
    "    df['income_type'].astype('str') + '_' + \\\n",
    "    df['family_type'].astype('str') + '_' + \\\n",
    "    df['house_type'].astype('str') + '_' + \\\n",
    "    df['phone'].astype('str') + '_' + \\\n",
    "    df['email'].astype('str') + '_' + \\\n",
    "    df['family_size'].astype('str') + '_' + \\\n",
    "    df['DAYS_BIRTH'].astype('str') + '_' + \\\n",
    "    df['DAYS_EMPLOYED'].astype('str') + '_' + \\\n",
    "    df['occyp_type'].astype('str') \n",
    "    \n",
    "    df['_card_num'] = df.groupby('ID').ID.transform(len)\n",
    "    \n",
    "    df['adj_begin_month'] = -df.begin_month\n",
    "    df['_begin_month_max'] = df.groupby('ID').adj_begin_month.transform(max)\n",
    "    df['_begin_month_mean'] = df.groupby('ID').adj_begin_month.transform(np.mean)\n",
    "    df['_begin_month_min'] = df.groupby('ID').adj_begin_month.transform(min)"
   ]
  },
  {
   "cell_type": "code",
   "execution_count": 4,
   "metadata": {},
   "outputs": [],
   "source": [
    "personal_info = train.drop(['credit', 'begin_month'], axis = 1).drop_duplicates(subset=\"ID\", keep='first', inplace=False, ignore_index=True)\n",
    "personal_info_test = pd.concat([train.drop(['credit'], axis = 1), test]).drop(['begin_month'], axis = 1).drop_duplicates(subset=\"ID\", keep='first', inplace=False, ignore_index=True)"
   ]
  },
  {
   "cell_type": "code",
   "execution_count": 5,
   "metadata": {},
   "outputs": [],
   "source": [
    "personal_info = train.drop(['credit', 'begin_month'], axis = 1).drop_duplicates(subset=\"ID\", keep='first', inplace=False, ignore_index=True)\n",
    "personal_info_test = pd.concat([train.drop(['credit'], axis = 1), test]).drop(['begin_month'], axis = 1).drop_duplicates(subset=\"ID\", keep='first', inplace=False, ignore_index=True)\n",
    "\n",
    "for personal_df in [personal_info, personal_info_test]:\n",
    "    ####### 양육비 변수 ######\n",
    "    child_fee = (personal_df.income_total/personal_df.family_size)[(personal_df._age > 33) & (personal_df._age < 37) & (personal_df.child_num == 1)].mean()\n",
    "\n",
    "    def child_fee_age_weights(x) : \n",
    "        from scipy.stats import norm\n",
    "        sd = personal_df._age.std()\n",
    "        return norm(35, scale = sd).pdf(x) / norm(35, scale = sd).pdf(35)\n",
    "    personal_df['child_fees'] = (np.log(personal_df.child_num + 1)/np.log(2)) * (child_fee) * personal_df._age.apply(child_fee_age_weights)\n",
    "\n",
    "    ####### 차유지비 변수 ######\n",
    "    personal_df.income_total.median()*0.1\n",
    "    def car_weight(x):\n",
    "        _med = personal_df.income_total.median()\n",
    "        _max = personal_df.income_total.max()\n",
    "        if x < _med : \n",
    "            return 1\n",
    "        else:\n",
    "            return 1+(x-_med)/(_max-_med)*5\n",
    "    personal_df['car_fees'] = personal_df.income_total.median()*0.1*personal_df.car*personal_df.income_total.apply(car_weight)\n",
    "\n",
    "    ####### 여유금 변수 ######\n",
    "    personal_df['_save_income'] = personal_df.income_total - personal_df.child_fees - personal_df.car_fees\n",
    "\n",
    "    ####### 능력 변수 ######\n",
    "    personal_df['_ability_income_per_age'] = 0\n",
    "    personal_df['_ability_employ_per_age'] = 0\n",
    "    personal_df['_ability_income_per_emp'] = 0\n",
    "    for i in range(len(personal_df)) : \n",
    "        L_age = personal_df._age[i] - 3\n",
    "        R_age = personal_df._age[i] + 3\n",
    "        _gen = personal_df.gender[i]\n",
    "        _ages_df = personal_df[['income_total', 'adj_DAYS_EMPLOYED_replace_0']][(personal_df._age > L_age) & (personal_df._age < R_age) & (personal_df.gender == _gen)]\n",
    "        _med_income = _ages_df['income_total'].median()\n",
    "        _std_income = _ages_df['income_total'].std()\n",
    "        _med_employ = _ages_df['adj_DAYS_EMPLOYED_replace_0'].median()\n",
    "        _std_employ = _ages_df['adj_DAYS_EMPLOYED_replace_0'].std()\n",
    "        _n_df       = _ages_df.shape[0]\n",
    "        personal_df.loc[i, '_ability_income_per_age'] = (personal_df.income_total.iloc[i] - _med_income) / (_std_income /np.sqrt(_n_df))\n",
    "        personal_df.loc[i, '_ability_employ_per_age'] = (personal_df.adj_DAYS_EMPLOYED_replace_0.iloc[i] - _med_employ) / (_std_employ/np.sqrt(_n_df))\n",
    "\n",
    "        if personal_df.adj_DAYS_EMPLOYED_replace_0.iloc[i] != 0:    \n",
    "            L_emp = personal_df.adj_DAYS_EMPLOYED_replace_0 - 365\n",
    "            R_emp = personal_df.adj_DAYS_EMPLOYED_replace_0 + 365\n",
    "            _emps_df = personal_df.income_total[(personal_df.adj_DAYS_EMPLOYED_replace_0 > L_emp)&(personal_df.adj_DAYS_EMPLOYED_replace_0 < R_emp)]\n",
    "            _med = _emps_df.median()\n",
    "            _std = _emps_df.std()\n",
    "            personal_df.loc[i, '_ability_income_per_emp'] = (personal_df.income_total.iloc[i] - _med)/(_std/np.sqrt(_n_df))"
   ]
  },
  {
   "cell_type": "code",
   "execution_count": 6,
   "metadata": {},
   "outputs": [],
   "source": [
    "train  = pd.merge(train, personal_info[['ID', '_save_income', 'child_fees', 'car_fees', '_ability_income_per_age', '_ability_employ_per_age', '_ability_income_per_emp']], on = 'ID', how = 'left')\n",
    "test = pd.merge(test, personal_info_test[['ID', '_save_income', 'child_fees', 'car_fees', '_ability_income_per_age', '_ability_employ_per_age', '_ability_income_per_emp']], on = 'ID', how = 'left')"
   ]
  },
  {
   "cell_type": "code",
   "execution_count": 7,
   "metadata": {},
   "outputs": [],
   "source": [
    "for df in [train, test]:\n",
    "    #카드 소유자가 가진 카드들에 할당할 수 있는 금액을 고려\n",
    "    df['_income_per_cards']  = df.income_total / np.log(1+df._card_num)\n",
    "    df['_save_per_cards']    = df._save_income / np.log(1+df._card_num)\n",
    "\n",
    "    # 가족들에게 할당 될 수 있는 소득 그리고 여유자금을 고려\n",
    "    df['_income_per_family'] = df.income_total / df.family_size\n",
    "    df['_save_per_family']   = df._save_income / df.family_size"
   ]
  },
  {
   "cell_type": "code",
   "execution_count": 8,
   "metadata": {
    "scrolled": true
   },
   "outputs": [],
   "source": [
    "# dont touch : original\n",
    "features = ['gender', 'car', 'reality', 'child_num', 'income_total', 'adj_income_type', 'adj_edu_type', \n",
    "            'adj_family_type', 'house_type', '_age', 'adj_DAYS_EMPLOYED_replace_0', 'DAYS_EMPLOYED_missing',\n",
    "            'adj_begin_month', 'work_phone', 'phone', 'email', 'adj_occyp_type', '_missing_occyp_type', 'odd_family_size', \n",
    "            '_single_parents', '_single_live', 'ID', '_card_num', '_begin_month_max', '_begin_month_mean', '_begin_month_min',\n",
    "            '_income_per_cards', '_save_per_cards', '_income_per_family', '_save_per_family', '_save_income',\n",
    "            '_ability_income_per_age', '_ability_employ_per_age', '_ability_income_per_emp']"
   ]
  },
  {
   "cell_type": "code",
   "execution_count": 9,
   "metadata": {
    "scrolled": true
   },
   "outputs": [],
   "source": [
    "features = ['gender', 'car', 'reality', 'child_num', 'adj_income_type', 'adj_edu_type', \n",
    "            'adj_family_type', 'house_type', '_age', 'adj_DAYS_EMPLOYED_replace_0',\n",
    "            'adj_begin_month', 'work_phone', 'phone', 'email', 'adj_occyp_type', \n",
    "            'ID', '_begin_month_min',\n",
    "            '_save_per_cards', '_save_per_family', '_save_income',\n",
    "            '_ability_income_per_age']"
   ]
  },
  {
   "cell_type": "code",
   "execution_count": 10,
   "metadata": {},
   "outputs": [
    {
     "name": "stdout",
     "output_type": "stream",
     "text": [
      "Number of Numerical features:  15\n",
      "Number of Categorical features:  6\n"
     ]
    }
   ],
   "source": [
    "numerical_feats = train[features].dtypes[train[features].dtypes != \"object\"].index.tolist()\n",
    "#numerical_feats.remove('credit')\n",
    "print(\"Number of Numerical features: \", len(numerical_feats))\n",
    "\n",
    "categorical_feats = train[features].dtypes[train[features].dtypes == \"object\"].index.tolist()\n",
    "print(\"Number of Categorical features: \", len(categorical_feats))"
   ]
  },
  {
   "cell_type": "code",
   "execution_count": 11,
   "metadata": {},
   "outputs": [],
   "source": [
    "from category_encoders.ordinal import OrdinalEncoder"
   ]
  },
  {
   "cell_type": "code",
   "execution_count": 12,
   "metadata": {},
   "outputs": [],
   "source": [
    "encoder = OrdinalEncoder(categorical_feats)\n",
    "train[categorical_feats] = encoder.fit_transform(train[categorical_feats], train['credit'])\n",
    "test[categorical_feats] = encoder.transform(test[categorical_feats])"
   ]
  },
  {
   "cell_type": "code",
   "execution_count": 13,
   "metadata": {},
   "outputs": [],
   "source": [
    "train['ID'] = train['ID'].astype('int64')\n",
    "test['ID'] = test['ID'].astype('int64')"
   ]
  },
  {
   "cell_type": "code",
   "execution_count": 14,
   "metadata": {},
   "outputs": [],
   "source": [
    "from sklearn.cluster import KMeans"
   ]
  },
  {
   "cell_type": "code",
   "execution_count": 15,
   "metadata": {},
   "outputs": [],
   "source": [
    "kmeans_train = train.drop(['credit'], axis=1)[features]\n",
    "kmeans = KMeans(n_clusters=36, random_state=42).fit(kmeans_train)\n",
    "train['cluster'] = kmeans.predict(kmeans_train)\n",
    "test['cluster'] = kmeans.predict(test[features])\n",
    "features.append('cluster')"
   ]
  },
  {
   "cell_type": "code",
   "execution_count": 16,
   "metadata": {},
   "outputs": [],
   "source": [
    "from sklearn.preprocessing import StandardScaler\n",
    "scaler = StandardScaler()\n",
    "train[numerical_feats] = scaler.fit_transform(train[numerical_feats])\n",
    "test[numerical_feats] = scaler.transform(test[numerical_feats])"
   ]
  },
  {
   "cell_type": "code",
   "execution_count": 17,
   "metadata": {},
   "outputs": [],
   "source": [
    "n_est = 2000\n",
    "seed = 42\n",
    "n_fold = 15\n",
    "n_class = 3\n",
    "\n",
    "target = 'credit'\n",
    "X = train.drop(target, axis=1)[features]\n",
    "y = train[target]\n",
    "X_test = test[features]"
   ]
  },
  {
   "cell_type": "code",
   "execution_count": 18,
   "metadata": {},
   "outputs": [
    {
     "name": "stdout",
     "output_type": "stream",
     "text": [
      "<class 'pandas.core.frame.DataFrame'>\n",
      "Int64Index: 26457 entries, 0 to 26456\n",
      "Data columns (total 22 columns):\n",
      " #   Column                       Non-Null Count  Dtype  \n",
      "---  ------                       --------------  -----  \n",
      " 0   gender                       26457 non-null  float64\n",
      " 1   car                          26457 non-null  float64\n",
      " 2   reality                      26457 non-null  float64\n",
      " 3   child_num                    26457 non-null  float64\n",
      " 4   adj_income_type              26457 non-null  int64  \n",
      " 5   adj_edu_type                 26457 non-null  int64  \n",
      " 6   adj_family_type              26457 non-null  int64  \n",
      " 7   house_type                   26457 non-null  int64  \n",
      " 8   _age                         26457 non-null  float64\n",
      " 9   adj_DAYS_EMPLOYED_replace_0  26457 non-null  float64\n",
      " 10  adj_begin_month              26457 non-null  float64\n",
      " 11  work_phone                   26457 non-null  float64\n",
      " 12  phone                        26457 non-null  float64\n",
      " 13  email                        26457 non-null  float64\n",
      " 14  adj_occyp_type               26457 non-null  int64  \n",
      " 15  ID                           26457 non-null  int64  \n",
      " 16  _begin_month_min             26457 non-null  float64\n",
      " 17  _save_per_cards              26457 non-null  float64\n",
      " 18  _save_per_family             26457 non-null  float64\n",
      " 19  _save_income                 26457 non-null  float64\n",
      " 20  _ability_income_per_age      26457 non-null  float64\n",
      " 21  cluster                      26457 non-null  int32  \n",
      "dtypes: float64(15), int32(1), int64(6)\n",
      "memory usage: 4.5 MB\n"
     ]
    }
   ],
   "source": [
    "X.info()"
   ]
  },
  {
   "cell_type": "code",
   "execution_count": 19,
   "metadata": {},
   "outputs": [],
   "source": [
    "cat_cols = ['adj_income_type', 'adj_edu_type', 'adj_family_type', 'house_type', 'adj_occyp_type', 'odd_family_size', 'ID']"
   ]
  },
  {
   "cell_type": "code",
   "execution_count": 20,
   "metadata": {
    "scrolled": false
   },
   "outputs": [
    {
     "name": "stdout",
     "output_type": "stream",
     "text": [
      "\n",
      "----------------- Fold 0 -----------------\n",
      "\n",
      "Learning rate set to 0.115128\n",
      "0:\tlearn: 1.0356022\ttest: 1.0337907\tbest: 1.0337907 (0)\ttotal: 86.8ms\tremaining: 1m 26s\n",
      "100:\tlearn: 0.7020634\ttest: 0.6580129\tbest: 0.6580129 (100)\ttotal: 2.25s\tremaining: 20s\n",
      "200:\tlearn: 0.6820373\ttest: 0.6552405\tbest: 0.6552356 (197)\ttotal: 4.67s\tremaining: 18.6s\n",
      "300:\tlearn: 0.6643356\ttest: 0.6533751\tbest: 0.6529750 (296)\ttotal: 7.04s\tremaining: 16.3s\n",
      "400:\tlearn: 0.6486975\ttest: 0.6542770\tbest: 0.6526693 (325)\ttotal: 9.38s\tremaining: 14s\n",
      "Stopped by overfitting detector  (100 iterations wait)\n",
      "\n",
      "bestTest = 0.6526693483\n",
      "bestIteration = 325\n",
      "\n",
      "Shrink model to first 326 iterations.\n",
      "CV Log Loss Score: 0.652669\n",
      "\n",
      "----------------- Fold 1 -----------------\n",
      "\n",
      "Learning rate set to 0.115128\n",
      "0:\tlearn: 1.0355978\ttest: 1.0338782\tbest: 1.0338782 (0)\ttotal: 24.8ms\tremaining: 24.8s\n",
      "100:\tlearn: 0.7049792\ttest: 0.6547742\tbest: 0.6547463 (99)\ttotal: 2.13s\tremaining: 19s\n",
      "200:\tlearn: 0.6850180\ttest: 0.6519373\tbest: 0.6518897 (190)\ttotal: 4.85s\tremaining: 19.3s\n",
      "300:\tlearn: 0.6686056\ttest: 0.6526686\tbest: 0.6512732 (228)\ttotal: 7.46s\tremaining: 17.3s\n",
      "Stopped by overfitting detector  (100 iterations wait)\n",
      "\n",
      "bestTest = 0.6512731965\n",
      "bestIteration = 228\n",
      "\n",
      "Shrink model to first 229 iterations.\n",
      "CV Log Loss Score: 0.651273\n",
      "\n",
      "----------------- Fold 2 -----------------\n",
      "\n",
      "Learning rate set to 0.115128\n",
      "0:\tlearn: 1.0353117\ttest: 1.0360777\tbest: 1.0360777 (0)\ttotal: 25.1ms\tremaining: 25.1s\n",
      "100:\tlearn: 0.7045382\ttest: 0.6549547\tbest: 0.6549547 (100)\ttotal: 2.2s\tremaining: 19.6s\n",
      "200:\tlearn: 0.6829171\ttest: 0.6531326\tbest: 0.6526686 (136)\ttotal: 4.73s\tremaining: 18.8s\n",
      "300:\tlearn: 0.6649526\ttest: 0.6526030\tbest: 0.6524306 (239)\ttotal: 7.33s\tremaining: 17s\n",
      "400:\tlearn: 0.6478389\ttest: 0.6543695\tbest: 0.6523782 (350)\ttotal: 9.98s\tremaining: 14.9s\n",
      "Stopped by overfitting detector  (100 iterations wait)\n",
      "\n",
      "bestTest = 0.6523782471\n",
      "bestIteration = 350\n",
      "\n",
      "Shrink model to first 351 iterations.\n",
      "CV Log Loss Score: 0.652378\n",
      "\n",
      "----------------- Fold 3 -----------------\n",
      "\n",
      "Learning rate set to 0.115128\n",
      "0:\tlearn: 1.0327645\ttest: 1.0341682\tbest: 1.0341682 (0)\ttotal: 26.4ms\tremaining: 26.3s\n",
      "100:\tlearn: 0.7036470\ttest: 0.6767660\tbest: 0.6767660 (100)\ttotal: 2.11s\tremaining: 18.8s\n",
      "200:\tlearn: 0.6835976\ttest: 0.6755198\tbest: 0.6746214 (142)\ttotal: 4.67s\tremaining: 18.6s\n",
      "Stopped by overfitting detector  (100 iterations wait)\n",
      "\n",
      "bestTest = 0.6746214283\n",
      "bestIteration = 142\n",
      "\n",
      "Shrink model to first 143 iterations.\n",
      "CV Log Loss Score: 0.674621\n",
      "\n",
      "----------------- Fold 4 -----------------\n",
      "\n",
      "Learning rate set to 0.115128\n",
      "0:\tlearn: 1.0346093\ttest: 1.0353661\tbest: 1.0353661 (0)\ttotal: 27.6ms\tremaining: 27.5s\n",
      "100:\tlearn: 0.7028658\ttest: 0.6712961\tbest: 0.6712961 (100)\ttotal: 2.29s\tremaining: 20.4s\n",
      "200:\tlearn: 0.6818778\ttest: 0.6701741\tbest: 0.6691142 (145)\ttotal: 4.92s\tremaining: 19.6s\n",
      "Stopped by overfitting detector  (100 iterations wait)\n",
      "\n",
      "bestTest = 0.6691142475\n",
      "bestIteration = 145\n",
      "\n",
      "Shrink model to first 146 iterations.\n",
      "CV Log Loss Score: 0.669114\n",
      "\n",
      "----------------- Fold 5 -----------------\n",
      "\n",
      "Learning rate set to 0.115128\n",
      "0:\tlearn: 1.0352781\ttest: 1.0359223\tbest: 1.0359223 (0)\ttotal: 28.2ms\tremaining: 28.1s\n",
      "100:\tlearn: 0.7048566\ttest: 0.6679510\tbest: 0.6679510 (100)\ttotal: 2.42s\tremaining: 21.5s\n",
      "200:\tlearn: 0.6831065\ttest: 0.6644829\tbest: 0.6643882 (192)\ttotal: 5.27s\tremaining: 20.9s\n",
      "300:\tlearn: 0.6657402\ttest: 0.6631799\tbest: 0.6629992 (291)\ttotal: 8.16s\tremaining: 19s\n",
      "400:\tlearn: 0.6487232\ttest: 0.6632471\tbest: 0.6624068 (331)\ttotal: 11s\tremaining: 16.4s\n",
      "Stopped by overfitting detector  (100 iterations wait)\n",
      "\n",
      "bestTest = 0.662406798\n",
      "bestIteration = 331\n",
      "\n",
      "Shrink model to first 332 iterations.\n",
      "CV Log Loss Score: 0.662407\n",
      "\n",
      "----------------- Fold 6 -----------------\n",
      "\n",
      "Learning rate set to 0.115128\n",
      "0:\tlearn: 1.0354313\ttest: 1.0349916\tbest: 1.0349916 (0)\ttotal: 33.3ms\tremaining: 33.2s\n",
      "100:\tlearn: 0.7024366\ttest: 0.6807728\tbest: 0.6807644 (99)\ttotal: 2.59s\tremaining: 23s\n",
      "200:\tlearn: 0.6810958\ttest: 0.6799568\tbest: 0.6792969 (177)\ttotal: 5.47s\tremaining: 21.8s\n",
      "300:\tlearn: 0.6627683\ttest: 0.6791411\tbest: 0.6790500 (292)\ttotal: 8.22s\tremaining: 19.1s\n",
      "400:\tlearn: 0.6471305\ttest: 0.6797917\tbest: 0.6788291 (312)\ttotal: 11.2s\tremaining: 16.7s\n",
      "Stopped by overfitting detector  (100 iterations wait)\n",
      "\n",
      "bestTest = 0.6788291117\n",
      "bestIteration = 312\n",
      "\n",
      "Shrink model to first 313 iterations.\n",
      "CV Log Loss Score: 0.678829\n",
      "\n",
      "----------------- Fold 7 -----------------\n",
      "\n",
      "Learning rate set to 0.115128\n",
      "0:\tlearn: 1.0354071\ttest: 1.0353909\tbest: 1.0353909 (0)\ttotal: 31.3ms\tremaining: 31.3s\n",
      "100:\tlearn: 0.7025463\ttest: 0.6711617\tbest: 0.6711233 (98)\ttotal: 2.55s\tremaining: 22.7s\n",
      "200:\tlearn: 0.6824494\ttest: 0.6685703\tbest: 0.6684228 (156)\ttotal: 5.4s\tremaining: 21.5s\n",
      "Stopped by overfitting detector  (100 iterations wait)\n",
      "\n",
      "bestTest = 0.668422768\n",
      "bestIteration = 156\n",
      "\n",
      "Shrink model to first 157 iterations.\n",
      "CV Log Loss Score: 0.668423\n",
      "\n",
      "----------------- Fold 8 -----------------\n",
      "\n",
      "Learning rate set to 0.115128\n",
      "0:\tlearn: 1.0326553\ttest: 1.0340134\tbest: 1.0340134 (0)\ttotal: 30.3ms\tremaining: 30.3s\n",
      "100:\tlearn: 0.7014838\ttest: 0.6874151\tbest: 0.6874151 (100)\ttotal: 2.59s\tremaining: 23.1s\n",
      "200:\tlearn: 0.6809552\ttest: 0.6842512\tbest: 0.6842237 (199)\ttotal: 5.55s\tremaining: 22.1s\n",
      "300:\tlearn: 0.6638470\ttest: 0.6843632\tbest: 0.6836018 (246)\ttotal: 8.32s\tremaining: 19.3s\n",
      "400:\tlearn: 0.6464162\ttest: 0.6830239\tbest: 0.6829178 (348)\ttotal: 11s\tremaining: 16.5s\n",
      "500:\tlearn: 0.6299363\ttest: 0.6836102\tbest: 0.6827689 (441)\ttotal: 13.9s\tremaining: 13.8s\n",
      "Stopped by overfitting detector  (100 iterations wait)\n",
      "\n",
      "bestTest = 0.6827688812\n",
      "bestIteration = 441\n",
      "\n",
      "Shrink model to first 442 iterations.\n",
      "CV Log Loss Score: 0.682769\n",
      "\n",
      "----------------- Fold 9 -----------------\n",
      "\n",
      "Learning rate set to 0.115128\n",
      "0:\tlearn: 1.0353690\ttest: 1.0354222\tbest: 1.0354222 (0)\ttotal: 11ms\tremaining: 11s\n",
      "100:\tlearn: 0.7043146\ttest: 0.6588484\tbest: 0.6588484 (100)\ttotal: 2.5s\tremaining: 22.3s\n",
      "200:\tlearn: 0.6829244\ttest: 0.6549550\tbest: 0.6548940 (197)\ttotal: 5.17s\tremaining: 20.6s\n",
      "300:\tlearn: 0.6660075\ttest: 0.6542590\tbest: 0.6541374 (258)\ttotal: 8.02s\tremaining: 18.6s\n",
      "400:\tlearn: 0.6490863\ttest: 0.6554001\tbest: 0.6540615 (302)\ttotal: 10.9s\tremaining: 16.2s\n",
      "Stopped by overfitting detector  (100 iterations wait)\n",
      "\n",
      "bestTest = 0.6540614994\n",
      "bestIteration = 302\n",
      "\n",
      "Shrink model to first 303 iterations.\n",
      "CV Log Loss Score: 0.654061\n",
      "\n",
      "----------------- Fold 10 -----------------\n",
      "\n",
      "Learning rate set to 0.115128\n",
      "0:\tlearn: 1.0345400\ttest: 1.0347531\tbest: 1.0347531 (0)\ttotal: 29.6ms\tremaining: 29.6s\n",
      "100:\tlearn: 0.7041445\ttest: 0.6567888\tbest: 0.6567484 (99)\ttotal: 2.33s\tremaining: 20.7s\n",
      "200:\tlearn: 0.6839265\ttest: 0.6542821\tbest: 0.6541548 (190)\ttotal: 5s\tremaining: 19.9s\n",
      "300:\tlearn: 0.6660152\ttest: 0.6541096\tbest: 0.6526560 (240)\ttotal: 7.79s\tremaining: 18.1s\n",
      "Stopped by overfitting detector  (100 iterations wait)\n",
      "\n",
      "bestTest = 0.6526560231\n",
      "bestIteration = 240\n",
      "\n",
      "Shrink model to first 241 iterations.\n",
      "CV Log Loss Score: 0.652656\n",
      "\n",
      "----------------- Fold 11 -----------------\n",
      "\n",
      "Learning rate set to 0.115128\n",
      "0:\tlearn: 1.0327615\ttest: 1.0334971\tbest: 1.0334971 (0)\ttotal: 33.5ms\tremaining: 33.5s\n",
      "100:\tlearn: 0.7044753\ttest: 0.6888220\tbest: 0.6887203 (93)\ttotal: 2.37s\tremaining: 21.1s\n",
      "200:\tlearn: 0.6839271\ttest: 0.6876058\tbest: 0.6873321 (182)\ttotal: 5.09s\tremaining: 20.2s\n",
      "300:\tlearn: 0.6662298\ttest: 0.6870189\tbest: 0.6857466 (257)\ttotal: 7.91s\tremaining: 18.4s\n",
      "Stopped by overfitting detector  (100 iterations wait)\n",
      "\n",
      "bestTest = 0.6857465819\n",
      "bestIteration = 257\n",
      "\n",
      "Shrink model to first 258 iterations.\n",
      "CV Log Loss Score: 0.685747\n",
      "\n",
      "----------------- Fold 12 -----------------\n",
      "\n",
      "Learning rate set to 0.115128\n",
      "0:\tlearn: 1.0345814\ttest: 1.0357040\tbest: 1.0357040 (0)\ttotal: 27.3ms\tremaining: 27.2s\n",
      "100:\tlearn: 0.7041985\ttest: 0.6592501\tbest: 0.6592238 (99)\ttotal: 2.25s\tremaining: 20s\n",
      "200:\tlearn: 0.6824837\ttest: 0.6557089\tbest: 0.6557089 (200)\ttotal: 4.85s\tremaining: 19.3s\n",
      "300:\tlearn: 0.6653838\ttest: 0.6566866\tbest: 0.6553754 (221)\ttotal: 7.52s\tremaining: 17.5s\n",
      "Stopped by overfitting detector  (100 iterations wait)\n",
      "\n",
      "bestTest = 0.6553753969\n",
      "bestIteration = 221\n",
      "\n",
      "Shrink model to first 222 iterations.\n",
      "CV Log Loss Score: 0.655375\n",
      "\n",
      "----------------- Fold 13 -----------------\n",
      "\n",
      "Learning rate set to 0.115128\n",
      "0:\tlearn: 1.0346110\ttest: 1.0325742\tbest: 1.0325742 (0)\ttotal: 26.5ms\tremaining: 26.4s\n"
     ]
    },
    {
     "name": "stdout",
     "output_type": "stream",
     "text": [
      "100:\tlearn: 0.7011129\ttest: 0.6900982\tbest: 0.6900089 (93)\ttotal: 2.38s\tremaining: 21.2s\n",
      "200:\tlearn: 0.6801819\ttest: 0.6899436\tbest: 0.6886592 (116)\ttotal: 5.12s\tremaining: 20.3s\n",
      "Stopped by overfitting detector  (100 iterations wait)\n",
      "\n",
      "bestTest = 0.6886591636\n",
      "bestIteration = 116\n",
      "\n",
      "Shrink model to first 117 iterations.\n",
      "CV Log Loss Score: 0.688659\n",
      "\n",
      "----------------- Fold 14 -----------------\n",
      "\n",
      "Learning rate set to 0.115128\n",
      "0:\tlearn: 1.0348394\ttest: 1.0338851\tbest: 1.0338851 (0)\ttotal: 26.7ms\tremaining: 26.7s\n",
      "100:\tlearn: 0.7028342\ttest: 0.6623870\tbest: 0.6623870 (100)\ttotal: 2.3s\tremaining: 20.5s\n",
      "200:\tlearn: 0.6829313\ttest: 0.6598756\tbest: 0.6598756 (200)\ttotal: 5.1s\tremaining: 20.3s\n",
      "300:\tlearn: 0.6634539\ttest: 0.6584603\tbest: 0.6584139 (298)\ttotal: 7.98s\tremaining: 18.5s\n",
      "400:\tlearn: 0.6467664\ttest: 0.6584486\tbest: 0.6583447 (351)\ttotal: 10.7s\tremaining: 16s\n",
      "Stopped by overfitting detector  (100 iterations wait)\n",
      "\n",
      "bestTest = 0.6583446875\n",
      "bestIteration = 351\n",
      "\n",
      "Shrink model to first 352 iterations.\n",
      "CV Log Loss Score: 0.658345\n",
      "\tLog Loss: 0.665822\n"
     ]
    }
   ],
   "source": [
    "skfold = StratifiedKFold(n_splits=n_fold, shuffle=True, random_state=seed)\n",
    "folds=[]\n",
    "for train_idx, valid_idx in skfold.split(X, y):\n",
    "        folds.append((train_idx, valid_idx))\n",
    "\n",
    "cat_pred = np.zeros((X.shape[0], n_class))\n",
    "cat_pred_test = np.zeros((X_test.shape[0], n_class))\n",
    "cat_cols = ['adj_income_type', 'adj_edu_type', 'adj_family_type', 'house_type', 'adj_occyp_type', 'ID']\n",
    "for fold in range(n_fold):\n",
    "    print(f'\\n----------------- Fold {fold} -----------------\\n')\n",
    "    train_idx, valid_idx = folds[fold]\n",
    "    X_train, X_valid, y_train, y_valid = X.iloc[train_idx], X.iloc[valid_idx], y[train_idx], y[valid_idx]\n",
    "    train_data = Pool(data=X_train, label=y_train, cat_features=cat_cols)\n",
    "    valid_data = Pool(data=X_valid, label=y_valid, cat_features=cat_cols)\n",
    "\n",
    "    model_cat = CatBoostClassifier()\n",
    "    model_cat.fit(train_data, eval_set=valid_data, use_best_model=True, early_stopping_rounds=100, verbose=100)\n",
    "\n",
    "    cat_pred[valid_idx] = model_cat.predict_proba(X_valid)\n",
    "    cat_pred_test += model_cat.predict_proba(X_test) / n_fold\n",
    "    print(f'CV Log Loss Score: {log_loss(y_valid, cat_pred[valid_idx]):.6f}')\n",
    "    \n",
    "print(f'\\tLog Loss: {log_loss(y, cat_pred):.6f}')"
   ]
  },
  {
   "cell_type": "code",
   "execution_count": 21,
   "metadata": {},
   "outputs": [
    {
     "data": {
      "image/png": "[encoded data removed]",
      "text/plain": [
       "<Figure size 720x576 with 1 Axes>"
      ]
     },
     "metadata": {},
     "output_type": "display_data"
    }
   ],
   "source": [
    "def plot_feature_importance(importance,names,model_type):\n",
    "    \n",
    "    feature_importance = np.array(importance)\n",
    "    feature_names = np.array(names)\n",
    "    \n",
    "    data={'feature_names':feature_names,'feature_importance':feature_importance}\n",
    "    fi_df = pd.DataFrame(data)\n",
    "    \n",
    "    fi_df.sort_values(by=['feature_importance'], ascending=False,inplace=True)\n",
    "\n",
    "    plt.figure(figsize=(10,8))\n",
    "\n",
    "    sns.barplot(x=fi_df['feature_importance'], y=fi_df['feature_names'])\n",
    "\n",
    "    plt.title(model_type + ' Feature Importance')\n",
    "    plt.xlabel('Feature Importance')\n",
    "    plt.ylabel('Feature Names')\n",
    "\n",
    "plot_feature_importance(model_cat.get_feature_importance(),X_test.columns,'CATBOOST')"
   ]
  },
  {
   "cell_type": "code",
   "execution_count": 22,
   "metadata": {},
   "outputs": [
    {
     "data": {
      "text/plain": [
       "array([[0.10500467, 0.11724542, 0.77774991],\n",
       "       [0.1199556 , 0.13017103, 0.74987337],\n",
       "       [0.10079793, 0.12780138, 0.7714007 ],\n",
       "       ...,\n",
       "       [0.09119325, 0.19694215, 0.7118646 ],\n",
       "       [0.10371895, 0.13961266, 0.75666839],\n",
       "       [0.09182906, 0.17283026, 0.73534068]])"
      ]
     },
     "execution_count": 22,
     "metadata": {},
     "output_type": "execute_result"
    }
   ],
   "source": [
    "cat_pred_test"
   ]
  },
  {
   "cell_type": "code",
   "execution_count": 23,
   "metadata": {},
   "outputs": [],
   "source": [
    "for i in range(3):\n",
    "    submit[str(i)] = cat_pred_test[:,i]"
   ]
  },
  {
   "cell_type": "code",
   "execution_count": 24,
   "metadata": {},
   "outputs": [],
   "source": [
    "submit.to_csv('/Users/gangtaro/competition_data/DACON/14thMonthlyDacon/open/preprocessing/catboost_rank03.csv', index = False)"
   ]
  },
  {
   "cell_type": "code",
   "execution_count": null,
   "metadata": {},
   "outputs": [],
   "source": []
  }
 ],
 "metadata": {
  "kernelspec": {
   "display_name": "Python 3",
   "language": "python",
   "name": "python3"
  },
  "language_info": {
   "codemirror_mode": {
    "name": "ipython",
    "version": 3
   },
   "file_extension": ".py",
   "mimetype": "text/x-python",
   "name": "python",
   "nbconvert_exporter": "python",
   "pygments_lexer": "ipython3",
   "version": "3.8.3"
  },
  "toc": {
   "base_numbering": 1,
   "nav_menu": {},
   "number_sections": true,
   "sideBar": true,
   "skip_h1_title": false,
   "title_cell": "Table of Contents",
   "title_sidebar": "Contents",
   "toc_cell": false,
   "toc_position": {},
   "toc_section_display": true,
   "toc_window_display": false
  }
 },
 "nbformat": 4,
 "nbformat_minor": 4
}
