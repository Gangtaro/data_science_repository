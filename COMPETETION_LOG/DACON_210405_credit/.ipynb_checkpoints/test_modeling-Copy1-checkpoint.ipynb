{
 "cells": [
  {
   "cell_type": "code",
   "execution_count": 202,
   "metadata": {},
   "outputs": [
    {
     "name": "stdout",
     "output_type": "stream",
     "text": [
      "Seaborn version :  0.11.1\n"
     ]
    }
   ],
   "source": [
    "# import modules\n",
    "import warnings\n",
    "warnings.filterwarnings('ignore')\n",
    "\n",
    "import glob\n",
    "import pandas as pd\n",
    "import numpy as np\n",
    "import seaborn as sns\n",
    "import matplotlib.pyplot as plt\n",
    "import matplotlib.patches as mpatches\n",
    "\n",
    "import lightgbm as lgb\n",
    "from catboost import CatBoostClassifier, Pool\n",
    "import optuna\n",
    "from optuna.samplers import TPESampler\n",
    "\n",
    "from sklearn.model_selection import StratifiedKFold, KFold, train_test_split\n",
    "from sklearn.preprocessing import OneHotEncoder, StandardScaler, minmax_scale\n",
    "from sklearn.metrics import confusion_matrix, log_loss, f1_score\n",
    "\n",
    "import random\n",
    "from math import floor\n",
    "from scipy.stats import mode, scoreatpercentile\n",
    "\n",
    "print(\"Seaborn version : \", sns.__version__)\n",
    "sns.set()\n",
    "#sns.set_style('whitegrid')\n",
    "sns.set_color_codes()\n",
    "sns.set_theme(style=\"ticks\", palette=\"pastel\")\n",
    "\n",
    "\n",
    "\n",
    "# upload data\n",
    "train = pd.read_csv('/Users/gangtaro/competition_data/DACON/14thMonthlyDacon/open/train.csv',\n",
    "                   index_col=0)\n",
    "test = pd.read_csv('/Users/gangtaro/competition_data/DACON/14thMonthlyDacon/open/test.csv',\n",
    "                  index_col=0)\n",
    "submit = pd.read_csv('/Users/gangtaro/competition_data/DACON/14thMonthlyDacon/open/sample_submission.csv')"
   ]
  },
  {
   "cell_type": "code",
   "execution_count": 203,
   "metadata": {},
   "outputs": [],
   "source": [
    "df = train.copy()"
   ]
  },
  {
   "cell_type": "code",
   "execution_count": 204,
   "metadata": {},
   "outputs": [
    {
     "name": "stdout",
     "output_type": "stream",
     "text": [
      "<class 'pandas.core.frame.DataFrame'>\n",
      "Int64Index: 26457 entries, 0 to 26456\n",
      "Data columns (total 19 columns):\n",
      " #   Column         Non-Null Count  Dtype  \n",
      "---  ------         --------------  -----  \n",
      " 0   gender         26457 non-null  object \n",
      " 1   car            26457 non-null  object \n",
      " 2   reality        26457 non-null  object \n",
      " 3   child_num      26457 non-null  int64  \n",
      " 4   income_total   26457 non-null  float64\n",
      " 5   income_type    26457 non-null  object \n",
      " 6   edu_type       26457 non-null  object \n",
      " 7   family_type    26457 non-null  object \n",
      " 8   house_type     26457 non-null  object \n",
      " 9   DAYS_BIRTH     26457 non-null  int64  \n",
      " 10  DAYS_EMPLOYED  26457 non-null  int64  \n",
      " 11  FLAG_MOBIL     26457 non-null  int64  \n",
      " 12  work_phone     26457 non-null  int64  \n",
      " 13  phone          26457 non-null  int64  \n",
      " 14  email          26457 non-null  int64  \n",
      " 15  occyp_type     18286 non-null  object \n",
      " 16  family_size    26457 non-null  float64\n",
      " 17  begin_month    26457 non-null  float64\n",
      " 18  credit         26457 non-null  float64\n",
      "dtypes: float64(4), int64(7), object(8)\n",
      "memory usage: 4.0+ MB\n"
     ]
    }
   ],
   "source": [
    "df.info()"
   ]
  },
  {
   "cell_type": "code",
   "execution_count": 205,
   "metadata": {},
   "outputs": [],
   "source": [
    "# defs\n",
    "def show_4digits(x) : \n",
    "    return str(x)[:3]\n",
    "\n"
   ]
  },
  {
   "cell_type": "code",
   "execution_count": 206,
   "metadata": {},
   "outputs": [],
   "source": [
    "# outliers\n",
    "df.drop((df[df['child_num']>=6]).index, inplace = True)\n",
    "\n",
    "# no information\n",
    "df.drop('FLAG_MOBIL',axis = 1, inplace = True)\n",
    "\n",
    "# negative to positive\n",
    "df['DAYS_BIRTH'] = -df['DAYS_BIRTH']\n",
    "df['DAYS_EMPLOYED'] = -df['DAYS_EMPLOYED']\n",
    "df['begin_month'] = -df['begin_month']\n",
    "\n",
    "# handling the missing values\n",
    "## occyp_type == NaN\n",
    "df['occyp_type'] = df.occyp_type.fillna('missing')\n",
    "df.loc[(df.DAYS_EMPLOYED == -365243)&(df.occyp_type.isna()), 'occyp_type'] = 'in_occyp'\n",
    "## DAYS_EMPLOYED == 365243\n",
    "df['DAYS_EMPLOYED'][df['DAYS_EMPLOYED'] == -365243] = 0"
   ]
  },
  {
   "cell_type": "code",
   "execution_count": 207,
   "metadata": {},
   "outputs": [],
   "source": [
    "# personal_id\n",
    "df['personal_id']= \\\n",
    "df['gender']+\\\n",
    "df['car']+\\\n",
    "df['income_total'].apply(lambda x: str(int(x)).zfill(7))+\\\n",
    "df['edu_type'].apply(show_4digits)+\\\n",
    "df['family_type'].apply(show_4digits)+\\\n",
    "df['house_type'].apply(show_4digits)+\\\n",
    "df['DAYS_BIRTH'].apply(lambda x: str(x).zfill(5))+\\\n",
    "df['DAYS_EMPLOYED'].apply(lambda x: str(x).zfill(5))+\\\n",
    "df['occyp_type'].apply(show_4digits)\n",
    "\n",
    "# 재산, 연락처에 관한 정보들을 묶어서 분류\n",
    "df['group_property'] = df['car'].astype(str)   + df['reality'].astype(str)\n",
    "df['group_contacts'] = df['phone'].astype(str) + df['work_phone'].astype(str) + df['email'].astype(str)"
   ]
  },
  {
   "cell_type": "code",
   "execution_count": 208,
   "metadata": {},
   "outputs": [],
   "source": [
    "# 현재 하고 있는 일을 시작하게 된 나이(날짜) = 일을 하지 않았던 기간 \n",
    "df['DAYS_nowork'] = df['DAYS_BIRTH'] - df['DAYS_EMPLOYED']\n",
    "\n",
    "# 가족 수와 관련된 변수\n",
    "df['adult_num'] = df['family_size'] - df['child_num']\n",
    "df.loc[df.child_num >= 5, 'child_num'] = 5\n",
    "df.loc[df.child_num >= 5, 'family_size'] = df.loc[df.child_num >= 5, 'child_num'] + df.loc[df.child_num >= 5, 'adult_num']\n",
    "\n",
    "# 소득과 관련된 변수와 조합\n",
    "df['income_per_child'] = df['income_total']/ df['child_num']  #소득을 아이 수로 나눠 각 아이에게 할당 될 수 있는 금액을 계산 \n",
    "df['income_per_family']= df['income_total']/ df['family_size']#소득을 가족 수로 나눠 각 인원에게 할당 될 수 있는 금액을 계산\n",
    "df['income_per_age']   = df['income_total']/ df['DAYS_BIRTH'] #소득을 나이로 나눠 나이 대비 얼마나 버는지에 대한 지표 생성\n",
    "\n",
    "# 로그 변환(income_total)\n",
    "df['income_total_log'] = np.log(df['income_total']+1)\n",
    "\n",
    "# 날짜표기 변환(begin_month) : 4로 나누어 계절로 분할\n",
    "df['begin_season'] = df['begin_month'].apply(lambda x: floor(x/4))\n",
    "\n",
    "# 날짜표기 변환(DAYS_EMPLOYED) : 개월로 binning\n",
    "df['mm_EMPLOYED'] = df['DAYS_EMPLOYED'].apply(lambda x: floor(x/30.4375))\n",
    "\n",
    "# 날쨔 표기 변환(DAYS_EMPLOYED): 연차로 binning\n",
    "df['yy_EMPLOYED'] = df['DAYS_EMPLOYED'].apply(lambda x: floor(x/365.25))\n",
    "\n"
   ]
  },
  {
   "cell_type": "code",
   "execution_count": 209,
   "metadata": {},
   "outputs": [
    {
     "data": {
      "text/plain": [
       "<matplotlib.axes._subplots.AxesSubplot at 0x7fac24ce94c0>"
      ]
     },
     "execution_count": 209,
     "metadata": {},
     "output_type": "execute_result"
    },
    {
     "data": {
      "image/png": "[encoded data removed]",
      "text/plain": [
       "<Figure size 432x288 with 1 Axes>"
      ]
     },
     "metadata": {},
     "output_type": "display_data"
    }
   ],
   "source": [
    "sns.histplot(x = df.DAYS_nowork, hue = df.DAYS_EMPLOYED == 0)"
   ]
  },
  {
   "cell_type": "code",
   "execution_count": 210,
   "metadata": {
    "scrolled": true
   },
   "outputs": [
    {
     "name": "stdout",
     "output_type": "stream",
     "text": [
      "<class 'pandas.core.frame.DataFrame'>\n",
      "Int64Index: 26451 entries, 0 to 26456\n",
      "Data columns (total 30 columns):\n",
      " #   Column             Non-Null Count  Dtype  \n",
      "---  ------             --------------  -----  \n",
      " 0   gender             26451 non-null  object \n",
      " 1   car                26451 non-null  object \n",
      " 2   reality            26451 non-null  object \n",
      " 3   child_num          26451 non-null  int64  \n",
      " 4   income_total       26451 non-null  float64\n",
      " 5   income_type        26451 non-null  object \n",
      " 6   edu_type           26451 non-null  object \n",
      " 7   family_type        26451 non-null  object \n",
      " 8   house_type         26451 non-null  object \n",
      " 9   DAYS_BIRTH         26451 non-null  int64  \n",
      " 10  DAYS_EMPLOYED      26451 non-null  int64  \n",
      " 11  work_phone         26451 non-null  int64  \n",
      " 12  phone              26451 non-null  int64  \n",
      " 13  email              26451 non-null  int64  \n",
      " 14  occyp_type         26451 non-null  object \n",
      " 15  family_size        26451 non-null  float64\n",
      " 16  begin_month        26451 non-null  float64\n",
      " 17  credit             26451 non-null  float64\n",
      " 18  personal_id        26451 non-null  object \n",
      " 19  group_property     26451 non-null  object \n",
      " 20  group_contacts     26451 non-null  object \n",
      " 21  DAYS_nowork        26451 non-null  int64  \n",
      " 22  adult_num          26451 non-null  float64\n",
      " 23  income_per_child   26451 non-null  float64\n",
      " 24  income_per_family  26451 non-null  float64\n",
      " 25  income_per_age     26451 non-null  float64\n",
      " 26  income_total_log   26451 non-null  float64\n",
      " 27  begin_season       26451 non-null  int64  \n",
      " 28  mm_EMPLOYED        26451 non-null  int64  \n",
      " 29  yy_EMPLOYED        26451 non-null  int64  \n",
      "dtypes: float64(9), int64(10), object(11)\n",
      "memory usage: 6.3+ MB\n"
     ]
    }
   ],
   "source": [
    "df.info()"
   ]
  },
  {
   "cell_type": "code",
   "execution_count": 211,
   "metadata": {},
   "outputs": [],
   "source": [
    "# outliers\n",
    "train.drop((train[train['child_num']>=6]).index, inplace = True)"
   ]
  },
  {
   "cell_type": "code",
   "execution_count": 212,
   "metadata": {},
   "outputs": [],
   "source": [
    "for df in [train, test] : \n",
    "    # no information\n",
    "    df.drop('FLAG_MOBIL',axis = 1, inplace = True)\n",
    "\n",
    "    # negative to positive\n",
    "    df['DAYS_BIRTH'] = -df['DAYS_BIRTH']\n",
    "    df['DAYS_EMPLOYED'] = -df['DAYS_EMPLOYED']\n",
    "    df['begin_month'] = -df['begin_month']\n",
    "\n",
    "    # handling the missing values\n",
    "    ## occyp_type == NaN\n",
    "    df['occyp_type'] = df.occyp_type.fillna('missing')\n",
    "    df.loc[(df.DAYS_EMPLOYED == -365243)&(df.occyp_type.isna()), 'occyp_type'] = 'in_occyp'\n",
    "    ## DAYS_EMPLOYED == 365243\n",
    "    df['DAYS_EMPLOYED'][df['DAYS_EMPLOYED'] == -365243] = 0"
   ]
  },
  {
   "cell_type": "code",
   "execution_count": 213,
   "metadata": {},
   "outputs": [],
   "source": [
    "for df in [train, test] : \n",
    "    # personal_id\n",
    "    df['personal_id']= \\\n",
    "    df['gender']+\\\n",
    "    df['car']+\\\n",
    "    df['income_total'].apply(lambda x: str(int(x)).zfill(7))+\\\n",
    "    df['edu_type'].apply(show_4digits)+\\\n",
    "    df['family_type'].apply(show_4digits)+\\\n",
    "    df['house_type'].apply(show_4digits)+\\\n",
    "    df['DAYS_BIRTH'].apply(lambda x: str(x).zfill(5))+\\\n",
    "    df['DAYS_EMPLOYED'].apply(lambda x: str(x).zfill(5))+\\\n",
    "    df['occyp_type'].apply(show_4digits)\n",
    "\n",
    "    # 재산, 연락처에 관한 정보들을 묶어서 분류\n",
    "    df['group_property'] = df['car'].astype(str)   + df['reality'].astype(str)\n",
    "    df['group_contacts'] = df['phone'].astype(str) + df['work_phone'].astype(str) + df['email'].astype(str)\n",
    "    df['group_whoare_u'] = df['gender'].astype(str)+ df['family_type'].astype(str)"
   ]
  },
  {
   "cell_type": "code",
   "execution_count": 214,
   "metadata": {},
   "outputs": [],
   "source": [
    "for df in [train, test] : \n",
    "    # 현재 하고 있는 일을 시작하게 된 나이(날짜) = 일을 하지 않았던 기간 \n",
    "    df['DAYS_nowork'] = df['DAYS_BIRTH'] - df['DAYS_EMPLOYED']\n",
    "\n",
    "    # 가족 수와 관련된 변수\n",
    "    df['adult_num'] = df['family_size'] - df['child_num']\n",
    "    df.loc[df.child_num >= 5, 'child_num'] = 5\n",
    "    df.loc[df.child_num >= 5, 'family_size'] = df.loc[df.child_num >= 5, 'child_num'] + df.loc[df.child_num >= 5, 'adult_num']\n",
    "\n",
    "    # 소득과 관련된 변수와 조합\n",
    "    df['income_per_child'] = df['income_total']/ df['child_num']  #소득을 아이 수로 나눠 각 아이에게 할당 될 수 있는 금액을 계산 \n",
    "    df['income_per_family']= df['income_total']/ df['family_size']#소득을 가족 수로 나눠 각 인원에게 할당 될 수 있는 금액을 계산\n",
    "    df['income_per_age']   = df['income_total']/ df['DAYS_BIRTH'] #소득을 나이로 나눠 나이 대비 얼마나 버는지에 대한 지표 생성\n",
    "\n",
    "    # 로그 변환(income_total)\n",
    "    df['income_total_log'] = np.log(df['income_total']+1)\n",
    "\n",
    "    # 날짜표기 변환(begin_month) : 4로 나누어 계절로 분할\n",
    "    df['begin_season'] = df['begin_month'].apply(lambda x: floor(x/4))\n",
    "\n",
    "    # 날짜표기 변환(DAYS_EMPLOYED) : 개월로 binning\n",
    "    df['mm_EMPLOYED'] = df['DAYS_EMPLOYED'].apply(lambda x: floor(x/30.4375))\n",
    "\n",
    "    # 날쨔 표기 변환(DAYS_EMPLOYED): 연차로 binning\n",
    "    df['yy_EMPLOYED'] = df['DAYS_EMPLOYED'].apply(lambda x: floor(x/365.25))\n",
    "\n"
   ]
  },
  {
   "cell_type": "code",
   "execution_count": 215,
   "metadata": {},
   "outputs": [
    {
     "name": "stdout",
     "output_type": "stream",
     "text": [
      "<class 'pandas.core.frame.DataFrame'>\n",
      "Int64Index: 26451 entries, 0 to 26456\n",
      "Data columns (total 31 columns):\n",
      " #   Column             Non-Null Count  Dtype  \n",
      "---  ------             --------------  -----  \n",
      " 0   gender             26451 non-null  object \n",
      " 1   car                26451 non-null  object \n",
      " 2   reality            26451 non-null  object \n",
      " 3   child_num          26451 non-null  int64  \n",
      " 4   income_total       26451 non-null  float64\n",
      " 5   income_type        26451 non-null  object \n",
      " 6   edu_type           26451 non-null  object \n",
      " 7   family_type        26451 non-null  object \n",
      " 8   house_type         26451 non-null  object \n",
      " 9   DAYS_BIRTH         26451 non-null  int64  \n",
      " 10  DAYS_EMPLOYED      26451 non-null  int64  \n",
      " 11  work_phone         26451 non-null  int64  \n",
      " 12  phone              26451 non-null  int64  \n",
      " 13  email              26451 non-null  int64  \n",
      " 14  occyp_type         26451 non-null  object \n",
      " 15  family_size        26451 non-null  float64\n",
      " 16  begin_month        26451 non-null  float64\n",
      " 17  credit             26451 non-null  float64\n",
      " 18  personal_id        26451 non-null  object \n",
      " 19  group_property     26451 non-null  object \n",
      " 20  group_contacts     26451 non-null  object \n",
      " 21  group_whoare_u     26451 non-null  object \n",
      " 22  DAYS_nowork        26451 non-null  int64  \n",
      " 23  adult_num          26451 non-null  float64\n",
      " 24  income_per_child   26451 non-null  float64\n",
      " 25  income_per_family  26451 non-null  float64\n",
      " 26  income_per_age     26451 non-null  float64\n",
      " 27  income_total_log   26451 non-null  float64\n",
      " 28  begin_season       26451 non-null  int64  \n",
      " 29  mm_EMPLOYED        26451 non-null  int64  \n",
      " 30  yy_EMPLOYED        26451 non-null  int64  \n",
      "dtypes: float64(9), int64(10), object(12)\n",
      "memory usage: 6.5+ MB\n"
     ]
    }
   ],
   "source": [
    "train.info()"
   ]
  },
  {
   "cell_type": "code",
   "execution_count": 216,
   "metadata": {},
   "outputs": [
    {
     "name": "stdout",
     "output_type": "stream",
     "text": [
      "Number of Numerical features:  19\n",
      "Number of Categorical features:  12\n"
     ]
    }
   ],
   "source": [
    "numerical_feats = train.dtypes[train.dtypes != \"object\"].index.tolist()\n",
    "#numerical_feats.remove('credit')\n",
    "print(\"Number of Numerical features: \", len(numerical_feats))\n",
    "\n",
    "categorical_feats = train.dtypes[train.dtypes == \"object\"].index.tolist()\n",
    "print(\"Number of Categorical features: \", len(categorical_feats))"
   ]
  },
  {
   "cell_type": "code",
   "execution_count": 217,
   "metadata": {},
   "outputs": [],
   "source": [
    "target = 'credit'\n",
    "X = train.drop(target, axis=1)\n",
    "y = train[target]\n",
    "X_test = test"
   ]
  },
  {
   "cell_type": "code",
   "execution_count": 218,
   "metadata": {},
   "outputs": [],
   "source": [
    "seed = 42\n",
    "n_fold = 5\n",
    "n_class = 3"
   ]
  },
  {
   "cell_type": "code",
   "execution_count": 219,
   "metadata": {},
   "outputs": [
    {
     "name": "stdout",
     "output_type": "stream",
     "text": [
      "category features : ['gender', 'car', 'reality', 'income_type', 'edu_type', 'family_type', 'house_type', 'occyp_type', 'personal_id', 'group_property', 'group_contacts', 'group_whoare_u']\n",
      "\n",
      "----------------- Fold 1 -----------------\n",
      "\n",
      "0:\tlearn: 1.0754283\ttest: 1.0758071\tbest: 1.0758071 (0)\ttotal: 56.1ms\tremaining: 2m 48s\n",
      "100:\tlearn: 0.7168957\ttest: 0.6867844\tbest: 0.6867844 (100)\ttotal: 3.38s\tremaining: 1m 37s\n",
      "200:\tlearn: 0.7008775\ttest: 0.6800095\tbest: 0.6799460 (194)\ttotal: 8.41s\tremaining: 1m 57s\n",
      "300:\tlearn: 0.6877509\ttest: 0.6767133\tbest: 0.6765690 (297)\ttotal: 14s\tremaining: 2m 5s\n",
      "Stopped by overfitting detector  (50 iterations wait)\n",
      "\n",
      "bestTest = 0.6756011436\n",
      "bestIteration = 335\n",
      "\n",
      "Shrink model to first 336 iterations.\n",
      "CV Log Loss Score: 0.675601\n",
      "\n",
      "----------------- Fold 2 -----------------\n",
      "\n",
      "0:\tlearn: 1.0754606\ttest: 1.0756085\tbest: 1.0756085 (0)\ttotal: 61.5ms\tremaining: 3m 4s\n",
      "100:\tlearn: 0.7188207\ttest: 0.6680826\tbest: 0.6680826 (100)\ttotal: 4.08s\tremaining: 1m 57s\n",
      "200:\tlearn: 0.7040918\ttest: 0.6586200\tbest: 0.6586200 (200)\ttotal: 9.37s\tremaining: 2m 10s\n",
      "300:\tlearn: 0.6899327\ttest: 0.6550842\tbest: 0.6550842 (300)\ttotal: 15.2s\tremaining: 2m 16s\n",
      "400:\tlearn: 0.6756422\ttest: 0.6532400\tbest: 0.6532400 (400)\ttotal: 21.1s\tremaining: 2m 16s\n",
      "500:\tlearn: 0.6627380\ttest: 0.6524123\tbest: 0.6523778 (496)\ttotal: 26.8s\tremaining: 2m 13s\n",
      "600:\tlearn: 0.6493605\ttest: 0.6523770\tbest: 0.6522271 (571)\ttotal: 32.8s\tremaining: 2m 10s\n",
      "Stopped by overfitting detector  (50 iterations wait)\n",
      "\n",
      "bestTest = 0.6522271283\n",
      "bestIteration = 571\n",
      "\n",
      "Shrink model to first 572 iterations.\n",
      "CV Log Loss Score: 0.652227\n",
      "\n",
      "----------------- Fold 3 -----------------\n",
      "\n",
      "0:\tlearn: 1.0754839\ttest: 1.0753467\tbest: 1.0753467 (0)\ttotal: 56.4ms\tremaining: 2m 49s\n",
      "100:\tlearn: 0.7180377\ttest: 0.6814972\tbest: 0.6814972 (100)\ttotal: 4.23s\tremaining: 2m 1s\n",
      "200:\tlearn: 0.7027312\ttest: 0.6755871\tbest: 0.6755285 (199)\ttotal: 9.98s\tremaining: 2m 19s\n",
      "300:\tlearn: 0.6906687\ttest: 0.6737104\tbest: 0.6736884 (289)\ttotal: 16s\tremaining: 2m 23s\n",
      "400:\tlearn: 0.6763544\ttest: 0.6737935\tbest: 0.6733978 (358)\ttotal: 22.8s\tremaining: 2m 27s\n",
      "Stopped by overfitting detector  (50 iterations wait)\n",
      "\n",
      "bestTest = 0.6733977943\n",
      "bestIteration = 358\n",
      "\n",
      "Shrink model to first 359 iterations.\n",
      "CV Log Loss Score: 0.673398\n",
      "\n",
      "----------------- Fold 4 -----------------\n",
      "\n",
      "0:\tlearn: 1.0755337\ttest: 1.0751129\tbest: 1.0751129 (0)\ttotal: 71ms\tremaining: 3m 33s\n",
      "100:\tlearn: 0.7209239\ttest: 0.6596063\tbest: 0.6596063 (100)\ttotal: 4.28s\tremaining: 2m 2s\n",
      "200:\tlearn: 0.7061864\ttest: 0.6500720\tbest: 0.6500720 (200)\ttotal: 10.5s\tremaining: 2m 26s\n",
      "300:\tlearn: 0.6924948\ttest: 0.6467838\tbest: 0.6467838 (300)\ttotal: 17.7s\tremaining: 2m 38s\n",
      "400:\tlearn: 0.6807237\ttest: 0.6462086\tbest: 0.6462059 (399)\ttotal: 25.5s\tremaining: 2m 45s\n",
      "500:\tlearn: 0.6678547\ttest: 0.6455131\tbest: 0.6454880 (498)\ttotal: 33s\tremaining: 2m 44s\n",
      "Stopped by overfitting detector  (50 iterations wait)\n",
      "\n",
      "bestTest = 0.6450691601\n",
      "bestIteration = 521\n",
      "\n",
      "Shrink model to first 522 iterations.\n",
      "CV Log Loss Score: 0.645069\n",
      "\n",
      "----------------- Fold 5 -----------------\n",
      "\n",
      "0:\tlearn: 1.0754883\ttest: 1.0753220\tbest: 1.0753220 (0)\ttotal: 81.6ms\tremaining: 4m 4s\n",
      "100:\tlearn: 0.7174539\ttest: 0.6747670\tbest: 0.6747670 (100)\ttotal: 5.33s\tremaining: 2m 33s\n",
      "200:\tlearn: 0.7015794\ttest: 0.6646811\tbest: 0.6646811 (200)\ttotal: 11.5s\tremaining: 2m 39s\n",
      "300:\tlearn: 0.6887908\ttest: 0.6626818\tbest: 0.6625523 (291)\ttotal: 17.9s\tremaining: 2m 40s\n",
      "Stopped by overfitting detector  (50 iterations wait)\n",
      "\n",
      "bestTest = 0.6625522601\n",
      "bestIteration = 291\n",
      "\n",
      "Shrink model to first 292 iterations.\n",
      "CV Log Loss Score: 0.662552\n",
      "\n",
      "----------------- Fold 6 -----------------\n",
      "\n",
      "0:\tlearn: 1.0754629\ttest: 1.0755195\tbest: 1.0755195 (0)\ttotal: 60.4ms\tremaining: 3m 1s\n",
      "100:\tlearn: 0.7161921\ttest: 0.6839221\tbest: 0.6839221 (100)\ttotal: 5s\tremaining: 2m 23s\n",
      "200:\tlearn: 0.7014444\ttest: 0.6789436\tbest: 0.6789436 (200)\ttotal: 11s\tremaining: 2m 33s\n",
      "300:\tlearn: 0.6874875\ttest: 0.6782707\tbest: 0.6781207 (282)\ttotal: 17.4s\tremaining: 2m 36s\n",
      "Stopped by overfitting detector  (50 iterations wait)\n",
      "\n",
      "bestTest = 0.6781207289\n",
      "bestIteration = 282\n",
      "\n",
      "Shrink model to first 283 iterations.\n",
      "CV Log Loss Score: 0.678121\n",
      "\n",
      "----------------- Fold 7 -----------------\n",
      "\n",
      "0:\tlearn: 1.0754394\ttest: 1.0756802\tbest: 1.0756802 (0)\ttotal: 62.6ms\tremaining: 3m 7s\n",
      "100:\tlearn: 0.7171417\ttest: 0.6917605\tbest: 0.6917605 (100)\ttotal: 4.53s\tremaining: 2m 10s\n",
      "200:\tlearn: 0.7028569\ttest: 0.6858296\tbest: 0.6858241 (198)\ttotal: 10.3s\tremaining: 2m 24s\n",
      "300:\tlearn: 0.6897595\ttest: 0.6833880\tbest: 0.6833329 (299)\ttotal: 16.9s\tremaining: 2m 31s\n",
      "Stopped by overfitting detector  (50 iterations wait)\n",
      "\n",
      "bestTest = 0.6828396988\n",
      "bestIteration = 329\n",
      "\n",
      "Shrink model to first 330 iterations.\n",
      "CV Log Loss Score: 0.682840\n",
      "\n",
      "----------------- Fold 8 -----------------\n",
      "\n",
      "0:\tlearn: 1.0754624\ttest: 1.0755636\tbest: 1.0755636 (0)\ttotal: 63.9ms\tremaining: 3m 11s\n",
      "100:\tlearn: 0.7186390\ttest: 0.6680422\tbest: 0.6680422 (100)\ttotal: 5.15s\tremaining: 2m 27s\n",
      "200:\tlearn: 0.7048225\ttest: 0.6588449\tbest: 0.6588408 (199)\ttotal: 11.4s\tremaining: 2m 38s\n",
      "300:\tlearn: 0.6905413\ttest: 0.6551386\tbest: 0.6551386 (300)\ttotal: 18.3s\tremaining: 2m 44s\n",
      "400:\tlearn: 0.6757462\ttest: 0.6536044\tbest: 0.6535407 (398)\ttotal: 25.3s\tremaining: 2m 43s\n",
      "Stopped by overfitting detector  (50 iterations wait)\n",
      "\n",
      "bestTest = 0.6534120862\n",
      "bestIteration = 415\n",
      "\n",
      "Shrink model to first 416 iterations.\n",
      "CV Log Loss Score: 0.653412\n",
      "\n",
      "----------------- Fold 9 -----------------\n",
      "\n",
      "0:\tlearn: 1.0754854\ttest: 1.0752372\tbest: 1.0752372 (0)\ttotal: 29.3ms\tremaining: 1m 27s\n",
      "100:\tlearn: 0.7176508\ttest: 0.6803968\tbest: 0.6803968 (100)\ttotal: 4.91s\tremaining: 2m 21s\n",
      "200:\tlearn: 0.7022243\ttest: 0.6702908\tbest: 0.6702908 (200)\ttotal: 10.9s\tremaining: 2m 31s\n",
      "300:\tlearn: 0.6888541\ttest: 0.6666024\tbest: 0.6665742 (299)\ttotal: 17.4s\tremaining: 2m 36s\n",
      "400:\tlearn: 0.6758556\ttest: 0.6653394\tbest: 0.6653394 (400)\ttotal: 24s\tremaining: 2m 35s\n",
      "500:\tlearn: 0.6623414\ttest: 0.6642304\tbest: 0.6639216 (483)\ttotal: 30.7s\tremaining: 2m 33s\n",
      "600:\tlearn: 0.6483598\ttest: 0.6636721\tbest: 0.6636128 (599)\ttotal: 37.3s\tremaining: 2m 29s\n",
      "Stopped by overfitting detector  (50 iterations wait)\n",
      "\n",
      "bestTest = 0.6636128487\n",
      "bestIteration = 599\n",
      "\n",
      "Shrink model to first 600 iterations.\n",
      "CV Log Loss Score: 0.663613\n",
      "\n",
      "----------------- Fold 10 -----------------\n",
      "\n",
      "0:\tlearn: 1.0754853\ttest: 1.0752575\tbest: 1.0752575 (0)\ttotal: 30.7ms\tremaining: 1m 31s\n",
      "100:\tlearn: 0.7198770\ttest: 0.6636818\tbest: 0.6636818 (100)\ttotal: 4.48s\tremaining: 2m 8s\n",
      "200:\tlearn: 0.7045991\ttest: 0.6543784\tbest: 0.6543784 (200)\ttotal: 10.7s\tremaining: 2m 28s\n",
      "300:\tlearn: 0.6900946\ttest: 0.6515756\tbest: 0.6515756 (300)\ttotal: 17.5s\tremaining: 2m 36s\n",
      "400:\tlearn: 0.6761757\ttest: 0.6500052\tbest: 0.6499367 (392)\ttotal: 24.3s\tremaining: 2m 37s\n",
      "500:\tlearn: 0.6620680\ttest: 0.6488754\tbest: 0.6488754 (500)\ttotal: 31.1s\tremaining: 2m 35s\n",
      "600:\tlearn: 0.6500817\ttest: 0.6477604\tbest: 0.6477601 (597)\ttotal: 37.8s\tremaining: 2m 31s\n",
      "700:\tlearn: 0.6362278\ttest: 0.6474386\tbest: 0.6473325 (694)\ttotal: 44.4s\tremaining: 2m 25s\n",
      "800:\tlearn: 0.6235459\ttest: 0.6470495\tbest: 0.6470077 (793)\ttotal: 51.4s\tremaining: 2m 21s\n",
      "900:\tlearn: 0.6105628\ttest: 0.6469712\tbest: 0.6469094 (876)\ttotal: 58.4s\tremaining: 2m 15s\n",
      "1000:\tlearn: 0.5965013\ttest: 0.6463301\tbest: 0.6463301 (1000)\ttotal: 1m 5s\tremaining: 2m 10s\n",
      "Stopped by overfitting detector  (50 iterations wait)\n",
      "\n",
      "bestTest = 0.6463301426\n",
      "bestIteration = 1000\n",
      "\n",
      "Shrink model to first 1001 iterations.\n",
      "CV Log Loss Score: 0.646330\n",
      "\n",
      "----------------- Fold 11 -----------------\n",
      "\n",
      "0:\tlearn: 1.0754056\ttest: 1.0757491\tbest: 1.0757491 (0)\ttotal: 12ms\tremaining: 36.1s\n",
      "100:\tlearn: 0.7160980\ttest: 0.6831678\tbest: 0.6831678 (100)\ttotal: 5.3s\tremaining: 2m 32s\n",
      "200:\tlearn: 0.7008614\ttest: 0.6769205\tbest: 0.6769205 (200)\ttotal: 12.2s\tremaining: 2m 49s\n",
      "300:\tlearn: 0.6882170\ttest: 0.6756723\tbest: 0.6755851 (292)\ttotal: 19.1s\tremaining: 2m 50s\n",
      "400:\tlearn: 0.6748735\ttest: 0.6748683\tbest: 0.6748545 (398)\ttotal: 26.2s\tremaining: 2m 49s\n",
      "Stopped by overfitting detector  (50 iterations wait)\n",
      "\n",
      "bestTest = 0.6748012664\n",
      "bestIteration = 407\n",
      "\n",
      "Shrink model to first 408 iterations.\n",
      "CV Log Loss Score: 0.674801\n",
      "\n",
      "----------------- Fold 12 -----------------\n",
      "\n",
      "0:\tlearn: 1.0754490\ttest: 1.0753980\tbest: 1.0753980 (0)\ttotal: 13ms\tremaining: 39.1s\n"
     ]
    },
    {
     "name": "stdout",
     "output_type": "stream",
     "text": [
      "100:\tlearn: 0.7192150\ttest: 0.6720600\tbest: 0.6720600 (100)\ttotal: 4.81s\tremaining: 2m 18s\n",
      "200:\tlearn: 0.7036755\ttest: 0.6641080\tbest: 0.6641080 (200)\ttotal: 10.8s\tremaining: 2m 29s\n",
      "300:\tlearn: 0.6911349\ttest: 0.6609132\tbest: 0.6609132 (300)\ttotal: 17.7s\tremaining: 2m 38s\n",
      "400:\tlearn: 0.6773377\ttest: 0.6599889\tbest: 0.6599774 (398)\ttotal: 24.7s\tremaining: 2m 40s\n",
      "500:\tlearn: 0.6647052\ttest: 0.6593290\tbest: 0.6592858 (499)\ttotal: 31.6s\tremaining: 2m 37s\n",
      "600:\tlearn: 0.6512621\ttest: 0.6585514\tbest: 0.6585514 (600)\ttotal: 38.5s\tremaining: 2m 33s\n",
      "Stopped by overfitting detector  (50 iterations wait)\n",
      "\n",
      "bestTest = 0.6583792248\n",
      "bestIteration = 625\n",
      "\n",
      "Shrink model to first 626 iterations.\n",
      "CV Log Loss Score: 0.658379\n",
      "\n",
      "----------------- Fold 13 -----------------\n",
      "\n",
      "0:\tlearn: 1.0754622\ttest: 1.0755170\tbest: 1.0755170 (0)\ttotal: 71.4ms\tremaining: 3m 34s\n",
      "100:\tlearn: 0.7168098\ttest: 0.6783020\tbest: 0.6783020 (100)\ttotal: 5.48s\tremaining: 2m 37s\n",
      "200:\tlearn: 0.7015605\ttest: 0.6707220\tbest: 0.6706969 (199)\ttotal: 11.9s\tremaining: 2m 45s\n",
      "300:\tlearn: 0.6880309\ttest: 0.6677244\tbest: 0.6676619 (294)\ttotal: 18.8s\tremaining: 2m 48s\n",
      "400:\tlearn: 0.6744432\ttest: 0.6661523\tbest: 0.6661523 (400)\ttotal: 26.4s\tremaining: 2m 51s\n",
      "500:\tlearn: 0.6615192\ttest: 0.6659597\tbest: 0.6655747 (483)\ttotal: 33.9s\tremaining: 2m 49s\n",
      "Stopped by overfitting detector  (50 iterations wait)\n",
      "\n",
      "bestTest = 0.6655747371\n",
      "bestIteration = 483\n",
      "\n",
      "Shrink model to first 484 iterations.\n",
      "CV Log Loss Score: 0.665575\n",
      "\n",
      "----------------- Fold 14 -----------------\n",
      "\n",
      "0:\tlearn: 1.0754068\ttest: 1.0757166\tbest: 1.0757166 (0)\ttotal: 14.6ms\tremaining: 43.7s\n",
      "100:\tlearn: 0.7170644\ttest: 0.6920220\tbest: 0.6920220 (100)\ttotal: 5.04s\tremaining: 2m 24s\n",
      "200:\tlearn: 0.7020018\ttest: 0.6868728\tbest: 0.6868315 (196)\ttotal: 11.3s\tremaining: 2m 37s\n",
      "300:\tlearn: 0.6885751\ttest: 0.6857880\tbest: 0.6857880 (300)\ttotal: 18.2s\tremaining: 2m 43s\n",
      "400:\tlearn: 0.6748587\ttest: 0.6848226\tbest: 0.6846064 (390)\ttotal: 25.2s\tremaining: 2m 43s\n",
      "Stopped by overfitting detector  (50 iterations wait)\n",
      "\n",
      "bestTest = 0.6846064181\n",
      "bestIteration = 390\n",
      "\n",
      "Shrink model to first 391 iterations.\n",
      "CV Log Loss Score: 0.684606\n",
      "\n",
      "----------------- Fold 15 -----------------\n",
      "\n",
      "0:\tlearn: 1.0755039\ttest: 1.0749736\tbest: 1.0749736 (0)\ttotal: 11.5ms\tremaining: 34.6s\n",
      "100:\tlearn: 0.7174381\ttest: 0.6703751\tbest: 0.6703751 (100)\ttotal: 5.06s\tremaining: 2m 25s\n",
      "200:\tlearn: 0.7027583\ttest: 0.6617707\tbest: 0.6617528 (199)\ttotal: 11.6s\tremaining: 2m 41s\n",
      "300:\tlearn: 0.6895652\ttest: 0.6597392\tbest: 0.6597392 (300)\ttotal: 18.7s\tremaining: 2m 47s\n",
      "400:\tlearn: 0.6761409\ttest: 0.6579225\tbest: 0.6578452 (396)\ttotal: 25.6s\tremaining: 2m 46s\n",
      "500:\tlearn: 0.6625623\ttest: 0.6570769\tbest: 0.6569058 (487)\ttotal: 33.1s\tremaining: 2m 45s\n",
      "Stopped by overfitting detector  (50 iterations wait)\n",
      "\n",
      "bestTest = 0.6569057998\n",
      "bestIteration = 487\n",
      "\n",
      "Shrink model to first 488 iterations.\n",
      "CV Log Loss Score: 0.656906\n",
      "\tLog Loss: 0.664895\n"
     ]
    }
   ],
   "source": [
    "skfold = StratifiedKFold(n_splits=15, shuffle=True, random_state=55)\n",
    "folds=[]\n",
    "for train_idx, valid_idx in skfold.split(X, y):\n",
    "        folds.append((train_idx, valid_idx))\n",
    "\n",
    "cat_pred = np.zeros((X.shape[0], n_class))\n",
    "cat_pred_test = np.zeros((X_test.shape[0], n_class))\n",
    "cat_cols = categorical_feats\n",
    "print('category features : {}'.format(cat_cols))\n",
    "\n",
    "# 15Fold-CV (StratifiedKFold)\n",
    "for fold in range(len(folds)):\n",
    "    print(f'\\n----------------- Fold {fold+1} -----------------\\n')\n",
    "    train_idx, valid_idx = folds[fold]\n",
    "    X_train, X_valid, y_train, y_valid = X.iloc[train_idx], X.iloc[valid_idx], y.iloc[train_idx], y.iloc[valid_idx]\n",
    "    train_data = Pool(data=X_train, label=y_train, cat_features=cat_cols)\n",
    "    valid_data = Pool(data=X_valid, label=y_valid, cat_features=cat_cols)\n",
    "\n",
    "    model_cat = CatBoostClassifier(n_estimators=3000, max_depth=8, random_seed=1042, learning_rate=0.04, bootstrap_type ='Bernoulli')\n",
    "    model_cat.fit(train_data, eval_set=valid_data, use_best_model=True, early_stopping_rounds=50, verbose=100)\n",
    "\n",
    "    cat_pred[valid_idx] = model_cat.predict_proba(X_valid)\n",
    "    cat_pred_test += model_cat.predict_proba(X_test) / len(folds)\n",
    "    print(f'CV Log Loss Score: {log_loss(y_valid, cat_pred[valid_idx]):.6f}')\n",
    "    \n",
    "print(f'\\tLog Loss: {log_loss(y, cat_pred):.6f}')"
   ]
  },
  {
   "cell_type": "code",
   "execution_count": 220,
   "metadata": {},
   "outputs": [
    {
     "data": {
      "image/png": "[encoded data removed]",
      "text/plain": [
       "<Figure size 720x576 with 1 Axes>"
      ]
     },
     "metadata": {},
     "output_type": "display_data"
    }
   ],
   "source": [
    "def plot_feature_importance(importance,names,model_type):\n",
    "    \n",
    "    feature_importance = np.array(importance)\n",
    "    feature_names = np.array(names)\n",
    "    \n",
    "    data={'feature_names':feature_names,'feature_importance':feature_importance}\n",
    "    fi_df = pd.DataFrame(data)\n",
    "    \n",
    "    fi_df.sort_values(by=['feature_importance'], ascending=False,inplace=True)\n",
    "\n",
    "    plt.figure(figsize=(10,8))\n",
    "\n",
    "    sns.barplot(x=fi_df['feature_importance'], y=fi_df['feature_names'])\n",
    "\n",
    "    plt.title(model_type + ' Feature Importance')\n",
    "    plt.xlabel('Feature Importance')\n",
    "    plt.ylabel('Feature Names')\n",
    "\n",
    "plot_feature_importance(model_cat.get_feature_importance(),X_test.columns,'CATBOOST')"
   ]
  },
  {
   "cell_type": "code",
   "execution_count": 221,
   "metadata": {},
   "outputs": [],
   "source": [
    "for i in range(3):\n",
    "    submit[str(i)] = (cat_pred_test)[:,i]"
   ]
  },
  {
   "cell_type": "code",
   "execution_count": 222,
   "metadata": {},
   "outputs": [
    {
     "data": {
      "text/plain": [
       "2    8098\n",
       "1    1412\n",
       "0     490\n",
       "dtype: int64"
      ]
     },
     "execution_count": 222,
     "metadata": {},
     "output_type": "execute_result"
    }
   ],
   "source": [
    "submit.set_index('index').apply(np.argmax, axis = 1).value_counts()"
   ]
  },
  {
   "cell_type": "code",
   "execution_count": 223,
   "metadata": {},
   "outputs": [],
   "source": [
    "submit.to_csv('/Users/gangtaro/competition_data/DACON/14thMonthlyDacon/open/preprocessing/catboost_renew_2.csv', index = False)"
   ]
  },
  {
   "cell_type": "code",
   "execution_count": null,
   "metadata": {},
   "outputs": [],
   "source": []
  }
 ],
 "metadata": {
  "kernelspec": {
   "display_name": "Python 3",
   "language": "python",
   "name": "python3"
  },
  "language_info": {
   "codemirror_mode": {
    "name": "ipython",
    "version": 3
   },
   "file_extension": ".py",
   "mimetype": "text/x-python",
   "name": "python",
   "nbconvert_exporter": "python",
   "pygments_lexer": "ipython3",
   "version": "3.8.3"
  },
  "toc": {
   "base_numbering": 1,
   "nav_menu": {},
   "number_sections": true,
   "sideBar": true,
   "skip_h1_title": false,
   "title_cell": "Table of Contents",
   "title_sidebar": "Contents",
   "toc_cell": false,
   "toc_position": {},
   "toc_section_display": true,
   "toc_window_display": false
  }
 },
 "nbformat": 4,
 "nbformat_minor": 4
}
