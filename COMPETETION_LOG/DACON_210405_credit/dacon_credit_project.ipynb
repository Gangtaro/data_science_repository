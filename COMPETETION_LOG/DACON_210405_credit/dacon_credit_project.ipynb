{
 "cells": [
  {
   "cell_type": "code",
   "execution_count": 6,
   "metadata": {},
   "outputs": [
    {
     "name": "stdout",
     "output_type": "stream",
     "text": [
      "Seaborn version :  0.11.1\n"
     ]
    }
   ],
   "source": [
    "# import modules\n",
    "import warnings\n",
    "warnings.filterwarnings('ignore')\n",
    "\n",
    "import glob\n",
    "import pandas as pd\n",
    "import numpy as np\n",
    "import seaborn as sns\n",
    "import matplotlib.pyplot as plt\n",
    "import matplotlib.patches as mpatches\n",
    "\n",
    "import lightgbm as lgb\n",
    "from sklearn.model_selection import StratifiedKFold, KFold\n",
    "from sklearn.preprocessing import OneHotEncoder\n",
    "from sklearn.metrics import confusion_matrix, log_loss, f1_score\n",
    "\n",
    "import random\n",
    "from math import floor\n",
    "from scipy.stats import mode, scoreatpercentile\n",
    "\n",
    "print(\"Seaborn version : \", sns.__version__)\n",
    "sns.set()\n",
    "#sns.set_style('whitegrid')\n",
    "sns.set_color_codes()\n",
    "sns.set_theme(style=\"ticks\", palette=\"pastel\")"
   ]
  },
  {
   "cell_type": "markdown",
   "metadata": {},
   "source": [
    "# 신용카드 사용자 연체 예측 AI 경진대회\n",
    "\n",
    "- 주제: 신용카드 사용자 데이터를 보고 사용자의 대금 연체 정도를 예측하는 알고리즘 개발 \n",
    "- 목적: 신용카드 사용자들의 개인 신상정보 데이터로 **사용자의 신용카드 대금 연체 정도를 예측**\n",
    "\n",
    "- 데이터 설명:\n",
    "    - **gender :** 고객의 성별, **binary**\n",
    "    - **car :** 고객의 자차 보유 유무, **binary**\n",
    "    - **reality :** 고객의 부동산 보유 유무, **binary**\n",
    "    - **child_num :** 고객의 자녀 수, **integer**\n",
    "    - **income_total :** 고객의 총 소득, **numeric**\n",
    "    - **income_type :** 고객의 소득 유형, **category**\n",
    "    - **edu_type :** 고객의 최종 학력, **category**\n",
    "    - **family_type :** 고객의 본인의 혼인관련 상태, **category**\n",
    "    - **house_type :** 고객의 거주지 형태, **category**\n",
    "    - **DAYS_BIRTH :** (고객의 생일) - (현재 일), **integer**, **numeric**\n",
    "    - **DAYS_EMPLOYED :** (고객의 첫 고용일) - (현재 일), **numeric**\n",
    "    - **FLAG_MOBIL :** 고객의 본인 휴대폰 전화번호 등록 여부, **binary**\n",
    "    - **work_phone :** 고객의 본인 직장 전화번호 등록 여부, **binary**\n",
    "    - **phone :** 고객의 집 전화번호 등록 여부, **binary**\n",
    "    - **email :** 고객의 이메일 등록여부, **binary**\n",
    "    - **occyp_type :** 고객의 고용 형태, **category**\n",
    "    - **family_size :** 고객의 가족의 크기, **integer**, **numeric**\n",
    "    - **begin_month :** (고객이 카드를 발급한 월) - (현재 월), **integer**, **numeric**  \n",
    "    \n",
    "    - **<u>credit</u>** : 해당 신용카드의 대금 연체 정도 (0,1,2 : 커질수록 대금 연체 정도가 높다. target variable)\n",
    "    \n",
    "    \n",
    "## 학습 목표에 대한 논의\n",
    "### 학습 목표\n",
    "- ```Credit``` 변수의 클래스 예측.\n",
    "    - **classes :** 0, 1, 2\n",
    "    - **description :** 사용자의 신용카드 대금 연체 정도.  \n",
    "    - 각 값은 **상대적인 크기**에 대한 정보를 가지고 있다.\n",
    "    - **imbalaced data**\n",
    "\n",
    "- 다양한 features가 존재하지만 대부분의 feature에서 class의 비율은 일정하다.\n",
    "\n",
    "- 데이터 관측치의 기준은 **'사용자'**가 아니라 **'카드'**이다. \n",
    "    - 카드 정보에만 해당하는 begin_month를 제외하고 모든 값이 일치하는 관측치는 같은 고객이라고 판단한다.\n",
    "    - 가설) 카드 사용자를 몇 가지 유형으로 분류 할 수 있고, 유형에 따라 begin_month에 해당하는 credit 값들의 기준이 다르다.\n",
    "    \n",
    "- 평가기준:\n",
    "    - **logloss** : 작을수록 좋은 결과\n"
   ]
  },
  {
   "cell_type": "code",
   "execution_count": 2,
   "metadata": {},
   "outputs": [],
   "source": [
    "# upload data\n",
    "train = pd.read_csv('/Users/gangtaro/competition_data/DACON/14thMonthlyDacon/open/train.csv',\n",
    "                   index_col=0)\n",
    "test = pd.read_csv('/Users/gangtaro/competition_data/DACON/14thMonthlyDacon/open/test.csv',\n",
    "                  index_col=0)\n",
    "submit = pd.read_csv('/Users/gangtaro/competition_data/DACON/14thMonthlyDacon/open/sample_submission.csv')"
   ]
  },
  {
   "cell_type": "code",
   "execution_count": 5,
   "metadata": {},
   "outputs": [
    {
     "name": "stdout",
     "output_type": "stream",
     "text": [
      "(26457, 19)\n",
      "(10000, 18)\n",
      "(10000, 4)\n"
     ]
    }
   ],
   "source": [
    "# shape of data\n",
    "print(train.shape)\n",
    "print(test.shape)"
   ]
  },
  {
   "cell_type": "markdown",
   "metadata": {},
   "source": [
    "- 데이터는 총 26457개의 관측치와 총 18개의 feature 그리고 target variable로 이루어져있다.\n",
    "- public score는 test data의 credit variable 을 예측하는 것으로 총 10000개의 데이터를 예측해야한다.\n",
    "\n",
    "- table\n",
    "    1. EDA\n",
    "    2. Preprocessing\n",
    "    3. modeling\n",
    "    \n",
    "---\n",
    "## EDA\n",
    "### target variable\n",
    "- credit"
   ]
  },
  {
   "cell_type": "code",
   "execution_count": 29,
   "metadata": {},
   "outputs": [
    {
     "data": {
      "text/plain": [
       "2.0    16968\n",
       "1.0     6267\n",
       "0.0     3222\n",
       "Name: credit, dtype: int64"
      ]
     },
     "execution_count": 29,
     "metadata": {},
     "output_type": "execute_result"
    }
   ],
   "source": [
    "train.credit.value_counts()"
   ]
  },
  {
   "cell_type": "code",
   "execution_count": 30,
   "metadata": {},
   "outputs": [
    {
     "data": {
      "text/plain": [
       "2.0    0.641343\n",
       "1.0    0.236875\n",
       "0.0    0.121783\n",
       "Name: credit, dtype: float64"
      ]
     },
     "execution_count": 30,
     "metadata": {},
     "output_type": "execute_result"
    }
   ],
   "source": [
    "train.credit.value_counts(normalize = True)"
   ]
  },
  {
   "cell_type": "markdown",
   "metadata": {},
   "source": [
    "- 전체 train data set 에서 target variable의 class ratio는 약 2:1:0 = **0.64 : 0.23 : 0.12**이다. 클래스 간 불균형이다.\n",
    "\n",
    "### binary variables\n",
    "- gender\n",
    "- car\n",
    "- reality\n",
    "- FLAG_MOBIL\n",
    "- work_phone\n",
    "- phone\n",
    "- email"
   ]
  },
  {
   "cell_type": "code",
   "execution_count": 54,
   "metadata": {},
   "outputs": [
    {
     "data": {
      "text/plain": [
       "1    26457\n",
       "Name: FLAG_MOBIL, dtype: int64"
      ]
     },
     "execution_count": 54,
     "metadata": {},
     "output_type": "execute_result"
    }
   ],
   "source": [
    "train.FLAG_MOBIL.value_counts()"
   ]
  },
  {
   "cell_type": "markdown",
   "metadata": {},
   "source": [
    "- FLAG_MOBIL의 원소는 결측치 없이 모두 1으로, 변수로써 가치가 없다. -> 제거"
   ]
  },
  {
   "cell_type": "code",
   "execution_count": 150,
   "metadata": {},
   "outputs": [
    {
     "name": "stdout",
     "output_type": "stream",
     "text": [
      "<binary variables distribution of the train data>\n",
      "\n",
      "* Column name : gender\n",
      "F    17697\n",
      "M     8760\n",
      "Name: gender, dtype: int64 \n",
      "\n",
      "* Column name : car\n",
      "N    16410\n",
      "Y    10047\n",
      "Name: car, dtype: int64 \n",
      "\n",
      "* Column name : reality\n",
      "Y    17830\n",
      "N     8627\n",
      "Name: reality, dtype: int64 \n",
      "\n",
      "* Column name : work_phone\n",
      "0    20511\n",
      "1     5946\n",
      "Name: work_phone, dtype: int64 \n",
      "\n",
      "* Column name : phone\n",
      "0    18672\n",
      "1     7785\n",
      "Name: phone, dtype: int64 \n",
      "\n",
      "* Column name : email\n",
      "0    24042\n",
      "1     2415\n",
      "Name: email, dtype: int64 \n",
      "\n"
     ]
    }
   ],
   "source": [
    "print('<binary variables distribution of the train data>\\n')\n",
    "bin_cols = ['gender', 'car', 'reality', 'work_phone', 'phone', 'email']\n",
    "for cols in bin_cols : \n",
    "    print('* Column name : {}'.format(cols))\n",
    "    print(train[cols].value_counts(),'\\n')\n"
   ]
  },
  {
   "cell_type": "code",
   "execution_count": 112,
   "metadata": {},
   "outputs": [
    {
     "data": {
      "text/plain": [
       "<Figure size 360x720 with 0 Axes>"
      ]
     },
     "metadata": {},
     "output_type": "display_data"
    },
    {
     "data": {
      "image/png": "[encoded data removed]",
      "text/plain": [
       "<Figure size 432x288 with 1 Axes>"
      ]
     },
     "metadata": {},
     "output_type": "display_data"
    },
    {
     "data": {
      "image/png": "[encoded data removed]",
      "text/plain": [
       "<Figure size 432x288 with 1 Axes>"
      ]
     },
     "metadata": {},
     "output_type": "display_data"
    },
    {
     "data": {
      "image/png": "[encoded data removed]",
      "text/plain": [
       "<Figure size 432x288 with 1 Axes>"
      ]
     },
     "metadata": {},
     "output_type": "display_data"
    },
    {
     "data": {
      "image/png": "[encoded data removed]",
      "text/plain": [
       "<Figure size 432x288 with 1 Axes>"
      ]
     },
     "metadata": {},
     "output_type": "display_data"
    },
    {
     "data": {
      "image/png": "[encoded data removed]",
      "text/plain": [
       "<Figure size 432x288 with 1 Axes>"
      ]
     },
     "metadata": {},
     "output_type": "display_data"
    },
    {
     "data": {
      "image/png": "[encoded data removed]",
      "text/plain": [
       "<Figure size 432x288 with 1 Axes>"
      ]
     },
     "metadata": {},
     "output_type": "display_data"
    }
   ],
   "source": [
    "for cols in bin_cols :\n",
    "    train.groupby(cols).credit.value_counts(normalize = True).unstack().plot(kind = 'bar', title = 'ratio of credit by {}'.format(cols))"
   ]
  },
  {
   "cell_type": "markdown",
   "metadata": {},
   "source": [
    "- binary columns 에 속하는 'gender', 'car', 'reality', 'work_phone', 'phone', 'email'는 positive와 negative 사이에 credit class간의 비율 차이가 거의 보이지 않는다.\n",
    "\n",
    "\n",
    "### numeric variables\n",
    "- child_num\n",
    "- \n",
    "\n",
    "#### child_num\n",
    "- integer"
   ]
  },
  {
   "cell_type": "code",
   "execution_count": 151,
   "metadata": {},
   "outputs": [
    {
     "data": {
      "text/plain": [
       "<matplotlib.axes._subplots.AxesSubplot at 0x7f8fade9b880>"
      ]
     },
     "execution_count": 151,
     "metadata": {},
     "output_type": "execute_result"
    },
    {
     "data": {
      "image/png": "[encoded data removed]",
      "text/plain": [
       "<Figure size 432x288 with 1 Axes>"
      ]
     },
     "metadata": {},
     "output_type": "display_data"
    }
   ],
   "source": [
    "train.child_num.value_counts().sort_index().plot(kind = 'pie')\n",
    "plt.show()"
   ]
  },
  {
   "cell_type": "code",
   "execution_count": 152,
   "metadata": {},
   "outputs": [
    {
     "data": {
      "text/plain": [
       "0     18340\n",
       "1      5386\n",
       "2      2362\n",
       "3       306\n",
       "4        47\n",
       "5        10\n",
       "7         2\n",
       "14        3\n",
       "19        1\n",
       "Name: child_num, dtype: int64"
      ]
     },
     "execution_count": 152,
     "metadata": {},
     "output_type": "execute_result"
    }
   ],
   "source": [
    "train.child_num.value_counts().sort_index()"
   ]
  },
  {
   "cell_type": "markdown",
   "metadata": {},
   "source": [
    "- 대부분의 값이 0, 1, 2, 3에 속한다.\n",
    "- 극히 일부 값들이 7, 14, 19와 같은 값을 지닌다. -> 이상치로 판단하여 train data에서 제거해주도록 한다.\n",
    "\n",
    "- family_type 변수와의 관계를 통해 family_size가 결정된다."
   ]
  },
  {
   "cell_type": "code",
   "execution_count": 161,
   "metadata": {},
   "outputs": [
    {
     "name": "stdout",
     "output_type": "stream",
     "text": [
      "* Married\n",
      " 2.0    18193\n",
      " 0.0        2\n",
      "-1.0        1\n",
      "dtype: int64\n",
      "\n",
      "* Civil marriage\n",
      "2.0    2122\n",
      "0.0       1\n",
      "dtype: int64\n",
      "\n",
      "* Separated\n",
      "1.0    1539\n",
      "dtype: int64\n",
      "\n",
      "* Single / not married\n",
      "1.0    3478\n",
      "2.0      16\n",
      "0.0       2\n",
      "dtype: int64\n",
      "\n",
      "* Widow\n",
      "1.0    1103\n",
      "dtype: int64\n",
      "\n"
     ]
    }
   ],
   "source": [
    "for f_type in train.family_type.unique() : \n",
    "    print('*',f_type)\n",
    "    print((train.family_size - train.child_num).loc[train.family_type == f_type].value_counts())\n",
    "    print()\n",
    "    "
   ]
  },
  {
   "cell_type": "markdown",
   "metadata": {},
   "source": [
    "- family_size - child_num = (본인+배우자 유무)라는 공식이 성립하는 것으로 보인다.\n",
    "- 하지만 성립하지 않은 데이터가 존재한다.\n",
    "    - Married 에서 0에 2개의 관측치, -1에 1개의 관측치\n",
    "    - Civil marriage에서 0에 1개의 관측치\n",
    "    - Single / not married 에서 2에 16개 관측치, 0에 2개 관측치\n",
    "    \n",
    "- 성립하지 않은 데이터에 대해서 확인해보는 것이 필요하다."
   ]
  },
  {
   "cell_type": "code",
   "execution_count": null,
   "metadata": {},
   "outputs": [],
   "source": []
  }
 ],
 "metadata": {
  "kernelspec": {
   "display_name": "Python 3",
   "language": "python",
   "name": "python3"
  },
  "language_info": {
   "codemirror_mode": {
    "name": "ipython",
    "version": 3
   },
   "file_extension": ".py",
   "mimetype": "text/x-python",
   "name": "python",
   "nbconvert_exporter": "python",
   "pygments_lexer": "ipython3",
   "version": "3.8.3"
  },
  "toc": {
   "base_numbering": 1,
   "nav_menu": {},
   "number_sections": true,
   "sideBar": true,
   "skip_h1_title": false,
   "title_cell": "Table of Contents",
   "title_sidebar": "Contents",
   "toc_cell": false,
   "toc_position": {},
   "toc_section_display": true,
   "toc_window_display": false
  }
 },
 "nbformat": 4,
 "nbformat_minor": 4
}
