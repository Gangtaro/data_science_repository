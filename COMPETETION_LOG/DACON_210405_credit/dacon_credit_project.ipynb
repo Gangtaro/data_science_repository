{
 "cells": [
  {
   "cell_type": "code",
   "execution_count": 6,
   "metadata": {},
   "outputs": [
    {
     "name": "stdout",
     "output_type": "stream",
     "text": [
      "Seaborn version :  0.11.1\n"
     ]
    }
   ],
   "source": [
    "# import modules\n",
    "import warnings\n",
    "warnings.filterwarnings('ignore')\n",
    "\n",
    "import glob\n",
    "import pandas as pd\n",
    "import numpy as np\n",
    "import seaborn as sns\n",
    "import matplotlib.pyplot as plt\n",
    "import matplotlib.patches as mpatches\n",
    "\n",
    "import lightgbm as lgb\n",
    "from sklearn.model_selection import StratifiedKFold, KFold\n",
    "from sklearn.preprocessing import OneHotEncoder\n",
    "from sklearn.metrics import confusion_matrix, log_loss, f1_score\n",
    "\n",
    "import random\n",
    "from math import floor\n",
    "from scipy.stats import mode, scoreatpercentile\n",
    "\n",
    "print(\"Seaborn version : \", sns.__version__)\n",
    "sns.set()\n",
    "#sns.set_style('whitegrid')\n",
    "sns.set_color_codes()\n",
    "sns.set_theme(style=\"ticks\", palette=\"pastel\")"
   ]
  },
  {
   "cell_type": "markdown",
   "metadata": {},
   "source": [
    "# 신용카드 사용자 연체 예측 AI 경진대회\n",
    "\n",
    "- 주제: 신용카드 사용자 데이터를 보고 사용자의 대금 연체 정도를 예측하는 알고리즘 개발 \n",
    "- 목적: 신용카드 사용자들의 개인 신상정보 데이터로 **사용자의 신용카드 대금 연체 정도를 예측**\n",
    "\n",
    "- 데이터 설명:\n",
    "    - **gender :** 고객의 성별, **binary**\n",
    "    - **car :** 고객의 자차 보유 유무, **binary**\n",
    "    - **reality :** 고객의 부동산 보유 유무, **binary**\n",
    "    - **child_num :** 고객의 자녀 수, **integer**\n",
    "    - **income_total :** 고객의 총 소득, **numeric**\n",
    "    - **income_type :** 고객의 소득 유형, **category**\n",
    "    - **edu_type :** 고객의 최종 학력, **category**\n",
    "    - **family_type :** 고객의 본인의 혼인관련 상태, **category**\n",
    "    - **house_type :** 고객의 거주지 형태, **category**\n",
    "    - **DAYS_BIRTH :** (고객의 생일) - (현재 일), **integer**, **numeric**\n",
    "    - **DAYS_EMPLOYED :** (고객의 첫 고용일) - (현재 일), **numeric**\n",
    "    - **FLAG_MOBIL :** 고객의 본인 휴대폰 전화번호 등록 여부, **binary**\n",
    "    - **work_phone :** 고객의 본인 직장 전화번호 등록 여부, **binary**\n",
    "    - **phone :** 고객의 집 전화번호 등록 여부, **binary**\n",
    "    - **email :** 고객의 이메일 등록여부, **binary**\n",
    "    - **occyp_type :** 고객의 고용 형태, **category**\n",
    "    - **family_size :** 고객의 가족의 크기, **integer**, **numeric**\n",
    "    - **begin_month :** (고객이 카드를 발급한 월) - (현재 월), **integer**, **numeric**  \n",
    "    \n",
    "    - **<u>credit</u>** : 해당 신용카드의 대금 연체 정도 (0,1,2 : 커질수록 대금 연체 정도가 높다. target variable)\n",
    "    \n",
    "    \n",
    "## 학습 목표에 대한 논의\n",
    "### 학습 목표\n",
    "- ```Credit``` 변수의 클래스 예측.\n",
    "    - **classes :** 0, 1, 2\n",
    "    - **description :** 사용자의 신용카드 대금 연체 정도.  \n",
    "    - 각 값은 **상대적인 크기**에 대한 정보를 가지고 있다.\n",
    "    - **imbalaced data**\n",
    "\n",
    "- 다양한 features가 존재하지만 대부분의 feature에서 class의 비율은 일정하다.\n",
    "\n",
    "- 데이터 관측치의 기준은 **'사용자'**가 아니라 **'카드'**이다. \n",
    "    - 카드 정보에만 해당하는 begin_month를 제외하고 모든 값이 일치하는 관측치는 같은 고객이라고 판단한다.\n",
    "    - 가설) 카드 사용자를 몇 가지 유형으로 분류 할 수 있고, 유형에 따라 begin_month에 해당하는 credit 값들의 기준이 다르다.\n",
    "    \n",
    "- 평가기준:\n",
    "    - **logloss** : 작을수록 좋은 결과\n"
   ]
  },
  {
   "cell_type": "code",
   "execution_count": 2,
   "metadata": {},
   "outputs": [],
   "source": [
    "# upload data\n",
    "train = pd.read_csv('/Users/gangtaro/competition_data/DACON/14thMonthlyDacon/open/train.csv',\n",
    "                   index_col=0)\n",
    "test = pd.read_csv('/Users/gangtaro/competition_data/DACON/14thMonthlyDacon/open/test.csv',\n",
    "                  index_col=0)\n",
    "submit = pd.read_csv('/Users/gangtaro/competition_data/DACON/14thMonthlyDacon/open/sample_submission.csv')"
   ]
  },
  {
   "cell_type": "code",
   "execution_count": 5,
   "metadata": {},
   "outputs": [
    {
     "name": "stdout",
     "output_type": "stream",
     "text": [
      "(26457, 19)\n",
      "(10000, 18)\n",
      "(10000, 4)\n"
     ]
    }
   ],
   "source": [
    "# shape of data\n",
    "print(train.shape)\n",
    "print(test.shape)"
   ]
  },
  {
   "cell_type": "markdown",
   "metadata": {},
   "source": [
    "- 데이터는 총 26457개의 관측치와 총 18개의 feature 그리고 target variable로 이루어져있다.\n",
    "- public score는 test data의 credit variable 을 예측하는 것으로 총 10000개의 데이터를 예측해야한다.\n",
    "\n",
    "- table\n",
    "    1. EDA\n",
    "    2. Preprocessing\n",
    "    3. modeling\n",
    "    \n",
    "---\n",
    "## EDA\n",
    "### target variable\n",
    "- credit"
   ]
  },
  {
   "cell_type": "code",
   "execution_count": 29,
   "metadata": {},
   "outputs": [
    {
     "data": {
      "text/plain": [
       "2.0    16968\n",
       "1.0     6267\n",
       "0.0     3222\n",
       "Name: credit, dtype: int64"
      ]
     },
     "execution_count": 29,
     "metadata": {},
     "output_type": "execute_result"
    }
   ],
   "source": [
    "train.credit.value_counts()"
   ]
  },
  {
   "cell_type": "code",
   "execution_count": 30,
   "metadata": {},
   "outputs": [
    {
     "data": {
      "text/plain": [
       "2.0    0.641343\n",
       "1.0    0.236875\n",
       "0.0    0.121783\n",
       "Name: credit, dtype: float64"
      ]
     },
     "execution_count": 30,
     "metadata": {},
     "output_type": "execute_result"
    }
   ],
   "source": [
    "train.credit.value_counts(normalize = True)"
   ]
  },
  {
   "cell_type": "markdown",
   "metadata": {},
   "source": [
    "- 전체 train data set 에서 target variable의 class ratio는 약 2:1:0 = **0.64 : 0.23 : 0.12**이다. 클래스 간 불균형이다.\n",
    "\n",
    "### binary variables\n",
    "- gender\n",
    "- car\n",
    "- reality\n",
    "- FLAG_MOBIL\n",
    "- work_phone\n",
    "- phone\n",
    "- email"
   ]
  },
  {
   "cell_type": "code",
   "execution_count": 54,
   "metadata": {},
   "outputs": [
    {
     "data": {
      "text/plain": [
       "1    26457\n",
       "Name: FLAG_MOBIL, dtype: int64"
      ]
     },
     "execution_count": 54,
     "metadata": {},
     "output_type": "execute_result"
    }
   ],
   "source": [
    "train.FLAG_MOBIL.value_counts()"
   ]
  },
  {
   "cell_type": "markdown",
   "metadata": {},
   "source": [
    "- FLAG_MOBIL의 원소는 결측치 없이 모두 1으로, 변수로써 가치가 없다. -> 제거"
   ]
  },
  {
   "cell_type": "code",
   "execution_count": 150,
   "metadata": {},
   "outputs": [
    {
     "name": "stdout",
     "output_type": "stream",
     "text": [
      "<binary variables distribution of the train data>\n",
      "\n",
      "* Column name : gender\n",
      "F    17697\n",
      "M     8760\n",
      "Name: gender, dtype: int64 \n",
      "\n",
      "* Column name : car\n",
      "N    16410\n",
      "Y    10047\n",
      "Name: car, dtype: int64 \n",
      "\n",
      "* Column name : reality\n",
      "Y    17830\n",
      "N     8627\n",
      "Name: reality, dtype: int64 \n",
      "\n",
      "* Column name : work_phone\n",
      "0    20511\n",
      "1     5946\n",
      "Name: work_phone, dtype: int64 \n",
      "\n",
      "* Column name : phone\n",
      "0    18672\n",
      "1     7785\n",
      "Name: phone, dtype: int64 \n",
      "\n",
      "* Column name : email\n",
      "0    24042\n",
      "1     2415\n",
      "Name: email, dtype: int64 \n",
      "\n"
     ]
    }
   ],
   "source": [
    "print('<binary variables distribution of the train data>\\n')\n",
    "bin_cols = ['gender', 'car', 'reality', 'work_phone', 'phone', 'email']\n",
    "for cols in bin_cols : \n",
    "    print('* Column name : {}'.format(cols))\n",
    "    print(train[cols].value_counts(),'\\n')\n"
   ]
  },
  {
   "cell_type": "code",
   "execution_count": 112,
   "metadata": {},
   "outputs": [
    {
     "data": {
      "text/plain": [
       "<Figure size 360x720 with 0 Axes>"
      ]
     },
     "metadata": {},
     "output_type": "display_data"
    },
    {
     "data": {
      "image/png": "[encoded data removed]",
      "text/plain": [
       "<Figure size 432x288 with 1 Axes>"
      ]
     },
     "metadata": {},
     "output_type": "display_data"
    },
    {
     "data": {
      "image/png": "[encoded data removed]",
      "text/plain": [
       "<Figure size 432x288 with 1 Axes>"
      ]
     },
     "metadata": {},
     "output_type": "display_data"
    },
    {
     "data": {
      "image/png": "[encoded data removed]",
      "text/plain": [
       "<Figure size 432x288 with 1 Axes>"
      ]
     },
     "metadata": {},
     "output_type": "display_data"
    },
    {
     "data": {
      "image/png": "[encoded data removed]",
      "text/plain": [
       "<Figure size 432x288 with 1 Axes>"
      ]
     },
     "metadata": {},
     "output_type": "display_data"
    },
    {
     "data": {
      "image/png": "[encoded data removed]",
      "text/plain": [
       "<Figure size 432x288 with 1 Axes>"
      ]
     },
     "metadata": {},
     "output_type": "display_data"
    },
    {
     "data": {
      "image/png": "[encoded data removed]",
      "text/plain": [
       "<Figure size 432x288 with 1 Axes>"
      ]
     },
     "metadata": {},
     "output_type": "display_data"
    }
   ],
   "source": [
    "for cols in bin_cols :\n",
    "    train.groupby(cols).credit.value_counts(normalize = True).unstack().plot(kind = 'bar', title = 'ratio of credit by {}'.format(cols))"
   ]
  },
  {
   "cell_type": "markdown",
   "metadata": {},
   "source": [
    "- binary columns 에 속하는 'gender', 'car', 'reality', 'work_phone', 'phone', 'email'는 positive와 negative 사이에 credit class간의 비율 차이가 거의 보이지 않는다.\n",
    "\n",
    "\n",
    "### numeric variables\n",
    "- child_num\n",
    "- family_size\n",
    "- income_total\n",
    "- DAYS_BIRTH\n",
    "- DAYS_EMPLOYED\n",
    "- begin_month\n",
    "\n",
    "#### child_num\n",
    "- integer\n",
    "- 슬하 자녀의 수"
   ]
  },
  {
   "cell_type": "code",
   "execution_count": 203,
   "metadata": {},
   "outputs": [
    {
     "data": {
      "image/png": "[encoded data removed]",
      "text/plain": [
       "<Figure size 432x288 with 1 Axes>"
      ]
     },
     "metadata": {},
     "output_type": "display_data"
    }
   ],
   "source": [
    "train.child_num.value_counts().sort_index().plot(kind = 'pie')\n",
    "plt.title('pie chart: child_num')\n",
    "plt.show()"
   ]
  },
  {
   "cell_type": "code",
   "execution_count": 152,
   "metadata": {},
   "outputs": [
    {
     "data": {
      "text/plain": [
       "0     18340\n",
       "1      5386\n",
       "2      2362\n",
       "3       306\n",
       "4        47\n",
       "5        10\n",
       "7         2\n",
       "14        3\n",
       "19        1\n",
       "Name: child_num, dtype: int64"
      ]
     },
     "execution_count": 152,
     "metadata": {},
     "output_type": "execute_result"
    }
   ],
   "source": [
    "train.child_num.value_counts().sort_index()"
   ]
  },
  {
   "cell_type": "markdown",
   "metadata": {},
   "source": [
    "- 대부분의 값이 0, 1, 2, 3에 속한다.\n",
    "- 극히 일부 값들이 7, 14, 19와 같은 값을 지닌다. -> 이상치로 판단하여 train data에서 제거해주도록 한다.\n",
    "\n",
    "#### family_size\n",
    "- integer\n",
    "- 본인 및 배우자, 자녀의 수를 합한 변수 또는 현 거주지에 같이 살고있는 가족의 수라고 추정.(본 관측치의 사람들은 모두 성인으로, 가족에 부모님의 수는 고려하지 않는 것으로 추정된다.)"
   ]
  },
  {
   "cell_type": "code",
   "execution_count": 209,
   "metadata": {},
   "outputs": [
    {
     "data": {
      "image/png": "[encoded data removed]",
      "text/plain": [
       "<Figure size 432x288 with 1 Axes>"
      ]
     },
     "metadata": {},
     "output_type": "display_data"
    }
   ],
   "source": [
    "train.family_size.value_counts().sort_index().plot(kind = 'pie')\n",
    "plt.title('pie chart: family size')\n",
    "plt.show()"
   ]
  },
  {
   "cell_type": "code",
   "execution_count": 207,
   "metadata": {},
   "outputs": [
    {
     "data": {
      "text/plain": [
       "1.0      5109\n",
       "2.0     14106\n",
       "3.0      4632\n",
       "4.0      2260\n",
       "5.0       291\n",
       "6.0        44\n",
       "7.0         9\n",
       "9.0         2\n",
       "15.0        3\n",
       "20.0        1\n",
       "Name: family_size, dtype: int64"
      ]
     },
     "execution_count": 207,
     "metadata": {},
     "output_type": "execute_result"
    }
   ],
   "source": [
    "train.family_size.value_counts().sort_index()"
   ]
  },
  {
   "cell_type": "markdown",
   "metadata": {},
   "source": [
    "- family_type 변수와의 관계를 통해 family_size가 결정된다. (나중에 family_type 변수 설명시에 논한다.)\n",
    "\n",
    "\n",
    "#### income_total\n",
    "- numeric, seems like positive-float\n",
    "- 카드 사용자의 총 소득"
   ]
  },
  {
   "cell_type": "code",
   "execution_count": 210,
   "metadata": {},
   "outputs": [
    {
     "name": "stdout",
     "output_type": "stream",
     "text": [
      "<class 'pandas.core.frame.DataFrame'>\n",
      "Int64Index: 26457 entries, 0 to 26456\n",
      "Data columns (total 23 columns):\n",
      " #   Column           Non-Null Count  Dtype  \n",
      "---  ------           --------------  -----  \n",
      " 0   gender           26457 non-null  object \n",
      " 1   car              26457 non-null  object \n",
      " 2   reality          26457 non-null  object \n",
      " 3   child_num        26457 non-null  int64  \n",
      " 4   income_total     26457 non-null  float64\n",
      " 5   income_type      26457 non-null  object \n",
      " 6   edu_type         26457 non-null  object \n",
      " 7   family_type      26457 non-null  object \n",
      " 8   house_type       26457 non-null  object \n",
      " 9   DAYS_BIRTH       26457 non-null  int64  \n",
      " 10  DAYS_EMPLOYED    26457 non-null  int64  \n",
      " 11  FLAG_MOBIL       26457 non-null  int64  \n",
      " 12  work_phone       26457 non-null  int64  \n",
      " 13  phone            26457 non-null  int64  \n",
      " 14  email            26457 non-null  int64  \n",
      " 15  occyp_type       18286 non-null  object \n",
      " 16  family_size      26457 non-null  float64\n",
      " 17  begin_month      26457 non-null  float64\n",
      " 18  credit           26457 non-null  float64\n",
      " 19  exp_num          26457 non-null  int64  \n",
      " 20  odd_family_size  26457 non-null  int64  \n",
      " 21  _age             26457 non-null  float64\n",
      " 22  adj_family_type  26457 non-null  object \n",
      "dtypes: float64(5), int64(9), object(9)\n",
      "memory usage: 5.9+ MB\n"
     ]
    }
   ],
   "source": [
    "train.info()"
   ]
  },
  {
   "cell_type": "code",
   "execution_count": 161,
   "metadata": {},
   "outputs": [
    {
     "name": "stdout",
     "output_type": "stream",
     "text": [
      "* Married\n",
      " 2.0    18193\n",
      " 0.0        2\n",
      "-1.0        1\n",
      "dtype: int64\n",
      "\n",
      "* Civil marriage\n",
      "2.0    2122\n",
      "0.0       1\n",
      "dtype: int64\n",
      "\n",
      "* Separated\n",
      "1.0    1539\n",
      "dtype: int64\n",
      "\n",
      "* Single / not married\n",
      "1.0    3478\n",
      "2.0      16\n",
      "0.0       2\n",
      "dtype: int64\n",
      "\n",
      "* Widow\n",
      "1.0    1103\n",
      "dtype: int64\n",
      "\n"
     ]
    }
   ],
   "source": [
    "for f_type in train.family_type.unique() : \n",
    "    print('*',f_type)\n",
    "    print((train.family_size - train.child_num).loc[train.family_type == f_type].value_counts())\n",
    "    print()\n",
    "    "
   ]
  },
  {
   "cell_type": "markdown",
   "metadata": {},
   "source": [
    "- family_size - child_num = (본인+배우자 유무)라는 공식이 성립하는 것으로 보인다.\n",
    "- 하지만 성립하지 않은 데이터가 존재한다.\n",
    "    - Married 에서 0에 2개의 관측치, -1에 1개의 관측치\n",
    "    - Civil marriage에서 0에 1개의 관측치\n",
    "    - Single / not married 에서 2에 16개 관측치, 0에 2개 관측치\n",
    "    \n",
    "- 성립하지 않은 데이터에 대해서 확인해보는 것이 필요하다."
   ]
  },
  {
   "cell_type": "code",
   "execution_count": 192,
   "metadata": {},
   "outputs": [],
   "source": [
    "train['_age'] = train.DAYS_BIRTH.transform(lambda x : -x/365.25)\n",
    "\n",
    "train['exp_num'] = 0\n",
    "train['exp_num'].loc[train.family_type == 'Married'] = 2\n",
    "train['exp_num'].loc[train.family_type == 'Civil marriage'] = 2\n",
    "train['exp_num'].loc[train.family_type == 'Separated'] = 1\n",
    "train['exp_num'].loc[train.family_type == 'Single / not married'] = 1\n",
    "train['exp_num'].loc[train.family_type == 'Widow'] = 1\n",
    "\n",
    "train['odd_family_size'] = 0\n",
    "train['odd_family_size'].loc[(train.family_size - train.child_num) != train.exp_num] = 1"
   ]
  },
  {
   "cell_type": "code",
   "execution_count": 205,
   "metadata": {},
   "outputs": [
    {
     "data": {
      "text/html": [
       "<div>\n",
       "<style scoped>\n",
       "    .dataframe tbody tr th:only-of-type {\n",
       "        vertical-align: middle;\n",
       "    }\n",
       "\n",
       "    .dataframe tbody tr th {\n",
       "        vertical-align: top;\n",
       "    }\n",
       "\n",
       "    .dataframe thead th {\n",
       "        text-align: right;\n",
       "    }\n",
       "</style>\n",
       "<table border=\"1\" class=\"dataframe\">\n",
       "  <thead>\n",
       "    <tr style=\"text-align: right;\">\n",
       "      <th></th>\n",
       "      <th>gender</th>\n",
       "      <th>_age</th>\n",
       "      <th>child_num</th>\n",
       "      <th>family_type</th>\n",
       "      <th>family_size</th>\n",
       "      <th>occyp_type</th>\n",
       "      <th>credit</th>\n",
       "    </tr>\n",
       "    <tr>\n",
       "      <th>index</th>\n",
       "      <th></th>\n",
       "      <th></th>\n",
       "      <th></th>\n",
       "      <th></th>\n",
       "      <th></th>\n",
       "      <th></th>\n",
       "      <th></th>\n",
       "    </tr>\n",
       "  </thead>\n",
       "  <tbody>\n",
       "    <tr>\n",
       "      <th>18879</th>\n",
       "      <td>M</td>\n",
       "      <td>34.921287</td>\n",
       "      <td>1</td>\n",
       "      <td>Civil marriage</td>\n",
       "      <td>1.0</td>\n",
       "      <td>NaN</td>\n",
       "      <td>2.0</td>\n",
       "    </tr>\n",
       "    <tr>\n",
       "      <th>21096</th>\n",
       "      <td>M</td>\n",
       "      <td>44.966461</td>\n",
       "      <td>1</td>\n",
       "      <td>Married</td>\n",
       "      <td>1.0</td>\n",
       "      <td>Drivers</td>\n",
       "      <td>2.0</td>\n",
       "    </tr>\n",
       "    <tr>\n",
       "      <th>16791</th>\n",
       "      <td>F</td>\n",
       "      <td>33.237509</td>\n",
       "      <td>1</td>\n",
       "      <td>Married</td>\n",
       "      <td>1.0</td>\n",
       "      <td>Core staff</td>\n",
       "      <td>2.0</td>\n",
       "    </tr>\n",
       "    <tr>\n",
       "      <th>14900</th>\n",
       "      <td>M</td>\n",
       "      <td>40.454483</td>\n",
       "      <td>2</td>\n",
       "      <td>Married</td>\n",
       "      <td>1.0</td>\n",
       "      <td>Drivers</td>\n",
       "      <td>2.0</td>\n",
       "    </tr>\n",
       "    <tr>\n",
       "      <th>684</th>\n",
       "      <td>F</td>\n",
       "      <td>48.952772</td>\n",
       "      <td>0</td>\n",
       "      <td>Single / not married</td>\n",
       "      <td>2.0</td>\n",
       "      <td>Cooking staff</td>\n",
       "      <td>2.0</td>\n",
       "    </tr>\n",
       "    <tr>\n",
       "      <th>23249</th>\n",
       "      <td>M</td>\n",
       "      <td>48.145106</td>\n",
       "      <td>0</td>\n",
       "      <td>Single / not married</td>\n",
       "      <td>2.0</td>\n",
       "      <td>Drivers</td>\n",
       "      <td>2.0</td>\n",
       "    </tr>\n",
       "    <tr>\n",
       "      <th>22776</th>\n",
       "      <td>F</td>\n",
       "      <td>48.142368</td>\n",
       "      <td>0</td>\n",
       "      <td>Single / not married</td>\n",
       "      <td>2.0</td>\n",
       "      <td>Core staff</td>\n",
       "      <td>2.0</td>\n",
       "    </tr>\n",
       "    <tr>\n",
       "      <th>22262</th>\n",
       "      <td>F</td>\n",
       "      <td>51.950719</td>\n",
       "      <td>0</td>\n",
       "      <td>Single / not married</td>\n",
       "      <td>2.0</td>\n",
       "      <td>Core staff</td>\n",
       "      <td>2.0</td>\n",
       "    </tr>\n",
       "    <tr>\n",
       "      <th>21027</th>\n",
       "      <td>F</td>\n",
       "      <td>42.343600</td>\n",
       "      <td>1</td>\n",
       "      <td>Single / not married</td>\n",
       "      <td>3.0</td>\n",
       "      <td>Low-skill Laborers</td>\n",
       "      <td>2.0</td>\n",
       "    </tr>\n",
       "    <tr>\n",
       "      <th>18305</th>\n",
       "      <td>M</td>\n",
       "      <td>32.334018</td>\n",
       "      <td>2</td>\n",
       "      <td>Single / not married</td>\n",
       "      <td>4.0</td>\n",
       "      <td>NaN</td>\n",
       "      <td>2.0</td>\n",
       "    </tr>\n",
       "    <tr>\n",
       "      <th>16110</th>\n",
       "      <td>F</td>\n",
       "      <td>34.833676</td>\n",
       "      <td>1</td>\n",
       "      <td>Single / not married</td>\n",
       "      <td>1.0</td>\n",
       "      <td>Sales staff</td>\n",
       "      <td>2.0</td>\n",
       "    </tr>\n",
       "    <tr>\n",
       "      <th>15407</th>\n",
       "      <td>F</td>\n",
       "      <td>49.771389</td>\n",
       "      <td>0</td>\n",
       "      <td>Single / not married</td>\n",
       "      <td>2.0</td>\n",
       "      <td>Laborers</td>\n",
       "      <td>2.0</td>\n",
       "    </tr>\n",
       "    <tr>\n",
       "      <th>14287</th>\n",
       "      <td>F</td>\n",
       "      <td>44.183436</td>\n",
       "      <td>1</td>\n",
       "      <td>Single / not married</td>\n",
       "      <td>3.0</td>\n",
       "      <td>Sales staff</td>\n",
       "      <td>2.0</td>\n",
       "    </tr>\n",
       "    <tr>\n",
       "      <th>11308</th>\n",
       "      <td>M</td>\n",
       "      <td>26.792608</td>\n",
       "      <td>0</td>\n",
       "      <td>Single / not married</td>\n",
       "      <td>2.0</td>\n",
       "      <td>Laborers</td>\n",
       "      <td>2.0</td>\n",
       "    </tr>\n",
       "    <tr>\n",
       "      <th>10279</th>\n",
       "      <td>F</td>\n",
       "      <td>59.268994</td>\n",
       "      <td>0</td>\n",
       "      <td>Single / not married</td>\n",
       "      <td>2.0</td>\n",
       "      <td>NaN</td>\n",
       "      <td>2.0</td>\n",
       "    </tr>\n",
       "    <tr>\n",
       "      <th>6683</th>\n",
       "      <td>F</td>\n",
       "      <td>58.488706</td>\n",
       "      <td>0</td>\n",
       "      <td>Single / not married</td>\n",
       "      <td>2.0</td>\n",
       "      <td>NaN</td>\n",
       "      <td>2.0</td>\n",
       "    </tr>\n",
       "    <tr>\n",
       "      <th>5825</th>\n",
       "      <td>M</td>\n",
       "      <td>49.754962</td>\n",
       "      <td>1</td>\n",
       "      <td>Single / not married</td>\n",
       "      <td>1.0</td>\n",
       "      <td>Core staff</td>\n",
       "      <td>2.0</td>\n",
       "    </tr>\n",
       "    <tr>\n",
       "      <th>3890</th>\n",
       "      <td>F</td>\n",
       "      <td>45.478439</td>\n",
       "      <td>2</td>\n",
       "      <td>Single / not married</td>\n",
       "      <td>4.0</td>\n",
       "      <td>NaN</td>\n",
       "      <td>2.0</td>\n",
       "    </tr>\n",
       "    <tr>\n",
       "      <th>3138</th>\n",
       "      <td>F</td>\n",
       "      <td>58.677618</td>\n",
       "      <td>0</td>\n",
       "      <td>Single / not married</td>\n",
       "      <td>2.0</td>\n",
       "      <td>NaN</td>\n",
       "      <td>2.0</td>\n",
       "    </tr>\n",
       "    <tr>\n",
       "      <th>3064</th>\n",
       "      <td>F</td>\n",
       "      <td>53.111567</td>\n",
       "      <td>0</td>\n",
       "      <td>Single / not married</td>\n",
       "      <td>2.0</td>\n",
       "      <td>NaN</td>\n",
       "      <td>2.0</td>\n",
       "    </tr>\n",
       "    <tr>\n",
       "      <th>24754</th>\n",
       "      <td>F</td>\n",
       "      <td>39.761807</td>\n",
       "      <td>0</td>\n",
       "      <td>Single / not married</td>\n",
       "      <td>2.0</td>\n",
       "      <td>Core staff</td>\n",
       "      <td>2.0</td>\n",
       "    </tr>\n",
       "    <tr>\n",
       "      <th>25463</th>\n",
       "      <td>M</td>\n",
       "      <td>55.668720</td>\n",
       "      <td>0</td>\n",
       "      <td>Single / not married</td>\n",
       "      <td>2.0</td>\n",
       "      <td>Drivers</td>\n",
       "      <td>2.0</td>\n",
       "    </tr>\n",
       "  </tbody>\n",
       "</table>\n",
       "</div>"
      ],
      "text/plain": [
       "      gender       _age  child_num           family_type  family_size  \\\n",
       "index                                                                   \n",
       "18879      M  34.921287          1        Civil marriage          1.0   \n",
       "21096      M  44.966461          1               Married          1.0   \n",
       "16791      F  33.237509          1               Married          1.0   \n",
       "14900      M  40.454483          2               Married          1.0   \n",
       "684        F  48.952772          0  Single / not married          2.0   \n",
       "23249      M  48.145106          0  Single / not married          2.0   \n",
       "22776      F  48.142368          0  Single / not married          2.0   \n",
       "22262      F  51.950719          0  Single / not married          2.0   \n",
       "21027      F  42.343600          1  Single / not married          3.0   \n",
       "18305      M  32.334018          2  Single / not married          4.0   \n",
       "16110      F  34.833676          1  Single / not married          1.0   \n",
       "15407      F  49.771389          0  Single / not married          2.0   \n",
       "14287      F  44.183436          1  Single / not married          3.0   \n",
       "11308      M  26.792608          0  Single / not married          2.0   \n",
       "10279      F  59.268994          0  Single / not married          2.0   \n",
       "6683       F  58.488706          0  Single / not married          2.0   \n",
       "5825       M  49.754962          1  Single / not married          1.0   \n",
       "3890       F  45.478439          2  Single / not married          4.0   \n",
       "3138       F  58.677618          0  Single / not married          2.0   \n",
       "3064       F  53.111567          0  Single / not married          2.0   \n",
       "24754      F  39.761807          0  Single / not married          2.0   \n",
       "25463      M  55.668720          0  Single / not married          2.0   \n",
       "\n",
       "               occyp_type  credit  \n",
       "index                              \n",
       "18879                 NaN     2.0  \n",
       "21096             Drivers     2.0  \n",
       "16791          Core staff     2.0  \n",
       "14900             Drivers     2.0  \n",
       "684         Cooking staff     2.0  \n",
       "23249             Drivers     2.0  \n",
       "22776          Core staff     2.0  \n",
       "22262          Core staff     2.0  \n",
       "21027  Low-skill Laborers     2.0  \n",
       "18305                 NaN     2.0  \n",
       "16110         Sales staff     2.0  \n",
       "15407            Laborers     2.0  \n",
       "14287         Sales staff     2.0  \n",
       "11308            Laborers     2.0  \n",
       "10279                 NaN     2.0  \n",
       "6683                  NaN     2.0  \n",
       "5825           Core staff     2.0  \n",
       "3890                  NaN     2.0  \n",
       "3138                  NaN     2.0  \n",
       "3064                  NaN     2.0  \n",
       "24754          Core staff     2.0  \n",
       "25463             Drivers     2.0  "
      ]
     },
     "execution_count": 205,
     "metadata": {},
     "output_type": "execute_result"
    }
   ],
   "source": [
    "train[['gender','_age', 'child_num', 'family_type', 'family_size', 'occyp_type', 'credit']][train['odd_family_size'] == 1].sort_values('family_type')"
   ]
  },
  {
   "cell_type": "markdown",
   "metadata": {},
   "source": [
    "- family_type == 'Married' & 'Civil marriage'\n",
    "    - family_size == 1인 관측치가 발견된다. 이는 결혼도 했고 자녀도 있으나, 현재 거주지에 혼자 거주하는 것으로 추정한다.\n",
    "- family_type == 'Single / not married'\n",
    "    - family_size - child_num == 2, 결혼은 하지 않았으나 동거인이 있다고 추정한다. (사실혼 관계로 추정 -> Married로 변경)\n",
    "    - family_size - child_num == 0, 자녀가 있지만 자녀와 따로 살고, 현재 거주지에 혼자 거주하는 것으로 추정한다.\n",
    "\n",
    "\n",
    "- 추가적으로, 여기에 해당하는 데이터는 극히 적은 수이지만, 모든 관측치의 credit의 class가 2로 발견된다."
   ]
  },
  {
   "cell_type": "code",
   "execution_count": 198,
   "metadata": {},
   "outputs": [],
   "source": [
    "# 수정된 family_type 추가 : adj_family_type\n",
    "train['adj_family_type'] = train['family_type']\n",
    "train['adj_family_type'].loc[(train['family_type'] == 'Single / not married')&(train.family_size - train.child_num == 2)] = 'Married'"
   ]
  },
  {
   "cell_type": "code",
   "execution_count": 202,
   "metadata": {},
   "outputs": [
    {
     "data": {
      "text/plain": [
       "509"
      ]
     },
     "execution_count": 202,
     "metadata": {},
     "output_type": "execute_result"
    }
   ],
   "source": [
    "# 논외로 family_type == 'Single / not married'에 자녀가 있는 경우도 변수를 추가해준다. => family_type 에서 다시 이야기\n",
    "sum((train.family_type == 'Single / not married')&(train.child_num != 0))"
   ]
  },
  {
   "cell_type": "code",
   "execution_count": null,
   "metadata": {},
   "outputs": [],
   "source": []
  },
  {
   "cell_type": "markdown",
   "metadata": {},
   "source": [
    "- Single / not married 경우 family_size는 child_num + 1(본인) 로 추정되나 크게 아이가 있는 경우와 아이가 없는 경우가 다르게 나타난다.\n",
    "- 아이가 있지만 family_size가 1인 경우, 본인의 아이는 있지만 같이 거주하지는 않고, 결혼도 하지 않은 미혼부/미혼녀로 판단할 수 있다."
   ]
  },
  {
   "cell_type": "code",
   "execution_count": null,
   "metadata": {},
   "outputs": [],
   "source": []
  }
 ],
 "metadata": {
  "kernelspec": {
   "display_name": "Python 3",
   "language": "python",
   "name": "python3"
  },
  "language_info": {
   "codemirror_mode": {
    "name": "ipython",
    "version": 3
   },
   "file_extension": ".py",
   "mimetype": "text/x-python",
   "name": "python",
   "nbconvert_exporter": "python",
   "pygments_lexer": "ipython3",
   "version": "3.8.3"
  },
  "toc": {
   "base_numbering": 1,
   "nav_menu": {},
   "number_sections": true,
   "sideBar": true,
   "skip_h1_title": false,
   "title_cell": "Table of Contents",
   "title_sidebar": "Contents",
   "toc_cell": false,
   "toc_position": {},
   "toc_section_display": true,
   "toc_window_display": false
  }
 },
 "nbformat": 4,
 "nbformat_minor": 4
}
